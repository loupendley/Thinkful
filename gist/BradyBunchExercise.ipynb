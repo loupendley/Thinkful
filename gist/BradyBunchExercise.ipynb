{
 "cells": [
  {
   "cell_type": "markdown",
   "metadata": {},
   "source": [
    "##Brady Bunch Exercise\n",
    "##Unit 3, Lession 1, Project 5"
   ]
  },
  {
   "cell_type": "code",
   "execution_count": 7,
   "metadata": {},
   "outputs": [
    {
     "name": "stdout",
     "output_type": "stream",
     "text": [
      "Brady average=9.857142857142858, variance=6.408163265306122, std=2.531435020952764, median=10.0, mode=8\n"
     ]
    }
   ],
   "source": [
    "import pandas as pd\n",
    "import numpy as np\n",
    "import matplotlib.pyplot as plt\n",
    "import statistics\n",
    "\n",
    "pop=pd.DataFrame()\n",
    "bradys = pd.DataFrame()\n",
    "bradys['ages'] = [14, 12, 11, 10, 8, 8, 6]\n",
    "print(\"Brady average={}, variance={}, std={}, median={}, mode={}\".format(np.mean(bradys['ages']), \n",
    "                                                     np.var(bradys['ages']), \n",
    "                                                     np.std(bradys['ages']),\n",
    "                                                     np.median(bradys['ages']),\n",
    "                                                    statistics.mode(bradys['ages'])))"
   ]
  },
  {
   "cell_type": "code",
   "execution_count": 8,
   "metadata": {},
   "outputs": [
    {
     "name": "stdout",
     "output_type": "stream",
     "text": [
      "Brady average=10.0, variance=5.428571428571429, std=2.32992949004287, median=10.0, mode=8\n"
     ]
    }
   ],
   "source": [
    "# Cindy has a birthday\n",
    "bradys['ages'] = [14, 12, 11, 10, 8, 8, 7]\n",
    "print(\"Brady average={}, variance={}, std={}, median={}, mode={}\".format(np.mean(bradys['ages']), \n",
    "                                                     np.var(bradys['ages']), \n",
    "                                                     np.std(bradys['ages']),\n",
    "                                                     np.median(bradys['ages']),\n",
    "                                                    statistics.mode(bradys['ages'])))"
   ]
  },
  {
   "cell_type": "code",
   "execution_count": 9,
   "metadata": {},
   "outputs": [
    {
     "name": "stdout",
     "output_type": "stream",
     "text": [
      "mode=None\n",
      "Brady average=9.0, variance=15.428571428571429, std=3.927922024247863, median=10.0, mode=None\n"
     ]
    }
   ],
   "source": [
    "# Welcome baby Jessica, remove Oliver\n",
    "bradys['ages'] = [14, 12, 11, 10, 8, 7, 1]\n",
    "\n",
    "try:\n",
    "    mode = statistics.mode(bradys['ages'])\n",
    "                           \n",
    "except:\n",
    "    mode = None\n",
    "    print(\"mode={}\".format(mode))\n",
    "                           \n",
    "print(\"Brady average={}, variance={}, std={}, median={}, mode={}\".format(np.mean(bradys['ages']), \n",
    "                                                     np.var(bradys['ages']), \n",
    "                                                     np.std(bradys['ages']),\n",
    "                                                     np.median(bradys['ages']),\n",
    "                                                     mode))"
   ]
  },
  {
   "cell_type": "code",
   "execution_count": null,
   "metadata": {},
   "outputs": [],
   "source": []
  }
 ],
 "metadata": {
  "kernelspec": {
   "display_name": "Python 3",
   "language": "python",
   "name": "python3"
  },
  "language_info": {
   "codemirror_mode": {
    "name": "ipython",
    "version": 3
   },
   "file_extension": ".py",
   "mimetype": "text/x-python",
   "name": "python",
   "nbconvert_exporter": "python",
   "pygments_lexer": "ipython3",
   "version": "3.7.1"
  }
 },
 "nbformat": 4,
 "nbformat_minor": 2
}
