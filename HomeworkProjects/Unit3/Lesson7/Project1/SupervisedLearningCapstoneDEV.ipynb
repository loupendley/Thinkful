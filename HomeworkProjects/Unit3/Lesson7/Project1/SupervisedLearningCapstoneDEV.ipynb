{
 "cells": [
  {
   "cell_type": "markdown",
   "metadata": {},
   "source": [
    "### Supervised Learning Capstone\n",
    "### Lou Pendley\n",
    "### 16-Jun-2019\n"
   ]
  },
  {
   "cell_type": "markdown",
   "metadata": {},
   "source": [
    "### Research question to answer:\n",
    "### Can we predict the sentiment from Yelp reviews?\n",
    "\n",
    "#### Let's determien if we can from the dataset from Yelp, found on Kaggle."
   ]
  },
  {
   "cell_type": "markdown",
   "metadata": {},
   "source": [
    "#### Description of the dataset:  \n",
    "\n",
    "The dataset is from Kaggle, and includes several files, one of which is of particular interest, named:\n",
    "yelp_academic_dataset_review.json.  This dataset contains 5.2 million Yelp user reviews for 174,000 businesses, spanning 11 metropolitan cities."
   ]
  },
  {
   "cell_type": "markdown",
   "metadata": {},
   "source": [
    "### Questions that need answering:\n",
    "\n",
    " 1. What question are you trying to solve (or prove wrong) ?   \n",
    " __We are correlating the sentiment analysis from the review with the stars rating that a customer provided.  .__\n",
    " 1. What kind of data do you have? -> describe the source.. \n",
    " __The dataset includes 5.2 million Yelp user reviews for 174,000 businesses, spanning 11 metropolitan cities.__\n",
    " 1. What's missing from the data and how do you deal with it?  \n",
    " __There really is nothing missing from the data.    __\n",
    " 1. Where are the outliers and why should we pay attention to them?  \n",
    " __There were no outliers to mention in the dataset.  Since this is sentiment data, we don't have outliers.__\n",
    " 1. How can you add, change, or remove features to get more out of your data?  \n",
    " __I added message_length, derived from the length of the message.  In addition Feature importances, PCA, dropping low variance items, correlated feature pairs, features too highly correlated, feature engineering, transforming, timestamp and make a month, day, year column from it.__"
   ]
  },
  {
   "cell_type": "markdown",
   "metadata": {},
   "source": [
    "### Supervised Learning Capstone  \n",
    "#### You're ready to put into practice everything you've learned so far.  \n",
    "\n",
    "####  First: Go out and find a dataset of interest. It could be from one of our recommended resources, some other aggregation, or scraped yourself. Just make sure it has lots of variables in it, including an outcome of interest to you.  \n",
    "\n",
    "####  Second: Explore the data. Get to know the data. Spend a lot of time going over its quirks and peccadilloes. You should understand how it was gathered, what's in it, and what the variables look like.  \n",
    "\n",
    "####  Third: Model your outcome of interest. You should try several different approaches and really work to tune a variety of models before using the model evaluation techniques to choose what you consider to be the best performer. Make sure to think about explanatory versus predictive power and experiment with both.  \n",
    "\n",
    "####  So, here is the deliverable: Prepare a slide deck and 15 minute presentation that guides viewers through your model. Be sure to cover a few specific things:  \n",
    "\n",
    "1. A specified research question your model addresses  \n",
    "1. How you chose your model specification and what alternatives you compared it to  \n",
    "1. The practical uses of your model for an audience of interest  \n",
    "1. Any weak points or shortcomings of your model  \n",
    "\n",
    "\n",
    "This presentation is not a drill. You'll be presenting this slide deck live to a group as the culmination of your work in the last two supervised learning units. As a secondary matter, your slides and / or the Jupyter notebook you use or adapt them into should be worthy of inclusion as examples of your work product when applying to jobs.\n",
    "\n",
    "Good luck!"
   ]
  },
  {
   "cell_type": "code",
   "execution_count": null,
   "metadata": {},
   "outputs": [],
   "source": []
  }
 ],
 "metadata": {
  "kernelspec": {
   "display_name": "Python 3",
   "language": "python",
   "name": "python3"
  },
  "language_info": {
   "codemirror_mode": {
    "name": "ipython",
    "version": 3
   },
   "file_extension": ".py",
   "mimetype": "text/x-python",
   "name": "python",
   "nbconvert_exporter": "python",
   "pygments_lexer": "ipython3",
   "version": "3.7.3"
  }
 },
 "nbformat": 4,
 "nbformat_minor": 2
}
