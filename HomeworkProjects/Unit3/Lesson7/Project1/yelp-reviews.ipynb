{
 "cells": [
  {
   "cell_type": "code",
   "execution_count": 1,
   "metadata": {},
   "outputs": [],
   "source": [
    "url = 'https://https://www.kaggle.com/yelp-dataset/yelp-dataset'"
   ]
  },
  {
   "cell_type": "markdown",
   "metadata": {},
   "source": [
    "### Supervised Learning Capstone\n",
    "\n",
    "### Capstone Topic:  Supervised Learning with Sentiment Analysis of Yelp customer reviews\n",
    "\n",
    "### Student:  Lou Pendley Thinkful\n",
    "\n",
    "### 26-Jun-2019"
   ]
  },
  {
   "cell_type": "markdown",
   "metadata": {},
   "source": [
    "#### Specific items to cover:\n",
    "\n",
    "1.  #### Research question that this model addresses:\n",
    "    #### Can we predict the number of stars for a Yelp rating from the review provided by the customer?  \n",
    "    \n",
    "1.  #### How did I choose my model specifications and against what alternatives did I compare it?\n",
    "#### This was my performance criteria for this capstone:\n",
    "    1. #### Model needed to complete in a reasonable amount of time, with minimal parameter tuning of either the vectorizer, or the model, using a classifier model, and have accuracy of at least 80%.  Measuring for both accuracy and performance, providing readouts for both.\n",
    "    \n",
    "    \n",
    "####  I chose a classifier model suitable for sentiment analysis, and chose from these 5 models:  \n",
    "1. #### Random Forests\n",
    "2. #### Support Vector Machines\n",
    "3. #### Naive Bayes\n",
    "4. #### MultiNomial Naive Bayes\n",
    "5. #### Logistic Regression\n",
    "    \n",
    "####    In addition, I experimented with 2 classifier tokenizers for the model:\n",
    "1. #### CountVectorizer\n",
    "1. #### TfidfVectorizer\n",
    "    \n",
    "    \n",
    "#### My findings on the 5 models attempted above:\n",
    "\n",
    "1. Random Forests - RFC\n",
    "With the dataset from Kaggle, RFC was not sufficiently performant using either CountVectorizer, or TfidVectorizer, in relation to the timings of the other models.  Several of my test runs did complete in several hours, and I realized that it could be due to reasons such as, or things I could do to make the model work including:\n",
    "    1. Resource depletion - running on my Mac has limitations\n",
    "    1. Feature reduction - limiting the words that are features\n",
    "    1. Manipulate the model - by adjusting parameters in the model, or in TfidffVectorizer.  There are numerous combinations of parameters, which can take vast amounts of time running on a Mac.  Running in the cloud with scalable resources could provide quicker and more timely feedbac, and thus more iterations.\n",
    "       \n",
    "2. Support Vector Machines - SVC  \n",
    "SVC was another candidate that suffered from the items I described in RFC.  It could be that there are parameters that could optimize this, but this is my first time to use SVC for sentiment analysis. \n",
    "       \n",
    "1. Naive Bayes - BernoulliNB  \n",
    "Testing with this model using different parameters, and combinations of CountVectorizer, and TfidfVectorizer resulting in adequate performance.  \n",
    "       \n",
    "4. MultiNomial Naive Bayes - MultinomialNB  \n",
    "This model was initially my pick to be the most performant, but another classifier was better.  This model seemed to be a good fit, and many models on the web promoted this as the goto model for sentiment analysis.\n",
    "       \n",
    "5. Logistic Regression - LR  \n",
    "This model was not my first pick, but it fits in exactly what I am trying to do -- get a binary classifier that predicts if the sentiment of the review can yield a positive or negative rating, given positive is 4 starts or better, and below 4, as negative.  The 3 stars rating representing 60% constitutes negative.  It is unfortunate, that a 0 rating is not possible.\n",
    "       \n",
    "Discoveries in my testing:\n",
    "    \n",
    "1.  Iterating through the different models, and varying parameters to find the best fit can take a long, long time.  Perhaps optimizations can help on this.  This may come through wisdom and experience.\n",
    "2.  Given the numerous parameters on some of the models, finding the right combination of n parameters could use some extra computing resources or wisdom to shorten the iteration times.\n",
    "3.  It may be worthwhile in future capstones to use cloud computing to spend less time waiting for my limited resources to complete the tests.    "
   ]
  },
  {
   "cell_type": "markdown",
   "metadata": {},
   "source": [
    "### Practical Uses of the Model\n",
    "\n",
    "#### This model is very valuable in many ways.\n",
    "\n",
    "#### Once trained, and optimized for performance, which is beyond the scope of this capstone, these are some of the things that could be of great business value:\n",
    "\n",
    "1. Sentiment analysis in real time, while providing a review, and potentially linking up an unhappy customer with a discounted \"next visit\" special.\n",
    "1. Daily sentiment temperature for business owners that use Yelp, to see if the reviews are going up, down, or level for a given business period - daily, weekly, monthly, and reaching out to those customers in some way.\n",
    "1. Applying this same model to e-mails from customers/vendors/employees to measure sentiment, and to be proactive.\n",
    "1. With modifications, determine if fake reviews are being submitted, and to stop them."
   ]
  },
  {
   "cell_type": "markdown",
   "metadata": {},
   "source": [
    "### The Dataset\n",
    "\n",
    "The Yelp dataset that originiated from Kaggle includes 5.2 million Yelp user reviews for 174,000 business, spanning 11 metropolitan cities around the world.  I am a Rubio's  \n",
    "The reviews look something like this:  \n",
    "<img src=\"YelpReview.png\"/>\n",
    "\n",
    "#### Dataset components:\n",
    "1. review_id  \n",
    "An internal id from Yelp\n",
    "1. user_id  \n",
    "An internal user id from Yelp.\n",
    "1. business_id  \n",
    "An internal business id from Yelp.\n",
    "1. stars  \n",
    "The number of stars that a review was given by a reviewer.  1 being the worst, and 5 being the best.\n",
    "1. useful\n",
    "This is another rating that a person reading the review can provide as a rating of usefulness.\n",
    "1. funny  \n",
    "This is another level of review that a person reading the review can provide as a rating of funny.\n",
    "1. cool  \n",
    "This is another level of review that a person reading the review can provide as a rating of cool.\n",
    "1. text  \n",
    "This is a free form text review field, that can be up to 5,000 characters.\n",
    "1. date  \n",
    "Date of review."
   ]
  },
  {
   "cell_type": "markdown",
   "metadata": {},
   "source": [
    "### More Model Information:\n",
    "\n",
    "_We are correlating the sentiment analysis from the review with the stars rating that a customer provided.  We want to predict the stars rating from the customer review._    \n",
    "_The dataset includes 5.2 million Yelp user reviews for 174,000 businesses, spanning 11 metropolitan cities._  \n",
    "_There really is nothing missing from the data.  It includes the review star rating, and the feedback, from which we derive the sentiment, thanks to machine learning, and some great sklearn libraries._   \n",
    "_Since this is sentiment data, the libraries remove them, by filtering on the max_\\__df parameter in TfidfVectorizer._ \n"
   ]
  },
  {
   "cell_type": "markdown",
   "metadata": {},
   "source": [
    "<h1><center>Performance Results by model</center></h1>\n",
    "\n",
    "\n",
    "\n",
    "|Model|Accuracy|Elapsed Time|Performance Best|Accuracy Placing\n",
    "|:-------|:-------|:------|:-----|:---|\n",
    "|Bernoulli Naive Bayes|75.81%|11 minutes|2nd place|3rd place|\n",
    "|Multinomial Naive Bayes|85.98%|10 minutes|1st place|2nd place|\n",
    "|Logistic Regression|91.08%|15 minutes|3rd place|1st place|\n",
    "\n",
    "#### Depending on the requirements for the model, we have optimization by performance, and accuracy.  The use case would determine which model to use."
   ]
  },
  {
   "cell_type": "code",
   "execution_count": 2,
   "metadata": {},
   "outputs": [
    {
     "name": "stdout",
     "output_type": "stream",
     "text": [
      "Regression = False\n"
     ]
    }
   ],
   "source": [
    "# Constants\n",
    "random_state           = 57\n",
    "train_size             = 0.90\n",
    "test_size              = 0.10\n",
    "max_data               = 6685900//1\n",
    "rfc_test_size          = 50000\n",
    "rfc_train_size         = 5000\n",
    "run_CountVectorizer    = True\n",
    "run_TfidfVectorizer    = True\n",
    "sample_size            = 10\n",
    "BegTimeStampNewlines   = 3\n",
    "EndTimeStampNewlines   = 3\n",
    "EndTimeStamp           = '\\n'*EndTimeStampNewlines+'End'\n",
    "BegTimeStamp           = 'Begin'+'\\n'*BegTimeStampNewlines\n",
    "\n",
    "# Regression/Classification control\n",
    "Regression = False \n",
    "\n",
    "print(\"Regression = {}\".format(Regression))"
   ]
  },
  {
   "cell_type": "code",
   "execution_count": 3,
   "metadata": {},
   "outputs": [],
   "source": [
    "# Controls\n",
    "flag_to_run_rf = False\n",
    "flag_to_plot_them = False\n",
    "flag_to_run_correlation_matrix = False\n",
    "flag_to_run_features_importance = False\n",
    "flag_to_run_gradient_boosting  = False\n",
    "flag_to_run_linear_regression  = False\n",
    "flag_to_run_logistic_regression = False\n",
    "flag_to_run_lasso_regression = False\n",
    "flag_to_run_ridge_regression = False\n",
    "flag_to_run_svc = False\n",
    "flag_to_run_vectorizer_nb = False\n",
    "flag_to_run_sentiment_analyzer = True\n",
    "debug = False"
   ]
  },
  {
   "cell_type": "code",
   "execution_count": 4,
   "metadata": {
    "collapsed": false,
    "run_control": {
     "frozen": false,
     "read_only": false
    }
   },
   "outputs": [],
   "source": [
    "import pandas as pd\n",
    "import numpy as np\n",
    "import scipy\n",
    "import matplotlib.pyplot as plt\n",
    "import json\n",
    "import time, sys\n",
    "import chardet\n",
    "import datetime\n",
    "\n",
    "%matplotlib inline\n",
    "\n",
    "from sklearn import ensemble\n",
    "from sklearn import datasets\n",
    "from sklearn import metrics\n",
    "from sklearn import linear_model\n",
    "from sklearn.utils import shuffle\n",
    "from sklearn.metrics import mean_squared_error\n",
    "from sklearn.model_selection import train_test_split\n",
    "\n",
    "import seaborn as sns\n",
    "from sklearn.model_selection import cross_val_score\n",
    "from sklearn.metrics import confusion_matrix\n",
    "from sklearn.metrics import classification_report\n",
    "from pandas_ml import ConfusionMatrix\n",
    "from sklearn.svm import SVC\n",
    "import statsmodels.api as sm\n",
    "from sklearn.linear_model import LogisticRegression\n",
    "from sklearn import linear_model\n",
    "from sklearn.model_selection import cross_val_predict, GridSearchCV\n",
    "from sklearn.ensemble import RandomForestRegressor\n",
    "from sklearn.preprocessing import MinMaxScaler\n",
    "from IPython.display import Markdown, display\n",
    "from sklearn.feature_extraction.text import CountVectorizer\n",
    "from sklearn.feature_extraction.text import TfidfVectorizer\n",
    "from sklearn.feature_extraction.text import TfidfTransformer\n",
    "from sklearn.naive_bayes import MultinomialNB\n",
    "from sklearn.naive_bayes import BernoulliNB\n",
    "from sklearn.pipeline import Pipeline\n",
    "from IPython.display import HTML, display\n",
    "\n",
    "import requests\n",
    "import warnings\n",
    "warnings.filterwarnings(\"ignore\", category=FutureWarning)\n",
    "# from tqdm import tqdm"
   ]
  },
  {
   "cell_type": "code",
   "execution_count": 5,
   "metadata": {},
   "outputs": [],
   "source": [
    "# pd set preferences.\n",
    "pd.options.display.float_format = '{:.3f}'.format\n",
    "pd.set_option('display.max_row', 1000)\n",
    "pd.set_option('display.max_columns', 500)\n",
    "pd.set_option('display.width', 1000)\n",
    "pd.set_option('max_colwidth',200)"
   ]
  },
  {
   "cell_type": "code",
   "execution_count": 6,
   "metadata": {},
   "outputs": [],
   "source": [
    "def plot_time_to_complete():\n",
    "    objects = ('BernoulliNB', 'MultinomialNB', 'Logistic Regression')\n",
    "    y_pos = np.arange(len(objects))\n",
    "    performance = [18,17,32]\n",
    "\n",
    "    plt.bar(y_pos, performance, align='center', alpha=0.5)\n",
    "    plt.xticks(y_pos, objects)\n",
    "    plt.ylabel('Time in Minutes')\n",
    "    plt.title('Yelp Sentiment Analysis Time to Complete')\n",
    "\n",
    "    plt.show()"
   ]
  },
  {
   "cell_type": "code",
   "execution_count": 7,
   "metadata": {},
   "outputs": [],
   "source": [
    "def plot_model_accuracy():\n",
    "    objects = ('BernoulliNB', 'MultinomialNB', 'Logistic Regression')\n",
    "    y_pos = np.arange(len(objects))\n",
    "    performance = [75.81,85.98,91.08]\n",
    "\n",
    "    plt.bar(y_pos, performance, align='center', alpha=0.5)\n",
    "    plt.xticks(y_pos, objects)\n",
    "    plt.ylabel('Accuracy Percent')\n",
    "    plt.title('Yelp Sentiment Analysis Accuracy')\n",
    "\n",
    "    plt.show()"
   ]
  },
  {
   "cell_type": "code",
   "execution_count": 8,
   "metadata": {},
   "outputs": [],
   "source": [
    "def file_length(full_file_name):\n",
    "    count = 0\n",
    "    for line in open(full_file_name).readlines(  ): \n",
    "        count += 1\n",
    "    return count"
   ]
  },
  {
   "cell_type": "code",
   "execution_count": 9,
   "metadata": {},
   "outputs": [],
   "source": [
    "def write_to_logfile(message, mdformat=''):\n",
    "    bufsize = 0\n",
    "    with open('TestResults.md', 'a+') as the_file:\n",
    "        the_file.write('{} {}'.format(mdformat, message))"
   ]
  },
  {
   "cell_type": "code",
   "execution_count": 10,
   "metadata": {},
   "outputs": [],
   "source": [
    "def print_timestamp(displaytext):    \n",
    "    import sys\n",
    "    import datetime\n",
    "    datetime_now = str(datetime.datetime.now())\n",
    "    printFormatted(\"{:19.19}: In: {} {} \".format(datetime_now, sys._getframe(1).f_code.co_name, displaytext))"
   ]
  },
  {
   "cell_type": "code",
   "execution_count": 11,
   "metadata": {},
   "outputs": [],
   "source": [
    "def return_current_datetime():\n",
    "    datetime_now = str(datetime.datetime.now())\n",
    "    return datetime_now"
   ]
  },
  {
   "cell_type": "code",
   "execution_count": 12,
   "metadata": {
    "collapsed": false
   },
   "outputs": [],
   "source": [
    "def file_stuff():\n",
    "\n",
    "    global df\n",
    "    \n",
    "    file = 'yelp_academic_dataset_review.json'# /Users/lou/GITHubProjects/Thinkful/Datafiles/yelp/yelp_academic_dataset_review.json\n",
    "    path = path=\"../../../../Datafiles/yelp/\"\n",
    "    column_names = []\n",
    "\n",
    "    if debug == True:\n",
    "        print_timestamp(\"Log start get filecount\")\n",
    "    file_line_count = file_length(path+file) # \n",
    "\n",
    "    file_len = file_length(path+file)\n",
    "    file_len = 0\n",
    "    \n",
    "    if debug == True:\n",
    "        print_timestamp(\"There are {:,} lines in data file {}.\".format(file_len, file))\n",
    "\n",
    "    line = None\n",
    "    data = []\n",
    "    cnt = 0\n",
    "    if isinstance(max_data, float):\n",
    "        max_data2 = max_data * file_len # it's a factor of the full file size\n",
    "    elif isinstance(max_data, int):\n",
    "        max_data2 = max_data # it's the number of records in the file\n",
    "\n",
    "    # Load the first sheet of the JSON file into a data frame\n",
    "#     print(\"url for read_json is {}\".format(url))\n",
    "#     df = pd.read_json(url, encoding='utf-8')\n",
    "\n",
    "    with open(path+file, 'r',encoding='UTF-8') as f:\n",
    "      line = f.readline()\n",
    "      while line and cnt < max_data2:\n",
    "        data.append(json.loads(line))\n",
    "        line = f.readline()\n",
    "        cnt += 1\n",
    "    if debug == True:\n",
    "        print_timestamp(\"Log end read datafile {}\".format(file))\n",
    "\n",
    "    column_names = ['review_id', 'user_id', 'business_id', 'stars', 'useful','funny','cool','text', 'date']\n",
    "    df = pd.DataFrame(data, columns = column_names)\n",
    "    \n",
    "    if debug == True:\n",
    "        print_timestamp(\"there are {:,} entries in  {}\".format(len(df), 'data frame df'))\n",
    "        print_timestamp(\"columns={}\".format(df.columns))\n",
    "\n",
    "    # data Cleanup\n",
    "\n",
    "    df['sentiment_label'] = df.stars.map({4.0:1, 5.0: 1, 3.0:0, 2.0: 0, 1.0:0}) # Let's conver the stars values into success(1.0) or fail(0)\n",
    "    df = df.rename({'text': 'message'}, axis=1)\n",
    "    df['message_length'] = df['message'].str.len()\n",
    "    \n",
    "    if debug == True:\n",
    "        print_timestamp(\"columns are {}\".format(df.columns))\n",
    "\n",
    "        print_timestamp('we have cleaned up the dataframe.')"
   ]
  },
  {
   "cell_type": "code",
   "execution_count": 13,
   "metadata": {},
   "outputs": [],
   "source": [
    "def plot_facet():\n",
    "    g = sns.FacetGrid(data=df, col='stars')\n",
    "    g.map(plt.hist, 'message_length', bins=50)"
   ]
  },
  {
   "cell_type": "code",
   "execution_count": 14,
   "metadata": {},
   "outputs": [],
   "source": [
    "def plot_boxplot():\n",
    "    sns.boxplot(x='stars', y='message_length', data=df)"
   ]
  },
  {
   "cell_type": "code",
   "execution_count": 15,
   "metadata": {},
   "outputs": [],
   "source": [
    "def confusion_matrix_function(y_test, y_pred_class):\n",
    "    \n",
    "    printFormatted(\"### Confusion Matrix\")\n",
    "    print(confusion_matrix(y_test, y_pred_class))\n",
    "    \n",
    "    print(\"\\n\\n\")"
   ]
  },
  {
   "cell_type": "code",
   "execution_count": 16,
   "metadata": {},
   "outputs": [],
   "source": [
    "def make_X_and_Y():\n",
    "        \n",
    "    global X, y\n",
    "    \n",
    "    # Definine outcome and predictors.\n",
    "\n",
    "    y = df['sentiment_label']\n",
    "    X = df['message']\n",
    "    \n",
    "    if debug == True:\n",
    "        print_timestamp(\"X and y variables created\")"
   ]
  },
  {
   "cell_type": "code",
   "execution_count": 17,
   "metadata": {},
   "outputs": [],
   "source": [
    "def printFormatted(string):\n",
    "    newline = '\\n'\n",
    "    display(Markdown(string))\n",
    "    write_to_logfile(string+newline)"
   ]
  },
  {
   "cell_type": "code",
   "execution_count": 18,
   "metadata": {},
   "outputs": [],
   "source": [
    "def plot_them():\n",
    "    for column in X_train.columns:\n",
    "#         plt.hist(X_train[column]*100, bins=40)\n",
    "        plt.scatter(y_train, X_train[column]*100)\n",
    "        plt.xlabel(column)\n",
    "        plt.show()"
   ]
  },
  {
   "cell_type": "code",
   "execution_count": 19,
   "metadata": {},
   "outputs": [],
   "source": [
    "def training_test_set():\n",
    "    \n",
    "    global X_train, X_test, y_train, y_test\n",
    "    \n",
    "    if debug == True:\n",
    "        printFormatted(\"test_size={}, and train_size={}\".format(test_size,train_size))\n",
    "\n",
    "    X_train, X_test, y_train, y_test = train_test_split(X, y, test_size=test_size, train_size=train_size)\n",
    "    \n",
    "    if debug == True:\n",
    "        printFormatted(\"train_size = {}, X_train is {}, and y_train is {}\".format(train_size, X_train.shape, y_train.shape))\n",
    "        printFormatted(\"test_size  = {}, X_test  is {}, and y_test is {}\".format(test_size, X_test.shape, y_test.shape))"
   ]
  },
  {
   "cell_type": "code",
   "execution_count": 20,
   "metadata": {},
   "outputs": [],
   "source": [
    "def plot_them_others(df,columnlist):\n",
    "    \n",
    "    print_timestamp(BegTimeStamp)\n",
    "    \n",
    "    print_timestamp(\"We will plot these independent variables {}\".format(columnlist))\n",
    "    for column in columnlist:\n",
    "        plt.hist(df[column], bins=90)\n",
    "        plt.xlabel(column)\n",
    "        plt.ylabel('count')\n",
    "        plt.show()\n",
    "#     dfcolumn.plot.hist()\n",
    "\n",
    "    print_timestamp(EndTimeStamp)"
   ]
  },
  {
   "cell_type": "code",
   "execution_count": 21,
   "metadata": {},
   "outputs": [],
   "source": [
    "def data_characteristics():\n",
    "    \n",
    "    printFormatted(\"#### Columns used in the dataset\")\n",
    "    display(df.columns)\n",
    "\n",
    "    print(\"\\n\\n\")\n",
    "    printFormatted(\"#### Describe of the df dataset\")\n",
    "    display(df.describe())\n",
    "\n",
    "    print(\"\\n\\n\")\n",
    "    printFormatted(\"#### Sample of 10 from the dataset\")\n",
    "    display(df.sample(sample_size))\n",
    "\n",
    "    print(\"\\n\\n\")\n",
    "    printFormatted(\"#### Number of nulls in X\")\n",
    "    display(X.isnull().sum())\n",
    "    print(\"\\n\\n\\n\")"
   ]
  },
  {
   "cell_type": "code",
   "execution_count": 22,
   "metadata": {},
   "outputs": [],
   "source": [
    "def run_correlation_matrix():\n",
    "    \n",
    "    print_timestamp(BegTimeStamp)\n",
    "    \n",
    "    # Setup the correlation matrix.\n",
    "    corrmat = X.corr()\n",
    "    print(corrmat)\n",
    "\n",
    "    # Set up the subplots\n",
    "    f, ax = plt.subplots(figsize=(12, 9))\n",
    "\n",
    "    # Let's draw the heatmap using seaborn.\n",
    "    sns.heatmap(corrmat, vmax=.6, square=True)\n",
    "    plt.show()\n",
    "    \n",
    "    print_timestamp(EndTimeStamp)"
   ]
  },
  {
   "cell_type": "markdown",
   "metadata": {},
   "source": [
    "Let's try predicting with gradient boosting classification"
   ]
  },
  {
   "cell_type": "code",
   "execution_count": 23,
   "metadata": {},
   "outputs": [],
   "source": [
    "def sentiment_analyzer(path, parameters, classifier, tfidf_parms):\n",
    "    # path A = the old path\n",
    "    # path B = the new path, no CountVectorizer at all\n",
    "    \n",
    "    \n",
    "# run block of code and catch warnings\n",
    "  \n",
    "    if debug == True:\n",
    "        print_timestamp(BegTimeStamp+\" running with path={}\".format(path))\n",
    "    \n",
    "    global vectorized\n",
    "    vectorized = True\n",
    "    \n",
    "    pipeline_array = []\n",
    "   \n",
    "    if path == \"A\":\n",
    "        if classifier == 'bnb':\n",
    "            pipeline_array.append(Pipeline([\n",
    "                ('tfidf', TfidfVectorizer(**tfidf_parms)),\n",
    "                ('clf',   BernoulliNB(**parameters))\n",
    "            ]))\n",
    "        elif classifier == 'svc':\n",
    "            pipeline_array.append(Pipeline([\n",
    "                ('tfidf', TfidfVectorizer(**tfidf_parms)),\n",
    "                ('clf',   SVC(kernel = 'linear', **parameters))\n",
    "            ])) \n",
    "        elif classifier == 'mlb':\n",
    "            pipeline_array.append(Pipeline([\n",
    "                ('tfidf', TfidfVectorizer(**tfidf_parms)),\n",
    "                ('clf',   MultinomialNB(**parameters))\n",
    "            ]))\n",
    "        elif classifier == 'logit':\n",
    "            pipeline_array.append(Pipeline([\n",
    "                ('tfidf', TfidfVectorizer(**tfidf_parms)),\n",
    "                ('clf',   LogisticRegression(**parameters))\n",
    "            ]))\n",
    "        elif classifier == 'rfc':\n",
    "            pipeline_array.append(Pipeline([\n",
    "                ('tfidf', TfidfVectorizer(**tfidf_parms)),\n",
    "                ('clf',   ensemble.RandomForestClassifier(**parameters))\n",
    "            ]))  \n",
    "            \n",
    "    elif path == \"B\":\n",
    "        if classifier == 'bnb':\n",
    "            pipeline_array.append(Pipeline([\n",
    "                ('tfidf', TfidfVectorizer(**tfidf_parms)),\n",
    "                ('clf',   BernoulliNB(**parameters))\n",
    "            ]))\n",
    "        elif classifier == 'svc':\n",
    "            pipeline_array.append(Pipeline([\n",
    "                ('tfidf', TfidfVectorizer(**tfidf_parms)),\n",
    "                ('clf',   SVC(kernel = 'linear', **parameters))\n",
    "            ])) \n",
    "        elif classifier == 'mlb':\n",
    "            pipeline_array.append(Pipeline([\n",
    "                ('tfidf', TfidfVectorizer(**tfidf_parms)),\n",
    "                ('clf',   MultinomialNB(**parameters))\n",
    "            ]))\n",
    "        elif classifier == 'logit':\n",
    "            pipeline_array.append(Pipeline([\n",
    "                ('tfidf', TfidfVectorizer()),\n",
    "                ('clf',   LogisticRegression(**parameters))\n",
    "            ]))\n",
    "        elif classifier == 'rfc':\n",
    "            pipeline_array.append(Pipeline([\n",
    "                ('tfidf', TfidfVectorizer(**tfidf_parms)),\n",
    "                ('clf',   ensemble.RandomForestClassifier(**parameters))\n",
    "            ]))\n",
    "\n",
    "    pipe = pipeline_array[0]\n",
    "    \n",
    "    try:\n",
    "        vect_name_list = str(pipe.named_steps['vect']).split('(')\n",
    "        vect_name = \"vect = {}, \".format(vect_name_list[0])\n",
    "    except:\n",
    "        vect_name = ''\n",
    "\n",
    "    classifier_name_list=str(pipe.named_steps['clf']).split('(')\n",
    "    classifier_name=classifier_name_list[0]\n",
    "    tfidf_name_list = str(pipe.named_steps['tfidf']).split('(')\n",
    "    if len(tfidf_name_list) > 0:\n",
    "        tfidf_name = tfidf_name_list[0]\n",
    "    else:\n",
    "        tfidf_name = ''\n",
    "\n",
    "    printFormatted(\"####  Now running with: {} tfidf={} and clf={} {}\\nparameters={} \\n\\n tfidf_parms={}\".format( vect_name,\n",
    "                                                                                                tfidf_name,\n",
    "                                                                                                classifier_name,\n",
    "                                                                                                return_current_datetime(),\n",
    "                                                                                                parameters,\n",
    "                                                                                                tfidf_parms\n",
    "                                                                                                ))\n",
    "    pipe.fit(X_train, y_train)\n",
    "\n",
    "    y_pred_class  = pipe.predict(X_test)\n",
    "    y_pred_class2 = pipe.predict(X_train)\n",
    "\n",
    "    metrics_test_score =  metrics.accuracy_score(y_test, y_pred_class)\n",
    "    metrics_train_score = metrics.accuracy_score(y_train, y_pred_class2)\n",
    "\n",
    "    printFormatted('###  Metrics test accuracy score = {:.2%} with {}'.format(metrics_test_score, classifier_name))\n",
    "    printFormatted('###  Metrics train accuracy score = {:.2%} with {}'.format(metrics_train_score, classifier_name))\n",
    "    \n",
    "    if debug == True:\n",
    "        printFormatted(\"Steps information: {}\".format(pipe.steps))\n",
    "        print_timestamp(\"Finished running pipeline with:\\n{}: \".format(classifier_name))\n",
    "            \n",
    "    return y_test, y_pred_class\n",
    "\n",
    "    print_timestamp(EndTimeStamp)"
   ]
  },
  {
   "cell_type": "code",
   "execution_count": 24,
   "metadata": {},
   "outputs": [],
   "source": [
    "def run_it():\n",
    "    \n",
    "    if debug == True:\n",
    "        print_timestamp(BegTimeStamp)\n",
    "   \n",
    "    if debug == True:\n",
    "        if Regression == True:\n",
    "            print_timestamp(\"We are running with a Regression model\")\n",
    "        elif Regression == False:\n",
    "            print_timestamp(\"We are running with a Classifier model\")\n",
    "        else:\n",
    "            print_timestamp(\"We have failed to set the Regression variable\")\n",
    "            sys.exit(main())\n",
    "        \n",
    "    if flag_to_plot_them == True:\n",
    "        if debug == True:\n",
    "            print(\"we went to flag_to_plot_them\")\n",
    "        columns_to_plot = ['funny','cool','useful','message_length','sentiment_label']\n",
    "        plot_them_others(df, columns_to_plot)\n",
    "        \n",
    "#         plot_them()\n",
    "\n",
    "    if flag_to_run_features_importance == True:\n",
    "        \n",
    "        number_of_features_to_consider = 50\n",
    "        params = {'n_estimators': 100}\n",
    "\n",
    "        if Regression == True:\n",
    "            if debug == True:\n",
    "                print_timestamp('We are running RandomForestRegressor')\n",
    "            rf = ensemble.RandomForestRegressor(**params)\n",
    "            \n",
    "        else:\n",
    "            if debug == True:\n",
    "                print_timestamp('We are running RandomForestClassifier')\n",
    "            rf = ensemble.RandomForestClassifier(**params)\n",
    "\n",
    "        run_features_importance(rf, number_of_features_to_consider)\n",
    "\n",
    "    if flag_to_run_correlation_matrix == True:\n",
    "        run_correlation_matrix()\n",
    "\n",
    "    if flag_to_run_rf == True:\n",
    "        #     params = {}\n",
    "        params = {'n_estimators': 100} \n",
    "\n",
    "        if Regression == True:\n",
    "            rf = ensemble.RandomForestRegressor(**params)\n",
    "            if debug == True:\n",
    "                print_timestamp('We are running RandomForestRegressor')\n",
    "        else:\n",
    "            rf = ensemble.RandomForestClassifier(**params)\n",
    "            if debug == True:\n",
    "                print_timestamp('We are running RandomForestClassifier')\n",
    "\n",
    "        run_rf(rf)\n",
    "\n",
    "    if flag_to_run_gradient_boosting  == True:\n",
    "        run_gradient_boosting()\n",
    "\n",
    "    if flag_to_run_linear_regression  == True:\n",
    "        run_linear_regression()\n",
    "\n",
    "    if flag_to_run_logistic_regression == True:\n",
    "        run_logistic_regression()\n",
    "\n",
    "    if flag_to_run_svc == True:\n",
    "        run_svc() \n",
    "\n",
    "    if flag_to_run_ridge_regression == True:\n",
    "        run_ridge_regression()\n",
    "        \n",
    "    if flag_to_run_sentiment_analyzer == True:\n",
    "        path = \"B\"\n",
    "\n",
    "\n",
    "        for path in ['A']:\n",
    "            for vectorizer_iterator in ['logit', 'mlb', 'bnb']:\n",
    "                if vectorizer_iterator == 'rfc':\n",
    "                    y_test, y_pred_class = sentiment_analyzer(path, params, vectorizer_iterator, tfidf_parms)\n",
    "                    confusion_matrix_function(y_test, y_pred_class)\n",
    "                elif vectorizer_iterator == 'bnb':\n",
    "                    parameters = {}\n",
    "                    y_test, y_pred_class = sentiment_analyzer(path, parameters, vectorizer_iterator, tfidf_parms)\n",
    "                    confusion_matrix_function(y_test, y_pred_class)\n",
    "                elif vectorizer_iterator == 'mlb':\n",
    "                    parameters = {}\n",
    "                    y_test, y_pred_class = sentiment_analyzer(path, parameters, vectorizer_iterator, tfidf_parms)\n",
    "                    confusion_matrix_function(y_test, y_pred_class)\n",
    "                elif vectorizer_iterator == 'logit': # newton-cg took too long. sag and saga about the same as lbfgs.\n",
    "                    tfidf_parms = {\n",
    "                        'max_features' :  10000 # determined this through iterative testing\n",
    "                    }\n",
    "                    parameters = {'C' :1e20, 'solver': 'lbfgs', 'max_iter': 1000} # max_iter=100 reports warning, try 1000\n",
    "                    y_test, y_pred_class = sentiment_analyzer(path, parameters, vectorizer_iterator, tfidf_parms)\n",
    "                    confusion_matrix_function(y_test, y_pred_class)\n",
    "                elif vectorizer_iterator == 'svc':\n",
    "                    parameters = {}\n",
    "                    y_test, y_pred_class = sentiment_analyzer(path, parameters, vectorizer_iterator, tfidf_parms)\n",
    "                    confusion_matrix_function(y_test, y_pred_class)\n",
    "\n",
    "    print_timestamp(EndTimeStamp)"
   ]
  },
  {
   "cell_type": "code",
   "execution_count": 25,
   "metadata": {},
   "outputs": [],
   "source": [
    "def main(entry_point):\n",
    "    if entry_point == 0:\n",
    "        print_timestamp(\"Starting main()\")\n",
    "        file_stuff()\n",
    "        make_X_and_Y()\n",
    "        training_test_set()\n",
    "        data_characteristics()\n",
    "        plot_time_to_complete()\n",
    "        plot_model_accuracy()\n",
    "        plot_facet()\n",
    "\n",
    "    run_it()\n",
    "        \n",
    "    print_timestamp(\"Ending main()\")"
   ]
  },
  {
   "cell_type": "code",
   "execution_count": 26,
   "metadata": {},
   "outputs": [
    {
     "data": {
      "text/markdown": [
       "2019-07-07 16:54:58: In: main Starting main() "
      ],
      "text/plain": [
       "<IPython.core.display.Markdown object>"
      ]
     },
     "metadata": {},
     "output_type": "display_data"
    },
    {
     "data": {
      "text/markdown": [
       "#### Columns used in the dataset"
      ],
      "text/plain": [
       "<IPython.core.display.Markdown object>"
      ]
     },
     "metadata": {},
     "output_type": "display_data"
    },
    {
     "data": {
      "text/plain": [
       "Index(['review_id', 'user_id', 'business_id', 'stars', 'useful', 'funny', 'cool', 'message', 'date', 'sentiment_label', 'message_length'], dtype='object')"
      ]
     },
     "metadata": {},
     "output_type": "display_data"
    },
    {
     "name": "stdout",
     "output_type": "stream",
     "text": [
      "\n",
      "\n",
      "\n"
     ]
    },
    {
     "data": {
      "text/markdown": [
       "#### Describe of the df dataset"
      ],
      "text/plain": [
       "<IPython.core.display.Markdown object>"
      ]
     },
     "metadata": {},
     "output_type": "display_data"
    },
    {
     "data": {
      "text/html": [
       "<div>\n",
       "<style scoped>\n",
       "    .dataframe tbody tr th:only-of-type {\n",
       "        vertical-align: middle;\n",
       "    }\n",
       "\n",
       "    .dataframe tbody tr th {\n",
       "        vertical-align: top;\n",
       "    }\n",
       "\n",
       "    .dataframe thead th {\n",
       "        text-align: right;\n",
       "    }\n",
       "</style>\n",
       "<table border=\"1\" class=\"dataframe\">\n",
       "  <thead>\n",
       "    <tr style=\"text-align: right;\">\n",
       "      <th></th>\n",
       "      <th>stars</th>\n",
       "      <th>useful</th>\n",
       "      <th>funny</th>\n",
       "      <th>cool</th>\n",
       "      <th>sentiment_label</th>\n",
       "      <th>message_length</th>\n",
       "    </tr>\n",
       "  </thead>\n",
       "  <tbody>\n",
       "    <tr>\n",
       "      <th>count</th>\n",
       "      <td>6685900.000</td>\n",
       "      <td>6685900.000</td>\n",
       "      <td>6685900.000</td>\n",
       "      <td>6685900.000</td>\n",
       "      <td>6685900.000</td>\n",
       "      <td>6685900.000</td>\n",
       "    </tr>\n",
       "    <tr>\n",
       "      <th>mean</th>\n",
       "      <td>3.716</td>\n",
       "      <td>1.354</td>\n",
       "      <td>0.483</td>\n",
       "      <td>0.579</td>\n",
       "      <td>0.658</td>\n",
       "      <td>602.798</td>\n",
       "    </tr>\n",
       "    <tr>\n",
       "      <th>std</th>\n",
       "      <td>1.464</td>\n",
       "      <td>3.700</td>\n",
       "      <td>2.379</td>\n",
       "      <td>2.359</td>\n",
       "      <td>0.474</td>\n",
       "      <td>568.875</td>\n",
       "    </tr>\n",
       "    <tr>\n",
       "      <th>min</th>\n",
       "      <td>1.000</td>\n",
       "      <td>-1.000</td>\n",
       "      <td>0.000</td>\n",
       "      <td>-1.000</td>\n",
       "      <td>0.000</td>\n",
       "      <td>1.000</td>\n",
       "    </tr>\n",
       "    <tr>\n",
       "      <th>25%</th>\n",
       "      <td>3.000</td>\n",
       "      <td>0.000</td>\n",
       "      <td>0.000</td>\n",
       "      <td>0.000</td>\n",
       "      <td>0.000</td>\n",
       "      <td>237.000</td>\n",
       "    </tr>\n",
       "    <tr>\n",
       "      <th>50%</th>\n",
       "      <td>4.000</td>\n",
       "      <td>0.000</td>\n",
       "      <td>0.000</td>\n",
       "      <td>0.000</td>\n",
       "      <td>1.000</td>\n",
       "      <td>425.000</td>\n",
       "    </tr>\n",
       "    <tr>\n",
       "      <th>75%</th>\n",
       "      <td>5.000</td>\n",
       "      <td>2.000</td>\n",
       "      <td>0.000</td>\n",
       "      <td>1.000</td>\n",
       "      <td>1.000</td>\n",
       "      <td>766.000</td>\n",
       "    </tr>\n",
       "    <tr>\n",
       "      <th>max</th>\n",
       "      <td>5.000</td>\n",
       "      <td>1241.000</td>\n",
       "      <td>1290.000</td>\n",
       "      <td>506.000</td>\n",
       "      <td>1.000</td>\n",
       "      <td>5000.000</td>\n",
       "    </tr>\n",
       "  </tbody>\n",
       "</table>\n",
       "</div>"
      ],
      "text/plain": [
       "            stars      useful       funny        cool  sentiment_label  message_length\n",
       "count 6685900.000 6685900.000 6685900.000 6685900.000      6685900.000     6685900.000\n",
       "mean        3.716       1.354       0.483       0.579            0.658         602.798\n",
       "std         1.464       3.700       2.379       2.359            0.474         568.875\n",
       "min         1.000      -1.000       0.000      -1.000            0.000           1.000\n",
       "25%         3.000       0.000       0.000       0.000            0.000         237.000\n",
       "50%         4.000       0.000       0.000       0.000            1.000         425.000\n",
       "75%         5.000       2.000       0.000       1.000            1.000         766.000\n",
       "max         5.000    1241.000    1290.000     506.000            1.000        5000.000"
      ]
     },
     "metadata": {},
     "output_type": "display_data"
    },
    {
     "name": "stdout",
     "output_type": "stream",
     "text": [
      "\n",
      "\n",
      "\n"
     ]
    },
    {
     "data": {
      "text/markdown": [
       "#### Sample of 10 from the dataset"
      ],
      "text/plain": [
       "<IPython.core.display.Markdown object>"
      ]
     },
     "metadata": {},
     "output_type": "display_data"
    },
    {
     "data": {
      "text/html": [
       "<div>\n",
       "<style scoped>\n",
       "    .dataframe tbody tr th:only-of-type {\n",
       "        vertical-align: middle;\n",
       "    }\n",
       "\n",
       "    .dataframe tbody tr th {\n",
       "        vertical-align: top;\n",
       "    }\n",
       "\n",
       "    .dataframe thead th {\n",
       "        text-align: right;\n",
       "    }\n",
       "</style>\n",
       "<table border=\"1\" class=\"dataframe\">\n",
       "  <thead>\n",
       "    <tr style=\"text-align: right;\">\n",
       "      <th></th>\n",
       "      <th>review_id</th>\n",
       "      <th>user_id</th>\n",
       "      <th>business_id</th>\n",
       "      <th>stars</th>\n",
       "      <th>useful</th>\n",
       "      <th>funny</th>\n",
       "      <th>cool</th>\n",
       "      <th>message</th>\n",
       "      <th>date</th>\n",
       "      <th>sentiment_label</th>\n",
       "      <th>message_length</th>\n",
       "    </tr>\n",
       "  </thead>\n",
       "  <tbody>\n",
       "    <tr>\n",
       "      <th>1333979</th>\n",
       "      <td>OFVZKpmLpM9ePzVak6esjw</td>\n",
       "      <td>ILOCl_PJXk_DE1enPkvL8Q</td>\n",
       "      <td>mUQ0ffOfaBn_E5kyZUkvOQ</td>\n",
       "      <td>4.000</td>\n",
       "      <td>0</td>\n",
       "      <td>0</td>\n",
       "      <td>1</td>\n",
       "      <td>From the lady in the booth 4/28/15 1pm to the shuttle driver, all are very nice and friendly. Although there is a wait, but that is what you expect from taking shuttle service.</td>\n",
       "      <td>2015-04-28 20:20:41</td>\n",
       "      <td>1</td>\n",
       "      <td>176</td>\n",
       "    </tr>\n",
       "    <tr>\n",
       "      <th>253804</th>\n",
       "      <td>1j8IUIrhfqih2mUupFrseQ</td>\n",
       "      <td>H3KluKXf1mp3etCToCJhqg</td>\n",
       "      <td>dSEcQPPUlATxZf5pvN_t5Q</td>\n",
       "      <td>5.000</td>\n",
       "      <td>0</td>\n",
       "      <td>0</td>\n",
       "      <td>0</td>\n",
       "      <td>Several of us who are blind visited this restaurant after an NFB meeting in Tempe.  Wow, what a find!  Our server was Alexa (just like the Amazon Echo) and she would get an A++++++ for helping us ...</td>\n",
       "      <td>2018-08-19 01:41:06</td>\n",
       "      <td>1</td>\n",
       "      <td>408</td>\n",
       "    </tr>\n",
       "    <tr>\n",
       "      <th>3640424</th>\n",
       "      <td>8OiZY8S90GAn1bceEt9axg</td>\n",
       "      <td>Ns4oV3sN4EnZIL2zJjM7VQ</td>\n",
       "      <td>dRDLwXHFLsMgpVMxNIRIiQ</td>\n",
       "      <td>1.000</td>\n",
       "      <td>0</td>\n",
       "      <td>0</td>\n",
       "      <td>1</td>\n",
       "      <td>I had driven by a few time finally decided to step in. Small family owned place. In think. Order the south Philly with the wiz. I won't do that again.it might be better without the wiz. Expected m...</td>\n",
       "      <td>2018-04-20 04:35:58</td>\n",
       "      <td>0</td>\n",
       "      <td>527</td>\n",
       "    </tr>\n",
       "    <tr>\n",
       "      <th>5441357</th>\n",
       "      <td>jay62Zv8dYaCqKCxOfVz3g</td>\n",
       "      <td>u9cWbmppqHUahCzDKO3dWQ</td>\n",
       "      <td>1dhPgc7E7IzzpxjHM2LphQ</td>\n",
       "      <td>5.000</td>\n",
       "      <td>0</td>\n",
       "      <td>0</td>\n",
       "      <td>0</td>\n",
       "      <td>One of my favorite places in Pittsburgh! 7dollar Big Azz Margaritas after 9!</td>\n",
       "      <td>2012-12-08 01:38:24</td>\n",
       "      <td>1</td>\n",
       "      <td>76</td>\n",
       "    </tr>\n",
       "    <tr>\n",
       "      <th>2783410</th>\n",
       "      <td>VtAA4g_phjDW519fcvhzCQ</td>\n",
       "      <td>aHkfC6e2zNJS-E4sasj6iw</td>\n",
       "      <td>owizJxXCdMYNHdYPOBKaUQ</td>\n",
       "      <td>4.000</td>\n",
       "      <td>1</td>\n",
       "      <td>0</td>\n",
       "      <td>0</td>\n",
       "      <td>My fiancé and I came here for dinner. I had the garlic steak with brown rice. It was delicious!! Very flavorful and cooked medium rare. Rice was also cooked well, not dry or burnt like brown rice ...</td>\n",
       "      <td>2013-09-07 02:48:10</td>\n",
       "      <td>1</td>\n",
       "      <td>337</td>\n",
       "    </tr>\n",
       "    <tr>\n",
       "      <th>2026249</th>\n",
       "      <td>DGMuh6K4WuZd32sI5heZBQ</td>\n",
       "      <td>Nbmb4dYsfRBn2x-g-9_K5A</td>\n",
       "      <td>7j5yndEexyQn9cpVXLIIpw</td>\n",
       "      <td>5.000</td>\n",
       "      <td>0</td>\n",
       "      <td>0</td>\n",
       "      <td>0</td>\n",
       "      <td>This place was delicious. I enjoyed every meat I tried and all the side dishes were fantastic as well. Even if I didn't eat meat I would have been satisfied with the large selection of appetizers,...</td>\n",
       "      <td>2014-04-19 23:56:11</td>\n",
       "      <td>1</td>\n",
       "      <td>250</td>\n",
       "    </tr>\n",
       "    <tr>\n",
       "      <th>2843264</th>\n",
       "      <td>j8yr4nuHxRK3vKbxoAvZ4Q</td>\n",
       "      <td>E4a6hcmgteQpkLuspWyLMA</td>\n",
       "      <td>LlpBt-qJ1ASS9lw28wZ04Q</td>\n",
       "      <td>3.000</td>\n",
       "      <td>0</td>\n",
       "      <td>1</td>\n",
       "      <td>0</td>\n",
       "      <td>Pizza always good, but the wings are awful.  They bake, so mushy and inedible.  Ordered with 'buffalo sauce' but came covered in bbq sauce, then buffalo sauce on the side. Does that make sense to ...</td>\n",
       "      <td>2015-05-30 02:20:21</td>\n",
       "      <td>0</td>\n",
       "      <td>206</td>\n",
       "    </tr>\n",
       "    <tr>\n",
       "      <th>6663384</th>\n",
       "      <td>XrXQQtfnK7i4XLxVBRrMpQ</td>\n",
       "      <td>O2ASSka7du50Rl1vxmpNBA</td>\n",
       "      <td>zRs1RRYfRJQOA0nFwpJ4NQ</td>\n",
       "      <td>3.000</td>\n",
       "      <td>3</td>\n",
       "      <td>0</td>\n",
       "      <td>1</td>\n",
       "      <td>We're always looking for a good happy hour and Bahama Breeze has a pretty good one.  Lots of drink specials and lots of food specials.  The drinks are good but the food and service is just so so. ...</td>\n",
       "      <td>2018-06-30 00:19:35</td>\n",
       "      <td>0</td>\n",
       "      <td>306</td>\n",
       "    </tr>\n",
       "    <tr>\n",
       "      <th>5630850</th>\n",
       "      <td>yYlSj8ShYGX8uFASocCegg</td>\n",
       "      <td>Z0OGGj09qwJ8eYrziHmofQ</td>\n",
       "      <td>5OqrwhtZ3mcmUSwLINZTWQ</td>\n",
       "      <td>1.000</td>\n",
       "      <td>0</td>\n",
       "      <td>0</td>\n",
       "      <td>0</td>\n",
       "      <td>The bar is excellent but when ordering food that's another story.... I ordered beef broccoli and got Beef broccoli stalks throughout my entire dish, chow fun noodles was TRASH!!!! In such a glorio...</td>\n",
       "      <td>2016-12-27 19:55:29</td>\n",
       "      <td>0</td>\n",
       "      <td>357</td>\n",
       "    </tr>\n",
       "    <tr>\n",
       "      <th>7192</th>\n",
       "      <td>uF0q0Fusxou3w9tdjI_uvA</td>\n",
       "      <td>ThTUwfNAdWrK6tKvl-Dtpw</td>\n",
       "      <td>SNuyBZuaCkhEjqAEhjuOrg</td>\n",
       "      <td>5.000</td>\n",
       "      <td>0</td>\n",
       "      <td>0</td>\n",
       "      <td>0</td>\n",
       "      <td>Awesome customer service! I finally upgraded and got so much help. The sparkling female there was so nice. She explained the difference from my old device to the new one I just decided on. She hel...</td>\n",
       "      <td>2016-05-07 03:16:58</td>\n",
       "      <td>1</td>\n",
       "      <td>446</td>\n",
       "    </tr>\n",
       "  </tbody>\n",
       "</table>\n",
       "</div>"
      ],
      "text/plain": [
       "                      review_id                 user_id             business_id  stars  useful  funny  cool                                                                                                                                                                                                  message                 date  sentiment_label  message_length\n",
       "1333979  OFVZKpmLpM9ePzVak6esjw  ILOCl_PJXk_DE1enPkvL8Q  mUQ0ffOfaBn_E5kyZUkvOQ  4.000       0      0     1                         From the lady in the booth 4/28/15 1pm to the shuttle driver, all are very nice and friendly. Although there is a wait, but that is what you expect from taking shuttle service.  2015-04-28 20:20:41                1             176\n",
       "253804   1j8IUIrhfqih2mUupFrseQ  H3KluKXf1mp3etCToCJhqg  dSEcQPPUlATxZf5pvN_t5Q  5.000       0      0     0  Several of us who are blind visited this restaurant after an NFB meeting in Tempe.  Wow, what a find!  Our server was Alexa (just like the Amazon Echo) and she would get an A++++++ for helping us ...  2018-08-19 01:41:06                1             408\n",
       "3640424  8OiZY8S90GAn1bceEt9axg  Ns4oV3sN4EnZIL2zJjM7VQ  dRDLwXHFLsMgpVMxNIRIiQ  1.000       0      0     1  I had driven by a few time finally decided to step in. Small family owned place. In think. Order the south Philly with the wiz. I won't do that again.it might be better without the wiz. Expected m...  2018-04-20 04:35:58                0             527\n",
       "5441357  jay62Zv8dYaCqKCxOfVz3g  u9cWbmppqHUahCzDKO3dWQ  1dhPgc7E7IzzpxjHM2LphQ  5.000       0      0     0                                                                                                                             One of my favorite places in Pittsburgh! 7dollar Big Azz Margaritas after 9!  2012-12-08 01:38:24                1              76\n",
       "2783410  VtAA4g_phjDW519fcvhzCQ  aHkfC6e2zNJS-E4sasj6iw  owizJxXCdMYNHdYPOBKaUQ  4.000       1      0     0  My fiancé and I came here for dinner. I had the garlic steak with brown rice. It was delicious!! Very flavorful and cooked medium rare. Rice was also cooked well, not dry or burnt like brown rice ...  2013-09-07 02:48:10                1             337\n",
       "2026249  DGMuh6K4WuZd32sI5heZBQ  Nbmb4dYsfRBn2x-g-9_K5A  7j5yndEexyQn9cpVXLIIpw  5.000       0      0     0  This place was delicious. I enjoyed every meat I tried and all the side dishes were fantastic as well. Even if I didn't eat meat I would have been satisfied with the large selection of appetizers,...  2014-04-19 23:56:11                1             250\n",
       "2843264  j8yr4nuHxRK3vKbxoAvZ4Q  E4a6hcmgteQpkLuspWyLMA  LlpBt-qJ1ASS9lw28wZ04Q  3.000       0      1     0  Pizza always good, but the wings are awful.  They bake, so mushy and inedible.  Ordered with 'buffalo sauce' but came covered in bbq sauce, then buffalo sauce on the side. Does that make sense to ...  2015-05-30 02:20:21                0             206\n",
       "6663384  XrXQQtfnK7i4XLxVBRrMpQ  O2ASSka7du50Rl1vxmpNBA  zRs1RRYfRJQOA0nFwpJ4NQ  3.000       3      0     1  We're always looking for a good happy hour and Bahama Breeze has a pretty good one.  Lots of drink specials and lots of food specials.  The drinks are good but the food and service is just so so. ...  2018-06-30 00:19:35                0             306\n",
       "5630850  yYlSj8ShYGX8uFASocCegg  Z0OGGj09qwJ8eYrziHmofQ  5OqrwhtZ3mcmUSwLINZTWQ  1.000       0      0     0  The bar is excellent but when ordering food that's another story.... I ordered beef broccoli and got Beef broccoli stalks throughout my entire dish, chow fun noodles was TRASH!!!! In such a glorio...  2016-12-27 19:55:29                0             357\n",
       "7192     uF0q0Fusxou3w9tdjI_uvA  ThTUwfNAdWrK6tKvl-Dtpw  SNuyBZuaCkhEjqAEhjuOrg  5.000       0      0     0  Awesome customer service! I finally upgraded and got so much help. The sparkling female there was so nice. She explained the difference from my old device to the new one I just decided on. She hel...  2016-05-07 03:16:58                1             446"
      ]
     },
     "metadata": {},
     "output_type": "display_data"
    },
    {
     "name": "stdout",
     "output_type": "stream",
     "text": [
      "\n",
      "\n",
      "\n"
     ]
    },
    {
     "data": {
      "text/markdown": [
       "#### Number of nulls in X"
      ],
      "text/plain": [
       "<IPython.core.display.Markdown object>"
      ]
     },
     "metadata": {},
     "output_type": "display_data"
    },
    {
     "data": {
      "text/plain": [
       "0"
      ]
     },
     "metadata": {},
     "output_type": "display_data"
    },
    {
     "name": "stdout",
     "output_type": "stream",
     "text": [
      "\n",
      "\n",
      "\n",
      "\n"
     ]
    },
    {
     "data": {
      "image/png": "[encoded data removed]",
      "text/plain": [
       "<Figure size 432x288 with 1 Axes>"
      ]
     },
     "metadata": {
      "needs_background": "light"
     },
     "output_type": "display_data"
    },
    {
     "data": {
      "image/png": "[encoded data removed]",
      "text/plain": [
       "<Figure size 432x288 with 1 Axes>"
      ]
     },
     "metadata": {
      "needs_background": "light"
     },
     "output_type": "display_data"
    },
    {
     "data": {
      "text/markdown": [
       "####  Now running with:  tfidf=TfidfVectorizer and clf=LogisticRegression 2019-07-07 16:58:53.036737\n",
       "parameters={'C': 1e+20, 'solver': 'lbfgs', 'max_iter': 1000} \n",
       "\n",
       " tfidf_parms={'max_features': 10000}"
      ],
      "text/plain": [
       "<IPython.core.display.Markdown object>"
      ]
     },
     "metadata": {},
     "output_type": "display_data"
    },
    {
     "data": {
      "text/markdown": [
       "###  Metrics test accuracy score = 91.06% with LogisticRegression"
      ],
      "text/plain": [
       "<IPython.core.display.Markdown object>"
      ]
     },
     "metadata": {},
     "output_type": "display_data"
    },
    {
     "data": {
      "text/markdown": [
       "###  Metrics train accuracy score = 91.12% with LogisticRegression"
      ],
      "text/plain": [
       "<IPython.core.display.Markdown object>"
      ]
     },
     "metadata": {},
     "output_type": "display_data"
    },
    {
     "data": {
      "text/markdown": [
       "### Confusion Matrix"
      ],
      "text/plain": [
       "<IPython.core.display.Markdown object>"
      ]
     },
     "metadata": {},
     "output_type": "display_data"
    },
    {
     "name": "stdout",
     "output_type": "stream",
     "text": [
      "[[194147  34485]\n",
      " [ 25282 414676]]\n",
      "\n",
      "\n",
      "\n"
     ]
    },
    {
     "data": {
      "text/markdown": [
       "####  Now running with:  tfidf=TfidfVectorizer and clf=MultinomialNB 2019-07-07 17:40:42.531751\n",
       "parameters={} \n",
       "\n",
       " tfidf_parms={'max_features': 10000}"
      ],
      "text/plain": [
       "<IPython.core.display.Markdown object>"
      ]
     },
     "metadata": {},
     "output_type": "display_data"
    },
    {
     "data": {
      "text/markdown": [
       "###  Metrics test accuracy score = 86.13% with MultinomialNB"
      ],
      "text/plain": [
       "<IPython.core.display.Markdown object>"
      ]
     },
     "metadata": {},
     "output_type": "display_data"
    },
    {
     "data": {
      "text/markdown": [
       "###  Metrics train accuracy score = 86.10% with MultinomialNB"
      ],
      "text/plain": [
       "<IPython.core.display.Markdown object>"
      ]
     },
     "metadata": {},
     "output_type": "display_data"
    },
    {
     "data": {
      "text/markdown": [
       "### Confusion Matrix"
      ],
      "text/plain": [
       "<IPython.core.display.Markdown object>"
      ]
     },
     "metadata": {},
     "output_type": "display_data"
    },
    {
     "name": "stdout",
     "output_type": "stream",
     "text": [
      "[[155696  72936]\n",
      " [ 19813 420145]]\n",
      "\n",
      "\n",
      "\n"
     ]
    },
    {
     "data": {
      "text/markdown": [
       "####  Now running with:  tfidf=TfidfVectorizer and clf=BernoulliNB 2019-07-07 18:02:16.270767\n",
       "parameters={} \n",
       "\n",
       " tfidf_parms={'max_features': 10000}"
      ],
      "text/plain": [
       "<IPython.core.display.Markdown object>"
      ]
     },
     "metadata": {},
     "output_type": "display_data"
    },
    {
     "data": {
      "text/markdown": [
       "###  Metrics test accuracy score = 75.33% with BernoulliNB"
      ],
      "text/plain": [
       "<IPython.core.display.Markdown object>"
      ]
     },
     "metadata": {},
     "output_type": "display_data"
    },
    {
     "data": {
      "text/markdown": [
       "###  Metrics train accuracy score = 75.30% with BernoulliNB"
      ],
      "text/plain": [
       "<IPython.core.display.Markdown object>"
      ]
     },
     "metadata": {},
     "output_type": "display_data"
    },
    {
     "data": {
      "text/markdown": [
       "### Confusion Matrix"
      ],
      "text/plain": [
       "<IPython.core.display.Markdown object>"
      ]
     },
     "metadata": {},
     "output_type": "display_data"
    },
    {
     "name": "stdout",
     "output_type": "stream",
     "text": [
      "[[139118  89514]\n",
      " [ 75446 364512]]\n",
      "\n",
      "\n",
      "\n"
     ]
    },
    {
     "data": {
      "text/markdown": [
       "2019-07-07 18:23:06: In: run_it \n",
       "\n",
       "\n",
       "End "
      ],
      "text/plain": [
       "<IPython.core.display.Markdown object>"
      ]
     },
     "metadata": {},
     "output_type": "display_data"
    },
    {
     "data": {
      "text/markdown": [
       "2019-07-07 18:23:06: In: main Ending main() "
      ],
      "text/plain": [
       "<IPython.core.display.Markdown object>"
      ]
     },
     "metadata": {},
     "output_type": "display_data"
    },
    {
     "data": {
      "image/png": "[encoded data removed]",
      "text/plain": [
       "<Figure size 1080x216 with 5 Axes>"
      ]
     },
     "metadata": {
      "needs_background": "light"
     },
     "output_type": "display_data"
    }
   ],
   "source": [
    "main(0)"
   ]
  },
  {
   "cell_type": "code",
   "execution_count": null,
   "metadata": {},
   "outputs": [],
   "source": []
  }
 ],
 "metadata": {
  "kernelspec": {
   "display_name": "Python 3",
   "language": "python",
   "name": "python3"
  },
  "language_info": {
   "codemirror_mode": {
    "name": "ipython",
    "version": 3
   },
   "file_extension": ".py",
   "mimetype": "text/x-python",
   "name": "python",
   "nbconvert_exporter": "python",
   "pygments_lexer": "ipython3",
   "version": "3.7.3"
  }
 },
 "nbformat": 4,
 "nbformat_minor": 2
}
