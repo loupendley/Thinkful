{
 "cells": [
  {
   "cell_type": "code",
   "execution_count": 292,
   "metadata": {},
   "outputs": [],
   "source": [
    "url = 'https://www.kaggle.com/anthonypino/melbourne-housing-market'"
   ]
  },
  {
   "cell_type": "markdown",
   "metadata": {},
   "source": [
    "### Using this Kaggle data create a model to predict a house's value. We want to be able to understand what creates value in a house, as though we were a real estate developer."
   ]
  },
  {
   "cell_type": "markdown",
   "metadata": {},
   "source": [
    "### Questions that need answering:\n",
    "\n",
    " 1. What question are you trying to solve (or prove wrong) ?   \n",
    " __We are trying to predict the value of a home in Melbourne.__\n",
    " 1. What kind of data do you have?  \n",
    " __Data described above, from  Domain.com.au.__\n",
    " 1. What's missing from the data and how do you deal with it?  \n",
    " __Some columns have missing values, so I set them to -1.__\n",
    " 1. Where are the outliers and why should we pay attention to them?  \n",
    " __I need to learn to detect, and to remove these outliers.  We did remove the NaN data.__\n",
    " 1. How can you add, change, or remove features to get more out of your data?"
   ]
  },
  {
   "cell_type": "code",
   "execution_count": 293,
   "metadata": {},
   "outputs": [],
   "source": [
    "# Controls\n",
    "flag_to_run_rf = True\n",
    "flag_to_plot_them = True\n",
    "flag_to_run_correlation_matrix = True\n",
    "flag_to_run_features_importance = False\n",
    "flag_to_run_gradient_boosting  = False\n",
    "flag_to_run_linear_regression  = False\n",
    "flag_to_run_logistic_regression = False\n",
    "flag_to_run_lasso_regression = False\n",
    "flag_to_run_ridge_regression = False\n",
    "flag_to_run_svc = False"
   ]
  },
  {
   "cell_type": "code",
   "execution_count": 294,
   "metadata": {
    "collapsed": false,
    "run_control": {
     "frozen": false,
     "read_only": false
    }
   },
   "outputs": [],
   "source": [
    "import pandas as pd\n",
    "import numpy as np\n",
    "import scipy\n",
    "import matplotlib.pyplot as plt\n",
    "\n",
    "%matplotlib inline\n",
    "\n",
    "import datetime\n",
    "from sklearn import ensemble\n",
    "from sklearn import datasets\n",
    "from sklearn import linear_model\n",
    "from sklearn.utils import shuffle\n",
    "from sklearn.metrics import mean_squared_error\n",
    "from sklearn.model_selection import train_test_split\n",
    "import time, sys\n",
    "import seaborn as sns\n",
    "from sklearn.model_selection import cross_val_score\n",
    "from sklearn.svm import SVC\n",
    "import statsmodels.api as sm\n",
    "from sklearn.linear_model import LogisticRegression\n",
    "from sklearn import linear_model\n",
    "from sklearn.model_selection import cross_val_predict, GridSearchCV\n",
    "from sklearn.ensemble import RandomForestRegressor\n",
    "from sklearn.preprocessing import MinMaxScaler"
   ]
  },
  {
   "cell_type": "code",
   "execution_count": 295,
   "metadata": {},
   "outputs": [
    {
     "name": "stdout",
     "output_type": "stream",
     "text": [
      "Regression = True\n"
     ]
    }
   ],
   "source": [
    "# add this to a dictionary\n",
    "# Constants\n",
    "max_iterations         = 10            # set it to > 0 for determining the features inportance\n",
    "random_state           = 57\n",
    "test_size              = 0.10\n",
    "train_size             = 0.90\n",
    "\n",
    "begin_string = '\\n'*3+'Begin'\n",
    "end_string = 'End'+'\\n'*3\n",
    "\n",
    "# Regression/Classification control\n",
    "Regression = True \n",
    "\n",
    "print(\"Regression = {}\".format(Regression))"
   ]
  },
  {
   "cell_type": "code",
   "execution_count": 296,
   "metadata": {},
   "outputs": [],
   "source": [
    "# Display preferences.\n",
    "%matplotlib inline\n",
    "pd.options.display.float_format = '{:.3f}'.format\n",
    "pd.set_option('display.max_rows', 500)\n",
    "pd.set_option('display.max_columns', 500)\n",
    "pd.set_option('display.width', 1000)"
   ]
  },
  {
   "cell_type": "code",
   "execution_count": 297,
   "metadata": {
    "collapsed": false
   },
   "outputs": [
    {
     "name": "stdout",
     "output_type": "stream",
     "text": [
      "there are 34,857 entries in the data file Melbourne_housing_FULL.csv\n"
     ]
    }
   ],
   "source": [
    "file = 'Melbourne_housing_FULL.csv'\n",
    "path = path=\"../../../../Datafiles/\"\n",
    "df = pd.read_csv((path+file))#.dropna()\n",
    "print(\"there are {:,} entries in the data file {}\".format(len(df), file))"
   ]
  },
  {
   "cell_type": "code",
   "execution_count": 298,
   "metadata": {},
   "outputs": [
    {
     "name": "stdout",
     "output_type": "stream",
     "text": [
      "we are now cleaning up column Price\n",
      "we are now cleaning up column Bedroom2\n",
      "we are now cleaning up column Bathroom\n",
      "we are now cleaning up column Car\n",
      "we are now cleaning up column Landsize\n",
      "we are now cleaning up column BuildingArea\n",
      "we are now cleaning up column YearBuilt\n",
      "we are now cleaning up column CouncilArea\n",
      "we are now cleaning up column Lattitude\n",
      "we are now cleaning up column Longtitude\n",
      "we are now cleaning up column Regionname\n",
      "we are now cleaning up column Propertycount\n",
      "we are now cleaning up column Distance\n",
      "we are now cleaning up column Postcode\n",
      "we have cleaned up the dataframe.\n"
     ]
    }
   ],
   "source": [
    "# data Cleanup\n",
    "columns_to_cleanup = ['Price', 'Bedroom2', 'Bathroom', 'Car', 'Landsize', 'BuildingArea', \n",
    "                      'YearBuilt', 'CouncilArea', 'Lattitude', 'Longtitude', 'Regionname',\n",
    "                      'Propertycount','Distance','Postcode']\n",
    "for column in columns_to_cleanup:\n",
    "    print(\"we are now cleaning up column {}\".format(column))\n",
    "    df[column].fillna(-1, inplace=True)\n",
    "print('we have cleaned up the dataframe.')"
   ]
  },
  {
   "cell_type": "code",
   "execution_count": 299,
   "metadata": {},
   "outputs": [],
   "source": [
    "#columns without the dropna on the open....\n",
    "# Suburb               0\n",
    "# Address              0\n",
    "# Rooms                0\n",
    "# Type                 0\n",
    "# Price             7610\n",
    "# Method               0\n",
    "# SellerG              0\n",
    "# Date                 0\n",
    "# Distance             1\n",
    "# Postcode             1\n",
    "# Bedroom2          8217\n",
    "# Bathroom          8226\n",
    "# Car               8728\n",
    "# Landsize         11810\n",
    "# BuildingArea     21115\n",
    "# YearBuilt        19306\n",
    "# CouncilArea          3\n",
    "# Lattitude         7976\n",
    "# Longtitude        7976\n",
    "# Regionname           3\n",
    "# Propertycount        3\n",
    "# dtype: int64"
   ]
  },
  {
   "cell_type": "code",
   "execution_count": 300,
   "metadata": {},
   "outputs": [],
   "source": [
    "def print_timestamp_old(displaytext):    \n",
    "    import sys\n",
    "    import datetime\n",
    "    datetime_now = str(datetime.datetime.now())\n",
    "    print(\"{:19.19}: {} \".format(datetime_now, displaytext))"
   ]
  },
  {
   "cell_type": "code",
   "execution_count": 301,
   "metadata": {},
   "outputs": [],
   "source": [
    "def print_timestamp(displaytext):    \n",
    "    import sys\n",
    "    import datetime\n",
    "    datetime_now = str(datetime.datetime.now())\n",
    "    print(\"{:19.19}: In: {} {} \".format(datetime_now, sys._getframe(1).f_code.co_name, displaytext))"
   ]
  },
  {
   "cell_type": "code",
   "execution_count": 302,
   "metadata": {},
   "outputs": [
    {
     "data": {
      "text/plain": [
       "Suburb           0\n",
       "Address          0\n",
       "Rooms            0\n",
       "Type             0\n",
       "Price            0\n",
       "Method           0\n",
       "SellerG          0\n",
       "Date             0\n",
       "Distance         0\n",
       "Postcode         0\n",
       "Bedroom2         0\n",
       "Bathroom         0\n",
       "Car              0\n",
       "Landsize         0\n",
       "BuildingArea     0\n",
       "YearBuilt        0\n",
       "CouncilArea      0\n",
       "Lattitude        0\n",
       "Longtitude       0\n",
       "Regionname       0\n",
       "Propertycount    0\n",
       "dtype: int64"
      ]
     },
     "execution_count": 302,
     "metadata": {},
     "output_type": "execute_result"
    }
   ],
   "source": [
    "df.isnull().sum()"
   ]
  },
  {
   "cell_type": "code",
   "execution_count": 303,
   "metadata": {},
   "outputs": [
    {
     "data": {
      "text/plain": [
       "Index(['Suburb', 'Address', 'Rooms', 'Type', 'Price', 'Method', 'SellerG', 'Date', 'Distance', 'Postcode', 'Bedroom2', 'Bathroom', 'Car', 'Landsize', 'BuildingArea', 'YearBuilt', 'CouncilArea', 'Lattitude', 'Longtitude', 'Regionname', 'Propertycount'], dtype='object')"
      ]
     },
     "execution_count": 303,
     "metadata": {},
     "output_type": "execute_result"
    }
   ],
   "source": [
    "df.columns"
   ]
  },
  {
   "cell_type": "code",
   "execution_count": 304,
   "metadata": {},
   "outputs": [
    {
     "name": "stdout",
     "output_type": "stream",
     "text": [
      "the current time of start is 2019-06-05 22:59:52.249070\n",
      "End is 2019-06-05 22:59:52.476148\n"
     ]
    }
   ],
   "source": [
    "# Definine outcome and predictors.\n",
    "print(\"the current time of start is {}\".format(str(datetime.datetime.now())))\n",
    "\n",
    "# Columns before dummies\n",
    "# Suburb           0\n",
    "# Address          0\n",
    "# Rooms            0\n",
    "# Type             0\n",
    "# Price            0\n",
    "# Method           0\n",
    "# SellerG          0\n",
    "# Date             0\n",
    "# Distance         0\n",
    "# Postcode         0\n",
    "# Bedroom2         0\n",
    "# Bathroom         0\n",
    "# Car              0\n",
    "# Landsize         0\n",
    "# BuildingArea     0\n",
    "# YearBuilt        0\n",
    "# CouncilArea      0\n",
    "# Lattitude        0\n",
    "# Longtitude       0\n",
    "# Regionname       0\n",
    "# Propertycount    0\n",
    "\n",
    "# Make the categorical variables below into enumerated categorical variables\n",
    "for dummy_column in ['Type', 'Method', 'Suburb', 'Regionname', 'CouncilArea']: # Remove these for now...\n",
    "    df = pd.concat([df, pd.get_dummies(df[dummy_column])], axis=1)\n",
    "# X = pd.concat([X, pd.get_dummies(df['cntry'])], axis=1)\n",
    "df.columns = df.columns.str.replace(' ', '')\n",
    "\n",
    "y = df['Price']\n",
    "columns_excluded = []\n",
    "# X = df.loc[:, ~df.columns.isin(['Price', 'Address', 'SellerG', 'Date','Type', 'Method', 'Suburb', 'Regionname', 'CouncilArea'])]\n",
    "X = df[['Armadale','SP','u','Brighton','Landsize','Bedroom2','Distance','Bathroom','SN','YearBuilt','EasternMetropolitan',\n",
    "        'SouthernMetropolitan','t','BuildingArea','Rooms','Propertycount','Car','Toorak','h']]\n",
    "# X = df[['Landsize', 'Bedroom2', 'Distance', 'Bathroom', 'YearBuilt', 'Postcode', 'BuildingArea', 'Propertycount','Car']]\n",
    "columns_removed = ['W','Malvern','Canterbury','MonashCityCouncil','BoroondaraCityCouncil','Postcode' ] # score less than 19\n",
    "# \n",
    "# need dummies for Type, Method, Suburb, Regionname, and CouncilArea\n",
    "print(\"End is {}\".format(str(datetime.datetime.now())))"
   ]
  },
  {
   "cell_type": "code",
   "execution_count": 305,
   "metadata": {},
   "outputs": [
    {
     "data": {
      "text/html": [
       "<div>\n",
       "<style scoped>\n",
       "    .dataframe tbody tr th:only-of-type {\n",
       "        vertical-align: middle;\n",
       "    }\n",
       "\n",
       "    .dataframe tbody tr th {\n",
       "        vertical-align: top;\n",
       "    }\n",
       "\n",
       "    .dataframe thead th {\n",
       "        text-align: right;\n",
       "    }\n",
       "</style>\n",
       "<table border=\"1\" class=\"dataframe\">\n",
       "  <thead>\n",
       "    <tr style=\"text-align: right;\">\n",
       "      <th></th>\n",
       "      <th>Armadale</th>\n",
       "      <th>SP</th>\n",
       "      <th>u</th>\n",
       "      <th>Brighton</th>\n",
       "      <th>Landsize</th>\n",
       "      <th>Bedroom2</th>\n",
       "      <th>Distance</th>\n",
       "      <th>Bathroom</th>\n",
       "      <th>SN</th>\n",
       "      <th>YearBuilt</th>\n",
       "      <th>EasternMetropolitan</th>\n",
       "      <th>SouthernMetropolitan</th>\n",
       "      <th>t</th>\n",
       "      <th>BuildingArea</th>\n",
       "      <th>Rooms</th>\n",
       "      <th>Propertycount</th>\n",
       "      <th>Car</th>\n",
       "      <th>Toorak</th>\n",
       "      <th>h</th>\n",
       "    </tr>\n",
       "  </thead>\n",
       "  <tbody>\n",
       "    <tr>\n",
       "      <th>0</th>\n",
       "      <td>0</td>\n",
       "      <td>0</td>\n",
       "      <td>0</td>\n",
       "      <td>0</td>\n",
       "      <td>126.000</td>\n",
       "      <td>2.000</td>\n",
       "      <td>2.500</td>\n",
       "      <td>1.000</td>\n",
       "      <td>0</td>\n",
       "      <td>-1.000</td>\n",
       "      <td>0</td>\n",
       "      <td>0</td>\n",
       "      <td>0</td>\n",
       "      <td>-1.000</td>\n",
       "      <td>2</td>\n",
       "      <td>4019.000</td>\n",
       "      <td>1.000</td>\n",
       "      <td>0</td>\n",
       "      <td>1</td>\n",
       "    </tr>\n",
       "    <tr>\n",
       "      <th>1</th>\n",
       "      <td>0</td>\n",
       "      <td>0</td>\n",
       "      <td>0</td>\n",
       "      <td>0</td>\n",
       "      <td>202.000</td>\n",
       "      <td>2.000</td>\n",
       "      <td>2.500</td>\n",
       "      <td>1.000</td>\n",
       "      <td>0</td>\n",
       "      <td>-1.000</td>\n",
       "      <td>0</td>\n",
       "      <td>0</td>\n",
       "      <td>0</td>\n",
       "      <td>-1.000</td>\n",
       "      <td>2</td>\n",
       "      <td>4019.000</td>\n",
       "      <td>1.000</td>\n",
       "      <td>0</td>\n",
       "      <td>1</td>\n",
       "    </tr>\n",
       "    <tr>\n",
       "      <th>2</th>\n",
       "      <td>0</td>\n",
       "      <td>0</td>\n",
       "      <td>0</td>\n",
       "      <td>0</td>\n",
       "      <td>156.000</td>\n",
       "      <td>2.000</td>\n",
       "      <td>2.500</td>\n",
       "      <td>1.000</td>\n",
       "      <td>0</td>\n",
       "      <td>1900.000</td>\n",
       "      <td>0</td>\n",
       "      <td>0</td>\n",
       "      <td>0</td>\n",
       "      <td>79.000</td>\n",
       "      <td>2</td>\n",
       "      <td>4019.000</td>\n",
       "      <td>0.000</td>\n",
       "      <td>0</td>\n",
       "      <td>1</td>\n",
       "    </tr>\n",
       "    <tr>\n",
       "      <th>3</th>\n",
       "      <td>0</td>\n",
       "      <td>0</td>\n",
       "      <td>1</td>\n",
       "      <td>0</td>\n",
       "      <td>0.000</td>\n",
       "      <td>3.000</td>\n",
       "      <td>2.500</td>\n",
       "      <td>2.000</td>\n",
       "      <td>0</td>\n",
       "      <td>-1.000</td>\n",
       "      <td>0</td>\n",
       "      <td>0</td>\n",
       "      <td>0</td>\n",
       "      <td>-1.000</td>\n",
       "      <td>3</td>\n",
       "      <td>4019.000</td>\n",
       "      <td>1.000</td>\n",
       "      <td>0</td>\n",
       "      <td>0</td>\n",
       "    </tr>\n",
       "    <tr>\n",
       "      <th>4</th>\n",
       "      <td>0</td>\n",
       "      <td>1</td>\n",
       "      <td>0</td>\n",
       "      <td>0</td>\n",
       "      <td>134.000</td>\n",
       "      <td>3.000</td>\n",
       "      <td>2.500</td>\n",
       "      <td>2.000</td>\n",
       "      <td>0</td>\n",
       "      <td>1900.000</td>\n",
       "      <td>0</td>\n",
       "      <td>0</td>\n",
       "      <td>0</td>\n",
       "      <td>150.000</td>\n",
       "      <td>3</td>\n",
       "      <td>4019.000</td>\n",
       "      <td>0.000</td>\n",
       "      <td>0</td>\n",
       "      <td>1</td>\n",
       "    </tr>\n",
       "  </tbody>\n",
       "</table>\n",
       "</div>"
      ],
      "text/plain": [
       "   Armadale  SP  u  Brighton  Landsize  Bedroom2  Distance  Bathroom  SN  YearBuilt  EasternMetropolitan  SouthernMetropolitan  t  BuildingArea  Rooms  Propertycount   Car  Toorak  h\n",
       "0         0   0  0         0   126.000     2.000     2.500     1.000   0     -1.000                    0                     0  0        -1.000      2       4019.000 1.000       0  1\n",
       "1         0   0  0         0   202.000     2.000     2.500     1.000   0     -1.000                    0                     0  0        -1.000      2       4019.000 1.000       0  1\n",
       "2         0   0  0         0   156.000     2.000     2.500     1.000   0   1900.000                    0                     0  0        79.000      2       4019.000 0.000       0  1\n",
       "3         0   0  1         0     0.000     3.000     2.500     2.000   0     -1.000                    0                     0  0        -1.000      3       4019.000 1.000       0  0\n",
       "4         0   1  0         0   134.000     3.000     2.500     2.000   0   1900.000                    0                     0  0       150.000      3       4019.000 0.000       0  1"
      ]
     },
     "execution_count": 305,
     "metadata": {},
     "output_type": "execute_result"
    }
   ],
   "source": [
    "X.sample(20)\n",
    "X.head()"
   ]
  },
  {
   "cell_type": "code",
   "execution_count": 306,
   "metadata": {},
   "outputs": [],
   "source": [
    "# for column in X_train.columns:\n",
    "#     plt.hist(X_train[column]*100, bins=40)\n",
    "#     plt.xlabel(column)\n",
    "#     plt.show()"
   ]
  },
  {
   "cell_type": "code",
   "execution_count": 307,
   "metadata": {},
   "outputs": [
    {
     "data": {
      "text/html": [
       "<div>\n",
       "<style scoped>\n",
       "    .dataframe tbody tr th:only-of-type {\n",
       "        vertical-align: middle;\n",
       "    }\n",
       "\n",
       "    .dataframe tbody tr th {\n",
       "        vertical-align: top;\n",
       "    }\n",
       "\n",
       "    .dataframe thead th {\n",
       "        text-align: right;\n",
       "    }\n",
       "</style>\n",
       "<table border=\"1\" class=\"dataframe\">\n",
       "  <thead>\n",
       "    <tr style=\"text-align: right;\">\n",
       "      <th></th>\n",
       "      <th>Armadale</th>\n",
       "      <th>SP</th>\n",
       "      <th>u</th>\n",
       "      <th>Brighton</th>\n",
       "      <th>Landsize</th>\n",
       "      <th>Bedroom2</th>\n",
       "      <th>Distance</th>\n",
       "      <th>Bathroom</th>\n",
       "      <th>SN</th>\n",
       "      <th>YearBuilt</th>\n",
       "      <th>EasternMetropolitan</th>\n",
       "      <th>SouthernMetropolitan</th>\n",
       "      <th>t</th>\n",
       "      <th>BuildingArea</th>\n",
       "      <th>Rooms</th>\n",
       "      <th>Propertycount</th>\n",
       "      <th>Car</th>\n",
       "      <th>Toorak</th>\n",
       "      <th>h</th>\n",
       "    </tr>\n",
       "  </thead>\n",
       "  <tbody>\n",
       "    <tr>\n",
       "      <th>count</th>\n",
       "      <td>34857.000</td>\n",
       "      <td>34857.000</td>\n",
       "      <td>34857.000</td>\n",
       "      <td>34857.000</td>\n",
       "      <td>34857.000</td>\n",
       "      <td>34857.000</td>\n",
       "      <td>34857.000</td>\n",
       "      <td>34857.000</td>\n",
       "      <td>34857.000</td>\n",
       "      <td>34857.000</td>\n",
       "      <td>34857.000</td>\n",
       "      <td>34857.000</td>\n",
       "      <td>34857.000</td>\n",
       "      <td>34857.000</td>\n",
       "      <td>34857.000</td>\n",
       "      <td>34857.000</td>\n",
       "      <td>34857.000</td>\n",
       "      <td>34857.000</td>\n",
       "      <td>34857.000</td>\n",
       "    </tr>\n",
       "    <tr>\n",
       "      <th>mean</th>\n",
       "      <td>0.007</td>\n",
       "      <td>0.146</td>\n",
       "      <td>0.209</td>\n",
       "      <td>0.013</td>\n",
       "      <td>392.141</td>\n",
       "      <td>2.122</td>\n",
       "      <td>11.185</td>\n",
       "      <td>1.005</td>\n",
       "      <td>0.038</td>\n",
       "      <td>876.235</td>\n",
       "      <td>0.126</td>\n",
       "      <td>0.340</td>\n",
       "      <td>0.103</td>\n",
       "      <td>62.574</td>\n",
       "      <td>3.031</td>\n",
       "      <td>7572.236</td>\n",
       "      <td>1.046</td>\n",
       "      <td>0.008</td>\n",
       "      <td>0.688</td>\n",
       "    </tr>\n",
       "    <tr>\n",
       "      <th>std</th>\n",
       "      <td>0.082</td>\n",
       "      <td>0.353</td>\n",
       "      <td>0.407</td>\n",
       "      <td>0.114</td>\n",
       "      <td>2777.986</td>\n",
       "      <td>1.934</td>\n",
       "      <td>6.789</td>\n",
       "      <td>1.282</td>\n",
       "      <td>0.191</td>\n",
       "      <td>977.756</td>\n",
       "      <td>0.331</td>\n",
       "      <td>0.474</td>\n",
       "      <td>0.304</td>\n",
       "      <td>263.981</td>\n",
       "      <td>0.970</td>\n",
       "      <td>4428.457</td>\n",
       "      <td>1.471</td>\n",
       "      <td>0.089</td>\n",
       "      <td>0.463</td>\n",
       "    </tr>\n",
       "    <tr>\n",
       "      <th>min</th>\n",
       "      <td>0.000</td>\n",
       "      <td>0.000</td>\n",
       "      <td>0.000</td>\n",
       "      <td>0.000</td>\n",
       "      <td>-1.000</td>\n",
       "      <td>-1.000</td>\n",
       "      <td>-1.000</td>\n",
       "      <td>-1.000</td>\n",
       "      <td>0.000</td>\n",
       "      <td>-1.000</td>\n",
       "      <td>0.000</td>\n",
       "      <td>0.000</td>\n",
       "      <td>0.000</td>\n",
       "      <td>-1.000</td>\n",
       "      <td>1.000</td>\n",
       "      <td>-1.000</td>\n",
       "      <td>-1.000</td>\n",
       "      <td>0.000</td>\n",
       "      <td>0.000</td>\n",
       "    </tr>\n",
       "    <tr>\n",
       "      <th>25%</th>\n",
       "      <td>0.000</td>\n",
       "      <td>0.000</td>\n",
       "      <td>0.000</td>\n",
       "      <td>0.000</td>\n",
       "      <td>-1.000</td>\n",
       "      <td>1.000</td>\n",
       "      <td>6.400</td>\n",
       "      <td>1.000</td>\n",
       "      <td>0.000</td>\n",
       "      <td>-1.000</td>\n",
       "      <td>0.000</td>\n",
       "      <td>0.000</td>\n",
       "      <td>0.000</td>\n",
       "      <td>-1.000</td>\n",
       "      <td>2.000</td>\n",
       "      <td>4385.000</td>\n",
       "      <td>-1.000</td>\n",
       "      <td>0.000</td>\n",
       "      <td>0.000</td>\n",
       "    </tr>\n",
       "    <tr>\n",
       "      <th>50%</th>\n",
       "      <td>0.000</td>\n",
       "      <td>0.000</td>\n",
       "      <td>0.000</td>\n",
       "      <td>0.000</td>\n",
       "      <td>218.000</td>\n",
       "      <td>3.000</td>\n",
       "      <td>10.300</td>\n",
       "      <td>1.000</td>\n",
       "      <td>0.000</td>\n",
       "      <td>-1.000</td>\n",
       "      <td>0.000</td>\n",
       "      <td>0.000</td>\n",
       "      <td>0.000</td>\n",
       "      <td>-1.000</td>\n",
       "      <td>3.000</td>\n",
       "      <td>6763.000</td>\n",
       "      <td>1.000</td>\n",
       "      <td>0.000</td>\n",
       "      <td>1.000</td>\n",
       "    </tr>\n",
       "    <tr>\n",
       "      <th>75%</th>\n",
       "      <td>0.000</td>\n",
       "      <td>0.000</td>\n",
       "      <td>0.000</td>\n",
       "      <td>0.000</td>\n",
       "      <td>598.000</td>\n",
       "      <td>3.000</td>\n",
       "      <td>14.000</td>\n",
       "      <td>2.000</td>\n",
       "      <td>0.000</td>\n",
       "      <td>1965.000</td>\n",
       "      <td>0.000</td>\n",
       "      <td>1.000</td>\n",
       "      <td>0.000</td>\n",
       "      <td>117.000</td>\n",
       "      <td>4.000</td>\n",
       "      <td>10412.000</td>\n",
       "      <td>2.000</td>\n",
       "      <td>0.000</td>\n",
       "      <td>1.000</td>\n",
       "    </tr>\n",
       "    <tr>\n",
       "      <th>max</th>\n",
       "      <td>1.000</td>\n",
       "      <td>1.000</td>\n",
       "      <td>1.000</td>\n",
       "      <td>1.000</td>\n",
       "      <td>433014.000</td>\n",
       "      <td>30.000</td>\n",
       "      <td>48.100</td>\n",
       "      <td>12.000</td>\n",
       "      <td>1.000</td>\n",
       "      <td>2106.000</td>\n",
       "      <td>1.000</td>\n",
       "      <td>1.000</td>\n",
       "      <td>1.000</td>\n",
       "      <td>44515.000</td>\n",
       "      <td>16.000</td>\n",
       "      <td>21650.000</td>\n",
       "      <td>26.000</td>\n",
       "      <td>1.000</td>\n",
       "      <td>1.000</td>\n",
       "    </tr>\n",
       "  </tbody>\n",
       "</table>\n",
       "</div>"
      ],
      "text/plain": [
       "       Armadale        SP         u  Brighton   Landsize  Bedroom2  Distance  Bathroom        SN  YearBuilt  EasternMetropolitan  SouthernMetropolitan         t  BuildingArea     Rooms  Propertycount       Car    Toorak         h\n",
       "count 34857.000 34857.000 34857.000 34857.000  34857.000 34857.000 34857.000 34857.000 34857.000  34857.000            34857.000             34857.000 34857.000     34857.000 34857.000      34857.000 34857.000 34857.000 34857.000\n",
       "mean      0.007     0.146     0.209     0.013    392.141     2.122    11.185     1.005     0.038    876.235                0.126                 0.340     0.103        62.574     3.031       7572.236     1.046     0.008     0.688\n",
       "std       0.082     0.353     0.407     0.114   2777.986     1.934     6.789     1.282     0.191    977.756                0.331                 0.474     0.304       263.981     0.970       4428.457     1.471     0.089     0.463\n",
       "min       0.000     0.000     0.000     0.000     -1.000    -1.000    -1.000    -1.000     0.000     -1.000                0.000                 0.000     0.000        -1.000     1.000         -1.000    -1.000     0.000     0.000\n",
       "25%       0.000     0.000     0.000     0.000     -1.000     1.000     6.400     1.000     0.000     -1.000                0.000                 0.000     0.000        -1.000     2.000       4385.000    -1.000     0.000     0.000\n",
       "50%       0.000     0.000     0.000     0.000    218.000     3.000    10.300     1.000     0.000     -1.000                0.000                 0.000     0.000        -1.000     3.000       6763.000     1.000     0.000     1.000\n",
       "75%       0.000     0.000     0.000     0.000    598.000     3.000    14.000     2.000     0.000   1965.000                0.000                 1.000     0.000       117.000     4.000      10412.000     2.000     0.000     1.000\n",
       "max       1.000     1.000     1.000     1.000 433014.000    30.000    48.100    12.000     1.000   2106.000                1.000                 1.000     1.000     44515.000    16.000      21650.000    26.000     1.000     1.000"
      ]
     },
     "execution_count": 307,
     "metadata": {},
     "output_type": "execute_result"
    }
   ],
   "source": [
    "X.dtypes\n",
    "X.describe()"
   ]
  },
  {
   "cell_type": "code",
   "execution_count": 308,
   "metadata": {},
   "outputs": [
    {
     "data": {
      "text/plain": [
       "Armadale                0\n",
       "SP                      0\n",
       "u                       0\n",
       "Brighton                0\n",
       "Landsize                0\n",
       "Bedroom2                0\n",
       "Distance                0\n",
       "Bathroom                0\n",
       "SN                      0\n",
       "YearBuilt               0\n",
       "EasternMetropolitan     0\n",
       "SouthernMetropolitan    0\n",
       "t                       0\n",
       "BuildingArea            0\n",
       "Rooms                   0\n",
       "Propertycount           0\n",
       "Car                     0\n",
       "Toorak                  0\n",
       "h                       0\n",
       "dtype: int64"
      ]
     },
     "execution_count": 308,
     "metadata": {},
     "output_type": "execute_result"
    }
   ],
   "source": [
    "X.isnull().sum()"
   ]
  },
  {
   "cell_type": "code",
   "execution_count": 309,
   "metadata": {},
   "outputs": [],
   "source": [
    "def plot_them():\n",
    "    for column in X_train.columns:\n",
    "#         plt.hist(X_train[column]*100, bins=40)\n",
    "        plt.scatter(y_train, X_train[column]*100)\n",
    "        plt.xlabel(column)\n",
    "        plt.show()"
   ]
  },
  {
   "cell_type": "code",
   "execution_count": 310,
   "metadata": {},
   "outputs": [],
   "source": [
    "def rfc_and_feature_importances(rf):    # Here we are using Random Forest classifier method to determine the top 30 features.\n",
    "\n",
    "    X_train, X_test, y_train, y_test = train_test_split(X, y, test_size=test_size, train_size=train_size)\n",
    "    \n",
    "    ## Fit the model on your training data.\n",
    "    rf.fit(X_train, y_train) \n",
    "    \n",
    "    ## And score it on your testing data.\n",
    "    rf.score(X_test, y_test)\n",
    "\n",
    "    feature_importance = rf.feature_importances_\n",
    "\n",
    "    # Make importances relative to max importance.\n",
    "    feature_importance = 100.0 * (feature_importance / feature_importance.max())\n",
    "    sorted_idx = np.argsort(feature_importance)\n",
    "    cols=X.columns[sorted_idx].tolist() \n",
    "    cols=cols[::-1]\n",
    "    pos = np.arange(sorted_idx.shape[0]) + .5\n",
    "    plt.subplot(1, 2, 2)\n",
    "    plt.barh(pos, feature_importance[sorted_idx], align='center')\n",
    "    plt.yticks(pos, X.columns[sorted_idx])\n",
    "    plt.xlabel('Relative Importance')\n",
    "    plt.title('Variable Importance')\n",
    "    plt.show()\n",
    "#     print(\"We are returning these columns {}\".format(cols))\n",
    "    return cols[:30] # return it sorted"
   ]
  },
  {
   "cell_type": "code",
   "execution_count": 311,
   "metadata": {
    "collapsed": false
   },
   "outputs": [],
   "source": [
    "def run_features_importance(rf,n):\n",
    "# Here we will return the feature importances\n",
    "    all_feature_important_columns = []\n",
    " \n",
    "    for i in range(1,n):\n",
    "        print_timestamp('running rfc iteration {} features importance for {} times'.format(i,n))\n",
    "        columns2 = rfc_and_feature_importances(rf)\n",
    "#         columns2.extend('{}'.format(i))\n",
    "        all_feature_important_columns = all_feature_important_columns + columns2\n",
    "    #     print(\"all_feature_import_columns={}\".format(all_feature_important_columns))\n",
    "\n",
    "    print(\"\\nBOD:\\nall_feature_important_columns = {}\\nEOD\".format(sorted(all_feature_important_columns)))\n",
    "    for feature in set(all_feature_important_columns):\n",
    "        print_timestamp(\"the NOC of feature {} in all_feature_important_columns is {}\".format(feature, all_feature_important_columns.count(feature)))"
   ]
  },
  {
   "cell_type": "code",
   "execution_count": 312,
   "metadata": {},
   "outputs": [],
   "source": [
    "def run_correlation_matrix():\n",
    "    \n",
    "    print_timestamp('Begin')\n",
    "    \n",
    "    # Setup the correlation matrix.\n",
    "    corrmat = X.corr()\n",
    "    print(corrmat)\n",
    "\n",
    "    # Set up the subplots\n",
    "    f, ax = plt.subplots(figsize=(12, 9))\n",
    "\n",
    "    # Let's draw the heatmap using seaborn.\n",
    "    sns.heatmap(corrmat, vmax=.6, square=True)\n",
    "    plt.show()\n",
    "    \n",
    "    print_timestamp('End')"
   ]
  },
  {
   "cell_type": "code",
   "execution_count": 313,
   "metadata": {},
   "outputs": [
    {
     "name": "stdout",
     "output_type": "stream",
     "text": [
      "train_size = 0.9, X_train is 31371, and y_train is 31371\n",
      "test_size  = 0.1, X_test  is 31371, and y_test is 3486\n"
     ]
    }
   ],
   "source": [
    "# Let's fit it with the RFC training set\n",
    "X_train, X_test, y_train, y_test = train_test_split(X, y, test_size=test_size, train_size=train_size, random_state=0)\n",
    "print(\"train_size = {}, X_train is {}, and y_train is {}\".format(train_size, len(X_train), len(y_train)))\n",
    "print(\"test_size  = {}, X_test  is {}, and y_test is {}\".format(test_size, len(y_train), len(y_test)))"
   ]
  },
  {
   "cell_type": "code",
   "execution_count": 314,
   "metadata": {},
   "outputs": [],
   "source": [
    "def run_rf(rf):\n",
    "    print_timestamp('Begin run_rf part 1')\n",
    "    \n",
    "    ## Fit the model on your training data.\n",
    "    rf.fit(X_train, y_train)   \n",
    "    \n",
    "    ## Let's score it with the training data set\n",
    "    train_score = rf.score(X_train, y_train)\n",
    "    print(\"Training score = {}\".format(train_score))\n",
    "\n",
    "    ## Let's score it with the test data set\n",
    "    test_score = rf.score(X_test, y_test)\n",
    "    \n",
    "    print(\"Test score = {}\".format(test_score))\n",
    "    #Let's run cross validate score with the training data set\n",
    "#     cross_val_score(rf, X_train, y_train, cv=5)\n",
    "    \n",
    "    print_timestamp('End run_rfr part 1')"
   ]
  },
  {
   "cell_type": "markdown",
   "metadata": {},
   "source": [
    "Let's try predicting with gradient boosting classification"
   ]
  },
  {
   "cell_type": "code",
   "execution_count": 315,
   "metadata": {},
   "outputs": [],
   "source": [
    "def run_gradient_boosting():\n",
    "\n",
    "    print_timestamp('Begin')\n",
    "    \n",
    "    clf = ensemble.GradientBoostingClassifier(**params)\n",
    "\n",
    "    #Let's run cross validate score with the training data set\n",
    "    cross_val_score(clf, X_train, y_train, cv=5)\n",
    "\n",
    "    loss_function = 'deviance' # could be exponential\n",
    "    depth_value = 8\n",
    "    params = {'n_estimators': 500,\n",
    "              'max_depth': 8,\n",
    "              'loss_function': loss_function,\n",
    "              'max_leaf_nodes': depth_value, # 8 worked best...\n",
    "              'min_samples_leaf': depth_value * 3\n",
    "              ,'random_state' : random_state\n",
    "             }\n",
    "\n",
    "    clf.fit(X_train, y_train)\n",
    "\n",
    "    predict_train = clf.predict(X_train)\n",
    "    predict_test = clf.predict(X_test)\n",
    "    \n",
    "    print_timestamp('End')"
   ]
  },
  {
   "cell_type": "code",
   "execution_count": 316,
   "metadata": {},
   "outputs": [],
   "source": [
    "def run_svc():\n",
    "\n",
    "    print_timestamp('\\n'*3+'Begin run_svc')\n",
    "    \n",
    "    # Let's do a linear Support Vector Classifier\n",
    "    print_timestamp('Running SVC(kernel=linear')\n",
    "    svm = SVC(kernel = 'linear')\n",
    "    \n",
    "    # Let's fit the training model\n",
    "    print_timestamp('Running svm.fit')\n",
    "    svm.fit(X_train, y_train)\n",
    "    \n",
    "    # Let's score the training set\n",
    "    print_timestamp('Running svm.score for the training set')\n",
    "    svm.score(X_train, y_train)\n",
    "    \n",
    "    # Let's score the test set\n",
    "    print_timestamp('Running svm.fit for the test set')\n",
    "    svm.score(X_test, y_test)\n",
    "\n",
    "    print_timestamp('\\n'*3+'End run_svc')"
   ]
  },
  {
   "cell_type": "code",
   "execution_count": 317,
   "metadata": {},
   "outputs": [],
   "source": [
    "def run_logistic_regression():\n",
    "    print_timestamp('\\n'*3+'Begin')\n",
    "\n",
    "    lr = LogisticRegression(C=1e20, solver='lbfgs', max_iter=1000)\n",
    "\n",
    "    print_timestamp('Running lr.fit for the training set')\n",
    "    lr.fit(X_train, y_train)\n",
    "    \n",
    "    print_timestamp('Running lr.fit for the training set')\n",
    "    print('\\nR-squared simple model training set yields:')\n",
    "    print(lr.score(X_train, y_train))\n",
    "    print(\"here comes the test set\")\n",
    "    print(lr.score(X_test, y_test))\n",
    "    \n",
    "    print_timestamp('\\n'*3+'End')"
   ]
  },
  {
   "cell_type": "code",
   "execution_count": 318,
   "metadata": {},
   "outputs": [],
   "source": [
    "def run_linear_regression():\n",
    "\n",
    "    print_timestamp('\\n'*3+'Begin')\n",
    "\n",
    "    regr = linear_model.LinearRegression()\n",
    "\n",
    "    print_timestamp('Running regr.fit for the training set')\n",
    "    regr.fit(X_train, y_train)\n",
    "    \n",
    "    print(\"\\nCoeffecients: \\n\", regr.coef_)\n",
    "    print(\"\\nIntercept: \\n\", regr.intercept_)\n",
    "    print(\"\\nR-squared for training data set:\")\n",
    "    print(regr.score(X_train, y_train))\n",
    "    \n",
    "    print(\"\\nR-squared for test data set:\")\n",
    "    print(regr.score(X_test, y_test))\n",
    "    \n",
    "    print_timestamp('End run_linear_regression.\\n\\n')\n",
    "    \n",
    "    print_timestamp('\\n'*3+'End')"
   ]
  },
  {
   "cell_type": "code",
   "execution_count": 319,
   "metadata": {
    "run_control": {
     "frozen": false,
     "read_only": false
    }
   },
   "outputs": [],
   "source": [
    "def run_ridge_regression():\n",
    "    # Fitting a ridge regression model. Alpha is the regularization\n",
    "    # parameter (usually called lambda). As alpha gets larger, parameter\n",
    "    # shrinkage grows more pronounced. Note that by convention, the\n",
    "    # intercept is not regularized. Since we standardized the data\n",
    "    # earlier, the intercept should be equal to zero and can be dropped.\n",
    "    print_timestamp('\\n'*3+'Begin')\n",
    "    \n",
    "    ridgeregr = linear_model.Ridge(alpha=10, fit_intercept=False) \n",
    "    ridgeregr.fit(X_train, y_train)\n",
    "    print(ridgeregr.score(X_train, y_train))\n",
    "#     origparacms = ridgeregr.coef_[0]\n",
    "#     print(origparams)\n",
    "\n",
    "#     ridgeregrBig = linear_model.Ridge(alpha=10, fit_intercept=False)\n",
    "#     ridgeregrBig.fit(X_train2, y_train)\n",
    "#     print(ridgeregrBig.score(X_train2, y_train))\n",
    "#     newparams = ridgeregrBig.coef_[0, 0:len(origparams)]\n",
    "\n",
    "#     print('\\nParameter Estimates for the same predictors for the small model'\n",
    "#           'and large model:')\n",
    "#     compare = np.column_stack((origparams, newparams))\n",
    "#     prettycompare = np.array2string(\n",
    "#         compare,\n",
    "#         formatter={'float_kind':'{0:.3f}'.format})\n",
    "#     print(prettycompare)\n",
    "    print_timestamp('\\n'*3+'End')"
   ]
  },
  {
   "cell_type": "code",
   "execution_count": 320,
   "metadata": {},
   "outputs": [],
   "source": [
    "def main():\n",
    "    \n",
    "    print_timestamp('\\n'*3+'Begin')\n",
    "    \n",
    "    if Regression == True:\n",
    "        print_timestamp(\"We are running with a Regression model\")\n",
    "    elif Regression == False:\n",
    "        print_timestamp(\"We are running with a Classifier model\")\n",
    "    else:\n",
    "        print_timestamp(\"We have failed to set the Regression variable\")\n",
    "        sys.exit(main())\n",
    "        \n",
    "\n",
    "    if flag_to_plot_them == True:\n",
    "        plot_them()\n",
    "\n",
    "    if flag_to_run_features_importance == True:\n",
    "        \n",
    "        number_of_features_to_consider = 50\n",
    "        params = {'n_estimators': 100}\n",
    "\n",
    "        if Regression == True:\n",
    "            print_timestamp('We are running RandomForestRegressor')\n",
    "            rf = ensemble.RandomForestRegressor(**params)\n",
    "            \n",
    "        else:\n",
    "            print_timestamp('We are running RandomForestClassifier')\n",
    "            rf = ensemble.RandomForestClassifier(**params)\n",
    "\n",
    "        run_features_importance(rf, number_of_features_to_consider)\n",
    "\n",
    "    if flag_to_run_correlation_matrix == True:\n",
    "        run_correlation_matrix()\n",
    "\n",
    "    if flag_to_run_rf == True:\n",
    "        #     params = {}\n",
    "        params = {'n_estimators': 100} \n",
    "\n",
    "        if Regression == True:\n",
    "            rf = ensemble.RandomForestRegressor(**params)\n",
    "            print_timestamp('We are running RandomForestRegressor')\n",
    "        else:\n",
    "            rf = ensemble.RandomForestClassifier(**params)\n",
    "            print_timestamp('We are running RandomForestClassifier')\n",
    "\n",
    "        run_rf(rf)\n",
    "\n",
    "    if flag_to_run_gradient_boosting  == True:\n",
    "        run_gradient_boosting()\n",
    "\n",
    "    if flag_to_run_linear_regression  == True:\n",
    "        run_linear_regression()\n",
    "\n",
    "    if flag_to_run_logistic_regression == True:\n",
    "        run_logistic_regression()\n",
    "\n",
    "    if flag_to_run_svc == True:\n",
    "        run_svc() \n",
    "\n",
    "    if flag_to_run_ridge_regression == True:\n",
    "        run_ridge_regression()\n",
    "\n",
    "    print_timestamp('End'+'\\n'*3)"
   ]
  },
  {
   "cell_type": "code",
   "execution_count": 321,
   "metadata": {},
   "outputs": [
    {
     "name": "stdout",
     "output_type": "stream",
     "text": [
      "2019-06-05 22:59:53: In: main \n",
      "\n",
      "\n",
      "Begin \n",
      "2019-06-05 22:59:53: In: main We are running with a Regression model \n"
     ]
    },
    {
     "data": {
      "image/png": "[encoded data removed]",
      "text/plain": [
       "<Figure size 432x288 with 1 Axes>"
      ]
     },
     "metadata": {
      "needs_background": "light"
     },
     "output_type": "display_data"
    },
    {
     "data": {
      "image/png": "[encoded data removed]",
      "text/plain": [
       "<Figure size 432x288 with 1 Axes>"
      ]
     },
     "metadata": {
      "needs_background": "light"
     },
     "output_type": "display_data"
    },
    {
     "data": {
      "image/png": "[encoded data removed]",
      "text/plain": [
       "<Figure size 432x288 with 1 Axes>"
      ]
     },
     "metadata": {
      "needs_background": "light"
     },
     "output_type": "display_data"
    },
    {
     "data": {
      "image/png": "[encoded data removed]",
      "text/plain": [
       "<Figure size 432x288 with 1 Axes>"
      ]
     },
     "metadata": {
      "needs_background": "light"
     },
     "output_type": "display_data"
    },
    {
     "data": {
      "image/png": "[encoded data removed]",
      "text/plain": [
       "<Figure size 432x288 with 1 Axes>"
      ]
     },
     "metadata": {
      "needs_background": "light"
     },
     "output_type": "display_data"
    },
    {
     "data": {
      "image/png": "[encoded data removed]",
      "text/plain": [
       "<Figure size 432x288 with 1 Axes>"
      ]
     },
     "metadata": {
      "needs_background": "light"
     },
     "output_type": "display_data"
    },
    {
     "data": {
      "image/png": "[encoded data removed]",
      "text/plain": [
       "<Figure size 432x288 with 1 Axes>"
      ]
     },
     "metadata": {
      "needs_background": "light"
     },
     "output_type": "display_data"
    },
    {
     "data": {
      "image/png": "[encoded data removed]",
      "text/plain": [
       "<Figure size 432x288 with 1 Axes>"
      ]
     },
     "metadata": {
      "needs_background": "light"
     },
     "output_type": "display_data"
    },
    {
     "data": {
      "image/png": "[encoded data removed]",
      "text/plain": [
       "<Figure size 432x288 with 1 Axes>"
      ]
     },
     "metadata": {
      "needs_background": "light"
     },
     "output_type": "display_data"
    },
    {
     "data": {
      "image/png": "[encoded data removed]",
      "text/plain": [
       "<Figure size 432x288 with 1 Axes>"
      ]
     },
     "metadata": {
      "needs_background": "light"
     },
     "output_type": "display_data"
    },
    {
     "data": {
      "image/png": "[encoded data removed]",
      "text/plain": [
       "<Figure size 432x288 with 1 Axes>"
      ]
     },
     "metadata": {
      "needs_background": "light"
     },
     "output_type": "display_data"
    },
    {
     "data": {
      "image/png": "[encoded data removed]",
      "text/plain": [
       "<Figure size 432x288 with 1 Axes>"
      ]
     },
     "metadata": {
      "needs_background": "light"
     },
     "output_type": "display_data"
    },
    {
     "data": {
      "image/png": "[encoded data removed]",
      "text/plain": [
       "<Figure size 432x288 with 1 Axes>"
      ]
     },
     "metadata": {
      "needs_background": "light"
     },
     "output_type": "display_data"
    },
    {
     "data": {
      "image/png": "[encoded data removed]",
      "text/plain": [
       "<Figure size 432x288 with 1 Axes>"
      ]
     },
     "metadata": {
      "needs_background": "light"
     },
     "output_type": "display_data"
    },
    {
     "data": {
      "image/png": "[encoded data removed]",
      "text/plain": [
       "<Figure size 432x288 with 1 Axes>"
      ]
     },
     "metadata": {
      "needs_background": "light"
     },
     "output_type": "display_data"
    },
    {
     "data": {
      "image/png": "[encoded data removed]",
      "text/plain": [
       "<Figure size 432x288 with 1 Axes>"
      ]
     },
     "metadata": {
      "needs_background": "light"
     },
     "output_type": "display_data"
    },
    {
     "data": {
      "image/png": "[encoded data removed]",
      "text/plain": [
       "<Figure size 432x288 with 1 Axes>"
      ]
     },
     "metadata": {
      "needs_background": "light"
     },
     "output_type": "display_data"
    },
    {
     "data": {
      "image/png": "[encoded data removed]",
      "text/plain": [
       "<Figure size 432x288 with 1 Axes>"
      ]
     },
     "metadata": {
      "needs_background": "light"
     },
     "output_type": "display_data"
    },
    {
     "data": {
      "image/png": "[encoded data removed]",
      "text/plain": [
       "<Figure size 432x288 with 1 Axes>"
      ]
     },
     "metadata": {
      "needs_background": "light"
     },
     "output_type": "display_data"
    },
    {
     "name": "stdout",
     "output_type": "stream",
     "text": [
      "2019-06-05 23:00:00: In: run_correlation_matrix Begin \n",
      "                      Armadale     SP      u  Brighton  Landsize  Bedroom2  Distance  Bathroom     SN  YearBuilt  EasternMetropolitan  SouthernMetropolitan      t  BuildingArea  Rooms  Propertycount    Car  Toorak      h\n",
      "Armadale                 1.000 -0.006  0.042    -0.010    -0.005    -0.018    -0.060    -0.007  0.004     -0.004               -0.031                 0.115 -0.011        -0.005 -0.033         -0.051 -0.018  -0.007 -0.030\n",
      "SP                      -0.006  1.000  0.045     0.009    -0.008    -0.028     0.003    -0.027 -0.082      0.023               -0.023                -0.053 -0.004         0.001 -0.044         -0.017 -0.021   0.003 -0.037\n",
      "u                        0.042  0.045  1.000     0.004    -0.027    -0.367    -0.227    -0.289 -0.031     -0.058               -0.078                 0.158 -0.174        -0.075 -0.538          0.082 -0.279   0.077 -0.764\n",
      "Brighton                -0.010  0.009  0.004     1.000    -0.003     0.013    -0.005     0.032 -0.008     -0.003               -0.044                 0.161  0.017         0.008  0.022          0.078  0.021  -0.010 -0.015\n",
      "Landsize                -0.005 -0.008 -0.027    -0.003     1.000     0.085     0.045     0.084  0.000      0.025                0.008                -0.010 -0.031         0.088  0.039         -0.017  0.079  -0.003  0.045\n",
      "Bedroom2                -0.018 -0.028 -0.367     0.013     0.085     1.000     0.129     0.913  0.031      0.449                0.066                -0.046 -0.178         0.172  0.479         -0.042  0.797  -0.025  0.439\n",
      "Distance                -0.060  0.003 -0.227    -0.005     0.045     0.129     1.000     0.078  0.021      0.001                0.193                -0.253 -0.025         0.054  0.272         -0.018  0.161  -0.090  0.216\n",
      "Bathroom                -0.007 -0.027 -0.289     0.032     0.084     0.913     0.078     1.000  0.025      0.467                0.048                 0.012 -0.120         0.180  0.374         -0.035  0.768  -0.007  0.333\n",
      "SN                       0.004 -0.082 -0.031    -0.008     0.000     0.031     0.021     0.025  1.000      0.016                0.057                -0.003 -0.012         0.006  0.034         -0.001  0.026   0.019  0.035\n",
      "YearBuilt               -0.004  0.023 -0.058    -0.003     0.025     0.449     0.001     0.467  0.016      1.000               -0.019                -0.006 -0.057         0.232  0.071         -0.010  0.377  -0.012  0.089\n",
      "EasternMetropolitan     -0.031 -0.023 -0.078    -0.044     0.008     0.066     0.193     0.048  0.057     -0.019                1.000                -0.272 -0.017         0.007  0.143         -0.112  0.041  -0.034  0.080\n",
      "SouthernMetropolitan     0.115 -0.053  0.158     0.161    -0.010    -0.046    -0.253     0.012 -0.003     -0.006               -0.272                 1.000  0.023         0.000 -0.042         -0.010 -0.037   0.125 -0.154\n",
      "t                       -0.011 -0.004 -0.174     0.017    -0.031    -0.178    -0.025    -0.120 -0.012     -0.057               -0.017                 0.023  1.000        -0.021 -0.041         -0.018 -0.146  -0.010 -0.502\n",
      "BuildingArea            -0.005  0.001 -0.075     0.008     0.088     0.172     0.054     0.180  0.006      0.232                0.007                 0.000 -0.021         1.000  0.123         -0.019  0.148  -0.004  0.080\n",
      "Rooms                   -0.033 -0.044 -0.538     0.022     0.039     0.479     0.272     0.374  0.034      0.071                0.143                -0.042 -0.041         0.123  1.000         -0.072  0.308  -0.027  0.499\n",
      "Propertycount           -0.051 -0.017  0.082     0.078    -0.017    -0.042    -0.018    -0.035 -0.001     -0.010               -0.112                -0.010 -0.018        -0.019 -0.072          1.000 -0.022  -0.007 -0.060\n",
      "Car                     -0.018 -0.021 -0.279     0.021     0.079     0.797     0.161     0.768  0.026      0.377                0.041                -0.037 -0.146         0.148  0.308         -0.022  1.000  -0.016  0.340\n",
      "Toorak                  -0.007  0.003  0.077    -0.010    -0.003    -0.025    -0.090    -0.007  0.019     -0.012               -0.034                 0.125 -0.010        -0.004 -0.027         -0.007 -0.016   1.000 -0.061\n",
      "h                       -0.030 -0.037 -0.764    -0.015     0.045     0.439     0.216     0.333  0.035      0.089                0.080                -0.154 -0.502         0.080  0.499         -0.060  0.340  -0.061  1.000\n"
     ]
    },
    {
     "data": {
      "image/png": "[encoded data removed]",
      "text/plain": [
       "<Figure size 864x648 with 2 Axes>"
      ]
     },
     "metadata": {
      "needs_background": "light"
     },
     "output_type": "display_data"
    },
    {
     "name": "stdout",
     "output_type": "stream",
     "text": [
      "2019-06-05 23:00:01: In: run_correlation_matrix End \n",
      "2019-06-05 23:00:01: In: main We are running RandomForestRegressor \n",
      "2019-06-05 23:00:01: In: run_rf Begin run_rf part 1 \n",
      "Training score = 0.8275515343668143\n",
      "Test score = 0.22455219628096856\n",
      "2019-06-05 23:00:11: In: run_rf End run_rfr part 1 \n",
      "2019-06-05 23:00:11: In: main End\n",
      "\n",
      "\n",
      " \n"
     ]
    }
   ],
   "source": [
    "main()"
   ]
  },
  {
   "cell_type": "code",
   "execution_count": null,
   "metadata": {},
   "outputs": [],
   "source": []
  }
 ],
 "metadata": {
  "kernelspec": {
   "display_name": "Python 3",
   "language": "python",
   "name": "python3"
  },
  "language_info": {
   "codemirror_mode": {
    "name": "ipython",
    "version": 3
   },
   "file_extension": ".py",
   "mimetype": "text/x-python",
   "name": "python",
   "nbconvert_exporter": "python",
   "pygments_lexer": "ipython3",
   "version": "3.7.3"
  }
 },
 "nbformat": 4,
 "nbformat_minor": 2
}
