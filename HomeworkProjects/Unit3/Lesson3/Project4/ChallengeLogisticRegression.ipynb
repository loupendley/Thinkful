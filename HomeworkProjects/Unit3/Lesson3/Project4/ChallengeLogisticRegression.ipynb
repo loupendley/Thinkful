{
 "cells": [
  {
   "cell_type": "markdown",
   "metadata": {},
   "source": [
    "In your report, evaluate all three models and decide on your best. Be clear about the decisions you made that led to these models (feature selection, regularization parameter selection, model evaluation criteria) and why you think that particular model is the best of the three. Also reflect on the strengths and limitations of regression as a modeling approach. Were there things you couldn't do but you wish you could have done?"
   ]
  },
  {
   "cell_type": "code",
   "execution_count": 213,
   "metadata": {
    "run_control": {
     "frozen": false,
     "read_only": false
    }
   },
   "outputs": [],
   "source": [
    "import math\n",
    "import warnings\n",
    "\n",
    "from IPython.display import display\n",
    "from matplotlib import pyplot as plt\n",
    "import numpy as np\n",
    "import pandas as pd\n",
    "import seaborn as sns\n",
    "import scipy\n",
    "import sklearn\n",
    "from sklearn.model_selection import cross_val_score\n",
    "from sklearn import preprocessing\n",
    "from sklearn import linear_model\n",
    "from sklearn.linear_model import LogisticRegression\n",
    "import statsmodels.formula.api as smf\n",
    "\n",
    "# Display preferences.\n",
    "%matplotlib inline\n",
    "pd.options.display.float_format = '{:.3f}'.format\n",
    "pd.options.display.max_colwidth = 100\n",
    "pd.options.display.max_rows = 100\n",
    "\n",
    "\n",
    "\n",
    "# Suppress annoying harmless error.\n",
    "warnings.filterwarnings(\n",
    "    action=\"ignore\",\n",
    "    module=\"scipy\",\n",
    "    message=\"^internal gelsd\"\n",
    ")\n",
    "\n",
    "# Non-DataScience/ML packages\n",
    "import re\n",
    "import string"
   ]
  },
  {
   "cell_type": "code",
   "execution_count": 214,
   "metadata": {},
   "outputs": [],
   "source": [
    "# Test your model with different holdout groups.\n",
    "def run_with_the_holdouts(fit_type, data, target, holdout_percent):\n",
    "    from sklearn.model_selection import train_test_split\n",
    "    # Use train_test_split to create the necessary training and test groups\n",
    "    X_train, X_test, y_train, y_test = train_test_split(data, target, test_size=holdout_percent, random_state=20)\n",
    "    print('With {0:.0%} Holdout: '.format(holdout_percent*1) + str(fit_type.fit(X_train, y_train).score(X_test, y_test)))\n",
    "    print('Testing on Sample: ' + str(fit_type.fit(data, target).score(data, target)))"
   ]
  },
  {
   "cell_type": "code",
   "execution_count": 215,
   "metadata": {},
   "outputs": [],
   "source": [
    "def run_the_cross_validations(fit_type, data, target):\n",
    "    from sklearn.model_selection import cross_val_score\n",
    "    return cross_val_score(bnb, data, target, cv=10)"
   ]
  },
  {
   "cell_type": "code",
   "execution_count": 216,
   "metadata": {},
   "outputs": [
    {
     "name": "stdout",
     "output_type": "stream",
     "text": [
      "there are 351 entries in the data frame\n"
     ]
    }
   ],
   "source": [
    "path=\"../../../../Datafiles/\"\n",
    "file = 'table_8_offenses_known_to_law_enforcement_new_york_by_city_2013.xls'\n",
    "df = pd.read_excel(path + file, header=4)\n",
    "print(\"there are {} entries in the data frame\".format(len(df)))"
   ]
  },
  {
   "cell_type": "code",
   "execution_count": 217,
   "metadata": {},
   "outputs": [
    {
     "name": "stdout",
     "output_type": "stream",
     "text": [
      "['City', 'Population', 'Violentcrime', 'Murderandnonnegligentmanslaughter', 'Rape1', 'Rape2', 'Robbery', 'Aggravatedassault', 'Propertycrime', 'Burglary', 'Larceny-theft', 'Motorvehicletheft', 'Arson3']\n"
     ]
    }
   ],
   "source": [
    "# Let's clean up the column names\n",
    "colnames = df.columns\n",
    "newcolnameslist = []\n",
    "\n",
    "for colname in colnames:\n",
    "    newcolname=colname.replace('\\n','').replace(' ','').capitalize() # strip out newlines, spaces, and captitalize\n",
    "    newcolname=re.sub(r'\\([^)]*\\)', '', newcolname)                  # remove parenthesized stuff\n",
    "    newcolnameslist.append(newcolname)                               # put all the column names into a list \n",
    "\n",
    "df.columns = newcolnameslist\n",
    "print(newcolnameslist)"
   ]
  },
  {
   "cell_type": "code",
   "execution_count": 218,
   "metadata": {},
   "outputs": [],
   "source": [
    "def return_diff_min_max_cv_score(cv_in):\n",
    "    print(\"min cv_score={0:.4%}, max={1:.4%}, mean={3:.4%}, and delta is {2:.4%}\".format(cv_in.min(),\n",
    "                                                                      cv_in.max(), \n",
    "                                                                      cv_in.max()-cv_in.min(),\n",
    "                                                                      cv_in.mean()))"
   ]
  },
  {
   "cell_type": "code",
   "execution_count": 219,
   "metadata": {},
   "outputs": [],
   "source": [
    "df[df['City'].str.contains('figures shown')]\n",
    "df[df['City'].str.contains('publish')]\n",
    "\n",
    "df = df[(df['City'].str.contains('figures shown') == False)] # We don't want any documentation rows\n",
    "df = df[(df['City'].str.contains('publish') == False)]       # We don't want any other documentation rows"
   ]
  },
  {
   "cell_type": "code",
   "execution_count": 220,
   "metadata": {},
   "outputs": [],
   "source": [
    "df['PopulationSquared'] = df.Population.pow(2)\n",
    "df.drop('Rape1', 1, inplace=True)\n",
    "df['Robbery'] = np.where(df['Robbery']>=1, 1, 0.0)\n",
    "df = df.rename(columns={'Arson3': 'Arson', 'Rape2': 'Rape', 'Aggravatedassault': 'AggravatedAssault',\n",
    "                        'Violentcrime':'ViolentCrime','Propertycrime': 'PropertyCrime', \n",
    "                        'Larceny-theft':'LarcenyTheft','Motorvehicletheft':'MotorVehicleTheft'})\n",
    "# df.Arson = df.Arson.astype(int) # Let's make it an int\n",
    "df['Murder'] = np.where(df['Murderandnonnegligentmanslaughter']>=1, 1, 0.0)\n",
    "df.Arson.fillna(0, inplace=True) # Let's clean up Arson3"
   ]
  },
  {
   "cell_type": "code",
   "execution_count": 221,
   "metadata": {},
   "outputs": [
    {
     "data": {
      "text/html": [
       "<div>\n",
       "<style scoped>\n",
       "    .dataframe tbody tr th:only-of-type {\n",
       "        vertical-align: middle;\n",
       "    }\n",
       "\n",
       "    .dataframe tbody tr th {\n",
       "        vertical-align: top;\n",
       "    }\n",
       "\n",
       "    .dataframe thead th {\n",
       "        text-align: right;\n",
       "    }\n",
       "</style>\n",
       "<table border=\"1\" class=\"dataframe\">\n",
       "  <thead>\n",
       "    <tr style=\"text-align: right;\">\n",
       "      <th></th>\n",
       "      <th>City</th>\n",
       "      <th>Population</th>\n",
       "      <th>ViolentCrime</th>\n",
       "      <th>Murderandnonnegligentmanslaughter</th>\n",
       "      <th>Rape</th>\n",
       "      <th>Robbery</th>\n",
       "      <th>AggravatedAssault</th>\n",
       "      <th>PropertyCrime</th>\n",
       "      <th>Burglary</th>\n",
       "      <th>LarcenyTheft</th>\n",
       "      <th>MotorVehicleTheft</th>\n",
       "      <th>Arson</th>\n",
       "      <th>PopulationSquared</th>\n",
       "      <th>Murder</th>\n",
       "    </tr>\n",
       "  </thead>\n",
       "  <tbody>\n",
       "    <tr>\n",
       "      <th>0</th>\n",
       "      <td>Adams Village</td>\n",
       "      <td>1861.000</td>\n",
       "      <td>0.000</td>\n",
       "      <td>0.000</td>\n",
       "      <td>0.000</td>\n",
       "      <td>0.000</td>\n",
       "      <td>0.000</td>\n",
       "      <td>12.000</td>\n",
       "      <td>2.000</td>\n",
       "      <td>10.000</td>\n",
       "      <td>0.000</td>\n",
       "      <td>0.000</td>\n",
       "      <td>3463321.000</td>\n",
       "      <td>0.000</td>\n",
       "    </tr>\n",
       "    <tr>\n",
       "      <th>1</th>\n",
       "      <td>Addison Town and Village</td>\n",
       "      <td>2577.000</td>\n",
       "      <td>3.000</td>\n",
       "      <td>0.000</td>\n",
       "      <td>0.000</td>\n",
       "      <td>0.000</td>\n",
       "      <td>3.000</td>\n",
       "      <td>24.000</td>\n",
       "      <td>3.000</td>\n",
       "      <td>20.000</td>\n",
       "      <td>1.000</td>\n",
       "      <td>0.000</td>\n",
       "      <td>6640929.000</td>\n",
       "      <td>0.000</td>\n",
       "    </tr>\n",
       "    <tr>\n",
       "      <th>2</th>\n",
       "      <td>Akron Village</td>\n",
       "      <td>2846.000</td>\n",
       "      <td>3.000</td>\n",
       "      <td>0.000</td>\n",
       "      <td>0.000</td>\n",
       "      <td>0.000</td>\n",
       "      <td>3.000</td>\n",
       "      <td>16.000</td>\n",
       "      <td>1.000</td>\n",
       "      <td>15.000</td>\n",
       "      <td>0.000</td>\n",
       "      <td>0.000</td>\n",
       "      <td>8099716.000</td>\n",
       "      <td>0.000</td>\n",
       "    </tr>\n",
       "    <tr>\n",
       "      <th>3</th>\n",
       "      <td>Albany</td>\n",
       "      <td>97956.000</td>\n",
       "      <td>791.000</td>\n",
       "      <td>8.000</td>\n",
       "      <td>30.000</td>\n",
       "      <td>1.000</td>\n",
       "      <td>526.000</td>\n",
       "      <td>4090.000</td>\n",
       "      <td>705.000</td>\n",
       "      <td>3243.000</td>\n",
       "      <td>142.000</td>\n",
       "      <td>0.000</td>\n",
       "      <td>9595377936.000</td>\n",
       "      <td>1.000</td>\n",
       "    </tr>\n",
       "    <tr>\n",
       "      <th>4</th>\n",
       "      <td>Albion Village</td>\n",
       "      <td>6388.000</td>\n",
       "      <td>23.000</td>\n",
       "      <td>0.000</td>\n",
       "      <td>3.000</td>\n",
       "      <td>1.000</td>\n",
       "      <td>16.000</td>\n",
       "      <td>223.000</td>\n",
       "      <td>53.000</td>\n",
       "      <td>165.000</td>\n",
       "      <td>5.000</td>\n",
       "      <td>0.000</td>\n",
       "      <td>40806544.000</td>\n",
       "      <td>0.000</td>\n",
       "    </tr>\n",
       "  </tbody>\n",
       "</table>\n",
       "</div>"
      ],
      "text/plain": [
       "                       City  Population  ViolentCrime  \\\n",
       "0             Adams Village    1861.000         0.000   \n",
       "1  Addison Town and Village    2577.000         3.000   \n",
       "2             Akron Village    2846.000         3.000   \n",
       "3                    Albany   97956.000       791.000   \n",
       "4            Albion Village    6388.000        23.000   \n",
       "\n",
       "   Murderandnonnegligentmanslaughter   Rape  Robbery  AggravatedAssault  \\\n",
       "0                              0.000  0.000    0.000              0.000   \n",
       "1                              0.000  0.000    0.000              3.000   \n",
       "2                              0.000  0.000    0.000              3.000   \n",
       "3                              8.000 30.000    1.000            526.000   \n",
       "4                              0.000  3.000    1.000             16.000   \n",
       "\n",
       "   PropertyCrime  Burglary  LarcenyTheft  MotorVehicleTheft  Arson  \\\n",
       "0         12.000     2.000        10.000              0.000  0.000   \n",
       "1         24.000     3.000        20.000              1.000  0.000   \n",
       "2         16.000     1.000        15.000              0.000  0.000   \n",
       "3       4090.000   705.000      3243.000            142.000  0.000   \n",
       "4        223.000    53.000       165.000              5.000  0.000   \n",
       "\n",
       "   PopulationSquared  Murder  \n",
       "0        3463321.000   0.000  \n",
       "1        6640929.000   0.000  \n",
       "2        8099716.000   0.000  \n",
       "3     9595377936.000   1.000  \n",
       "4       40806544.000   0.000  "
      ]
     },
     "execution_count": 221,
     "metadata": {},
     "output_type": "execute_result"
    }
   ],
   "source": [
    "df.head(5)\n",
    "# df.describe()"
   ]
  },
  {
   "cell_type": "code",
   "execution_count": 222,
   "metadata": {},
   "outputs": [
    {
     "name": "stderr",
     "output_type": "stream",
     "text": [
      "/Users/lou/anaconda3/lib/python3.7/site-packages/sklearn/preprocessing/data.py:180: UserWarning: Numerical issues were encountered when centering the data and might not be solved. Dataset may contain too large values. You may need to prescale your features.\n",
      "  warnings.warn(\"Numerical issues were encountered \"\n"
     ]
    }
   ],
   "source": [
    "# Let's normalize/preprocess the data frame to get them all on the same scale\n",
    "df_city = df['City'] # we need to drop all string columns to be able to do Pandas preprocessing\n",
    "df.drop('City', 1, inplace=True)\n",
    "names = df.columns\n",
    "# print(\"names[1:]={}\".format(names[1:]))\n",
    "# names = ['Population', 'ViolentCrime', 'Rape', 'AggravatedAssault', 'PropertyCrime', 'Burglary','LarcenyTheft',\n",
    "#                                                'MotorVehicleTheft', 'Arson']\n",
    "# print('testing',df.loc[:,'Population':])\n",
    "# print(names[2:])\n",
    "df =  pd.DataFrame(preprocessing.scale(df), columns=names)\n",
    "# df =  pd.merge(df_city, df, left_index=True, right_index=True) # Let's add the cit back into df"
   ]
  },
  {
   "cell_type": "code",
   "execution_count": 223,
   "metadata": {},
   "outputs": [],
   "source": [
    "# print(df.head(20))"
   ]
  },
  {
   "cell_type": "code",
   "execution_count": 224,
   "metadata": {},
   "outputs": [],
   "source": [
    "# Warning above -> may be some NaN's or infinities here... watch the range of values.  Look for anomalies."
   ]
  },
  {
   "cell_type": "code",
   "execution_count": 225,
   "metadata": {},
   "outputs": [],
   "source": [
    "num_columns = ['Population', 'ViolentCrime', 'Rape', 'AggravatedAssault', 'PropertyCrime', 'Burglary','LarcenyTheft',\n",
    "                                               'MotorVehicleTheft', 'Arson']"
   ]
  },
  {
   "cell_type": "code",
   "execution_count": 226,
   "metadata": {},
   "outputs": [],
   "source": [
    "# print(\"Rape mean = {}\".format(df['Rape'].mean))"
   ]
  },
  {
   "cell_type": "code",
   "execution_count": 227,
   "metadata": {},
   "outputs": [
    {
     "name": "stderr",
     "output_type": "stream",
     "text": [
      "/Users/lou/anaconda3/lib/python3.7/site-packages/ipykernel_launcher.py:4: RuntimeWarning: invalid value encountered in log2\n",
      "  after removing the cwd from sys.path.\n"
     ]
    }
   ],
   "source": [
    "# Let's create some new features\n",
    "df['Arson_Burglary'] = df['Arson'] * df['Burglary']\n",
    "df['ViolentCrime_MotorVehicleTheft'] = df['ViolentCrime'] * df['MotorVehicleTheft']\n",
    "df['LarcenyTheft_Arson'] = np.log2(df['LarcenyTheft'] * df['Arson'])\n",
    "df['Arson_Pop'] = df['Arson'] * df['Population']\n",
    "df['MotorVehicleTheft_Arson'] = df['MotorVehicleTheft'] / df['Arson']\n",
    "df['PropertyCrime_VehicleTheft'] = df['PropertyCrime'] * df['MotorVehicleTheft'] * 100\n",
    "df.fillna(df.mean()['ViolentCrime_MotorVehicleTheft'], inplace=True) # fill in missing values\n",
    "df['PropertyCrime_binary'] = np.where(df['PropertyCrime'] >.50, 1,0)\n",
    "df['MotorVehicleTheft_binary'] = np.where(df['MotorVehicleTheft'] >.50, 1,0)\n",
    "df['Rape_binary'] = np.where(df['Rape'].abs() > df['Rape'].abs().mean(),1,0)\n",
    "df.drop('Rape', inplace=True, axis=1)\n",
    "# df.drop('City', inplace=True, axis=1)"
   ]
  },
  {
   "cell_type": "code",
   "execution_count": 228,
   "metadata": {},
   "outputs": [],
   "source": [
    "# check the same thing as problem #1 above..."
   ]
  },
  {
   "cell_type": "code",
   "execution_count": 229,
   "metadata": {},
   "outputs": [],
   "source": [
    "# df.isnull().sum()\n",
    "# df[['Rape','Rape_binary']].sample(100)\n",
    "# df.describe()\n"
   ]
  },
  {
   "cell_type": "code",
   "execution_count": 230,
   "metadata": {},
   "outputs": [],
   "source": [
    "# Define the training and test sizes.\n",
    "trainsize = int(df.shape[0] / 2)\n",
    "df_test = df.iloc[trainsize:, :]\n",
    "df_train = df.iloc[:trainsize, :]"
   ]
  },
  {
   "cell_type": "code",
   "execution_count": 231,
   "metadata": {},
   "outputs": [],
   "source": [
    "# df_train['Rape_binary'].head(300)\n",
    "# df_train.head(50)"
   ]
  },
  {
   "cell_type": "markdown",
   "metadata": {},
   "source": [
    "### Vanilla Logistic Regression"
   ]
  },
  {
   "cell_type": "code",
   "execution_count": 232,
   "metadata": {},
   "outputs": [
    {
     "name": "stdout",
     "output_type": "stream",
     "text": [
      "\n",
      "R-squared simple model training set yields:\n",
      "1.0\n",
      "here comes the test set\n",
      "0.9540229885057471\n"
     ]
    }
   ],
   "source": [
    "# Train the model first\n",
    "# Set up the regression model to predict defaults using all other\n",
    "# variables as features.\n",
    "lr = LogisticRegression(C=1e20, solver='lbfgs')\n",
    "\n",
    "# Y = df_train['PropertyCrime'].values.reshape(-1,1)\n",
    "# X = df_train[['LarcenyTheft', 'MotorVehicleTheft','Rape','AggravatedAssault']]\n",
    "df_train.shape\n",
    "label_column = ['Rape_binary']\n",
    "# Y_train = df_train[label_column].values.reshape(-1, 1)\n",
    "y_train = df_train[label_column].values.reshape(-1, 1).ravel()\n",
    "X_train = df_train.loc[:, ~(df_train.columns).isin(label_column)]\n",
    "\n",
    "y_test = df_test[label_column].values.reshape(-1, 1).ravel() # ravel() was added\n",
    "X_test = df_test.loc[:, ~(df_test.columns).isin(label_column)]\n",
    "\n",
    "# X_train = df_train[['LarcenyTheft']]\n",
    "lr.fit(X_train, y_train)\n",
    "print('\\nR-squared simple model training set yields:')\n",
    "print(lr.score(X_train, y_train))\n",
    "print(\"here comes the test set\")\n",
    "print(lr.score(X_test, y_test))"
   ]
  },
  {
   "cell_type": "code",
   "execution_count": 233,
   "metadata": {},
   "outputs": [],
   "source": [
    "# error above - something is changing soon.\n",
    "# issue #2 above, columns are expecting a list.  Change "
   ]
  },
  {
   "cell_type": "code",
   "execution_count": 234,
   "metadata": {},
   "outputs": [
    {
     "data": {
      "text/plain": [
       "Index(['Population', 'ViolentCrime', 'Murderandnonnegligentmanslaughter',\n",
       "       'Robbery', 'AggravatedAssault', 'PropertyCrime', 'Burglary',\n",
       "       'LarcenyTheft', 'MotorVehicleTheft', 'Arson', 'PopulationSquared',\n",
       "       'Murder', 'Arson_Burglary', 'ViolentCrime_MotorVehicleTheft',\n",
       "       'LarcenyTheft_Arson', 'Arson_Pop', 'MotorVehicleTheft_Arson',\n",
       "       'PropertyCrime_VehicleTheft', 'PropertyCrime_binary',\n",
       "       'MotorVehicleTheft_binary'],\n",
       "      dtype='object')"
      ]
     },
     "execution_count": 234,
     "metadata": {},
     "output_type": "execute_result"
    }
   ],
   "source": [
    "X_train.columns"
   ]
  },
  {
   "cell_type": "code",
   "execution_count": 235,
   "metadata": {
    "run_control": {
     "frozen": false,
     "read_only": false
    }
   },
   "outputs": [
    {
     "name": "stdout",
     "output_type": "stream",
     "text": [
      "test\n",
      "Coefficients\n",
      "[[-4.91346200e+02  2.20944037e+02 -2.16354506e+02 -1.53308025e+02\n",
      "   3.05223298e+02 -2.00560200e+02  5.25393399e+02 -2.97520775e+02\n",
      "  -3.32441624e+02 -9.00331800e+02  1.33055708e+01  2.10498009e+01\n",
      "  -4.39555813e+01 -7.37137271e+00  3.15452049e+02  9.06395126e+01\n",
      "   3.28563679e+01  7.35921283e+01  4.13081295e-01  4.13081295e-01]]\n",
      "[-387.55144442]\n",
      "\n",
      " Accuracy by admission status\n",
      "col_0    0  1\n",
      "row_0        \n",
      "0      163  5\n",
      "1        3  3\n",
      "\n",
      " Percentage accuracy\n",
      "0.9540229885057471\n"
     ]
    }
   ],
   "source": [
    "# This is Vanilla Logistic Regression\n",
    "# Declare a logistic regression classifier.\n",
    "# Parameter regularization coefficient C described above.\n",
    "\n",
    "# Fit the model using the training set.\n",
    "fit = lr.fit(X_train, y_train)\n",
    "\n",
    "# Display.\n",
    "print('Coefficients')\n",
    "print(fit.coef_)\n",
    "print(fit.intercept_)\n",
    "pred_y_sklearn = lr.predict(X_test)\n",
    "\n",
    "print('\\n Accuracy by admission status')\n",
    "print(pd.crosstab(pred_y_sklearn, y_test))\n",
    "\n",
    "print('\\n Percentage accuracy')\n",
    "print(lr.score(X_test, y_test))"
   ]
  },
  {
   "cell_type": "markdown",
   "metadata": {},
   "source": [
    "### Ridge Logistic Regression"
   ]
  },
  {
   "cell_type": "code",
   "execution_count": 242,
   "metadata": {
    "run_control": {
     "frozen": false,
     "read_only": false
    }
   },
   "outputs": [
    {
     "name": "stdout",
     "output_type": "stream",
     "text": [
      "0.7218428702257963\n",
      "-0.5274197596583162\n",
      "0.6936458768375031\n"
     ]
    }
   ],
   "source": [
    "# Ridge Logistic Regression\n",
    "# Fitting a ridge regression model. Alpha is the regularization\n",
    "# parameter (usually called lambda). As alpha gets larger, parameter\n",
    "# shrinkage grows more pronounced. Note that by convention, the\n",
    "# intercept is not regularized. Since we standardized the data\n",
    "# earlier, the intercept should be equal to zero and can be dropped.\n",
    "\n",
    "ridgeregr = linear_model.Ridge(alpha=0.0010, fit_intercept=False) \n",
    "ridgeregr.fit(X_train, Y_train)\n",
    "print(ridgeregr.score(X_train, Y_train))\n",
    "origparams = ridgeregr.coef_[0]\n",
    "print(origparams)\n",
    "\n",
    "ridgeregrBig = linear_model.Ridge(alpha=0.010, fit_intercept=False)\n",
    "ridgeregrBig.fit(X_train, Y_train)\n",
    "print(ridgeregrBig.score(X_train, Y_train))"
   ]
  },
  {
   "cell_type": "markdown",
   "metadata": {},
   "source": [
    "### Lasso Regression"
   ]
  },
  {
   "cell_type": "code",
   "execution_count": 244,
   "metadata": {},
   "outputs": [
    {
     "name": "stdout",
     "output_type": "stream",
     "text": [
      "R² for the model with few features:\n",
      "0.7478712753900834\n"
     ]
    },
    {
     "name": "stderr",
     "output_type": "stream",
     "text": [
      "/Users/lou/anaconda3/lib/python3.7/site-packages/ipykernel_launcher.py:4: UserWarning: With alpha=0, this algorithm does not converge well. You are advised to use the LinearRegression estimator\n",
      "  after removing the cwd from sys.path.\n",
      "/Users/lou/anaconda3/lib/python3.7/site-packages/sklearn/linear_model/coordinate_descent.py:478: UserWarning: Coordinate descent with no regularization may lead to unexpected results and is discouraged.\n",
      "  positive)\n",
      "/Users/lou/anaconda3/lib/python3.7/site-packages/sklearn/linear_model/coordinate_descent.py:492: ConvergenceWarning: Objective did not converge. You might want to increase the number of iterations. Fitting data with very small alpha may cause precision problems.\n",
      "  ConvergenceWarning)\n"
     ]
    }
   ],
   "source": [
    "# Lasso Regression\n",
    "# Small number of parameters.\n",
    "lass = linear_model.Lasso(alpha=0)\n",
    "lassfit = lass.fit(X_train, Y_train)\n",
    "print('R² for the model with few features:')\n",
    "print(lass.score(X_train, Y_train))\n"
   ]
  },
  {
   "cell_type": "markdown",
   "metadata": {},
   "source": [
    "### Writeup  \n",
    "In your report, evaluate all three models and decide on your best. Be clear about the decisions you made that led to these models (feature selection, regularization parameter selection, model evaluation criteria) and why you think that particular model is the best of the three. Also reflect on the strengths and limitations of regression as a modeling approach. Were there things you couldn't do but you wish you could have done?\n",
    "\n",
    "I chooose the vanilla logistic regression, because it provided the highest R² value."
   ]
  },
  {
   "cell_type": "code",
   "execution_count": null,
   "metadata": {},
   "outputs": [],
   "source": []
  }
 ],
 "metadata": {
  "kernelspec": {
   "display_name": "Python 3",
   "language": "python",
   "name": "python3"
  },
  "language_info": {
   "codemirror_mode": {
    "name": "ipython",
    "version": 3
   },
   "file_extension": ".py",
   "mimetype": "text/x-python",
   "name": "python",
   "nbconvert_exporter": "python",
   "pygments_lexer": "ipython3",
   "version": "3.7.2"
  }
 },
 "nbformat": 4,
 "nbformat_minor": 2
}
