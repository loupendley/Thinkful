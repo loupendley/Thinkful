{
 "cells": [
  {
   "cell_type": "code",
   "execution_count": 27,
   "metadata": {},
   "outputs": [],
   "source": [
    "# Constants\n",
    "random_state = 57"
   ]
  },
  {
   "cell_type": "code",
   "execution_count": 28,
   "metadata": {
    "collapsed": false,
    "run_control": {
     "frozen": false,
     "read_only": false
    }
   },
   "outputs": [],
   "source": [
    "import pandas as pd\n",
    "import numpy as np\n",
    "import scipy\n",
    "import matplotlib.pyplot as plt\n",
    "%matplotlib inline\n",
    "import datetime\n",
    "from sklearn import ensemble\n",
    "from sklearn import datasets\n",
    "from sklearn.utils import shuffle\n",
    "from sklearn.metrics import mean_squared_error\n",
    "from sklearn.model_selection import train_test_split\n",
    "import time, sys"
   ]
  },
  {
   "cell_type": "markdown",
   "metadata": {},
   "source": [
    "### Gradient boosting Challenge\n",
    "\n",
    "Having walked through gradient boost by hand, now let's try it with SKlearn.  We'll still use the European Social Survey Data, but now with a categorical outcome: Whether or not someone lives with a partner.\n",
    "\n",
    "Lower the error rates, based on your model in the training set."
   ]
  },
  {
   "cell_type": "markdown",
   "metadata": {},
   "source": [
    "### From the Example and challenge"
   ]
  },
  {
   "cell_type": "code",
   "execution_count": 29,
   "metadata": {
    "collapsed": false
   },
   "outputs": [
    {
     "name": "stdout",
     "output_type": "stream",
     "text": [
      "there are 8147 entries in the data file ESSdata_Thinkful.csv\n"
     ]
    }
   ],
   "source": [
    "file = 'ESSdata_Thinkful.csv'\n",
    "path = path=\"../../../../Datafiles/\"\n",
    "df = pd.read_csv((path+file)).dropna()\n",
    "\n",
    "print(\"there are {} entries in the data file {}\".format(len(df), file))"
   ]
  },
  {
   "cell_type": "code",
   "execution_count": 30,
   "metadata": {},
   "outputs": [
    {
     "data": {
      "text/html": [
       "<div>\n",
       "<style scoped>\n",
       "    .dataframe tbody tr th:only-of-type {\n",
       "        vertical-align: middle;\n",
       "    }\n",
       "\n",
       "    .dataframe tbody tr th {\n",
       "        vertical-align: top;\n",
       "    }\n",
       "\n",
       "    .dataframe thead th {\n",
       "        text-align: right;\n",
       "    }\n",
       "</style>\n",
       "<table border=\"1\" class=\"dataframe\">\n",
       "  <thead>\n",
       "    <tr style=\"text-align: right;\">\n",
       "      <th></th>\n",
       "      <th>cntry</th>\n",
       "      <th>idno</th>\n",
       "      <th>year</th>\n",
       "      <th>tvtot</th>\n",
       "      <th>ppltrst</th>\n",
       "      <th>pplfair</th>\n",
       "      <th>pplhlp</th>\n",
       "      <th>happy</th>\n",
       "      <th>sclmeet</th>\n",
       "      <th>sclact</th>\n",
       "      <th>gndr</th>\n",
       "      <th>agea</th>\n",
       "      <th>partner</th>\n",
       "    </tr>\n",
       "  </thead>\n",
       "  <tbody>\n",
       "    <tr>\n",
       "      <th>0</th>\n",
       "      <td>CH</td>\n",
       "      <td>5.0</td>\n",
       "      <td>6</td>\n",
       "      <td>3.0</td>\n",
       "      <td>3.0</td>\n",
       "      <td>10.0</td>\n",
       "      <td>5.0</td>\n",
       "      <td>8.0</td>\n",
       "      <td>5.0</td>\n",
       "      <td>4.0</td>\n",
       "      <td>2.0</td>\n",
       "      <td>60.0</td>\n",
       "      <td>1.0</td>\n",
       "    </tr>\n",
       "    <tr>\n",
       "      <th>1</th>\n",
       "      <td>CH</td>\n",
       "      <td>25.0</td>\n",
       "      <td>6</td>\n",
       "      <td>6.0</td>\n",
       "      <td>5.0</td>\n",
       "      <td>7.0</td>\n",
       "      <td>5.0</td>\n",
       "      <td>9.0</td>\n",
       "      <td>3.0</td>\n",
       "      <td>2.0</td>\n",
       "      <td>2.0</td>\n",
       "      <td>59.0</td>\n",
       "      <td>1.0</td>\n",
       "    </tr>\n",
       "    <tr>\n",
       "      <th>2</th>\n",
       "      <td>CH</td>\n",
       "      <td>26.0</td>\n",
       "      <td>6</td>\n",
       "      <td>1.0</td>\n",
       "      <td>8.0</td>\n",
       "      <td>8.0</td>\n",
       "      <td>8.0</td>\n",
       "      <td>7.0</td>\n",
       "      <td>6.0</td>\n",
       "      <td>3.0</td>\n",
       "      <td>1.0</td>\n",
       "      <td>24.0</td>\n",
       "      <td>2.0</td>\n",
       "    </tr>\n",
       "    <tr>\n",
       "      <th>3</th>\n",
       "      <td>CH</td>\n",
       "      <td>28.0</td>\n",
       "      <td>6</td>\n",
       "      <td>4.0</td>\n",
       "      <td>6.0</td>\n",
       "      <td>6.0</td>\n",
       "      <td>7.0</td>\n",
       "      <td>10.0</td>\n",
       "      <td>6.0</td>\n",
       "      <td>2.0</td>\n",
       "      <td>2.0</td>\n",
       "      <td>64.0</td>\n",
       "      <td>1.0</td>\n",
       "    </tr>\n",
       "    <tr>\n",
       "      <th>4</th>\n",
       "      <td>CH</td>\n",
       "      <td>29.0</td>\n",
       "      <td>6</td>\n",
       "      <td>5.0</td>\n",
       "      <td>6.0</td>\n",
       "      <td>7.0</td>\n",
       "      <td>5.0</td>\n",
       "      <td>8.0</td>\n",
       "      <td>7.0</td>\n",
       "      <td>2.0</td>\n",
       "      <td>2.0</td>\n",
       "      <td>55.0</td>\n",
       "      <td>1.0</td>\n",
       "    </tr>\n",
       "  </tbody>\n",
       "</table>\n",
       "</div>"
      ],
      "text/plain": [
       "  cntry  idno  year  tvtot  ppltrst  pplfair  pplhlp  happy  sclmeet  sclact  \\\n",
       "0    CH   5.0     6    3.0      3.0     10.0     5.0    8.0      5.0     4.0   \n",
       "1    CH  25.0     6    6.0      5.0      7.0     5.0    9.0      3.0     2.0   \n",
       "2    CH  26.0     6    1.0      8.0      8.0     8.0    7.0      6.0     3.0   \n",
       "3    CH  28.0     6    4.0      6.0      6.0     7.0   10.0      6.0     2.0   \n",
       "4    CH  29.0     6    5.0      6.0      7.0     5.0    8.0      7.0     2.0   \n",
       "\n",
       "   gndr  agea  partner  \n",
       "0   2.0  60.0      1.0  \n",
       "1   2.0  59.0      1.0  \n",
       "2   1.0  24.0      2.0  \n",
       "3   2.0  64.0      1.0  \n",
       "4   2.0  55.0      1.0  "
      ]
     },
     "execution_count": 30,
     "metadata": {},
     "output_type": "execute_result"
    }
   ],
   "source": [
    "df.head(5)"
   ]
  },
  {
   "cell_type": "markdown",
   "metadata": {},
   "source": [
    "Columns used in the dataset: \n",
    "\n",
    "| Column Name | Definition | Status |\n",
    "|-------------|--------------|-------|\n",
    "|partner|Lives with partner: values 1 lives with partner, 2 does not.| Dependent|\n",
    "|cntry|Country|Not used in model | Independent |\n",
    "|idno|ID number| Not used in model | Independent |\n",
    "|ppltrst|Most people can be trusted: 0 can't trust, 10 very trusing| Independent |\n",
    "|pplfair|Most people try to take advantage of you| Independent |\n",
    "|plhlp|Most of the time people are helpful| Independent |\n",
    "|happy|How happy are you| Independent |\n",
    "|sclmeet|How often do you socially meet with friends, relatives, colleagues| Independent |\n",
    "|sclact|Take part in social activities| Independent |\n",
    "|gndr|Gender| Independent |\n",
    "|agea|Age of appliant| Independent |\n"
   ]
  },
  {
   "cell_type": "code",
   "execution_count": 31,
   "metadata": {},
   "outputs": [],
   "source": [
    "# Let's add some new features...\n",
    "\n",
    "df['partner'] = np.where(df['partner'] == 2, 0, 1) # Set it to 0=Nopartner, 1=partner\n",
    "df['age55_happy'] = (df['agea'] * df['happy']) # A new feature here -> Filter\n",
    "df['happy_squared'] = df['happy'] ** 2 # new feature"
   ]
  },
  {
   "cell_type": "code",
   "execution_count": 32,
   "metadata": {},
   "outputs": [
    {
     "name": "stdout",
     "output_type": "stream",
     "text": [
      "the current time of start is 2019-05-23 23:33:13.199547\n",
      "the current time of end is 2019-05-23 23:33:13.206243\n"
     ]
    }
   ],
   "source": [
    "# Definine outcome and predictors.\n",
    "print(\"the current time of start is {}\".format(str(datetime.datetime.now())))\n",
    "\n",
    "y = df['partner']\n",
    "X = df.loc[:, ~df.columns.isin(['partner', 'cntry', 'idno'])]\n",
    "# X = df[['agea', 'pplhlp', 'happy', 'tvtot', 'pplfair', 'ppltrst', 'sclmeet','sclact','gndr']] # these were the most significant\n",
    "# X = df.loc[:,  df.columns.isin(['agea', 'happy'])]\n",
    "X = df[['agea','happy', 'sclmeet',  'tvtot', 'pplhlp', 'gndr', 'pplfair','ppltrst','sclact', 'age55_happy','happy_squared']] # added new feature age55_happy\n",
    "\n",
    "# Make the categorical variable 'country' into dummies.\n",
    "X = pd.concat([X, pd.get_dummies(df['cntry'])], axis=1)\n",
    "\n",
    "#countries ,'ES', 'CH', 'CZ','NO','SE','DE'\n",
    "\n",
    "# Create training and test sets.\n",
    "offset = int(X.shape[0] * 0.9)\n",
    "\n",
    "# Put 90% of the data in the training set.\n",
    "X_train, y_train = X[:offset], y[:offset]\n",
    "\n",
    "# And put 10% in the test set.\n",
    "X_test, y_test = X[offset:], y[offset:]\n",
    "print(\"the current time of end is {}\".format(str(datetime.datetime.now())))"
   ]
  },
  {
   "cell_type": "code",
   "execution_count": 33,
   "metadata": {},
   "outputs": [
    {
     "data": {
      "text/html": [
       "<div>\n",
       "<style scoped>\n",
       "    .dataframe tbody tr th:only-of-type {\n",
       "        vertical-align: middle;\n",
       "    }\n",
       "\n",
       "    .dataframe tbody tr th {\n",
       "        vertical-align: top;\n",
       "    }\n",
       "\n",
       "    .dataframe thead th {\n",
       "        text-align: right;\n",
       "    }\n",
       "</style>\n",
       "<table border=\"1\" class=\"dataframe\">\n",
       "  <thead>\n",
       "    <tr style=\"text-align: right;\">\n",
       "      <th></th>\n",
       "      <th>agea</th>\n",
       "      <th>happy</th>\n",
       "      <th>sclmeet</th>\n",
       "      <th>tvtot</th>\n",
       "      <th>pplhlp</th>\n",
       "      <th>gndr</th>\n",
       "      <th>pplfair</th>\n",
       "      <th>ppltrst</th>\n",
       "      <th>sclact</th>\n",
       "      <th>age55_happy</th>\n",
       "      <th>happy_squared</th>\n",
       "      <th>CH</th>\n",
       "      <th>CZ</th>\n",
       "      <th>DE</th>\n",
       "      <th>ES</th>\n",
       "      <th>NO</th>\n",
       "      <th>SE</th>\n",
       "    </tr>\n",
       "  </thead>\n",
       "  <tbody>\n",
       "    <tr>\n",
       "      <th>0</th>\n",
       "      <td>60.0</td>\n",
       "      <td>8.0</td>\n",
       "      <td>5.0</td>\n",
       "      <td>3.0</td>\n",
       "      <td>5.0</td>\n",
       "      <td>2.0</td>\n",
       "      <td>10.0</td>\n",
       "      <td>3.0</td>\n",
       "      <td>4.0</td>\n",
       "      <td>480.0</td>\n",
       "      <td>64.0</td>\n",
       "      <td>1</td>\n",
       "      <td>0</td>\n",
       "      <td>0</td>\n",
       "      <td>0</td>\n",
       "      <td>0</td>\n",
       "      <td>0</td>\n",
       "    </tr>\n",
       "    <tr>\n",
       "      <th>1</th>\n",
       "      <td>59.0</td>\n",
       "      <td>9.0</td>\n",
       "      <td>3.0</td>\n",
       "      <td>6.0</td>\n",
       "      <td>5.0</td>\n",
       "      <td>2.0</td>\n",
       "      <td>7.0</td>\n",
       "      <td>5.0</td>\n",
       "      <td>2.0</td>\n",
       "      <td>531.0</td>\n",
       "      <td>81.0</td>\n",
       "      <td>1</td>\n",
       "      <td>0</td>\n",
       "      <td>0</td>\n",
       "      <td>0</td>\n",
       "      <td>0</td>\n",
       "      <td>0</td>\n",
       "    </tr>\n",
       "    <tr>\n",
       "      <th>2</th>\n",
       "      <td>24.0</td>\n",
       "      <td>7.0</td>\n",
       "      <td>6.0</td>\n",
       "      <td>1.0</td>\n",
       "      <td>8.0</td>\n",
       "      <td>1.0</td>\n",
       "      <td>8.0</td>\n",
       "      <td>8.0</td>\n",
       "      <td>3.0</td>\n",
       "      <td>168.0</td>\n",
       "      <td>49.0</td>\n",
       "      <td>1</td>\n",
       "      <td>0</td>\n",
       "      <td>0</td>\n",
       "      <td>0</td>\n",
       "      <td>0</td>\n",
       "      <td>0</td>\n",
       "    </tr>\n",
       "    <tr>\n",
       "      <th>3</th>\n",
       "      <td>64.0</td>\n",
       "      <td>10.0</td>\n",
       "      <td>6.0</td>\n",
       "      <td>4.0</td>\n",
       "      <td>7.0</td>\n",
       "      <td>2.0</td>\n",
       "      <td>6.0</td>\n",
       "      <td>6.0</td>\n",
       "      <td>2.0</td>\n",
       "      <td>640.0</td>\n",
       "      <td>100.0</td>\n",
       "      <td>1</td>\n",
       "      <td>0</td>\n",
       "      <td>0</td>\n",
       "      <td>0</td>\n",
       "      <td>0</td>\n",
       "      <td>0</td>\n",
       "    </tr>\n",
       "    <tr>\n",
       "      <th>4</th>\n",
       "      <td>55.0</td>\n",
       "      <td>8.0</td>\n",
       "      <td>7.0</td>\n",
       "      <td>5.0</td>\n",
       "      <td>5.0</td>\n",
       "      <td>2.0</td>\n",
       "      <td>7.0</td>\n",
       "      <td>6.0</td>\n",
       "      <td>2.0</td>\n",
       "      <td>440.0</td>\n",
       "      <td>64.0</td>\n",
       "      <td>1</td>\n",
       "      <td>0</td>\n",
       "      <td>0</td>\n",
       "      <td>0</td>\n",
       "      <td>0</td>\n",
       "      <td>0</td>\n",
       "    </tr>\n",
       "    <tr>\n",
       "      <th>6</th>\n",
       "      <td>76.0</td>\n",
       "      <td>0.0</td>\n",
       "      <td>2.0</td>\n",
       "      <td>3.0</td>\n",
       "      <td>2.0</td>\n",
       "      <td>1.0</td>\n",
       "      <td>5.0</td>\n",
       "      <td>0.0</td>\n",
       "      <td>2.0</td>\n",
       "      <td>0.0</td>\n",
       "      <td>0.0</td>\n",
       "      <td>1</td>\n",
       "      <td>0</td>\n",
       "      <td>0</td>\n",
       "      <td>0</td>\n",
       "      <td>0</td>\n",
       "      <td>0</td>\n",
       "    </tr>\n",
       "    <tr>\n",
       "      <th>7</th>\n",
       "      <td>30.0</td>\n",
       "      <td>10.0</td>\n",
       "      <td>5.0</td>\n",
       "      <td>2.0</td>\n",
       "      <td>3.0</td>\n",
       "      <td>2.0</td>\n",
       "      <td>5.0</td>\n",
       "      <td>4.0</td>\n",
       "      <td>2.0</td>\n",
       "      <td>300.0</td>\n",
       "      <td>100.0</td>\n",
       "      <td>1</td>\n",
       "      <td>0</td>\n",
       "      <td>0</td>\n",
       "      <td>0</td>\n",
       "      <td>0</td>\n",
       "      <td>0</td>\n",
       "    </tr>\n",
       "    <tr>\n",
       "      <th>8</th>\n",
       "      <td>84.0</td>\n",
       "      <td>9.0</td>\n",
       "      <td>6.0</td>\n",
       "      <td>2.0</td>\n",
       "      <td>8.0</td>\n",
       "      <td>2.0</td>\n",
       "      <td>8.0</td>\n",
       "      <td>8.0</td>\n",
       "      <td>4.0</td>\n",
       "      <td>756.0</td>\n",
       "      <td>81.0</td>\n",
       "      <td>1</td>\n",
       "      <td>0</td>\n",
       "      <td>0</td>\n",
       "      <td>0</td>\n",
       "      <td>0</td>\n",
       "      <td>0</td>\n",
       "    </tr>\n",
       "    <tr>\n",
       "      <th>9</th>\n",
       "      <td>62.0</td>\n",
       "      <td>7.0</td>\n",
       "      <td>4.0</td>\n",
       "      <td>4.0</td>\n",
       "      <td>8.0</td>\n",
       "      <td>2.0</td>\n",
       "      <td>4.0</td>\n",
       "      <td>4.0</td>\n",
       "      <td>2.0</td>\n",
       "      <td>434.0</td>\n",
       "      <td>49.0</td>\n",
       "      <td>1</td>\n",
       "      <td>0</td>\n",
       "      <td>0</td>\n",
       "      <td>0</td>\n",
       "      <td>0</td>\n",
       "      <td>0</td>\n",
       "    </tr>\n",
       "    <tr>\n",
       "      <th>10</th>\n",
       "      <td>33.0</td>\n",
       "      <td>9.0</td>\n",
       "      <td>5.0</td>\n",
       "      <td>1.0</td>\n",
       "      <td>7.0</td>\n",
       "      <td>2.0</td>\n",
       "      <td>7.0</td>\n",
       "      <td>6.0</td>\n",
       "      <td>2.0</td>\n",
       "      <td>297.0</td>\n",
       "      <td>81.0</td>\n",
       "      <td>1</td>\n",
       "      <td>0</td>\n",
       "      <td>0</td>\n",
       "      <td>0</td>\n",
       "      <td>0</td>\n",
       "      <td>0</td>\n",
       "    </tr>\n",
       "    <tr>\n",
       "      <th>11</th>\n",
       "      <td>40.0</td>\n",
       "      <td>7.0</td>\n",
       "      <td>5.0</td>\n",
       "      <td>4.0</td>\n",
       "      <td>7.0</td>\n",
       "      <td>1.0</td>\n",
       "      <td>7.0</td>\n",
       "      <td>5.0</td>\n",
       "      <td>3.0</td>\n",
       "      <td>280.0</td>\n",
       "      <td>49.0</td>\n",
       "      <td>1</td>\n",
       "      <td>0</td>\n",
       "      <td>0</td>\n",
       "      <td>0</td>\n",
       "      <td>0</td>\n",
       "      <td>0</td>\n",
       "    </tr>\n",
       "    <tr>\n",
       "      <th>12</th>\n",
       "      <td>69.0</td>\n",
       "      <td>9.0</td>\n",
       "      <td>6.0</td>\n",
       "      <td>4.0</td>\n",
       "      <td>4.0</td>\n",
       "      <td>1.0</td>\n",
       "      <td>7.0</td>\n",
       "      <td>7.0</td>\n",
       "      <td>2.0</td>\n",
       "      <td>621.0</td>\n",
       "      <td>81.0</td>\n",
       "      <td>1</td>\n",
       "      <td>0</td>\n",
       "      <td>0</td>\n",
       "      <td>0</td>\n",
       "      <td>0</td>\n",
       "      <td>0</td>\n",
       "    </tr>\n",
       "    <tr>\n",
       "      <th>13</th>\n",
       "      <td>59.0</td>\n",
       "      <td>8.0</td>\n",
       "      <td>4.0</td>\n",
       "      <td>2.0</td>\n",
       "      <td>7.0</td>\n",
       "      <td>1.0</td>\n",
       "      <td>9.0</td>\n",
       "      <td>1.0</td>\n",
       "      <td>3.0</td>\n",
       "      <td>472.0</td>\n",
       "      <td>64.0</td>\n",
       "      <td>1</td>\n",
       "      <td>0</td>\n",
       "      <td>0</td>\n",
       "      <td>0</td>\n",
       "      <td>0</td>\n",
       "      <td>0</td>\n",
       "    </tr>\n",
       "    <tr>\n",
       "      <th>14</th>\n",
       "      <td>32.0</td>\n",
       "      <td>8.0</td>\n",
       "      <td>1.0</td>\n",
       "      <td>4.0</td>\n",
       "      <td>3.0</td>\n",
       "      <td>2.0</td>\n",
       "      <td>5.0</td>\n",
       "      <td>4.0</td>\n",
       "      <td>2.0</td>\n",
       "      <td>256.0</td>\n",
       "      <td>64.0</td>\n",
       "      <td>1</td>\n",
       "      <td>0</td>\n",
       "      <td>0</td>\n",
       "      <td>0</td>\n",
       "      <td>0</td>\n",
       "      <td>0</td>\n",
       "    </tr>\n",
       "    <tr>\n",
       "      <th>15</th>\n",
       "      <td>70.0</td>\n",
       "      <td>9.0</td>\n",
       "      <td>3.0</td>\n",
       "      <td>5.0</td>\n",
       "      <td>5.0</td>\n",
       "      <td>2.0</td>\n",
       "      <td>5.0</td>\n",
       "      <td>4.0</td>\n",
       "      <td>3.0</td>\n",
       "      <td>630.0</td>\n",
       "      <td>81.0</td>\n",
       "      <td>1</td>\n",
       "      <td>0</td>\n",
       "      <td>0</td>\n",
       "      <td>0</td>\n",
       "      <td>0</td>\n",
       "      <td>0</td>\n",
       "    </tr>\n",
       "    <tr>\n",
       "      <th>16</th>\n",
       "      <td>61.0</td>\n",
       "      <td>8.0</td>\n",
       "      <td>3.0</td>\n",
       "      <td>4.0</td>\n",
       "      <td>7.0</td>\n",
       "      <td>1.0</td>\n",
       "      <td>7.0</td>\n",
       "      <td>5.0</td>\n",
       "      <td>3.0</td>\n",
       "      <td>488.0</td>\n",
       "      <td>64.0</td>\n",
       "      <td>1</td>\n",
       "      <td>0</td>\n",
       "      <td>0</td>\n",
       "      <td>0</td>\n",
       "      <td>0</td>\n",
       "      <td>0</td>\n",
       "    </tr>\n",
       "    <tr>\n",
       "      <th>17</th>\n",
       "      <td>30.0</td>\n",
       "      <td>6.0</td>\n",
       "      <td>6.0</td>\n",
       "      <td>2.0</td>\n",
       "      <td>7.0</td>\n",
       "      <td>1.0</td>\n",
       "      <td>7.0</td>\n",
       "      <td>7.0</td>\n",
       "      <td>3.0</td>\n",
       "      <td>180.0</td>\n",
       "      <td>36.0</td>\n",
       "      <td>1</td>\n",
       "      <td>0</td>\n",
       "      <td>0</td>\n",
       "      <td>0</td>\n",
       "      <td>0</td>\n",
       "      <td>0</td>\n",
       "    </tr>\n",
       "    <tr>\n",
       "      <th>18</th>\n",
       "      <td>21.0</td>\n",
       "      <td>9.0</td>\n",
       "      <td>5.0</td>\n",
       "      <td>0.0</td>\n",
       "      <td>8.0</td>\n",
       "      <td>1.0</td>\n",
       "      <td>7.0</td>\n",
       "      <td>9.0</td>\n",
       "      <td>4.0</td>\n",
       "      <td>189.0</td>\n",
       "      <td>81.0</td>\n",
       "      <td>1</td>\n",
       "      <td>0</td>\n",
       "      <td>0</td>\n",
       "      <td>0</td>\n",
       "      <td>0</td>\n",
       "      <td>0</td>\n",
       "    </tr>\n",
       "    <tr>\n",
       "      <th>19</th>\n",
       "      <td>36.0</td>\n",
       "      <td>8.0</td>\n",
       "      <td>4.0</td>\n",
       "      <td>2.0</td>\n",
       "      <td>6.0</td>\n",
       "      <td>2.0</td>\n",
       "      <td>6.0</td>\n",
       "      <td>6.0</td>\n",
       "      <td>3.0</td>\n",
       "      <td>288.0</td>\n",
       "      <td>64.0</td>\n",
       "      <td>1</td>\n",
       "      <td>0</td>\n",
       "      <td>0</td>\n",
       "      <td>0</td>\n",
       "      <td>0</td>\n",
       "      <td>0</td>\n",
       "    </tr>\n",
       "    <tr>\n",
       "      <th>20</th>\n",
       "      <td>51.0</td>\n",
       "      <td>7.0</td>\n",
       "      <td>6.0</td>\n",
       "      <td>7.0</td>\n",
       "      <td>4.0</td>\n",
       "      <td>1.0</td>\n",
       "      <td>4.0</td>\n",
       "      <td>3.0</td>\n",
       "      <td>4.0</td>\n",
       "      <td>357.0</td>\n",
       "      <td>49.0</td>\n",
       "      <td>1</td>\n",
       "      <td>0</td>\n",
       "      <td>0</td>\n",
       "      <td>0</td>\n",
       "      <td>0</td>\n",
       "      <td>0</td>\n",
       "    </tr>\n",
       "  </tbody>\n",
       "</table>\n",
       "</div>"
      ],
      "text/plain": [
       "    agea  happy  sclmeet  tvtot  pplhlp  gndr  pplfair  ppltrst  sclact  \\\n",
       "0   60.0    8.0      5.0    3.0     5.0   2.0     10.0      3.0     4.0   \n",
       "1   59.0    9.0      3.0    6.0     5.0   2.0      7.0      5.0     2.0   \n",
       "2   24.0    7.0      6.0    1.0     8.0   1.0      8.0      8.0     3.0   \n",
       "3   64.0   10.0      6.0    4.0     7.0   2.0      6.0      6.0     2.0   \n",
       "4   55.0    8.0      7.0    5.0     5.0   2.0      7.0      6.0     2.0   \n",
       "6   76.0    0.0      2.0    3.0     2.0   1.0      5.0      0.0     2.0   \n",
       "7   30.0   10.0      5.0    2.0     3.0   2.0      5.0      4.0     2.0   \n",
       "8   84.0    9.0      6.0    2.0     8.0   2.0      8.0      8.0     4.0   \n",
       "9   62.0    7.0      4.0    4.0     8.0   2.0      4.0      4.0     2.0   \n",
       "10  33.0    9.0      5.0    1.0     7.0   2.0      7.0      6.0     2.0   \n",
       "11  40.0    7.0      5.0    4.0     7.0   1.0      7.0      5.0     3.0   \n",
       "12  69.0    9.0      6.0    4.0     4.0   1.0      7.0      7.0     2.0   \n",
       "13  59.0    8.0      4.0    2.0     7.0   1.0      9.0      1.0     3.0   \n",
       "14  32.0    8.0      1.0    4.0     3.0   2.0      5.0      4.0     2.0   \n",
       "15  70.0    9.0      3.0    5.0     5.0   2.0      5.0      4.0     3.0   \n",
       "16  61.0    8.0      3.0    4.0     7.0   1.0      7.0      5.0     3.0   \n",
       "17  30.0    6.0      6.0    2.0     7.0   1.0      7.0      7.0     3.0   \n",
       "18  21.0    9.0      5.0    0.0     8.0   1.0      7.0      9.0     4.0   \n",
       "19  36.0    8.0      4.0    2.0     6.0   2.0      6.0      6.0     3.0   \n",
       "20  51.0    7.0      6.0    7.0     4.0   1.0      4.0      3.0     4.0   \n",
       "\n",
       "    age55_happy  happy_squared  CH  CZ  DE  ES  NO  SE  \n",
       "0         480.0           64.0   1   0   0   0   0   0  \n",
       "1         531.0           81.0   1   0   0   0   0   0  \n",
       "2         168.0           49.0   1   0   0   0   0   0  \n",
       "3         640.0          100.0   1   0   0   0   0   0  \n",
       "4         440.0           64.0   1   0   0   0   0   0  \n",
       "6           0.0            0.0   1   0   0   0   0   0  \n",
       "7         300.0          100.0   1   0   0   0   0   0  \n",
       "8         756.0           81.0   1   0   0   0   0   0  \n",
       "9         434.0           49.0   1   0   0   0   0   0  \n",
       "10        297.0           81.0   1   0   0   0   0   0  \n",
       "11        280.0           49.0   1   0   0   0   0   0  \n",
       "12        621.0           81.0   1   0   0   0   0   0  \n",
       "13        472.0           64.0   1   0   0   0   0   0  \n",
       "14        256.0           64.0   1   0   0   0   0   0  \n",
       "15        630.0           81.0   1   0   0   0   0   0  \n",
       "16        488.0           64.0   1   0   0   0   0   0  \n",
       "17        180.0           36.0   1   0   0   0   0   0  \n",
       "18        189.0           81.0   1   0   0   0   0   0  \n",
       "19        288.0           64.0   1   0   0   0   0   0  \n",
       "20        357.0           49.0   1   0   0   0   0   0  "
      ]
     },
     "execution_count": 33,
     "metadata": {},
     "output_type": "execute_result"
    }
   ],
   "source": [
    "X.head(20)"
   ]
  },
  {
   "cell_type": "code",
   "execution_count": 34,
   "metadata": {
    "collapsed": false
   },
   "outputs": [
    {
     "name": "stdout",
     "output_type": "stream",
     "text": [
      "\n",
      "2019-05-23 23:33:13.305771 We are testing with varying max_leaf_nodes and min_samples_leaf between 2 and 100,\n",
      "with the loss_function=deviance.\n",
      "\n",
      "Working on loss_function:deviance\n",
      "\n",
      "\n",
      "\n",
      "\n",
      "Here are the summary findings.\n",
      "loss_function=deviance, Lowest train_tI_Errors=0.08851609383524277, found in max_leaf_nodes=35\n",
      "loss_function=deviance, Lowest train_tII_Errors=0.020731042007637753, found in max_leaf_nodes=35\n",
      "loss_function=deviance, Lowest test_tI_Errors=0.18036809815950922, found in max_leaf_nodes=98\n",
      "loss_function=deviance, Lowest test_tII_Errors=0.08220858895705521, found in max_leaf_nodes=98\n",
      "\n",
      "2019-05-23 23:40:34.887486 We finished testing at.\n",
      "\n",
      "Working on loss_function:exponential\n",
      "\n",
      "\n",
      "\n",
      "\n",
      "Here are the summary findings.\n",
      "loss_function=exponential, Lowest train_tI_Errors=0.09874522640480088, found in max_leaf_nodes=31\n",
      "loss_function=exponential, Lowest train_tII_Errors=0.021958537915984726, found in max_leaf_nodes=31\n",
      "loss_function=exponential, Lowest test_tI_Errors=0.17914110429447852, found in max_leaf_nodes=98\n",
      "loss_function=exponential, Lowest test_tII_Errors=0.08588957055214724, found in max_leaf_nodes=98\n",
      "\n",
      "2019-05-23 23:47:47.456191 We finished testing at.\n"
     ]
    }
   ],
   "source": [
    "# We'll make 50 iterations, use 2-deep trees, and set our loss function.\n",
    "min_value = 2\n",
    "max_value = 100\n",
    "loss_function = 'deviance'\n",
    "\n",
    "print(\"\\n{} We are testing with varying max_leaf_nodes and min_samples_leaf between {} and {},\\nwith the loss_function={}.\".format(str(datetime.datetime.now()),\n",
    "                                                                                                                                   min_value, \n",
    "                                                                                                                                   max_value,\n",
    "                                                                                                                                   loss_function))\n",
    "loss_functions = ['deviance', 'exponential']\n",
    "for loss_function in loss_functions:\n",
    "    print(\"\\nWorking on loss_function:{}\\n\\n\\n\".format(loss_function))\n",
    "    lowest_train_tI_errors = (-1,1000)\n",
    "    lowest_train_tII_errors =(-1,1000)\n",
    "    lowest_test_tI_errors = (-1,1000)\n",
    "    lowest_test_tII_errors = (-1,1000)\n",
    "    tr_tI = 0\n",
    "    tr_tII = 0\n",
    "    te_tI = 0\n",
    "    te_tII = 0\n",
    "    \n",
    "    for depth_value in range(2,max_value):\n",
    "        params = {'n_estimators': 500,\n",
    "                  'max_depth': 8,\n",
    "                  'loss': loss_function,\n",
    "                  'max_leaf_nodes': depth_value, # 8 worked best...\n",
    "                  'min_samples_leaf': depth_value * 3\n",
    "                  ,'random_state' : random_state\n",
    "                 }\n",
    "\n",
    "        # Initialize and fit the model.\n",
    "        clf = ensemble.GradientBoostingClassifier(**params)\n",
    "        clf.fit(X_train, y_train)\n",
    "\n",
    "        predict_train = clf.predict(X_train)\n",
    "        predict_test = clf.predict(X_test)\n",
    "\n",
    "        # Accuracy tables.\n",
    "        table_train = pd.crosstab(y_train, predict_train, margins=True)\n",
    "        table_test = pd.crosstab(y_test, predict_test, margins=True)\n",
    "\n",
    "        train_tI_errors = table_train.loc[0.0,1.0] / table_train.loc['All','All']\n",
    "        train_tII_errors = table_train.loc[1.0,0.0] / table_train.loc['All','All']\n",
    "\n",
    "        if pd.to_numeric(train_tI_errors) < lowest_train_tI_errors[1]:\n",
    "\n",
    "            tr_tI = 1\n",
    "\n",
    "        if pd.to_numeric(train_tII_errors) < lowest_train_tII_errors[1]:\n",
    "            tr_tII = 1\n",
    "\n",
    "        if tr_tI == 1 or tr_tII == 1:\n",
    "            lowest_train_tI_errors = (depth_value,pd.to_numeric(train_tI_errors))\n",
    "            lowest_train_tII_errors = (depth_value,pd.to_numeric(train_tII_errors))\n",
    "            tr_tI = 0 \n",
    "            tr_tII = 0\n",
    "\n",
    "        test_tI_errors = table_test.loc[0.0,1.0]/table_test.loc['All','All']\n",
    "        test_tII_errors = table_test.loc[1.0,0.0]/table_test.loc['All','All']\n",
    "\n",
    "        if pd.to_numeric(test_tI_errors) < lowest_test_tI_errors[1]:\n",
    "            te_tI = 1\n",
    "\n",
    "        if pd.to_numeric(test_tII_errors) < lowest_test_tII_errors[1]:\n",
    "            te_tII = 1\n",
    "\n",
    "        if te_tI == 1 or te_tII == 1:\n",
    "            lowest_test_tI_errors = (depth_value,pd.to_numeric(test_tI_errors))\n",
    "            lowest_test_tII_errors = (depth_value,pd.to_numeric(test_tII_errors))\n",
    "            te_tI = 0\n",
    "            te_tII = 0\n",
    "\n",
    "\n",
    "    print(\"\\nHere are the summary findings.\")\n",
    "    print(\"loss_function={}, Lowest train_tI_Errors={}, found in max_leaf_nodes={}\".format( loss_function,\n",
    "                                                                                            lowest_train_tI_errors[1],\n",
    "                                                                                            lowest_train_tI_errors[0]))\n",
    "    print(\"loss_function={}, Lowest train_tII_Errors={}, found in max_leaf_nodes={}\".format(loss_function,\n",
    "                                                                                            lowest_train_tII_errors[1],\n",
    "                                                                                            lowest_train_tII_errors[0]))\n",
    "\n",
    "    print(\"loss_function={}, Lowest test_tI_Errors={}, found in max_leaf_nodes={}\".format( loss_function,\n",
    "                                                                                           lowest_test_tI_errors[1],\n",
    "                                                                                           lowest_test_tI_errors[0]))\n",
    "    print(\"loss_function={}, Lowest test_tII_Errors={}, found in max_leaf_nodes={}\".format(loss_function,\n",
    "                                                                                           lowest_test_tII_errors[1],\n",
    "                                                                                           lowest_test_tII_errors[0]))\n",
    "    print(\"\\n{} We finished testing at.\".format(str(datetime.datetime.now())))"
   ]
  },
  {
   "cell_type": "code",
   "execution_count": 35,
   "metadata": {},
   "outputs": [
    {
     "data": {
      "text/html": [
       "<div>\n",
       "<style scoped>\n",
       "    .dataframe tbody tr th:only-of-type {\n",
       "        vertical-align: middle;\n",
       "    }\n",
       "\n",
       "    .dataframe tbody tr th {\n",
       "        vertical-align: top;\n",
       "    }\n",
       "\n",
       "    .dataframe thead th {\n",
       "        text-align: right;\n",
       "    }\n",
       "</style>\n",
       "<table border=\"1\" class=\"dataframe\">\n",
       "  <thead>\n",
       "    <tr style=\"text-align: right;\">\n",
       "      <th></th>\n",
       "      <th>agea</th>\n",
       "      <th>happy</th>\n",
       "      <th>sclmeet</th>\n",
       "      <th>tvtot</th>\n",
       "      <th>pplhlp</th>\n",
       "      <th>gndr</th>\n",
       "      <th>pplfair</th>\n",
       "      <th>ppltrst</th>\n",
       "      <th>sclact</th>\n",
       "      <th>age55_happy</th>\n",
       "      <th>happy_squared</th>\n",
       "      <th>CH</th>\n",
       "      <th>CZ</th>\n",
       "      <th>DE</th>\n",
       "      <th>ES</th>\n",
       "      <th>NO</th>\n",
       "      <th>SE</th>\n",
       "    </tr>\n",
       "  </thead>\n",
       "  <tbody>\n",
       "    <tr>\n",
       "      <th>0</th>\n",
       "      <td>60.0</td>\n",
       "      <td>8.0</td>\n",
       "      <td>5.0</td>\n",
       "      <td>3.0</td>\n",
       "      <td>5.0</td>\n",
       "      <td>2.0</td>\n",
       "      <td>10.0</td>\n",
       "      <td>3.0</td>\n",
       "      <td>4.0</td>\n",
       "      <td>480.0</td>\n",
       "      <td>64.0</td>\n",
       "      <td>1</td>\n",
       "      <td>0</td>\n",
       "      <td>0</td>\n",
       "      <td>0</td>\n",
       "      <td>0</td>\n",
       "      <td>0</td>\n",
       "    </tr>\n",
       "    <tr>\n",
       "      <th>1</th>\n",
       "      <td>59.0</td>\n",
       "      <td>9.0</td>\n",
       "      <td>3.0</td>\n",
       "      <td>6.0</td>\n",
       "      <td>5.0</td>\n",
       "      <td>2.0</td>\n",
       "      <td>7.0</td>\n",
       "      <td>5.0</td>\n",
       "      <td>2.0</td>\n",
       "      <td>531.0</td>\n",
       "      <td>81.0</td>\n",
       "      <td>1</td>\n",
       "      <td>0</td>\n",
       "      <td>0</td>\n",
       "      <td>0</td>\n",
       "      <td>0</td>\n",
       "      <td>0</td>\n",
       "    </tr>\n",
       "    <tr>\n",
       "      <th>2</th>\n",
       "      <td>24.0</td>\n",
       "      <td>7.0</td>\n",
       "      <td>6.0</td>\n",
       "      <td>1.0</td>\n",
       "      <td>8.0</td>\n",
       "      <td>1.0</td>\n",
       "      <td>8.0</td>\n",
       "      <td>8.0</td>\n",
       "      <td>3.0</td>\n",
       "      <td>168.0</td>\n",
       "      <td>49.0</td>\n",
       "      <td>1</td>\n",
       "      <td>0</td>\n",
       "      <td>0</td>\n",
       "      <td>0</td>\n",
       "      <td>0</td>\n",
       "      <td>0</td>\n",
       "    </tr>\n",
       "    <tr>\n",
       "      <th>3</th>\n",
       "      <td>64.0</td>\n",
       "      <td>10.0</td>\n",
       "      <td>6.0</td>\n",
       "      <td>4.0</td>\n",
       "      <td>7.0</td>\n",
       "      <td>2.0</td>\n",
       "      <td>6.0</td>\n",
       "      <td>6.0</td>\n",
       "      <td>2.0</td>\n",
       "      <td>640.0</td>\n",
       "      <td>100.0</td>\n",
       "      <td>1</td>\n",
       "      <td>0</td>\n",
       "      <td>0</td>\n",
       "      <td>0</td>\n",
       "      <td>0</td>\n",
       "      <td>0</td>\n",
       "    </tr>\n",
       "    <tr>\n",
       "      <th>4</th>\n",
       "      <td>55.0</td>\n",
       "      <td>8.0</td>\n",
       "      <td>7.0</td>\n",
       "      <td>5.0</td>\n",
       "      <td>5.0</td>\n",
       "      <td>2.0</td>\n",
       "      <td>7.0</td>\n",
       "      <td>6.0</td>\n",
       "      <td>2.0</td>\n",
       "      <td>440.0</td>\n",
       "      <td>64.0</td>\n",
       "      <td>1</td>\n",
       "      <td>0</td>\n",
       "      <td>0</td>\n",
       "      <td>0</td>\n",
       "      <td>0</td>\n",
       "      <td>0</td>\n",
       "    </tr>\n",
       "  </tbody>\n",
       "</table>\n",
       "</div>"
      ],
      "text/plain": [
       "   agea  happy  sclmeet  tvtot  pplhlp  gndr  pplfair  ppltrst  sclact  \\\n",
       "0  60.0    8.0      5.0    3.0     5.0   2.0     10.0      3.0     4.0   \n",
       "1  59.0    9.0      3.0    6.0     5.0   2.0      7.0      5.0     2.0   \n",
       "2  24.0    7.0      6.0    1.0     8.0   1.0      8.0      8.0     3.0   \n",
       "3  64.0   10.0      6.0    4.0     7.0   2.0      6.0      6.0     2.0   \n",
       "4  55.0    8.0      7.0    5.0     5.0   2.0      7.0      6.0     2.0   \n",
       "\n",
       "   age55_happy  happy_squared  CH  CZ  DE  ES  NO  SE  \n",
       "0        480.0           64.0   1   0   0   0   0   0  \n",
       "1        531.0           81.0   1   0   0   0   0   0  \n",
       "2        168.0           49.0   1   0   0   0   0   0  \n",
       "3        640.0          100.0   1   0   0   0   0   0  \n",
       "4        440.0           64.0   1   0   0   0   0   0  "
      ]
     },
     "execution_count": 35,
     "metadata": {},
     "output_type": "execute_result"
    }
   ],
   "source": [
    "X.head(5)"
   ]
  },
  {
   "cell_type": "code",
   "execution_count": 36,
   "metadata": {},
   "outputs": [],
   "source": [
    "def rfc_and_feature_importances(leaf_values):    # Here we are using Gradient Boosting classifier method to determine the top 30 features.\n",
    "# train and then run RFC\n",
    "\n",
    "    params = {'n_estimators': 500,\n",
    "          'max_depth': 2,\n",
    "          'loss': 'deviance',\n",
    "          'max_leaf_nodes': leaf_values,\n",
    "          'min_samples_leaf': leaf_values,\n",
    "          'random_state' : random_state\n",
    "        }\n",
    "    \n",
    "#     print(\"in rfc_and_feature_importanes, params={}\".format(params))\n",
    "    clf = ensemble.GradientBoostingClassifier(**params)\n",
    "\n",
    "    X_train, X_test, y_train, y_test = train_test_split(X, y, test_size=0.4, random_state=0)\n",
    "    ## Fit the model on your training data.\n",
    "    clf.fit(X_train, y_train) \n",
    "    ## And score it on your testing data.\n",
    "    clf.score(X_test, y_test)\n",
    "\n",
    "    feature_importance = clf.feature_importances_\n",
    "\n",
    "    # Make importances relative to max importance.\n",
    "    feature_importance = 100.0 * (feature_importance / feature_importance.max())\n",
    "    sorted_idx = np.argsort(feature_importance)\n",
    "    cols=X.columns[sorted_idx].tolist()\n",
    "    cols=cols[::-1]\n",
    "    pos = np.arange(sorted_idx.shape[0]) + .5\n",
    "    plt.subplot(1, 2, 2)\n",
    "    plt.barh(pos, feature_importance[sorted_idx], align='center')\n",
    "    plt.yticks(pos, X.columns[sorted_idx])\n",
    "    plt.xlabel('Relative Importance')\n",
    "    plt.title('Variable Importance')\n",
    "    plt.show()\n",
    "    return cols # return it sorted"
   ]
  },
  {
   "cell_type": "code",
   "execution_count": 37,
   "metadata": {
    "collapsed": false
   },
   "outputs": [
    {
     "name": "stdout",
     "output_type": "stream",
     "text": [
      "running rfc features for 20 times\n",
      "params = 2\n"
     ]
    },
    {
     "data": {
      "image/png": "[encoded data removed]",
      "text/plain": [
       "<Figure size 432x288 with 1 Axes>"
      ]
     },
     "metadata": {
      "needs_background": "light"
     },
     "output_type": "display_data"
    },
    {
     "name": "stdout",
     "output_type": "stream",
     "text": [
      "running rfc features for 20 times\n",
      "params = 3\n"
     ]
    },
    {
     "data": {
      "image/png": "[encoded data removed]",
      "text/plain": [
       "<Figure size 432x288 with 1 Axes>"
      ]
     },
     "metadata": {
      "needs_background": "light"
     },
     "output_type": "display_data"
    },
    {
     "name": "stdout",
     "output_type": "stream",
     "text": [
      "running rfc features for 20 times\n",
      "params = 4\n"
     ]
    },
    {
     "data": {
      "image/png": "[encoded data removed]",
      "text/plain": [
       "<Figure size 432x288 with 1 Axes>"
      ]
     },
     "metadata": {
      "needs_background": "light"
     },
     "output_type": "display_data"
    },
    {
     "name": "stdout",
     "output_type": "stream",
     "text": [
      "running rfc features for 20 times\n",
      "params = 5\n"
     ]
    },
    {
     "data": {
      "image/png": "[encoded data removed]",
      "text/plain": [
       "<Figure size 432x288 with 1 Axes>"
      ]
     },
     "metadata": {
      "needs_background": "light"
     },
     "output_type": "display_data"
    },
    {
     "name": "stdout",
     "output_type": "stream",
     "text": [
      "running rfc features for 20 times\n",
      "params = 6\n"
     ]
    },
    {
     "data": {
      "image/png": "[encoded data removed]",
      "text/plain": [
       "<Figure size 432x288 with 1 Axes>"
      ]
     },
     "metadata": {
      "needs_background": "light"
     },
     "output_type": "display_data"
    },
    {
     "name": "stdout",
     "output_type": "stream",
     "text": [
      "running rfc features for 20 times\n",
      "params = 7\n"
     ]
    },
    {
     "data": {
      "image/png": "[encoded data removed]",
      "text/plain": [
       "<Figure size 432x288 with 1 Axes>"
      ]
     },
     "metadata": {
      "needs_background": "light"
     },
     "output_type": "display_data"
    },
    {
     "name": "stdout",
     "output_type": "stream",
     "text": [
      "running rfc features for 20 times\n",
      "params = 8\n"
     ]
    },
    {
     "data": {
      "image/png": "[encoded data removed]",
      "text/plain": [
       "<Figure size 432x288 with 1 Axes>"
      ]
     },
     "metadata": {
      "needs_background": "light"
     },
     "output_type": "display_data"
    },
    {
     "name": "stdout",
     "output_type": "stream",
     "text": [
      "running rfc features for 20 times\n",
      "params = 9\n"
     ]
    },
    {
     "data": {
      "image/png": "[encoded data removed]",
      "text/plain": [
       "<Figure size 432x288 with 1 Axes>"
      ]
     },
     "metadata": {
      "needs_background": "light"
     },
     "output_type": "display_data"
    },
    {
     "name": "stdout",
     "output_type": "stream",
     "text": [
      "running rfc features for 20 times\n",
      "params = 10\n"
     ]
    },
    {
     "data": {
      "image/png": "[encoded data removed]",
      "text/plain": [
       "<Figure size 432x288 with 1 Axes>"
      ]
     },
     "metadata": {
      "needs_background": "light"
     },
     "output_type": "display_data"
    },
    {
     "name": "stdout",
     "output_type": "stream",
     "text": [
      "running rfc features for 20 times\n",
      "params = 11\n"
     ]
    },
    {
     "data": {
      "image/png": "[encoded data removed]",
      "text/plain": [
       "<Figure size 432x288 with 1 Axes>"
      ]
     },
     "metadata": {
      "needs_background": "light"
     },
     "output_type": "display_data"
    },
    {
     "name": "stdout",
     "output_type": "stream",
     "text": [
      "running rfc features for 20 times\n",
      "params = 12\n"
     ]
    },
    {
     "data": {
      "image/png": "[encoded data removed]",
      "text/plain": [
       "<Figure size 432x288 with 1 Axes>"
      ]
     },
     "metadata": {
      "needs_background": "light"
     },
     "output_type": "display_data"
    },
    {
     "name": "stdout",
     "output_type": "stream",
     "text": [
      "running rfc features for 20 times\n",
      "params = 13\n"
     ]
    },
    {
     "data": {
      "image/png": "[encoded data removed]",
      "text/plain": [
       "<Figure size 432x288 with 1 Axes>"
      ]
     },
     "metadata": {
      "needs_background": "light"
     },
     "output_type": "display_data"
    },
    {
     "name": "stdout",
     "output_type": "stream",
     "text": [
      "running rfc features for 20 times\n",
      "params = 14\n"
     ]
    },
    {
     "data": {
      "image/png": "[encoded data removed]",
      "text/plain": [
       "<Figure size 432x288 with 1 Axes>"
      ]
     },
     "metadata": {
      "needs_background": "light"
     },
     "output_type": "display_data"
    },
    {
     "name": "stdout",
     "output_type": "stream",
     "text": [
      "running rfc features for 20 times\n",
      "params = 15\n"
     ]
    },
    {
     "data": {
      "image/png": "[encoded data removed]",
      "text/plain": [
       "<Figure size 432x288 with 1 Axes>"
      ]
     },
     "metadata": {
      "needs_background": "light"
     },
     "output_type": "display_data"
    },
    {
     "name": "stdout",
     "output_type": "stream",
     "text": [
      "running rfc features for 20 times\n",
      "params = 16\n"
     ]
    },
    {
     "data": {
      "image/png": "[encoded data removed]",
      "text/plain": [
       "<Figure size 432x288 with 1 Axes>"
      ]
     },
     "metadata": {
      "needs_background": "light"
     },
     "output_type": "display_data"
    },
    {
     "name": "stdout",
     "output_type": "stream",
     "text": [
      "running rfc features for 20 times\n",
      "params = 17\n"
     ]
    },
    {
     "data": {
      "image/png": "[encoded data removed]",
      "text/plain": [
       "<Figure size 432x288 with 1 Axes>"
      ]
     },
     "metadata": {
      "needs_background": "light"
     },
     "output_type": "display_data"
    },
    {
     "name": "stdout",
     "output_type": "stream",
     "text": [
      "running rfc features for 20 times\n",
      "params = 18\n"
     ]
    },
    {
     "data": {
      "image/png": "[encoded data removed]",
      "text/plain": [
       "<Figure size 432x288 with 1 Axes>"
      ]
     },
     "metadata": {
      "needs_background": "light"
     },
     "output_type": "display_data"
    },
    {
     "name": "stdout",
     "output_type": "stream",
     "text": [
      "running rfc features for 20 times\n",
      "params = 19\n"
     ]
    },
    {
     "data": {
      "image/png": "[encoded data removed]",
      "text/plain": [
       "<Figure size 432x288 with 1 Axes>"
      ]
     },
     "metadata": {
      "needs_background": "light"
     },
     "output_type": "display_data"
    },
    {
     "name": "stdout",
     "output_type": "stream",
     "text": [
      "important_features: ['agea', 'age55_happy', 'sclmeet', 'happy', 'happy_squared', 'tvtot', 'pplfair', 'sclact', 'ppltrst', 'gndr', 'pplhlp', 'CH', 'CZ', 'SE', 'NO', 'DE', 'ES', '2']\n",
      "important_features: ['agea', 'age55_happy', 'sclmeet', 'gndr', 'happy', 'happy_squared', 'tvtot', 'pplhlp', 'pplfair', 'ES', 'CZ', 'sclact', 'ppltrst', 'NO', 'CH', 'SE', 'DE', '3']\n",
      "important_features: ['agea', 'age55_happy', 'sclmeet', 'gndr', 'happy_squared', 'happy', 'tvtot', 'pplhlp', 'pplfair', 'sclact', 'ppltrst', 'ES', 'CZ', 'CH', 'NO', 'SE', 'DE', '4']\n",
      "important_features: ['agea', 'age55_happy', 'sclmeet', 'happy', 'gndr', 'tvtot', 'happy_squared', 'pplhlp', 'pplfair', 'sclact', 'ppltrst', 'ES', 'CZ', 'NO', 'CH', 'SE', 'DE', '5']\n",
      "important_features: ['agea', 'age55_happy', 'sclmeet', 'tvtot', 'gndr', 'happy', 'pplhlp', 'happy_squared', 'pplfair', 'sclact', 'ppltrst', 'ES', 'NO', 'CH', 'CZ', 'SE', 'DE', '6']\n",
      "important_features: ['agea', 'age55_happy', 'sclmeet', 'happy', 'pplhlp', 'tvtot', 'gndr', 'happy_squared', 'pplfair', 'ppltrst', 'sclact', 'ES', 'CH', 'CZ', 'NO', 'SE', 'DE', '7']\n",
      "important_features: ['agea', 'age55_happy', 'sclmeet', 'happy', 'pplhlp', 'tvtot', 'gndr', 'ppltrst', 'happy_squared', 'pplfair', 'sclact', 'ES', 'CZ', 'CH', 'SE', 'NO', 'DE', '8']\n",
      "important_features: ['agea', 'age55_happy', 'sclmeet', 'happy', 'pplhlp', 'tvtot', 'ppltrst', 'gndr', 'happy_squared', 'pplfair', 'sclact', 'ES', 'CZ', 'CH', 'NO', 'SE', 'DE', '9']\n",
      "important_features: ['agea', 'age55_happy', 'sclmeet', 'happy', 'tvtot', 'pplhlp', 'gndr', 'happy_squared', 'ppltrst', 'pplfair', 'sclact', 'ES', 'CZ', 'CH', 'NO', 'SE', 'DE', '1', '0']\n",
      "important_features: ['agea', 'age55_happy', 'sclmeet', 'pplhlp', 'happy', 'tvtot', 'ppltrst', 'gndr', 'happy_squared', 'sclact', 'pplfair', 'ES', 'CZ', 'CH', 'NO', 'SE', 'DE', '1', '1']\n",
      "important_features: ['agea', 'age55_happy', 'sclmeet', 'happy', 'tvtot', 'pplhlp', 'ppltrst', 'gndr', 'happy_squared', 'sclact', 'pplfair', 'ES', 'CZ', 'CH', 'SE', 'NO', 'DE', '1', '2']\n",
      "important_features: ['agea', 'age55_happy', 'sclmeet', 'pplhlp', 'happy', 'tvtot', 'gndr', 'happy_squared', 'ppltrst', 'pplfair', 'sclact', 'ES', 'CZ', 'CH', 'NO', 'SE', 'DE', '1', '3']\n",
      "important_features: ['agea', 'age55_happy', 'sclmeet', 'pplhlp', 'tvtot', 'happy', 'gndr', 'happy_squared', 'ppltrst', 'pplfair', 'sclact', 'ES', 'CH', 'CZ', 'NO', 'SE', 'DE', '1', '4']\n",
      "important_features: ['agea', 'age55_happy', 'sclmeet', 'happy', 'tvtot', 'gndr', 'pplhlp', 'ppltrst', 'happy_squared', 'pplfair', 'sclact', 'ES', 'CH', 'CZ', 'SE', 'NO', 'DE', '1', '5']\n",
      "important_features: ['agea', 'age55_happy', 'sclmeet', 'tvtot', 'happy', 'pplhlp', 'gndr', 'happy_squared', 'ppltrst', 'pplfair', 'sclact', 'ES', 'CZ', 'CH', 'NO', 'SE', 'DE', '1', '6']\n",
      "important_features: ['agea', 'age55_happy', 'sclmeet', 'tvtot', 'happy', 'pplhlp', 'gndr', 'happy_squared', 'ppltrst', 'pplfair', 'sclact', 'ES', 'CZ', 'CH', 'NO', 'SE', 'DE', '1', '7']\n",
      "important_features: ['agea', 'age55_happy', 'sclmeet', 'tvtot', 'happy', 'gndr', 'pplhlp', 'ppltrst', 'happy_squared', 'sclact', 'pplfair', 'ES', 'CZ', 'CH', 'NO', 'SE', 'DE', '1', '8']\n",
      "important_features: ['agea', 'age55_happy', 'sclmeet', 'happy', 'pplhlp', 'tvtot', 'gndr', 'ppltrst', 'happy_squared', 'sclact', 'pplfair', 'ES', 'CZ', 'CH', 'NO', 'SE', 'DE', '1', '9']\n"
     ]
    }
   ],
   "source": [
    "max_items = 20\n",
    "all_feature_important_columns = []\n",
    "\n",
    "for i in range(2,max_items):\n",
    "    print('running rfc features for {} times'.format(max_items))\n",
    "    \n",
    "    print(\"params = {}\".format(i))\n",
    "    columns2 = rfc_and_feature_importances(i)\n",
    "    columns2.extend('{}'.format(i))\n",
    "#     print(\"columns2 = {}\".format(columns2))\n",
    "    all_feature_important_columns.append(columns2)\n",
    "#     print(\"all_feature_import_columns={}\".format(all_feature_important_columns))\n",
    "    \n",
    "for list1 in all_feature_important_columns:\n",
    "    print(\"important_features: {}\".format(list1))"
   ]
  },
  {
   "cell_type": "code",
   "execution_count": null,
   "metadata": {},
   "outputs": [],
   "source": []
  }
 ],
 "metadata": {
  "kernelspec": {
   "display_name": "Python 3",
   "language": "python",
   "name": "python3"
  },
  "language_info": {
   "codemirror_mode": {
    "name": "ipython",
    "version": 3
   },
   "file_extension": ".py",
   "mimetype": "text/x-python",
   "name": "python",
   "nbconvert_exporter": "python",
   "pygments_lexer": "ipython3",
   "version": "3.7.3"
  }
 },
 "nbformat": 4,
 "nbformat_minor": 2
}
