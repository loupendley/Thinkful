{
 "cells": [
  {
   "cell_type": "markdown",
   "metadata": {},
   "source": [
    "For your third capstone, you’ll complete an unsupervised learning project. You can choose your own research question or choose from one below.\n",
    "\n",
    "How do you achieve the following using clustering techniques?\n",
    "\n",
    "Netflix wants to identify similar movies based on movie characteristics.  \n",
    "A company wants to segment its customers.  \n",
    "Your startup is creating an innovative new email software. How can you help them to create an effective spam filter?  \n",
    "Your chief marketing officer wants to know how much website traffic is due to spam and bots versus actual customers. How can you group the traffic?  \n",
    "Your spouse loves fantasy baseball and has a few favorite players. How can you help them to choose who to have on their team?  \n",
    "Security team in a bank wants to identify fraudulent transactional activities.  \n",
    "\n",
    "\n",
    "Next steps:  \n",
    "\n",
    "Go out and find a dataset of interest. It could be one that helps you work on one of our recommended research questions, or any other dataset that addresses an unsupervised learning question of your own.\n",
    "\n",
    "Explore the data. Get to know the data. Spend a lot of time going over its quirks and peccadilloes. You should understand how it was gathered, what's in it, and what the variables look like.\n",
    "\n",
    "You should try several different approaches and really work to tune a variety of models before choosing what you consider to be the best performer.\n",
    "\n",
    "Things to keep in mind: how do clustering and modeling compare? What are the advantages of each? Why would you want to use one over the other?\n",
    "\n",
    "This will ultimately include the following deliverables:\n",
    "\n",
    "A Jupyter notebook that tells a compelling story about your data (to be submitted at the end of this checkpoint).\n",
    "A 15 to 30 minute presentation of your findings. You'll need to produce a deck and present it to the Thinkful community.\n",
    "Conduct the analysis in Jupyter. Provide a complete research report using the framework introduced in the previous module. The report should include compelling visualizations and actionable insights, telling the story to your intended audience. Walk through the analysis using clean, reproducible code. Include plenty of notes and comments to guide others through your thinking.\n",
    "\n",
    "Rather than create a deck in a presentation tool like PowerPoint or Google Slides, we will use Jupyter’s built-in slide deck capabilities. This cuts down on the time-consuming and error-prone process of copying-and-pasting into an external program. The presentation is also fully reproducible.\n",
    "\n",
    "On the day of your presentation, an evaluator from the Thinkful educator team will introduce you, and then you'll give your presentation. Afterward, the evaluator will ask you follow up questions and will grade your performance on your presentation. Members of the audience will also be encouraged to ask follow up questions.\n",
    "\n",
    "Be prepared to talk about:\n",
    "\n",
    "Your end-user and the value your project provides to them.\n",
    "Quantifiable results based on the research you’ve conducted.\n",
    "The visuals you chose and what they represent for your research.\n",
    "Next steps you'd take to expand on your work.\n",
    "A specified research question your model addresses.\n",
    "How you chose your model specification and what alternatives you compared it to.\n",
    "The practical uses of your model for an audience of interest.\n",
    "Any weak points or shortcomings of your model."
   ]
  },
  {
   "cell_type": "markdown",
   "metadata": {},
   "source": [
    "## Dataset: Kaggle Movies Dataset  \n",
    "\n",
    "#### The URL for the Kaggle Movies dataset is:  https://www.kaggle.com/rounakbanik/the-movies-dataset\n",
    "\n",
    "I picked the Kaggle Movies dataset because it is something that I can relate to, most people like movies and can relate to them over their lifetime.  \n",
    "The dataset includes Title, Revenue, Budget, Genre, which a given movie can belong to more than 1 genre.  \n",
    "\n",
    "According to [Wikipedia](https://en.wikipedia.org/wiki/Film_genre), Film Genre is described as:  \n",
    "*A film genre is a motion-picture category based (for example) on similarities either in the narrative elements or in the emotional response to the film (namely: serious, comic, etc.).[citation needed] Most theories of film genre borrow from literary-genre criticism. Each film genre is associated[by whom?] with \"conventions, iconography, settings, narratives, characters and actors\".*\n",
    "\n",
    "So my thinking in picking this dataset is, genre should be predictable based on the lead actor, revenue, the items found in the movie keywords, overview, and title.  My thinking was, we should be able to predict the primary genre for a given movie given these elements.  \n",
    "\n",
    "There are 3 files that I used for this capstone within the Kaggle Movies dataset:  \n",
    "1. Movie_Metadata\n",
    "2. Credits\n",
    "3. Keywords\n",
    "\n",
    "The next cell describes the 3 files from the Kaggle Movies dataset in greater detail."
   ]
  },
  {
   "cell_type": "markdown",
   "metadata": {},
   "source": [
    "###  Kaggle Movies Dataset used in this capstone  \n",
    "\n",
    "#### For the movies_metadata datafile:\n",
    "\n",
    "\n",
    "|<p align=\"left\">Feature</p>|<p align=\"left\">Used</p>|<p align=\"left\">DataType</p>|<p align=\"left\">Feature Type</p>|<p align=\"left\">Notes</p>|\n",
    "|------|------|-----|---|---|\n",
    "|adult| No||||\n",
    "|belongs_to_collection | No||| |\n",
    "|budget|Yes|float|Numeric|\n",
    "|genres| Yes| list|Categorical|Used the first genre in the list for the Supervised label analysis with Random Forest Classification. |\n",
    "|homepage|No||||\n",
    "|id|Yes|int|Categorical|Used this column only to join the two datasets.  Not used in the model.|\n",
    "|imdb_id|No|||\n",
    "|original_language|No|Text|Categorical|\n",
    "|original_title|No|||\n",
    "|overview|No||||\n",
    "|popularity|No||||\n",
    "|poster_path|No||||\n",
    "|production_companies|No||||\n",
    "|production_countries|No||||\n",
    "|release_date|Yes|||We will extract the release year, release month, release day of month, and the release MonthDay, e.g. 1025, 1231.|\n",
    "|revenue|Yes|Numeric|||\n",
    "|runtime|Yes|Numeric|||\n",
    "|spoken_language|Yes|||\n",
    "|status|No|Categorical|Used this column to filter on only movies released.  Not used in the model.||\n",
    "|tagline|No|||\n",
    "|title|No|||\n",
    "|video|Yes|Categorical||\n",
    "|vote_average|No|||\n",
    "|vote_count|No|||\n",
    "\n",
    "For the Credits datafile, columns available:\n",
    "\n",
    "|<p align=\"left\">Feature</p>|<p align=\"left\">Used</p>|<p align=\"left\">DataType</p>|<p align=\"left\">Feature Type</p>|<p align=\"left\">Notes</p>|\n",
    "|------|------|-----|---|---|\n",
    "|Cast|Yes|List of dictionaries|Categorical|Used the first item in the list as lead_actor.||\n",
    "|Crew|No|||||\n",
    "|id|Yes|int|Categorical|Used this column only to join the two datasets.  Not used in the model.|\n",
    "\n",
    "For the Keywords datafile, columns available:\n",
    "\n",
    "|<p align=\"left\">Feature</p>|<p align=\"left\">Used</p>|<p align=\"left\">DataType</p>|<p align=\"left\">Feature Type</p>|<p align=\"left\">Notes</p>|\n",
    "|------|------|-----|---|---|\n",
    "|id|Yes|int|Categorical|Used this column only to join the datasets.  Not used in the model.|\n",
    "|Keywords|Yes|List of dictionaries||Each keyword associated with a movie are included.  We will string these together for each movie, and load them into a tfidf data frame.|\n",
    "\n",
    "There is an Id column in all three data files that allow us to join the files together using Pandas. "
   ]
  },
  {
   "cell_type": "markdown",
   "metadata": {},
   "source": [
    "## Strategy. \n",
    "\n",
    "My strategy was to join all three of the data files together, and keep only the features that I thought would be most predictive, and then use Tfidf with Random Forest Classification, with the label being the primary Genre, it may be highly predictable.\n",
    "\n",
    "Once having that being highly predictable, I could then remove Genre from the dataset entirely, and then perform Unsupervised Learning on the dataset to see if it clusters similarly to what the Genre would be.  My thought was that it could possible predict with Unsupervised Learning, using PCA, T-SNE, and UMAP, along with KMeans, DBSCAN, and Gaussian Mixture Method(GMM)."
   ]
  },
  {
   "cell_type": "markdown",
   "metadata": {},
   "source": [
    "### Global variables that I use with different methods"
   ]
  },
  {
   "cell_type": "code",
   "execution_count": 1236,
   "metadata": {},
   "outputs": [],
   "source": [
    "# Global Variables\n",
    "TEST_SIZE              = 0.20 # train_size = 1.00 - test_size\n",
    "TRAIN_SIZE             = 1.00 - TEST_SIZE\n",
    "RANDOM_STATE           = 20200427\n",
    "ZIPFILENAME            = 'the-movies-dataset.zip'"
   ]
  },
  {
   "cell_type": "code",
   "execution_count": 1237,
   "metadata": {
    "collapsed": false,
    "jupyter": {
     "outputs_hidden": false
    },
    "pycharm": {
     "is_executing": false
    },
    "run_control": {
     "frozen": false,
     "read_only": false
    }
   },
   "outputs": [],
   "source": [
    "import numpy as np\n",
    "import pandas as pd\n",
    "import scipy\n",
    "import matplotlib\n",
    "import matplotlib.pyplot as plt\n",
    "\n",
    "%matplotlib inline\n",
    "\n",
    "from matplotlib.colors import ListedColormap\n",
    "\n",
    "from scipy.spatial.distance import cdist\n",
    "import seaborn as sn\n",
    "from sklearn import cluster, metrics\n",
    "from sklearn import datasets, ensemble, metrics, linear_model\n",
    "from sklearn.cluster import AffinityPropagation, KMeans, MeanShift, estimate_bandwidth, SpectralClustering, DBSCAN\n",
    "from sklearn.decomposition import PCA\n",
    "from sklearn.ensemble import RandomForestRegressor, RandomForestClassifier\n",
    "from sklearn.feature_extraction.text import CountVectorizer, TfidfVectorizer, FeatureHasher\n",
    "from sklearn.manifold import TSNE\n",
    "from sklearn.metrics import confusion_matrix, pairwise_distances, mean_squared_error\n",
    "from sklearn.mixture import GaussianMixture\n",
    "from sklearn.model_selection import cross_val_predict, cross_val_score, GridSearchCV,cross_val_score, train_test_split\n",
    "from sklearn.preprocessing import MinMaxScaler, StandardScaler, normalize, LabelEncoder\n",
    "from sklearn.utils import shuffle\n",
    "\n",
    "import spacy\n",
    "import statsmodels.api as sm\n",
    "\n",
    "from nltk.stem import WordNetLemmatizer\n",
    "from nltk import word_tokenize          \n",
    "from collections import Counter\n",
    "import gensim\n",
    "from gensim.models import Word2Vec\n",
    "\n",
    "import umap\n",
    "\n",
    "from ast import literal_eval\n",
    "import chardet, codecs, datetime, os, platform, random, re, string, sys, time, unicodedata\n",
    "from IPython.display import Markdown, display\n",
    "from zipfile import ZipFile"
   ]
  },
  {
   "cell_type": "code",
   "execution_count": 1238,
   "metadata": {},
   "outputs": [],
   "source": [
    "### We will use this class for Tfidf on the Overview, Keywords, and Title "
   ]
  },
  {
   "cell_type": "code",
   "execution_count": 1239,
   "metadata": {},
   "outputs": [],
   "source": [
    "class LemmaTokenizer:\n",
    "    def __init__(self):\n",
    "        self.wnl = WordNetLemmatizer()\n",
    "    def __call__(self, doc):\n",
    "        return [self.wnl.lemmatize(t) for t in word_tokenize(doc)]"
   ]
  },
  {
   "cell_type": "code",
   "execution_count": 1240,
   "metadata": {},
   "outputs": [
    {
     "name": "stdout",
     "output_type": "stream",
     "text": [
      "numpy version: 1.17.2\n",
      "pandas version: 1.0.3\n",
      "matplotlib version: 3.1.3\n"
     ]
    }
   ],
   "source": [
    "print(\"numpy version: {}\\npandas version: {}\\nmatplotlib version: {}\".format(np.__version__,pd.__version__, matplotlib.__version__))"
   ]
  },
  {
   "cell_type": "code",
   "execution_count": 1241,
   "metadata": {
    "pycharm": {
     "is_executing": false
    },
    "run_control": {
     "frozen": false,
     "read_only": false
    }
   },
   "outputs": [],
   "source": [
    "def file_stuff(path, filename, zipfilename, dtypes=None, usecols=None):\n",
    "    \n",
    "    zip_file = ZipFile(zipfilename)\n",
    "\n",
    "    print(\"fullfilename = {}\".format(path+'/'+filename))\n",
    "    df = pd.read_csv(zip_file.open(filename), dtype=dtypes, usecols=usecols)\n",
    "\n",
    "    print(\"There are {} rows in this file.\".format(df.shape[0]))\n",
    "    \n",
    "    return df"
   ]
  },
  {
   "cell_type": "code",
   "execution_count": 1242,
   "metadata": {
    "pycharm": {
     "is_executing": false
    }
   },
   "outputs": [],
   "source": [
    "def print_metrics_score(fit_model, X_train, X_test, y_train, y_test):\n",
    "    y_pred_class  = fit_model.predict(X_test)\n",
    "    metrics_test_score =  metrics.accuracy_score(y_test, y_pred_class)\n",
    "    printFormatted('###  Metrics test accuracy score = {:.2%}'.format(metrics_test_score))"
   ]
  },
  {
   "cell_type": "code",
   "execution_count": 1243,
   "metadata": {
    "pycharm": {
     "is_executing": false
    }
   },
   "outputs": [],
   "source": [
    "def X_conf_matrix_function(model_fit, X_train, X_test, y_train, y_test):\n",
    "    \n",
    "#     confusion_matrix_function() missing 3 required positional arguments: 'X_test', 'y_train', and 'y_test'\n",
    "    y_pred_class  = model_fit.predict(X_test)\n",
    "    \n",
    "    printFormatted(\"In conf_matrix_function: y_train.shape[0]={}\".format(y_test.shape[0]))\n",
    "    printFormatted(\"In conf_matrix_function: y_pred_class.shape[0]={}\".format(y_pred_class.shape[0]))\n",
    "\n",
    "        \n",
    "    conf_matrix = confusion_matrix(y_test, y_pred_class)\n",
    "    \n",
    "#     printFormatted(\"### Confusion Matrix:  {}\".format(conf_matrix.scores))\n",
    "    \n",
    "    ### new stuff\n",
    "#     https://stackoverflow.com/questions/43905654/custom-colors-in-matplotlib-when-using-matshow\n",
    "    x = 0\n",
    "    if x == 1:\n",
    "        labels = ['genre', 'lead_actor_le']\n",
    "        fig = plt.figure()\n",
    "        fig.set_figheight(8)\n",
    "        fig.set_figwidth(8)\n",
    "        ax = fig.add_subplot(111)\n",
    "        cmap = ListedColormap(['lightseagreen', 'royalblue', 'gold'])\n",
    "        cax = ax.matshow(conf_matrix, cmap=cmap)\n",
    "        plt.title('Confusion matrix of the classifier')\n",
    "        fig.colorbar(cax)\n",
    "        ax.set_xticklabels([''] + labels)\n",
    "        ax.set_yticklabels([''] + labels)\n",
    "        plt.xlabel('Predicted')\n",
    "        plt.ylabel('True')\n",
    "        plt.show()\n",
    "    \n",
    "#     https://stackoverflow.com/questions/35572000/how-can-i-plot-a-confusion-matrix\n",
    "#     df_cm = pd.DataFrame(array, index = [i for i in \"ABCDEFGHIJK\"],\n",
    "#                   columns = [i for i in \"ABCDEFGHIJK\"])\n",
    "    plt.figure(figsize = (10,7))\n",
    "    sn.heatmap(conf_matrix, annot=True)\n",
    "    \n",
    "    ### end of new stuff\n",
    "    \n",
    "    print(\"\\n\\n\")"
   ]
  },
  {
   "cell_type": "code",
   "execution_count": 1244,
   "metadata": {
    "pycharm": {
     "is_executing": false
    }
   },
   "outputs": [],
   "source": [
    "def print_cross_validation_scores(fit_model, X_train, X_test, y_train, y_test):\n",
    "    \n",
    "        accuracy = cross_val_score(fit_model, X_test, y_test, scoring='accuracy', cv = 5)\n",
    "\n",
    "        printFormatted(\"### Cross validation scores:  {}\".format(accuracy))\n",
    "        printFormatted(\"### Accuracy of Model with Cross Validation average is: {:.2%}\".format(accuracy.mean()))"
   ]
  },
  {
   "cell_type": "code",
   "execution_count": 1245,
   "metadata": {
    "pycharm": {
     "is_executing": false
    }
   },
   "outputs": [],
   "source": [
    "def print_timestamp(displaytext):    \n",
    "    datetime_now = str(datetime.datetime.now())\n",
    "    printFormatted(\"{:19.19}: In: {} {} \".format(datetime_now, sys._getframe(1).f_code.co_name, displaytext))"
   ]
  },
  {
   "cell_type": "code",
   "execution_count": 1246,
   "metadata": {
    "pycharm": {
     "is_executing": false
    }
   },
   "outputs": [],
   "source": [
    "def write_to_logfile(message, mdformat=''):\n",
    "    bufsize = 0\n",
    "    with open('TestResults.md', 'a+') as the_file:\n",
    "        the_file.write('{} {}'.format(mdformat, message))"
   ]
  },
  {
   "cell_type": "code",
   "execution_count": 1247,
   "metadata": {
    "pycharm": {
     "is_executing": false
    }
   },
   "outputs": [],
   "source": [
    "def training_test_set(X, y):\n",
    "    \n",
    "    print_timestamp(\"In training_test_set, train_size={}, and test_size={}\".format(TRAIN_SIZE, TEST_SIZE))\n",
    "    \n",
    "    X_train1, X_test1, y_train1, y_test1 = train_test_split(X, y, test_size=TEST_SIZE, train_size=TRAIN_SIZE, random_state=RANDOM_STATE)\n",
    "    \n",
    "    print(\"train_size = {}, X_train is {}, and y_train is {}\".format(TRAIN_SIZE, X_train1.shape[0], y_train1.shape[0]))\n",
    "    print(\"test_size  = {}, X_test  is {}, and y_test is {}\".format(TEST_SIZE, X_test1.shape[0], y_test1.shape[0]))\n",
    "                                                            \n",
    "    return X_train1, X_test1, y_train1, y_test1"
   ]
  },
  {
   "cell_type": "code",
   "execution_count": 1248,
   "metadata": {
    "pycharm": {
     "is_executing": false
    }
   },
   "outputs": [],
   "source": [
    "def print_training_and_test_scores(model, X_train, X_test, y_train, y_test):\n",
    "    \n",
    "    ## Let's score it with the test data set    this is new 13-Aug-2019\n",
    "    training_score = model.score(X_train, y_train) \n",
    "    printFormatted(\"### Training score = {:.2%}\".format(training_score))\n",
    "    \n",
    "    ## Let's score it with the test data set  this is new 13-Aug-2019\n",
    "    test_score = model.score(X_test, y_test)\n",
    "    printFormatted(\"### Test score = {:.2%}\".format(test_score))"
   ]
  },
  {
   "cell_type": "code",
   "execution_count": 1249,
   "metadata": {
    "pycharm": {
     "is_executing": false
    }
   },
   "outputs": [],
   "source": [
    "def printFormatted(string):\n",
    "    newline = '\\n'\n",
    "    display(Markdown(string))\n",
    "    write_to_logfile(string+newline)"
   ]
  },
  {
   "cell_type": "markdown",
   "metadata": {},
   "source": [
    "#### Here we load the Movies_Metadata file"
   ]
  },
  {
   "cell_type": "code",
   "execution_count": 1250,
   "metadata": {},
   "outputs": [
    {
     "name": "stdout",
     "output_type": "stream",
     "text": [
      "fullfilename = ./the-movies-dataset/movies_metadata.csv\n",
      "There are 45466 rows in this file.\n",
      "There are 41935 clean df_movie_metadata rows in this file.\n"
     ]
    }
   ],
   "source": [
    "#We only want these columns\n",
    "usecols = [\n",
    "'budget',\n",
    "'genres',\n",
    "'id',\n",
    "'release_date',\n",
    "'revenue',\n",
    "'runtime',\n",
    "'status',\n",
    "'title',\n",
    "'overview'\n",
    "]\n",
    "df_movie_metadata = file_stuff(\"./the-movies-dataset\", \"movies_metadata.csv\", \n",
    "                               zipfilename=ZIPFILENAME, usecols=usecols)\n",
    "\n",
    "\n",
    "df_movie_metadata['overview'] = df_movie_metadata['overview'].str.replace('\\d+', '') # We want to remove all numbers from the Overview\n",
    "df_movie_metadata[\"overview\"] = df_movie_metadata['overview'].str.replace('[^\\w\\s]','') # We want to remove all punctuation from Overview\n",
    "df_movie_metadata = df_movie_metadata[df_movie_metadata['status'] == 'Released'] # We only want movies that were released\n",
    "df_movie_metadata = df_movie_metadata[df_movie_metadata['genres'].notna()] # We do not want any rows that have a Genre of NA(Null)\n",
    "df_movie_metadata.dropna(inplace=True)\n",
    "df_movie_metadata.dropna(subset=['release_date'], inplace=True) # We want to remove movies without release dates\n",
    "df_movie_metadata = df_movie_metadata[df_movie_metadata.genres != '[]'] # We want to remove movies with a genres that have an empty list\n",
    "print(\"There are {} clean df_movie_metadata rows in this file.\".format(df_movie_metadata.shape[0]))"
   ]
  },
  {
   "cell_type": "markdown",
   "metadata": {},
   "source": [
    "##### Here are the first 5 rows from the Movies Medata file"
   ]
  },
  {
   "cell_type": "code",
   "execution_count": 1251,
   "metadata": {},
   "outputs": [
    {
     "data": {
      "text/html": [
       "<div>\n",
       "<style scoped>\n",
       "    .dataframe tbody tr th:only-of-type {\n",
       "        vertical-align: middle;\n",
       "    }\n",
       "\n",
       "    .dataframe tbody tr th {\n",
       "        vertical-align: top;\n",
       "    }\n",
       "\n",
       "    .dataframe thead th {\n",
       "        text-align: right;\n",
       "    }\n",
       "</style>\n",
       "<table border=\"1\" class=\"dataframe\">\n",
       "  <thead>\n",
       "    <tr style=\"text-align: right;\">\n",
       "      <th></th>\n",
       "      <th>budget</th>\n",
       "      <th>genres</th>\n",
       "      <th>id</th>\n",
       "      <th>overview</th>\n",
       "      <th>release_date</th>\n",
       "      <th>revenue</th>\n",
       "      <th>runtime</th>\n",
       "      <th>status</th>\n",
       "      <th>title</th>\n",
       "    </tr>\n",
       "  </thead>\n",
       "  <tbody>\n",
       "    <tr>\n",
       "      <th>0</th>\n",
       "      <td>30000000</td>\n",
       "      <td>[{'id': 16, 'name': 'Animation'}, {'id': 35, '...</td>\n",
       "      <td>862</td>\n",
       "      <td>Led by Woody Andys toys live happily in his ro...</td>\n",
       "      <td>1995-10-30</td>\n",
       "      <td>373554033.0</td>\n",
       "      <td>81.0</td>\n",
       "      <td>Released</td>\n",
       "      <td>Toy Story</td>\n",
       "    </tr>\n",
       "    <tr>\n",
       "      <th>1</th>\n",
       "      <td>65000000</td>\n",
       "      <td>[{'id': 12, 'name': 'Adventure'}, {'id': 14, '...</td>\n",
       "      <td>8844</td>\n",
       "      <td>When siblings Judy and Peter discover an encha...</td>\n",
       "      <td>1995-12-15</td>\n",
       "      <td>262797249.0</td>\n",
       "      <td>104.0</td>\n",
       "      <td>Released</td>\n",
       "      <td>Jumanji</td>\n",
       "    </tr>\n",
       "    <tr>\n",
       "      <th>2</th>\n",
       "      <td>0</td>\n",
       "      <td>[{'id': 10749, 'name': 'Romance'}, {'id': 35, ...</td>\n",
       "      <td>15602</td>\n",
       "      <td>A family wedding reignites the ancient feud be...</td>\n",
       "      <td>1995-12-22</td>\n",
       "      <td>0.0</td>\n",
       "      <td>101.0</td>\n",
       "      <td>Released</td>\n",
       "      <td>Grumpier Old Men</td>\n",
       "    </tr>\n",
       "    <tr>\n",
       "      <th>3</th>\n",
       "      <td>16000000</td>\n",
       "      <td>[{'id': 35, 'name': 'Comedy'}, {'id': 18, 'nam...</td>\n",
       "      <td>31357</td>\n",
       "      <td>Cheated on mistreated and stepped on the women...</td>\n",
       "      <td>1995-12-22</td>\n",
       "      <td>81452156.0</td>\n",
       "      <td>127.0</td>\n",
       "      <td>Released</td>\n",
       "      <td>Waiting to Exhale</td>\n",
       "    </tr>\n",
       "    <tr>\n",
       "      <th>4</th>\n",
       "      <td>0</td>\n",
       "      <td>[{'id': 35, 'name': 'Comedy'}]</td>\n",
       "      <td>11862</td>\n",
       "      <td>Just when George Banks has recovered from his ...</td>\n",
       "      <td>1995-02-10</td>\n",
       "      <td>76578911.0</td>\n",
       "      <td>106.0</td>\n",
       "      <td>Released</td>\n",
       "      <td>Father of the Bride Part II</td>\n",
       "    </tr>\n",
       "  </tbody>\n",
       "</table>\n",
       "</div>"
      ],
      "text/plain": [
       "     budget                                             genres     id  \\\n",
       "0  30000000  [{'id': 16, 'name': 'Animation'}, {'id': 35, '...    862   \n",
       "1  65000000  [{'id': 12, 'name': 'Adventure'}, {'id': 14, '...   8844   \n",
       "2         0  [{'id': 10749, 'name': 'Romance'}, {'id': 35, ...  15602   \n",
       "3  16000000  [{'id': 35, 'name': 'Comedy'}, {'id': 18, 'nam...  31357   \n",
       "4         0                     [{'id': 35, 'name': 'Comedy'}]  11862   \n",
       "\n",
       "                                            overview release_date  \\\n",
       "0  Led by Woody Andys toys live happily in his ro...   1995-10-30   \n",
       "1  When siblings Judy and Peter discover an encha...   1995-12-15   \n",
       "2  A family wedding reignites the ancient feud be...   1995-12-22   \n",
       "3  Cheated on mistreated and stepped on the women...   1995-12-22   \n",
       "4  Just when George Banks has recovered from his ...   1995-02-10   \n",
       "\n",
       "       revenue  runtime    status                        title  \n",
       "0  373554033.0     81.0  Released                    Toy Story  \n",
       "1  262797249.0    104.0  Released                      Jumanji  \n",
       "2          0.0    101.0  Released             Grumpier Old Men  \n",
       "3   81452156.0    127.0  Released            Waiting to Exhale  \n",
       "4   76578911.0    106.0  Released  Father of the Bride Part II  "
      ]
     },
     "execution_count": 1251,
     "metadata": {},
     "output_type": "execute_result"
    }
   ],
   "source": [
    "df_movie_metadata.head(5)"
   ]
  },
  {
   "cell_type": "markdown",
   "metadata": {},
   "source": [
    "#### Here we load the Credits file"
   ]
  },
  {
   "cell_type": "code",
   "execution_count": 1252,
   "metadata": {},
   "outputs": [
    {
     "name": "stdout",
     "output_type": "stream",
     "text": [
      "fullfilename = ./the-movies-dataset/credits.csv\n",
      "There are 45476 rows in this file.\n",
      "There are 43058 clean credits rows in this file.\n"
     ]
    }
   ],
   "source": [
    "# credits data frame\n",
    "\n",
    "#We only want these columns\n",
    "usecols = [\n",
    "'cast',\n",
    "'id'\n",
    "]\n",
    "\n",
    "df_movie_credits = file_stuff(\"./the-movies-dataset\", \"credits.csv\", \n",
    "                              zipfilename=ZIPFILENAME, usecols=usecols)\n",
    "\n",
    "# Let's cleanup the df_credits dataframe\n",
    "\n",
    "df_movie_credits = df_movie_credits[df_movie_credits.cast != '[]']\n",
    "df_movie_credits = df_movie_credits[df_movie_credits['cast'].notna()]\n",
    "\n",
    "df_movie_credits.dropna(inplace=True)\n",
    "print(\"There are {} clean credits rows in this file.\".format(df_movie_credits.shape[0]))"
   ]
  },
  {
   "cell_type": "markdown",
   "metadata": {},
   "source": [
    "#### Here we load the Keywords file"
   ]
  },
  {
   "cell_type": "code",
   "execution_count": 1253,
   "metadata": {},
   "outputs": [
    {
     "name": "stdout",
     "output_type": "stream",
     "text": [
      "fullfilename = ./the-movies-dataset/keywords.csv\n",
      "There are 46419 rows in this file.\n",
      "There are 31624 clean keywords rows in this file.\n"
     ]
    }
   ],
   "source": [
    "# keywords data frame\n",
    "\n",
    "usecols = [\n",
    "'id',\n",
    "'keywords'\n",
    "]\n",
    "\n",
    "df_movie_keywords = file_stuff(\"./the-movies-dataset\", \"keywords.csv\", \n",
    "                               zipfilename=ZIPFILENAME, usecols=usecols)\n",
    "\n",
    "# Let's cleanup the df_credits dataframe\n",
    "df_movie_keywords.keywords = df_movie_keywords.keywords.apply(literal_eval)\n",
    "df_movie_keywords = df_movie_keywords[(df_movie_keywords.keywords.str.len() > 0)]\n",
    "df_movie_keywords = df_movie_keywords[df_movie_keywords.keywords.notna()]\n",
    "df_movie_credits.dropna(inplace=True)\n",
    "\n",
    "print(\"There are {} clean keywords rows in this file.\".format(df_movie_keywords.shape[0]))"
   ]
  },
  {
   "cell_type": "markdown",
   "metadata": {},
   "source": [
    "#### Here we join all of the Keywords together for each movie into a single string to prepare for transforming them with Tfidf\n",
    "\n",
    "#### We display a sample from 10 movies with the Keywords show as a single string column"
   ]
  },
  {
   "cell_type": "code",
   "execution_count": 1254,
   "metadata": {},
   "outputs": [
    {
     "data": {
      "text/html": [
       "<div>\n",
       "<style scoped>\n",
       "    .dataframe tbody tr th:only-of-type {\n",
       "        vertical-align: middle;\n",
       "    }\n",
       "\n",
       "    .dataframe tbody tr th {\n",
       "        vertical-align: top;\n",
       "    }\n",
       "\n",
       "    .dataframe thead th {\n",
       "        text-align: right;\n",
       "    }\n",
       "</style>\n",
       "<table border=\"1\" class=\"dataframe\">\n",
       "  <thead>\n",
       "    <tr style=\"text-align: right;\">\n",
       "      <th></th>\n",
       "      <th>id</th>\n",
       "      <th>keywords</th>\n",
       "      <th>keywords_list</th>\n",
       "    </tr>\n",
       "  </thead>\n",
       "  <tbody>\n",
       "    <tr>\n",
       "      <th>569</th>\n",
       "      <td>10897</td>\n",
       "      <td>[{'id': 795, 'name': 'running'}, {'id': 4358, ...</td>\n",
       "      <td>running shenanigan friendship clubhaus group o...</td>\n",
       "    </tr>\n",
       "    <tr>\n",
       "      <th>40474</th>\n",
       "      <td>368620</td>\n",
       "      <td>[{'id': 5565, 'name': 'biography'}, {'id': 145...</td>\n",
       "      <td>biography crime woman director</td>\n",
       "    </tr>\n",
       "    <tr>\n",
       "      <th>20799</th>\n",
       "      <td>74394</td>\n",
       "      <td>[{'id': 187056, 'name': 'woman director'}]</td>\n",
       "      <td>woman director</td>\n",
       "    </tr>\n",
       "    <tr>\n",
       "      <th>25993</th>\n",
       "      <td>151044</td>\n",
       "      <td>[{'id': 5565, 'name': 'biography'}, {'id': 187...</td>\n",
       "      <td>biography woman director</td>\n",
       "    </tr>\n",
       "    <tr>\n",
       "      <th>10811</th>\n",
       "      <td>16781</td>\n",
       "      <td>[{'id': 9888, 'name': 'spanking'}, {'id': 1018...</td>\n",
       "      <td>spanking based on play or musical</td>\n",
       "    </tr>\n",
       "    <tr>\n",
       "      <th>18049</th>\n",
       "      <td>70196</td>\n",
       "      <td>[{'id': 447, 'name': 'post traumatic stress  d...</td>\n",
       "      <td>post traumatic stress  disorder war veteran wa...</td>\n",
       "    </tr>\n",
       "    <tr>\n",
       "      <th>22641</th>\n",
       "      <td>96482</td>\n",
       "      <td>[{'id': 191786, 'name': 'stenographer'}]</td>\n",
       "      <td>stenographer</td>\n",
       "    </tr>\n",
       "    <tr>\n",
       "      <th>6921</th>\n",
       "      <td>1594</td>\n",
       "      <td>[{'id': 2619, 'name': 'suspicion of murder'}, ...</td>\n",
       "      <td>suspicion of murder unskillfulness pink panther</td>\n",
       "    </tr>\n",
       "    <tr>\n",
       "      <th>1987</th>\n",
       "      <td>10882</td>\n",
       "      <td>[{'id': 2116, 'name': 'sleep'}, {'id': 2343, '...</td>\n",
       "      <td>sleep magic prince castle fairy tale kingdom m...</td>\n",
       "    </tr>\n",
       "    <tr>\n",
       "      <th>6832</th>\n",
       "      <td>17831</td>\n",
       "      <td>[{'id': 1430, 'name': 'self sacrifice'}, {'id'...</td>\n",
       "      <td>self sacrifice french revolution guillotine</td>\n",
       "    </tr>\n",
       "  </tbody>\n",
       "</table>\n",
       "</div>"
      ],
      "text/plain": [
       "           id                                           keywords  \\\n",
       "569     10897  [{'id': 795, 'name': 'running'}, {'id': 4358, ...   \n",
       "40474  368620  [{'id': 5565, 'name': 'biography'}, {'id': 145...   \n",
       "20799   74394         [{'id': 187056, 'name': 'woman director'}]   \n",
       "25993  151044  [{'id': 5565, 'name': 'biography'}, {'id': 187...   \n",
       "10811   16781  [{'id': 9888, 'name': 'spanking'}, {'id': 1018...   \n",
       "18049   70196  [{'id': 447, 'name': 'post traumatic stress  d...   \n",
       "22641   96482           [{'id': 191786, 'name': 'stenographer'}]   \n",
       "6921     1594  [{'id': 2619, 'name': 'suspicion of murder'}, ...   \n",
       "1987    10882  [{'id': 2116, 'name': 'sleep'}, {'id': 2343, '...   \n",
       "6832    17831  [{'id': 1430, 'name': 'self sacrifice'}, {'id'...   \n",
       "\n",
       "                                           keywords_list  \n",
       "569    running shenanigan friendship clubhaus group o...  \n",
       "40474                     biography crime woman director  \n",
       "20799                                     woman director  \n",
       "25993                           biography woman director  \n",
       "10811                  spanking based on play or musical  \n",
       "18049  post traumatic stress  disorder war veteran wa...  \n",
       "22641                                       stenographer  \n",
       "6921     suspicion of murder unskillfulness pink panther  \n",
       "1987   sleep magic prince castle fairy tale kingdom m...  \n",
       "6832         self sacrifice french revolution guillotine  "
      ]
     },
     "execution_count": 1254,
     "metadata": {},
     "output_type": "execute_result"
    }
   ],
   "source": [
    "# Let's string all keywords together in preparation for tfidf\n",
    "\n",
    "def string_all_keywords(r):\n",
    "    return \" \".join([sub['name'] for sub in r])\n",
    "\n",
    "df_movie_keywords['keywords_list']   = df_movie_keywords['keywords'].apply(lambda row: string_all_keywords(row))\n",
    "df_movie_keywords.sample(10)"
   ]
  },
  {
   "cell_type": "markdown",
   "metadata": {},
   "source": [
    "#### Here we set the column types for the Pandas dataframe to the correct datatypes"
   ]
  },
  {
   "cell_type": "code",
   "execution_count": 1255,
   "metadata": {},
   "outputs": [],
   "source": [
    "# set the data types\n",
    "# df_movie_metadata.head(5)\n",
    "df_movie_metadata.dtypes\n",
    "df_movie_metadata['release_date'] = df_movie_metadata.release_date.astype('datetime64[ns]')\n",
    "df_movie_metadata.id = df_movie_metadata.id.astype('int')\n",
    "df_movie_metadata.runtime = df_movie_metadata.runtime.astype('int')\n",
    "# df_movie_metadata.video = df_movie_metadata.video.astype('bool')\n",
    "df_movie_metadata.budget = df_movie_metadata.budget.astype('float64')\n",
    "df_movie_credits.id = df_movie_credits.id.astype('int')\n",
    "df_movie_metadata.overview = df_movie_metadata.overview.astype('object')"
   ]
  },
  {
   "cell_type": "markdown",
   "metadata": {},
   "source": [
    "####  Let's merge the dataframes df_movie_metadata with df_movie credits"
   ]
  },
  {
   "cell_type": "code",
   "execution_count": 1256,
   "metadata": {},
   "outputs": [],
   "source": [
    "df_movies_dataset = pd.merge(left=df_movie_metadata, right=df_movie_credits, left_on='id', right_on='id')\n",
    "df_movies_dataset = pd.merge(left=df_movies_dataset, right=df_movie_keywords[['id','keywords_list']], left_on='id', right_on='id')\n",
    "df_movies_dataset['overview_keywords'] = df_movies_dataset.overview + ' ' + df_movies_dataset.keywords_list + ' ' + df_movies_dataset.title\n",
    "df_movies_dataset['overview_keywords'] = df_movies_dataset.overview_keywords.str.replace(r'\\b\\w\\b','').str.replace(r'\\s+', ' ') # remove single letter values"
   ]
  },
  {
   "cell_type": "markdown",
   "metadata": {},
   "source": [
    "#### Here are the first 5 rows from the merged Movies Metadata file along with the Keywords file"
   ]
  },
  {
   "cell_type": "code",
   "execution_count": 1257,
   "metadata": {},
   "outputs": [
    {
     "data": {
      "text/html": [
       "<div>\n",
       "<style scoped>\n",
       "    .dataframe tbody tr th:only-of-type {\n",
       "        vertical-align: middle;\n",
       "    }\n",
       "\n",
       "    .dataframe tbody tr th {\n",
       "        vertical-align: top;\n",
       "    }\n",
       "\n",
       "    .dataframe thead th {\n",
       "        text-align: right;\n",
       "    }\n",
       "</style>\n",
       "<table border=\"1\" class=\"dataframe\">\n",
       "  <thead>\n",
       "    <tr style=\"text-align: right;\">\n",
       "      <th></th>\n",
       "      <th>budget</th>\n",
       "      <th>genres</th>\n",
       "      <th>id</th>\n",
       "      <th>overview</th>\n",
       "      <th>release_date</th>\n",
       "      <th>revenue</th>\n",
       "      <th>runtime</th>\n",
       "      <th>status</th>\n",
       "      <th>title</th>\n",
       "      <th>cast</th>\n",
       "      <th>keywords_list</th>\n",
       "      <th>overview_keywords</th>\n",
       "    </tr>\n",
       "  </thead>\n",
       "  <tbody>\n",
       "    <tr>\n",
       "      <th>0</th>\n",
       "      <td>30000000.0</td>\n",
       "      <td>[{'id': 16, 'name': 'Animation'}, {'id': 35, '...</td>\n",
       "      <td>862</td>\n",
       "      <td>Led by Woody Andys toys live happily in his ro...</td>\n",
       "      <td>1995-10-30</td>\n",
       "      <td>373554033.0</td>\n",
       "      <td>81</td>\n",
       "      <td>Released</td>\n",
       "      <td>Toy Story</td>\n",
       "      <td>[{'cast_id': 14, 'character': 'Woody (voice)',...</td>\n",
       "      <td>jealousy toy boy friendship friends rivalry bo...</td>\n",
       "      <td>Led by Woody Andys toys live happily in his ro...</td>\n",
       "    </tr>\n",
       "    <tr>\n",
       "      <th>1</th>\n",
       "      <td>65000000.0</td>\n",
       "      <td>[{'id': 12, 'name': 'Adventure'}, {'id': 14, '...</td>\n",
       "      <td>8844</td>\n",
       "      <td>When siblings Judy and Peter discover an encha...</td>\n",
       "      <td>1995-12-15</td>\n",
       "      <td>262797249.0</td>\n",
       "      <td>104</td>\n",
       "      <td>Released</td>\n",
       "      <td>Jumanji</td>\n",
       "      <td>[{'cast_id': 1, 'character': 'Alan Parrish', '...</td>\n",
       "      <td>board game disappearance based on children's b...</td>\n",
       "      <td>When siblings Judy and Peter discover an encha...</td>\n",
       "    </tr>\n",
       "    <tr>\n",
       "      <th>2</th>\n",
       "      <td>0.0</td>\n",
       "      <td>[{'id': 10749, 'name': 'Romance'}, {'id': 35, ...</td>\n",
       "      <td>15602</td>\n",
       "      <td>A family wedding reignites the ancient feud be...</td>\n",
       "      <td>1995-12-22</td>\n",
       "      <td>0.0</td>\n",
       "      <td>101</td>\n",
       "      <td>Released</td>\n",
       "      <td>Grumpier Old Men</td>\n",
       "      <td>[{'cast_id': 2, 'character': 'Max Goldman', 'c...</td>\n",
       "      <td>fishing best friend duringcreditsstinger old men</td>\n",
       "      <td>family wedding reignites the ancient feud bet...</td>\n",
       "    </tr>\n",
       "    <tr>\n",
       "      <th>3</th>\n",
       "      <td>16000000.0</td>\n",
       "      <td>[{'id': 35, 'name': 'Comedy'}, {'id': 18, 'nam...</td>\n",
       "      <td>31357</td>\n",
       "      <td>Cheated on mistreated and stepped on the women...</td>\n",
       "      <td>1995-12-22</td>\n",
       "      <td>81452156.0</td>\n",
       "      <td>127</td>\n",
       "      <td>Released</td>\n",
       "      <td>Waiting to Exhale</td>\n",
       "      <td>[{'cast_id': 1, 'character': \"Savannah 'Vannah...</td>\n",
       "      <td>based on novel interracial relationship single...</td>\n",
       "      <td>Cheated on mistreated and stepped on the women...</td>\n",
       "    </tr>\n",
       "    <tr>\n",
       "      <th>4</th>\n",
       "      <td>0.0</td>\n",
       "      <td>[{'id': 35, 'name': 'Comedy'}]</td>\n",
       "      <td>11862</td>\n",
       "      <td>Just when George Banks has recovered from his ...</td>\n",
       "      <td>1995-02-10</td>\n",
       "      <td>76578911.0</td>\n",
       "      <td>106</td>\n",
       "      <td>Released</td>\n",
       "      <td>Father of the Bride Part II</td>\n",
       "      <td>[{'cast_id': 1, 'character': 'George Banks', '...</td>\n",
       "      <td>baby midlife crisis confidence aging daughter ...</td>\n",
       "      <td>Just when George Banks has recovered from his ...</td>\n",
       "    </tr>\n",
       "  </tbody>\n",
       "</table>\n",
       "</div>"
      ],
      "text/plain": [
       "       budget                                             genres     id  \\\n",
       "0  30000000.0  [{'id': 16, 'name': 'Animation'}, {'id': 35, '...    862   \n",
       "1  65000000.0  [{'id': 12, 'name': 'Adventure'}, {'id': 14, '...   8844   \n",
       "2         0.0  [{'id': 10749, 'name': 'Romance'}, {'id': 35, ...  15602   \n",
       "3  16000000.0  [{'id': 35, 'name': 'Comedy'}, {'id': 18, 'nam...  31357   \n",
       "4         0.0                     [{'id': 35, 'name': 'Comedy'}]  11862   \n",
       "\n",
       "                                            overview release_date  \\\n",
       "0  Led by Woody Andys toys live happily in his ro...   1995-10-30   \n",
       "1  When siblings Judy and Peter discover an encha...   1995-12-15   \n",
       "2  A family wedding reignites the ancient feud be...   1995-12-22   \n",
       "3  Cheated on mistreated and stepped on the women...   1995-12-22   \n",
       "4  Just when George Banks has recovered from his ...   1995-02-10   \n",
       "\n",
       "       revenue  runtime    status                        title  \\\n",
       "0  373554033.0       81  Released                    Toy Story   \n",
       "1  262797249.0      104  Released                      Jumanji   \n",
       "2          0.0      101  Released             Grumpier Old Men   \n",
       "3   81452156.0      127  Released            Waiting to Exhale   \n",
       "4   76578911.0      106  Released  Father of the Bride Part II   \n",
       "\n",
       "                                                cast  \\\n",
       "0  [{'cast_id': 14, 'character': 'Woody (voice)',...   \n",
       "1  [{'cast_id': 1, 'character': 'Alan Parrish', '...   \n",
       "2  [{'cast_id': 2, 'character': 'Max Goldman', 'c...   \n",
       "3  [{'cast_id': 1, 'character': \"Savannah 'Vannah...   \n",
       "4  [{'cast_id': 1, 'character': 'George Banks', '...   \n",
       "\n",
       "                                       keywords_list  \\\n",
       "0  jealousy toy boy friendship friends rivalry bo...   \n",
       "1  board game disappearance based on children's b...   \n",
       "2   fishing best friend duringcreditsstinger old men   \n",
       "3  based on novel interracial relationship single...   \n",
       "4  baby midlife crisis confidence aging daughter ...   \n",
       "\n",
       "                                   overview_keywords  \n",
       "0  Led by Woody Andys toys live happily in his ro...  \n",
       "1  When siblings Judy and Peter discover an encha...  \n",
       "2   family wedding reignites the ancient feud bet...  \n",
       "3  Cheated on mistreated and stepped on the women...  \n",
       "4  Just when George Banks has recovered from his ...  "
      ]
     },
     "execution_count": 1257,
     "metadata": {},
     "output_type": "execute_result"
    }
   ],
   "source": [
    "df_movies_dataset.head(5)"
   ]
  },
  {
   "cell_type": "markdown",
   "metadata": {},
   "source": [
    "#### Here we need to extract the first Genre from the list of genre dictionaries, and set it as the primary Genre, and to do similarly for the Lead Actor.  \n",
    "\n",
    "#### We are making the assumption that the Lead Actor, actor with Id=0 is the lead actor, and that Genre, with Id=0 is the Primary Genre."
   ]
  },
  {
   "cell_type": "code",
   "execution_count": 1258,
   "metadata": {},
   "outputs": [],
   "source": [
    "# Extract genre and lead_actor\n",
    "df_movies_dataset.head(20)\n",
    "def get_first_name_in_list(r, column_number, colname):\n",
    "    return eval(r.values.tolist()[column_number])[0]['{}'.format(colname)]\n",
    "\n",
    "df_movies_dataset['genre']      = df_movies_dataset.apply(lambda row: get_first_name_in_list(row, 1,'name'), axis=1) # get genre for supervised learning\n",
    "df_movies_dataset['lead_actor'] = df_movies_dataset.apply(lambda row: get_first_name_in_list(row, 9,'name'), axis=1) "
   ]
  },
  {
   "cell_type": "code",
   "execution_count": 1259,
   "metadata": {},
   "outputs": [
    {
     "data": {
      "text/html": [
       "<div>\n",
       "<style scoped>\n",
       "    .dataframe tbody tr th:only-of-type {\n",
       "        vertical-align: middle;\n",
       "    }\n",
       "\n",
       "    .dataframe tbody tr th {\n",
       "        vertical-align: top;\n",
       "    }\n",
       "\n",
       "    .dataframe thead th {\n",
       "        text-align: right;\n",
       "    }\n",
       "</style>\n",
       "<table border=\"1\" class=\"dataframe\">\n",
       "  <thead>\n",
       "    <tr style=\"text-align: right;\">\n",
       "      <th></th>\n",
       "      <th>budget</th>\n",
       "      <th>genres</th>\n",
       "      <th>id</th>\n",
       "      <th>overview</th>\n",
       "      <th>release_date</th>\n",
       "      <th>revenue</th>\n",
       "      <th>runtime</th>\n",
       "      <th>status</th>\n",
       "      <th>title</th>\n",
       "      <th>cast</th>\n",
       "      <th>keywords_list</th>\n",
       "      <th>overview_keywords</th>\n",
       "      <th>genre</th>\n",
       "      <th>lead_actor</th>\n",
       "    </tr>\n",
       "  </thead>\n",
       "  <tbody>\n",
       "    <tr>\n",
       "      <th>0</th>\n",
       "      <td>30000000.0</td>\n",
       "      <td>[{'id': 16, 'name': 'Animation'}, {'id': 35, '...</td>\n",
       "      <td>862</td>\n",
       "      <td>Led by Woody Andys toys live happily in his ro...</td>\n",
       "      <td>1995-10-30</td>\n",
       "      <td>373554033.0</td>\n",
       "      <td>81</td>\n",
       "      <td>Released</td>\n",
       "      <td>Toy Story</td>\n",
       "      <td>[{'cast_id': 14, 'character': 'Woody (voice)',...</td>\n",
       "      <td>jealousy toy boy friendship friends rivalry bo...</td>\n",
       "      <td>Led by Woody Andys toys live happily in his ro...</td>\n",
       "      <td>Animation</td>\n",
       "      <td>Tom Hanks</td>\n",
       "    </tr>\n",
       "    <tr>\n",
       "      <th>1</th>\n",
       "      <td>65000000.0</td>\n",
       "      <td>[{'id': 12, 'name': 'Adventure'}, {'id': 14, '...</td>\n",
       "      <td>8844</td>\n",
       "      <td>When siblings Judy and Peter discover an encha...</td>\n",
       "      <td>1995-12-15</td>\n",
       "      <td>262797249.0</td>\n",
       "      <td>104</td>\n",
       "      <td>Released</td>\n",
       "      <td>Jumanji</td>\n",
       "      <td>[{'cast_id': 1, 'character': 'Alan Parrish', '...</td>\n",
       "      <td>board game disappearance based on children's b...</td>\n",
       "      <td>When siblings Judy and Peter discover an encha...</td>\n",
       "      <td>Adventure</td>\n",
       "      <td>Robin Williams</td>\n",
       "    </tr>\n",
       "    <tr>\n",
       "      <th>2</th>\n",
       "      <td>0.0</td>\n",
       "      <td>[{'id': 10749, 'name': 'Romance'}, {'id': 35, ...</td>\n",
       "      <td>15602</td>\n",
       "      <td>A family wedding reignites the ancient feud be...</td>\n",
       "      <td>1995-12-22</td>\n",
       "      <td>0.0</td>\n",
       "      <td>101</td>\n",
       "      <td>Released</td>\n",
       "      <td>Grumpier Old Men</td>\n",
       "      <td>[{'cast_id': 2, 'character': 'Max Goldman', 'c...</td>\n",
       "      <td>fishing best friend duringcreditsstinger old men</td>\n",
       "      <td>family wedding reignites the ancient feud bet...</td>\n",
       "      <td>Romance</td>\n",
       "      <td>Walter Matthau</td>\n",
       "    </tr>\n",
       "    <tr>\n",
       "      <th>3</th>\n",
       "      <td>16000000.0</td>\n",
       "      <td>[{'id': 35, 'name': 'Comedy'}, {'id': 18, 'nam...</td>\n",
       "      <td>31357</td>\n",
       "      <td>Cheated on mistreated and stepped on the women...</td>\n",
       "      <td>1995-12-22</td>\n",
       "      <td>81452156.0</td>\n",
       "      <td>127</td>\n",
       "      <td>Released</td>\n",
       "      <td>Waiting to Exhale</td>\n",
       "      <td>[{'cast_id': 1, 'character': \"Savannah 'Vannah...</td>\n",
       "      <td>based on novel interracial relationship single...</td>\n",
       "      <td>Cheated on mistreated and stepped on the women...</td>\n",
       "      <td>Comedy</td>\n",
       "      <td>Whitney Houston</td>\n",
       "    </tr>\n",
       "    <tr>\n",
       "      <th>4</th>\n",
       "      <td>0.0</td>\n",
       "      <td>[{'id': 35, 'name': 'Comedy'}]</td>\n",
       "      <td>11862</td>\n",
       "      <td>Just when George Banks has recovered from his ...</td>\n",
       "      <td>1995-02-10</td>\n",
       "      <td>76578911.0</td>\n",
       "      <td>106</td>\n",
       "      <td>Released</td>\n",
       "      <td>Father of the Bride Part II</td>\n",
       "      <td>[{'cast_id': 1, 'character': 'George Banks', '...</td>\n",
       "      <td>baby midlife crisis confidence aging daughter ...</td>\n",
       "      <td>Just when George Banks has recovered from his ...</td>\n",
       "      <td>Comedy</td>\n",
       "      <td>Steve Martin</td>\n",
       "    </tr>\n",
       "  </tbody>\n",
       "</table>\n",
       "</div>"
      ],
      "text/plain": [
       "       budget                                             genres     id  \\\n",
       "0  30000000.0  [{'id': 16, 'name': 'Animation'}, {'id': 35, '...    862   \n",
       "1  65000000.0  [{'id': 12, 'name': 'Adventure'}, {'id': 14, '...   8844   \n",
       "2         0.0  [{'id': 10749, 'name': 'Romance'}, {'id': 35, ...  15602   \n",
       "3  16000000.0  [{'id': 35, 'name': 'Comedy'}, {'id': 18, 'nam...  31357   \n",
       "4         0.0                     [{'id': 35, 'name': 'Comedy'}]  11862   \n",
       "\n",
       "                                            overview release_date  \\\n",
       "0  Led by Woody Andys toys live happily in his ro...   1995-10-30   \n",
       "1  When siblings Judy and Peter discover an encha...   1995-12-15   \n",
       "2  A family wedding reignites the ancient feud be...   1995-12-22   \n",
       "3  Cheated on mistreated and stepped on the women...   1995-12-22   \n",
       "4  Just when George Banks has recovered from his ...   1995-02-10   \n",
       "\n",
       "       revenue  runtime    status                        title  \\\n",
       "0  373554033.0       81  Released                    Toy Story   \n",
       "1  262797249.0      104  Released                      Jumanji   \n",
       "2          0.0      101  Released             Grumpier Old Men   \n",
       "3   81452156.0      127  Released            Waiting to Exhale   \n",
       "4   76578911.0      106  Released  Father of the Bride Part II   \n",
       "\n",
       "                                                cast  \\\n",
       "0  [{'cast_id': 14, 'character': 'Woody (voice)',...   \n",
       "1  [{'cast_id': 1, 'character': 'Alan Parrish', '...   \n",
       "2  [{'cast_id': 2, 'character': 'Max Goldman', 'c...   \n",
       "3  [{'cast_id': 1, 'character': \"Savannah 'Vannah...   \n",
       "4  [{'cast_id': 1, 'character': 'George Banks', '...   \n",
       "\n",
       "                                       keywords_list  \\\n",
       "0  jealousy toy boy friendship friends rivalry bo...   \n",
       "1  board game disappearance based on children's b...   \n",
       "2   fishing best friend duringcreditsstinger old men   \n",
       "3  based on novel interracial relationship single...   \n",
       "4  baby midlife crisis confidence aging daughter ...   \n",
       "\n",
       "                                   overview_keywords      genre  \\\n",
       "0  Led by Woody Andys toys live happily in his ro...  Animation   \n",
       "1  When siblings Judy and Peter discover an encha...  Adventure   \n",
       "2   family wedding reignites the ancient feud bet...    Romance   \n",
       "3  Cheated on mistreated and stepped on the women...     Comedy   \n",
       "4  Just when George Banks has recovered from his ...     Comedy   \n",
       "\n",
       "        lead_actor  \n",
       "0        Tom Hanks  \n",
       "1   Robin Williams  \n",
       "2   Walter Matthau  \n",
       "3  Whitney Houston  \n",
       "4     Steve Martin  "
      ]
     },
     "execution_count": 1259,
     "metadata": {},
     "output_type": "execute_result"
    }
   ],
   "source": [
    "df_movies_dataset.head(5)"
   ]
  },
  {
   "cell_type": "markdown",
   "metadata": {},
   "source": [
    "#### Here I define a number of functions that have been parameterized for use in this model, and allow the passing of parameters, to make the code more effiient and scalable."
   ]
  },
  {
   "cell_type": "code",
   "execution_count": 1260,
   "metadata": {
    "pycharm": {
     "is_executing": false
    }
   },
   "outputs": [],
   "source": [
    "def run_tfidf_vectorizer(df, max_df=0.5, min_df=2, stop_words='english', lowercase=True, use_idf=True, norm=u'l2', smooth_idf=True):\n",
    "    print_timestamp(\"in run_tfidf_vectorizer: df is a {} datatype.\".format(type(df)))\n",
    "    vectorizer = TfidfVectorizer(\n",
    "                             max_df=max_df, # drop words that occur in more than half the paragraphs\n",
    "                             min_df=min_df, # only use words that appear at least twice\n",
    "                             stop_words=stop_words, \n",
    "                             lowercase=lowercase, #convert everything to lower case (since Alice in Wonderland has the HABIT of CAPITALIZING WORDS for EMPHASIS)\n",
    "                             use_idf=use_idf,#we definitely want to use inverse document frequencies in our weighting\n",
    "                             norm=norm, #Applies a correction factor so that longer paragraphs and shorter paragraphs get treated equally\n",
    "                             smooth_idf=smooth_idf #Adds 1 to all document frequencies, as if an extra document existed that used every word once.  Prevents divide-by-zero errors\n",
    "                            )\n",
    "\n",
    "    #Applying the vectorizer\n",
    "    tfidf_df = vectorizer.fit(df)\n",
    "    \n",
    "    return tfidf_df, vectorizer"
   ]
  },
  {
   "cell_type": "code",
   "execution_count": 1261,
   "metadata": {
    "pycharm": {
     "is_executing": false
    }
   },
   "outputs": [],
   "source": [
    "def run_tfidf_vectorizer2(df, parameters={}):\n",
    "    print_timestamp(\"in run_tfidf_vectorizer: df is a {} datatype.\".format(type(df)))\n",
    "    if parameters:\n",
    "        print(\"parms = {}\".format(parameters))\n",
    "    vectorizer = TfidfVectorizer()\n",
    "    vectorizer.set_params(**parameters)\n",
    "\n",
    "    #Applying the vectorizer\n",
    "    tfidf_df = vectorizer.fit_transform(df)\n",
    "    print(\"tfidf_df is a {} datatype\".format(type(tfidf_df)))\n",
    "    \n",
    "    tfidf_df_dense = tfidf_df.toarray()\n",
    "    print(\"tfidf_df_dense is a {} datatype\".format(type(tfidf_df_dense)))\n",
    "\n",
    "    return tfidf_df_dense"
   ]
  },
  {
   "cell_type": "code",
   "execution_count": 1262,
   "metadata": {},
   "outputs": [],
   "source": [
    "def run_tfidf_vectorizer3(df, parameters={}):\n",
    "    # from https://towardsdatascience.com/natural-language-processing-feature-engineering-using-tf-idf-e8b9d00e7e76\n",
    "    vectorizer = TfidfVectorizer(**parameters)\n",
    "    vectors = vectorizer.fit_transform(df.values.astype('U'))\n",
    "    feature_names = vectorizer.get_feature_names()\n",
    "    tfidf_df_dense = vectors.toarray()\n",
    "    df = pd.DataFrame(tfidf_df_dense, columns=feature_names)\n",
    "\n",
    "    return df"
   ]
  },
  {
   "cell_type": "code",
   "execution_count": 1263,
   "metadata": {
    "pycharm": {
     "is_executing": false
    }
   },
   "outputs": [],
   "source": [
    "def do_the_elbow(X, maxK=11):\n",
    "    printFormatted(\"## We are plotting the elbow method!\")\n",
    "    print_timestamp('\\n'*3+'Begin')\n",
    "    # calculate distortion for a range of number of cluster\n",
    "    distortions = []\n",
    "    for i in range(1, maxK):\n",
    "        km = KMeans(\n",
    "            n_clusters=i, init='random',\n",
    "            n_init=10, max_iter=300,\n",
    "            tol=1e-04, random_state=0\n",
    "        )\n",
    "        km.fit(X)\n",
    "        distortions.append(km.inertia_)\n",
    "\n",
    "    # plot\n",
    "    plt.plot(range(1, maxK), distortions, marker='o')\n",
    "    plt.xlabel('Number of clusters')\n",
    "    plt.ylabel('Distortion')\n",
    "    plt.show()\n",
    "    \n",
    "    print_timestamp('\\n'*3+'End')"
   ]
  },
  {
   "cell_type": "code",
   "execution_count": 1264,
   "metadata": {
    "pycharm": {
     "is_executing": false
    }
   },
   "outputs": [],
   "source": [
    "def rfc_and_feature_importances(X, y, params={}):    # Here we are using Random Forest classifier method to determine the top 30 features.\n",
    "    \n",
    "    X_train, X_test, y_train, y_test = train_test_split(X, y, test_size=TEST_SIZE, train_size=TRAIN_SIZE)\n",
    "    \n",
    "    rfc = ensemble.RandomForestClassifier(**params)\n",
    "    ## Fit the model on your training data.\n",
    "    rfc.fit(X_train, y_train) \n",
    "    \n",
    "    ## And score it on your testing data.\n",
    "    rfc.score(X_test, y_test)\n",
    "\n",
    "    feature_importance = rfc.feature_importances_\n",
    "\n",
    "    # Make importances relative to max importance.\n",
    "    feature_importance = 100.0 * (feature_importance / feature_importance.max())\n",
    "    sorted_idx = np.argsort(feature_importance)\n",
    "    cols=X.columns[sorted_idx].tolist() \n",
    "    cols=cols[::-1]\n",
    "    pos = np.arange(sorted_idx.shape[0]) + .5\n",
    "    plt.subplot(1, 2, 2)\n",
    "    plt.barh(pos, feature_importance[sorted_idx], align='center')\n",
    "    plt.yticks(pos, X.columns[sorted_idx])\n",
    "    plt.xlabel('Relative Importance')\n",
    "    plt.title('Variable Importance')\n",
    "    plt.show()\n",
    "#     print(\"We are returning these columns {}\".format(cols))\n",
    "    return cols[:30] # return it sorted"
   ]
  },
  {
   "cell_type": "code",
   "execution_count": 1265,
   "metadata": {},
   "outputs": [],
   "source": [
    "def run_affinity_propagation(data, target, params={}):\n",
    "      \n",
    "    print_timestamp('\\n'*3+'starting AffinityPropagation')\n",
    "\n",
    "    if len(params) > 0:\n",
    "        printFormatted(\"params are {}\".format(params))\n",
    "    else:\n",
    "        printFormatted(\"Using default params in run_affinity_propagation.\")\n",
    "        \n",
    "    print_timestamp('\\n'*3+'Begin')\n",
    "    \n",
    "    ap = AffinityPropagation(**params)\n",
    "\n",
    "    model = ap.fit(data)\n",
    "    pred = ap.predict(data)\n",
    "\n",
    "    Z = merge_predict_and_cluster(data, target, pred) # let's merge the data dataframe, prediction, and the cluster\n",
    "    \n",
    "    # Pull the number of clusters and cluster assignments for each data point.\n",
    "    cluster_centers_indices = ap.cluster_centers_indices_\n",
    "    n_clusters_ = len(cluster_centers_indices)\n",
    "    labels = ap.labels_\n",
    "    \n",
    "    print('Estimated number of clusters: {}'.format(n_clusters_))\n",
    "\n",
    "    labels = model.labels_\n",
    "    \n",
    "    print(\"from run_affinity_propagation {}\".format(metrics.silhouette_score(data, labels, metric='euclidean')))\n",
    "    \n",
    "    print_timestamp('\\n'*3+'finished with AffinityPropagation')\n",
    "    \n",
    "    return Z, n_clusters_"
   ]
  },
  {
   "cell_type": "code",
   "execution_count": 1266,
   "metadata": {},
   "outputs": [],
   "source": [
    "def data_demographics(dataframe, num_rows):\n",
    "\n",
    "    display(\"dataframe.isnull().sum()\", dataframe.isnull().sum())\n",
    "\n",
    "    display(\"dataframe.columns\\n\", dataframe.columns)\n",
    "    display(\"dataframe.head({})\\n\".format(num_rows), dataframe.head(num_rows))\n",
    "\n",
    "    display(\"dataframe.sample({})\\n\".format(num_rows), dataframe.sample(num_rows))\n",
    "    display(\"dataframe.dtypes\\n\", dataframe.dtypes)\n",
    "    display(\"dataframe.describe()\\n\", dataframe.describe())"
   ]
  },
  {
   "cell_type": "code",
   "execution_count": 1267,
   "metadata": {
    "pycharm": {
     "is_executing": false
    }
   },
   "outputs": [],
   "source": [
    "#TODO Sett params for n_estimators - > **params\n",
    "def run_rf(X_train=None, X_test=None, y_train=None, y_test=None, params={}, cross_validate=None, confusion_matrix=None):\n",
    "    \n",
    "    print_timestamp(\"# Inside run_rf, parameters passed were: {}\".format(params))\n",
    "#     printFormatted(\"# Inside run_rf, parameters passed were: {}\".format(params))\n",
    "\n",
    "    rfc = ensemble.RandomForestClassifier(**params)\n",
    "        \n",
    "    ## Fit the model on your training data.\n",
    "    rfc_fit = rfc.fit(X_train, y_train)  \n",
    "    \n",
    "    #   Let's score it with the test data set    this is new 13-Aug-2019\n",
    "    print_training_and_test_scores(rfc_fit, X_train, X_test, y_train, y_test) # new on 13-Aug-2019\n",
    "    \n",
    "#   Let's produce the metrics scores\n",
    "    print_metrics_score(rfc_fit, X_train, X_test, y_train, y_test) # new on 13-Aug-2019\n",
    "    \n",
    "#   Let's run cross validation \n",
    "    if cross_validate == True:\n",
    "        print_cross_validation_scores(rfc_fit, X_train, X_test, y_train, y_test)\n",
    "        \n",
    "#   Let's run the confusion matrix\n",
    "    if confusion_matrix == True:\n",
    "        print(\"before going to conf_matrix_function, the columns in X_test are {}\".format(X_test.columns))\n",
    "        conf_matrix_function(rfc_fit, X_train, X_test, y_train, y_test)\n",
    "      \n",
    "    print_timestamp('End run_rfr part 1')\n",
    "    return rfc_fit"
   ]
  },
  {
   "cell_type": "code",
   "execution_count": 1268,
   "metadata": {},
   "outputs": [],
   "source": [
    "# Post feature generation column cleanup\n",
    "columns_to_drop = ['genres', 'cast', 'status']\n",
    "df_movies_dataset.drop(columns_to_drop, axis=1, inplace=True)"
   ]
  },
  {
   "cell_type": "code",
   "execution_count": 1269,
   "metadata": {},
   "outputs": [],
   "source": [
    "# Merge genres together and then drop low count genres\n",
    "\n",
    "# df_movies_dataset['Science Fiction'] = [(df_movies_dataset.genre == 'Science Fiction') | (df_movies_dataset.genre == 'Fantasy')]]\n",
    "# df.loc[(df.Event == 'Dance'),'Event']='Hip-Hop'\n",
    "df_movies_dataset.loc[(df_movies_dataset.genre == 'Fantasy'),'genre']='SciFiFant'\n",
    "df_movies_dataset.loc[(df_movies_dataset.genre == 'Science Fiction'),'genre']='SciFiFant'\n",
    "\n",
    "todrop = ['Budget', 'Revenue','History', 'Music', 'Family', 'Mystery', 'TV Movie', 'Western', 'War', 'Foreign', 'Science Fiction', 'Fantasy']\n",
    "# df_movies_dataset = df_movies_dataset[~df_movies_dataset.isin(todrop)]\n",
    "# Todo: df = df[df.line_race != 0]\n",
    "for colname1 in todrop:\n",
    "    df_movies_dataset = df_movies_dataset[df_movies_dataset.genre != colname1]"
   ]
  },
  {
   "cell_type": "code",
   "execution_count": 1270,
   "metadata": {},
   "outputs": [],
   "source": [
    "# Feature Creation\n",
    "\n",
    "df_movies_dataset['ReleaseYear'] = pd.DatetimeIndex(df_movies_dataset['release_date']).year\n",
    "df_movies_dataset['ReleaseMonth'] = pd.DatetimeIndex(df_movies_dataset['release_date']).month\n",
    "df_movies_dataset['ReleaseDay'] = pd.DatetimeIndex(df_movies_dataset['release_date']).day\n",
    "df_movies_dataset['ReleaseMonthDay'] = pd.DatetimeIndex(df_movies_dataset['release_date']).month * 100 + pd.DatetimeIndex(df_movies_dataset['release_date']).day"
   ]
  },
  {
   "cell_type": "markdown",
   "metadata": {},
   "source": [
    "df_movie_metadata.dtypes"
   ]
  },
  {
   "cell_type": "code",
   "execution_count": 1271,
   "metadata": {},
   "outputs": [],
   "source": [
    "# import LabelEncoder \n",
    "from sklearn.preprocessing import LabelEncoder\n",
    "# Instatniate LabelEncoder\n",
    "le = LabelEncoder()\n",
    "# LabelEncode Class column of df\n",
    "\n",
    "df_movies_dataset[\"lead_actor_le\"] = le.fit_transform(df_movies_dataset[\"lead_actor\"])\n",
    "df_movies_dataset[\"genre_le\"] = le.fit_transform(df_movies_dataset[\"genre\"])"
   ]
  },
  {
   "cell_type": "code",
   "execution_count": 1272,
   "metadata": {},
   "outputs": [
    {
     "data": {
      "text/markdown": [
       "Running tfidf witht parameters={'lowercase': True, 'max_df': 0.25, 'min_df': 100, 'max_features': 100, 'norm': 'l2', 'smooth_idf': True, 'stop_words': 'english', 'tokenizer': <__main__.LemmaTokenizer object at 0x1a3058bcd0>, 'use_idf': True}"
      ],
      "text/plain": [
       "<IPython.core.display.Markdown object>"
      ]
     },
     "metadata": {},
     "output_type": "display_data"
    },
    {
     "name": "stderr",
     "output_type": "stream",
     "text": [
      "/Users/lou/opt/anaconda3/lib/python3.7/site-packages/sklearn/feature_extraction/text.py:385: UserWarning: Your stop_words may be inconsistent with your preprocessing. Tokenizing the stop words generated tokens ['ha', 'le', 'u', 'wa'] not in stop_words.\n",
      "  'stop_words.' % sorted(inconsistent))\n"
     ]
    },
    {
     "name": "stdout",
     "output_type": "stream",
     "text": [
      "df_movies_dataset_overview_keywords_tfidf shape is (27971, 100), and df_movies_dataset shape is (27971, 17)\n",
      "in line 31, the datatype for df_movies_dataset_overview_keywords_tfidf is <class 'pandas.core.frame.DataFrame'>.\n",
      "there the shape of df_movies_dataset2 is (27971, 117)\n"
     ]
    }
   ],
   "source": [
    "#TODO - Lou, you need to clean this up!!!\n",
    "\n",
    "x = 1\n",
    "\n",
    "if x == 1:\n",
    "    #TODO check this out... remove the s\n",
    "    # removed this from below: 'stop_words': 'english',\n",
    "\n",
    "    parameters = {\n",
    "                  'lowercase': True,\n",
    "                  'max_df': 0.25, \n",
    "                  'min_df': 100,  \n",
    "                  'max_features': 100,\n",
    "                  'norm': u'l2',\n",
    "                  'smooth_idf' :True,\n",
    "                  'stop_words': 'english',\n",
    "                  'tokenizer': LemmaTokenizer(),\n",
    "                  'use_idf': True}\n",
    "    printFormatted(\"Running tfidf witht parameters={}\".format(parameters))\n",
    "    df_movies_dataset_overview_keywords_tfidf = run_tfidf_vectorizer3(df_movies_dataset.overview_keywords, parameters)\n",
    "\n",
    "    print(\"df_movies_dataset_overview_keywords_tfidf shape is {}, and df_movies_dataset shape is {}\".format(df_movies_dataset_overview_keywords_tfidf.shape, df_movies_dataset.shape))\n",
    "    # print(\"just after vectorizer3\")\n",
    "    # df_movies_dataset_overview_keywords_tfidf.head(20)\n",
    "    df_movies_dataset_overview_keywords_tfidf_columns = list(df_movies_dataset_overview_keywords_tfidf.columns.values)\n",
    "    # print(\"the column names are {}\".format(df_movies_dataset_overview_tfidf_columns))\n",
    "    # print(\"the column names are type {}\".format(type(df_movies_dataset_overview_tfidf_columns)))\n",
    "    # df_movies_dataset_overview_tfidf.shape\n",
    "    # problems with NaNs after concat, reset the indexes: https://stackoverflow.com/questions/40339886/pandas-concat-generates-nan-values\n",
    "    df_movies_dataset.reset_index(drop=True, inplace=True)\n",
    "    print(\"in line 31, the datatype for {} is {}.\".format('df_movies_dataset_overview_keywords_tfidf',type(df_movies_dataset_overview_keywords_tfidf)))\n",
    "    df_movies_dataset_overview_keywords_tfidf.reset_index(drop=True, inplace=True)\n",
    "    df_movies_dataset2 = pd.concat([df_movies_dataset, df_movies_dataset_overview_keywords_tfidf], axis=1)\n",
    "    print(\"there the shape of df_movies_dataset2 is {}\".format(df_movies_dataset2.shape))"
   ]
  },
  {
   "cell_type": "code",
   "execution_count": 1273,
   "metadata": {},
   "outputs": [],
   "source": [
    "#TODO Clean this up Lou!!!\n",
    "x = 1 # generage df_movies_dataset2, else if x == 2 then we are doing the pipeline\n",
    "# print(df_movies_dataset.head(5))\n",
    "X_collist = [\n",
    "  'lead_actor_le'\n",
    " ,'runtime'\n",
    " ,'ReleaseYear'\n",
    " ,'ReleaseMonth'\n",
    " ,'ReleaseDay'\n",
    " ,'ReleaseMonthDay'\n",
    "]\n",
    "\n",
    "X = df_movies_dataset2[['revenue', 'lead_actor_le', 'runtime','budget']]\n",
    "\n",
    "X_list = X_collist + list(df_movies_dataset_overview_keywords_tfidf.columns.values)\n",
    "\n",
    "X = df_movies_dataset2[X_list]\n",
    "\n",
    "y = df_movies_dataset2['genre_le']"
   ]
  },
  {
   "cell_type": "code",
   "execution_count": 1274,
   "metadata": {},
   "outputs": [
    {
     "name": "stdout",
     "output_type": "stream",
     "text": [
      "X shape is (27971, 106), and y shape is (27971,)\n"
     ]
    }
   ],
   "source": [
    "print(\"X shape is {}, and y shape is {}\".format(X.shape, y.shape))"
   ]
  },
  {
   "cell_type": "markdown",
   "metadata": {},
   "source": [
    "# Random Forest Supervised Learning  \n",
    "## With Genre as the label"
   ]
  },
  {
   "cell_type": "code",
   "execution_count": 1275,
   "metadata": {},
   "outputs": [
    {
     "data": {
      "text/markdown": [
       "2020-05-17 22:54:13: In: training_test_set In training_test_set, train_size=0.8, and test_size=0.2 "
      ],
      "text/plain": [
       "<IPython.core.display.Markdown object>"
      ]
     },
     "metadata": {},
     "output_type": "display_data"
    },
    {
     "name": "stdout",
     "output_type": "stream",
     "text": [
      "train_size = 0.8, X_train is 22376, and y_train is 22376\n",
      "test_size  = 0.2, X_test  is 5595, and y_test is 5595\n"
     ]
    }
   ],
   "source": [
    "X_train, X_test, y_train, y_test = training_test_set(X, y)"
   ]
  },
  {
   "cell_type": "code",
   "execution_count": 1276,
   "metadata": {},
   "outputs": [
    {
     "data": {
      "image/png": "[encoded data removed]",
      "text/plain": [
       "<Figure size 864x576 with 1 Axes>"
      ]
     },
     "metadata": {
      "needs_background": "light"
     },
     "output_type": "display_data"
    }
   ],
   "source": [
    "plt.title('Genre Frequency Distribution')\n",
    "plt.xticks([0, 1, 2, 3, 4, 5, 6, 7, 8, 9, 10], ['Action', 'Advent', 'Animat', 'Comedy', 'Crime', 'Document',\n",
    "                                                'Drama', 'Horror', 'Romance', 'SciFiFant', 'Thrill'])\n",
    "y_train.hist(bins=30, figsize=(12,8), label='abcdefghijklmnopqrstuv');"
   ]
  },
  {
   "cell_type": "code",
   "execution_count": 1277,
   "metadata": {},
   "outputs": [
    {
     "data": {
      "text/html": [
       "<div>\n",
       "<style scoped>\n",
       "    .dataframe tbody tr th:only-of-type {\n",
       "        vertical-align: middle;\n",
       "    }\n",
       "\n",
       "    .dataframe tbody tr th {\n",
       "        vertical-align: top;\n",
       "    }\n",
       "\n",
       "    .dataframe thead th {\n",
       "        text-align: right;\n",
       "    }\n",
       "</style>\n",
       "<table border=\"1\" class=\"dataframe\">\n",
       "  <thead>\n",
       "    <tr style=\"text-align: right;\">\n",
       "      <th></th>\n",
       "      <th>lead_actor_le</th>\n",
       "      <th>runtime</th>\n",
       "      <th>ReleaseYear</th>\n",
       "      <th>ReleaseMonth</th>\n",
       "      <th>ReleaseDay</th>\n",
       "      <th>ReleaseMonthDay</th>\n",
       "      <th>'</th>\n",
       "      <th>:</th>\n",
       "      <th>american</th>\n",
       "      <th>based</th>\n",
       "      <th>...</th>\n",
       "      <th>want</th>\n",
       "      <th>war</th>\n",
       "      <th>way</th>\n",
       "      <th>wife</th>\n",
       "      <th>woman</th>\n",
       "      <th>work</th>\n",
       "      <th>world</th>\n",
       "      <th>year</th>\n",
       "      <th>york</th>\n",
       "      <th>young</th>\n",
       "    </tr>\n",
       "  </thead>\n",
       "  <tbody>\n",
       "    <tr>\n",
       "      <th>22080</th>\n",
       "      <td>5862</td>\n",
       "      <td>103</td>\n",
       "      <td>2015</td>\n",
       "      <td>10</td>\n",
       "      <td>2</td>\n",
       "      <td>1002</td>\n",
       "      <td>0.0</td>\n",
       "      <td>0.0</td>\n",
       "      <td>0.000000</td>\n",
       "      <td>0.0</td>\n",
       "      <td>...</td>\n",
       "      <td>0.0</td>\n",
       "      <td>0.000000</td>\n",
       "      <td>0.0</td>\n",
       "      <td>0.0</td>\n",
       "      <td>0.000000</td>\n",
       "      <td>0.0</td>\n",
       "      <td>0.000000</td>\n",
       "      <td>0.0</td>\n",
       "      <td>0.0</td>\n",
       "      <td>0.0</td>\n",
       "    </tr>\n",
       "    <tr>\n",
       "      <th>7699</th>\n",
       "      <td>787</td>\n",
       "      <td>107</td>\n",
       "      <td>2004</td>\n",
       "      <td>5</td>\n",
       "      <td>14</td>\n",
       "      <td>514</td>\n",
       "      <td>0.0</td>\n",
       "      <td>0.0</td>\n",
       "      <td>0.550840</td>\n",
       "      <td>0.0</td>\n",
       "      <td>...</td>\n",
       "      <td>0.0</td>\n",
       "      <td>0.000000</td>\n",
       "      <td>0.0</td>\n",
       "      <td>0.0</td>\n",
       "      <td>0.369841</td>\n",
       "      <td>0.0</td>\n",
       "      <td>0.000000</td>\n",
       "      <td>0.0</td>\n",
       "      <td>0.0</td>\n",
       "      <td>0.0</td>\n",
       "    </tr>\n",
       "    <tr>\n",
       "      <th>7144</th>\n",
       "      <td>10907</td>\n",
       "      <td>84</td>\n",
       "      <td>1975</td>\n",
       "      <td>12</td>\n",
       "      <td>15</td>\n",
       "      <td>1215</td>\n",
       "      <td>0.0</td>\n",
       "      <td>0.0</td>\n",
       "      <td>0.349398</td>\n",
       "      <td>0.0</td>\n",
       "      <td>...</td>\n",
       "      <td>0.0</td>\n",
       "      <td>0.000000</td>\n",
       "      <td>0.0</td>\n",
       "      <td>0.0</td>\n",
       "      <td>0.000000</td>\n",
       "      <td>0.0</td>\n",
       "      <td>0.000000</td>\n",
       "      <td>0.0</td>\n",
       "      <td>0.0</td>\n",
       "      <td>0.0</td>\n",
       "    </tr>\n",
       "    <tr>\n",
       "      <th>16347</th>\n",
       "      <td>7477</td>\n",
       "      <td>200</td>\n",
       "      <td>1981</td>\n",
       "      <td>11</td>\n",
       "      <td>11</td>\n",
       "      <td>1111</td>\n",
       "      <td>0.0</td>\n",
       "      <td>0.0</td>\n",
       "      <td>0.000000</td>\n",
       "      <td>0.0</td>\n",
       "      <td>...</td>\n",
       "      <td>0.0</td>\n",
       "      <td>0.341662</td>\n",
       "      <td>0.0</td>\n",
       "      <td>0.0</td>\n",
       "      <td>0.000000</td>\n",
       "      <td>0.0</td>\n",
       "      <td>0.599718</td>\n",
       "      <td>0.0</td>\n",
       "      <td>0.0</td>\n",
       "      <td>0.0</td>\n",
       "    </tr>\n",
       "    <tr>\n",
       "      <th>16060</th>\n",
       "      <td>7607</td>\n",
       "      <td>120</td>\n",
       "      <td>2003</td>\n",
       "      <td>10</td>\n",
       "      <td>6</td>\n",
       "      <td>1006</td>\n",
       "      <td>0.0</td>\n",
       "      <td>0.0</td>\n",
       "      <td>0.000000</td>\n",
       "      <td>0.0</td>\n",
       "      <td>...</td>\n",
       "      <td>0.0</td>\n",
       "      <td>0.000000</td>\n",
       "      <td>0.0</td>\n",
       "      <td>0.0</td>\n",
       "      <td>0.000000</td>\n",
       "      <td>0.0</td>\n",
       "      <td>0.366940</td>\n",
       "      <td>0.0</td>\n",
       "      <td>0.0</td>\n",
       "      <td>0.0</td>\n",
       "    </tr>\n",
       "  </tbody>\n",
       "</table>\n",
       "<p>5 rows × 106 columns</p>\n",
       "</div>"
      ],
      "text/plain": [
       "       lead_actor_le  runtime  ReleaseYear  ReleaseMonth  ReleaseDay  \\\n",
       "22080           5862      103         2015            10           2   \n",
       "7699             787      107         2004             5          14   \n",
       "7144           10907       84         1975            12          15   \n",
       "16347           7477      200         1981            11          11   \n",
       "16060           7607      120         2003            10           6   \n",
       "\n",
       "       ReleaseMonthDay    '    :  american  based  ...  want       war  way  \\\n",
       "22080             1002  0.0  0.0  0.000000    0.0  ...   0.0  0.000000  0.0   \n",
       "7699               514  0.0  0.0  0.550840    0.0  ...   0.0  0.000000  0.0   \n",
       "7144              1215  0.0  0.0  0.349398    0.0  ...   0.0  0.000000  0.0   \n",
       "16347             1111  0.0  0.0  0.000000    0.0  ...   0.0  0.341662  0.0   \n",
       "16060             1006  0.0  0.0  0.000000    0.0  ...   0.0  0.000000  0.0   \n",
       "\n",
       "       wife     woman  work     world  year  york  young  \n",
       "22080   0.0  0.000000   0.0  0.000000   0.0   0.0    0.0  \n",
       "7699    0.0  0.369841   0.0  0.000000   0.0   0.0    0.0  \n",
       "7144    0.0  0.000000   0.0  0.000000   0.0   0.0    0.0  \n",
       "16347   0.0  0.000000   0.0  0.599718   0.0   0.0    0.0  \n",
       "16060   0.0  0.000000   0.0  0.366940   0.0   0.0    0.0  \n",
       "\n",
       "[5 rows x 106 columns]"
      ]
     },
     "execution_count": 1277,
     "metadata": {},
     "output_type": "execute_result"
    }
   ],
   "source": [
    "X_test.sample(5)"
   ]
  },
  {
   "cell_type": "code",
   "execution_count": 1278,
   "metadata": {},
   "outputs": [
    {
     "data": {
      "image/png": "[encoded data removed]",
      "text/plain": [
       "<Figure size 864x576 with 1 Axes>"
      ]
     },
     "metadata": {
      "needs_background": "light"
     },
     "output_type": "display_data"
    }
   ],
   "source": [
    "plt.title('Lead Actor Frequency Distribution')\n",
    "X_train.iloc[:,0].hist(bins=200, figsize=(12,8));"
   ]
  },
  {
   "cell_type": "code",
   "execution_count": 1279,
   "metadata": {},
   "outputs": [
    {
     "data": {
      "image/png": "[encoded data removed]",
      "text/plain": [
       "<Figure size 864x576 with 1 Axes>"
      ]
     },
     "metadata": {
      "needs_background": "light"
     },
     "output_type": "display_data"
    }
   ],
   "source": [
    "plt.title('ReleaseMonthDay Frequency Distribution')\n",
    "X_train.iloc[:,5].hist(bins=100, figsize=(12,8));"
   ]
  },
  {
   "cell_type": "code",
   "execution_count": 1280,
   "metadata": {},
   "outputs": [
    {
     "data": {
      "image/png": "[encoded data removed]",
      "text/plain": [
       "<Figure size 864x576 with 1 Axes>"
      ]
     },
     "metadata": {
      "needs_background": "light"
     },
     "output_type": "display_data"
    }
   ],
   "source": [
    "plt.title('ReleaseYear Frequency Distribution')\n",
    "X_train.iloc[:,2].hist(bins=200, figsize=(12,8));"
   ]
  },
  {
   "cell_type": "code",
   "execution_count": 1281,
   "metadata": {},
   "outputs": [],
   "source": [
    "params = {\n",
    "    'n_estimators' : 100,\n",
    "    'random_state' : RANDOM_STATE\n",
    "}\n",
    "\n",
    "# rfc_and_feature_importances(X, y, params=params)"
   ]
  },
  {
   "cell_type": "code",
   "execution_count": 1282,
   "metadata": {},
   "outputs": [
    {
     "data": {
      "text/markdown": [
       "2020-05-17 22:54:14: In: <module> columns in X_train are Index(['lead_actor_le', 'runtime', 'ReleaseYear', 'ReleaseMonth', 'ReleaseDay',\n",
       "       'ReleaseMonthDay', ''', ':', 'american', 'based',\n",
       "       ...\n",
       "       'want', 'war', 'way', 'wife', 'woman', 'work', 'world', 'year', 'york',\n",
       "       'young'],\n",
       "      dtype='object', length=106) "
      ],
      "text/plain": [
       "<IPython.core.display.Markdown object>"
      ]
     },
     "metadata": {},
     "output_type": "display_data"
    },
    {
     "data": {
      "text/markdown": [
       "2020-05-17 22:54:14: In: run_rf # Inside run_rf, parameters passed were: {'n_estimators': 100, 'random_state': 20200427} "
      ],
      "text/plain": [
       "<IPython.core.display.Markdown object>"
      ]
     },
     "metadata": {},
     "output_type": "display_data"
    },
    {
     "data": {
      "text/markdown": [
       "### Training score = 100.00%"
      ],
      "text/plain": [
       "<IPython.core.display.Markdown object>"
      ]
     },
     "metadata": {},
     "output_type": "display_data"
    },
    {
     "data": {
      "text/markdown": [
       "### Test score = 42.97%"
      ],
      "text/plain": [
       "<IPython.core.display.Markdown object>"
      ]
     },
     "metadata": {},
     "output_type": "display_data"
    },
    {
     "data": {
      "text/markdown": [
       "###  Metrics test accuracy score = 42.97%"
      ],
      "text/plain": [
       "<IPython.core.display.Markdown object>"
      ]
     },
     "metadata": {},
     "output_type": "display_data"
    },
    {
     "data": {
      "text/markdown": [
       "### Cross validation scores:  [0.40393208 0.38516533 0.39678284 0.3896336  0.41733691]"
      ],
      "text/plain": [
       "<IPython.core.display.Markdown object>"
      ]
     },
     "metadata": {},
     "output_type": "display_data"
    },
    {
     "data": {
      "text/markdown": [
       "### Accuracy of Model with Cross Validation average is: 39.86%"
      ],
      "text/plain": [
       "<IPython.core.display.Markdown object>"
      ]
     },
     "metadata": {},
     "output_type": "display_data"
    },
    {
     "data": {
      "text/markdown": [
       "2020-05-17 22:54:30: In: run_rf End run_rfr part 1 "
      ],
      "text/plain": [
       "<IPython.core.display.Markdown object>"
      ]
     },
     "metadata": {},
     "output_type": "display_data"
    }
   ],
   "source": [
    "flag_to_run_rfc = True\n",
    "\n",
    "if flag_to_run_rfc == True:\n",
    "    \n",
    "    print_timestamp(\"columns in X_train are {}\".format(X_train.columns))\n",
    "\n",
    "    # Let's now run Random Forest Classification \n",
    "    \n",
    "    params = {\n",
    "        'n_estimators' : 100,\n",
    "        'random_state' : RANDOM_STATE\n",
    "    }\n",
    "\n",
    "   \n",
    "    run_rf(X_train=X_train, X_test=X_test, y_train=y_train, y_test=y_test, params=params, cross_validate=True, confusion_matrix=False)\n",
    "    \n"
   ]
  },
  {
   "cell_type": "markdown",
   "metadata": {},
   "source": [
    "# Clustering"
   ]
  },
  {
   "cell_type": "code",
   "execution_count": 1283,
   "metadata": {},
   "outputs": [
    {
     "name": "stdout",
     "output_type": "stream",
     "text": [
      "columns in df_movies_dataset are Index(['budget', 'revenue', 'runtime', 'ReleaseYear', 'ReleaseMonth',\n",
      "       'ReleaseDay', 'ReleaseMonthDay', 'lead_actor_le', ''', ':',\n",
      "       ...\n",
      "       'want', 'war', 'way', 'wife', 'woman', 'work', 'world', 'year', 'york',\n",
      "       'young'],\n",
      "      dtype='object', length=108)\n"
     ]
    }
   ],
   "source": [
    "#Let's setup the columns for the df_movies clustering\n",
    "\n",
    "df_movies_for_clustering = df_movies_dataset2\n",
    "df_movies_for_clustering.drop(['id', 'overview','release_date','title','genre','lead_actor', 'genre_le', \n",
    "#                                'budget', 'revenue',\n",
    "                               'keywords_list', 'overview_keywords'], axis=1, inplace=True)\n",
    "print(\"columns in df_movies_dataset are {}\".format(df_movies_for_clustering.columns))\n",
    "\n",
    "scaler = StandardScaler()\n",
    "all_data = scaler.fit_transform(df_movies_for_clustering)"
   ]
  },
  {
   "cell_type": "code",
   "execution_count": 1284,
   "metadata": {},
   "outputs": [],
   "source": [
    "def cluster_dr_plotit(df, y, cluster_type, cluster_params, dr_type, dr_params):\n",
    "\n",
    "    colours = ['red', 'orange', 'gold', 'lawngreen', 'lightseagreen', \n",
    "               'royalblue', 'blueviolet','black','green','navy','fuchsia']\n",
    "    \n",
    "    if cluster_type == 'dbscan':\n",
    "        dbscan_cluster = DBSCAN(**cluster_params)\n",
    "        clusters = dbscan_cluster.fit_predict(df)\n",
    "        \n",
    "    elif cluster_type == 'kmeans':\n",
    "        kmeans_clusters = KMeans(**cluster_params)\n",
    "        clusters = kmeans_clusters.fit_predict(df)\n",
    "        \n",
    "    elif cluster_type == 'gmm':\n",
    "        gmm_cluster = GaussianMixture(**cluster_params)\n",
    "        clusters = gmm_cluster.fit_predict(df)\n",
    "        \n",
    "    if dr_type == 'umap':\n",
    "        results = umap.UMAP(**dr_params).fit_transform(all_data)\n",
    "        \n",
    "    elif dr_type == 'pca':\n",
    "        results = PCA(**dr_params).fit_transform(all_data)\n",
    "        \n",
    "    elif dr_type == 'tsne':\n",
    "        tsne = TSNE(**dr_params)\n",
    "        results = tsne.fit_transform(all_data)\n",
    "        \n",
    "    print_timestamp('Running {} with parameters: {}<br />and {} with parameters: {}'.format(cluster_type, \n",
    "                                                                                            cluster_params,\n",
    "                                                                                            dr_type,\n",
    "                                                                                            dr_params))\n",
    "    for i in range(results.shape[0]):\n",
    "        plt.text(results[i, 0], \n",
    "                 results[i, 1], \n",
    "                 str(clusters[i]),\n",
    "                 color=colours[y[i]],\n",
    "                 fontdict={'weight': 'bold', 'size': 50})\n",
    "    plt.xticks([])\n",
    "    plt.yticks([])\n",
    "    plt.axis(True)\n",
    "    plt.show()"
   ]
  },
  {
   "cell_type": "code",
   "execution_count": null,
   "metadata": {},
   "outputs": [
    {
     "data": {
      "text/markdown": [
       "2020-05-17 22:54:30: In: <module> Starting Clustering test "
      ],
      "text/plain": [
       "<IPython.core.display.Markdown object>"
      ]
     },
     "metadata": {},
     "output_type": "display_data"
    },
    {
     "data": {
      "text/markdown": [
       "2020-05-17 22:55:10: In: cluster_dr_plotit Running dbscan with parameters: {'eps': 0.5, 'min_samples': 20}<br />and pca with parameters: {'n_components': 2, 'random_state': 20200427} "
      ],
      "text/plain": [
       "<IPython.core.display.Markdown object>"
      ]
     },
     "metadata": {},
     "output_type": "display_data"
    }
   ],
   "source": [
    "dbscan_params = {'eps' : 0.5,  'min_samples': 20}\n",
    "kmeans_params = {'n_clusters' : 11, 'random_state' : RANDOM_STATE}\n",
    "gmm_params = {'n_components'  : 2, 'random_state' : RANDOM_STATE}\n",
    "\n",
    "pca_params =  {'n_components' : 2, 'random_state' : RANDOM_STATE}\n",
    "tsne_params = {'n_components' : 2, 'verbose' : 1, 'perplexity' : 40, 'n_iter' :  300, 'random_state' : RANDOM_STATE}\n",
    "umap_params = {'n_neighbors' : 10, 'min_dist' : 0.3, 'metric' : 'correlation', 'random_state' : RANDOM_STATE}\n",
    "\n",
    "print_timestamp(\"Starting Clustering test\")\n",
    "\n",
    "cluster_dr_plotit(all_data, y, cluster_type='dbscan', cluster_params=dbscan_params, dr_type='pca', dr_params=pca_params)\n",
    "cluster_dr_plotit(all_data, y, cluster_type='kmeans', cluster_params=kmeans_params, dr_type='pca', dr_params=pca_params)\n",
    "cluster_dr_plotit(all_data, y, cluster_type='gmm',    cluster_params=gmm_params, dr_type='pca',    dr_params=pca_params)\n",
    "\n",
    "cluster_dr_plotit(all_data, y, cluster_type='dbscan', cluster_params=dbscan_params, dr_type='tsne', dr_params=tsne_params)\n",
    "cluster_dr_plotit(all_data, y, cluster_type='kmeans', cluster_params=kmeans_params, dr_type='tsne', dr_params=tsne_params)\n",
    "cluster_dr_plotit(all_data, y, cluster_type='gmm',    cluster_params=gmm_params, dr_type='tsne',    dr_params=tsne_params)\n",
    "\n",
    "cluster_dr_plotit(all_data, y, cluster_type='dbscan', cluster_params=dbscan_params, dr_type='umap', dr_params=umap_params)\n",
    "cluster_dr_plotit(all_data, y, cluster_type='kmeans', cluster_params=kmeans_params, dr_type='umap', dr_params=umap_params)\n",
    "cluster_dr_plotit(all_data, y, cluster_type='gmm',    cluster_params=gmm_params, dr_type='umap',    dr_params=umap_params)\n",
    "\n",
    "print_timestamp(\"Ending Clustering test\")"
   ]
  }
 ],
 "metadata": {
  "kernelspec": {
   "display_name": "Python 3",
   "language": "python",
   "name": "python3"
  },
  "language_info": {
   "codemirror_mode": {
    "name": "ipython",
    "version": 3
   },
   "file_extension": ".py",
   "mimetype": "text/x-python",
   "name": "python",
   "nbconvert_exporter": "python",
   "pygments_lexer": "ipython3",
   "version": "3.7.4"
  }
 },
 "nbformat": 4,
 "nbformat_minor": 4
}
