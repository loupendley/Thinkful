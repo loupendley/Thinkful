{
 "cells": [
  {
   "cell_type": "markdown",
   "metadata": {},
   "source": [
    "## Preparing A Dataset for Modeling  \n",
    "### 04-Apr-2019 Lou Pendley  \n",
    "### Version 1.0"
   ]
  },
  {
   "cell_type": "code",
   "execution_count": 3,
   "metadata": {},
   "outputs": [],
   "source": [
    "import pandas as pd\n",
    "import numpy as np\n",
    "import matplotlib.pyplot as plt\n",
    "import seaborn as sns\n",
    "import scipy.stats as stats"
   ]
  },
  {
   "cell_type": "code",
   "execution_count": 16,
   "metadata": {},
   "outputs": [],
   "source": [
    "# Let's read in the data set\n",
    "DataFilePath = '../../../../Datafiles'\n",
    "df = pd.read_csv(DataFilePath + '/imdb-data-from-2006-to-2016.zip', \n",
    "                 compression='zip', header=0, sep=',', quotechar='\"')\n",
    "df['first_genre'] = df['Genre'].apply(lambda x: x.split(',')[0])\n",
    "df['first_actor'] = df['Actors'].apply(lambda x: x.split(',')[0])\n",
    "df.rename(index=str, columns={\"Revenue (Millions)\": \"Revenue\", \"B\": \"c\"}, inplace=True)"
   ]
  },
  {
   "cell_type": "code",
   "execution_count": 17,
   "metadata": {},
   "outputs": [
    {
     "data": {
      "text/plain": [
       "Index(['Rank', 'Title', 'Genre', 'Description', 'Director', 'Actors', 'Year',\n",
       "       'Runtime (Minutes)', 'Rating', 'Votes', 'Revenue', 'Metascore',\n",
       "       'first_genre', 'first_actor'],\n",
       "      dtype='object')"
      ]
     },
     "execution_count": 17,
     "metadata": {},
     "output_type": "execute_result"
    }
   ],
   "source": [
    "# print(df['first_actor'].unique())\n",
    "sort_by = ['first_actor']\n",
    "\n",
    "# We will want to group by Station ID: start, and end\n",
    "df_sorted_actor=pd.DataFrame()\n",
    "df_sorted_actor=df.sort_values(by=sort_by, ascending=False)\n",
    "# print(df_sorted_actor)\n",
    "df_sorted_actor.columns"
   ]
  },
  {
   "cell_type": "code",
   "execution_count": 6,
   "metadata": {},
   "outputs": [
    {
     "name": "stdout",
     "output_type": "stream",
     "text": [
      "there are 13 distinct genres.\n",
      "first genre is Action\n",
      "first genre is Adventure\n",
      "first genre is Animation\n",
      "first genre is Biography\n",
      "first genre is Comedy\n",
      "first genre is Crime\n",
      "first genre is Drama\n",
      "first genre is Fantasy\n",
      "first genre is Horror\n",
      "first genre is Mystery\n",
      "first genre is Romance\n",
      "first genre is Sci-Fi\n",
      "first genre is Thriller\n"
     ]
    }
   ],
   "source": [
    "df_sorted_genre = df.sort_values(by=['first_genre'])\n",
    "print(\"there are {} distinct genres.\".format(len(df_sorted_genre['first_genre'].unique())))\n",
    "for name in df_sorted_genre['first_genre'].unique():\n",
    "    print(\"first genre is {}\".format(name))"
   ]
  },
  {
   "cell_type": "code",
   "execution_count": 7,
   "metadata": {},
   "outputs": [
    {
     "name": "stdout",
     "output_type": "stream",
     "text": [
      "there are 525 distinct first actors.\n",
      "Here are the top 20 in alphabetical first name order.\n",
      "first actor number 1 is Aamir Khan\n",
      "first actor number 2 is Aaron Paul\n",
      "first actor number 3 is Aaron Poole\n",
      "first actor number 4 is Aaron Taylor-Johnson\n",
      "first actor number 5 is Abbie Cornish\n",
      "first actor number 6 is Abigail Breslin\n",
      "first actor number 7 is Adam Driver\n",
      "first actor number 8 is Adam Pally\n",
      "first actor number 9 is Adam Sandler\n",
      "first actor number 10 is Adrian Grenier\n",
      "first actor number 11 is Adrian Titieni\n",
      "first actor number 12 is Adrien Brody\n",
      "first actor number 13 is Alex Karpovsky\n",
      "first actor number 14 is Alex Pettyfer\n",
      "first actor number 15 is Alexander Skarsgård\n",
      "first actor number 16 is Alexandra Daddario\n",
      "first actor number 17 is Alexi Pappas\n",
      "first actor number 18 is Alia Bhatt\n",
      "first actor number 19 is Alia Shawkat\n",
      "first actor number 20 is Alice Englert\n"
     ]
    }
   ],
   "source": [
    "i = 1\n",
    "top = 20\n",
    "df_sorted_first_actor = df.sort_values(by=['first_actor'])\n",
    "print(\"there are {} distinct first actors.\".format(len(df_sorted_first_actor['first_actor'].unique())))\n",
    "print(\"Here are the top {} in alphabetical first name order.\".format(top))\n",
    "for name in df_sorted_first_actor['first_actor'].unique()[0:top]:\n",
    "    print(\"first actor number {} is {}\".format(i, name))\n",
    "    i += 1"
   ]
  },
  {
   "cell_type": "code",
   "execution_count": 8,
   "metadata": {},
   "outputs": [
    {
     "name": "stdout",
     "output_type": "stream",
     "text": [
      "                     count\n",
      "first_actor               \n",
      "Christian Bale          11\n",
      "Mark Wahlberg           11\n",
      "Denzel Washington        9\n",
      "Jake Gyllenhaal          9\n",
      "Leonardo DiCaprio        9\n",
      "Brad Pitt                9\n",
      "Adam Sandler             9\n",
      "Will Smith               9\n",
      "Tom Hardy                8\n",
      "Johnny Depp              8\n",
      "Daniel Radcliffe         8\n",
      "Robert Downey Jr.        8\n",
      "Tom Hanks                8\n",
      "Jennifer Lawrence        7\n",
      "Matt Damon               7\n",
      "Matthew McConaughey      7\n",
      "Michael Fassbender       7\n",
      "Tom Cruise               7\n",
      "Channing Tatum           7\n",
      "George Clooney           6\n",
      "Hugh Jackman             6\n",
      "Seth Rogen               6\n",
      "Ben Affleck              6\n",
      "Jesse Eisenberg          6\n",
      "Vin Diesel               6\n",
      "Chris Pine               6\n",
      "Kristen Stewart          6\n",
      "Will Ferrell             6\n",
      "Sylvester Stallone       6\n",
      "Chris Hemsworth          6\n",
      "...                    ...\n",
      "Florence Pugh            1\n",
      "Fionn O'Shea             1\n",
      "Fiona Gordon             1\n",
      "Ferdia Walsh-Peelo       1\n",
      "Hiroki Hasegawa          1\n",
      "Ice Cube                 1\n",
      "Ivana Baquero            1\n",
      "Jack Huston              1\n",
      "Jennifer Garner          1\n",
      "Jemaine Clement          1\n",
      "Jason Segel              1\n",
      "Jason Momoa              1\n",
      "Jason Clarke             1\n",
      "Jared Padalecki          1\n",
      "Jared Leto               1\n",
      "Jared Gilman             1\n",
      "Jane Levy                1\n",
      "Jamie Foxx               1\n",
      "James Marsden            1\n",
      "James Badge Dale         1\n",
      "James Allen McCune       1\n",
      "Jamal Woolard            1\n",
      "Jake Johnson             1\n",
      "Jahking Guillory         1\n",
      "Jaden Smith              1\n",
      "Jacob Latimore           1\n",
      "Jackie Earle Haley       1\n",
      "Jackie Chan              1\n",
      "Jack O'Connell           1\n",
      "Zooey Deschanel          1\n",
      "\n",
      "[525 rows x 1 columns]\n"
     ]
    }
   ],
   "source": [
    "grouping_columns = ['first_actor']\n",
    "sort_by_aggregate = ['count']\n",
    "\n",
    "# # We will want to group by first actor\n",
    "df_first_actor_grouped=df.groupby(grouping_columns )['first_actor'].agg(['count']) \n",
    "df_first_actor_grouped=df_first_actor_grouped.sort_values(by=sort_by_aggregate, ascending=False)\n",
    "print(df_first_actor_grouped)"
   ]
  },
  {
   "cell_type": "code",
   "execution_count": 9,
   "metadata": {},
   "outputs": [
    {
     "name": "stdout",
     "output_type": "stream",
     "text": [
      "             count\n",
      "first_genre       \n",
      "Action         293\n",
      "Drama          195\n",
      "Comedy         175\n",
      "Adventure       75\n",
      "Crime           71\n",
      "Biography       64\n",
      "Animation       49\n",
      "Horror          46\n",
      "Mystery         13\n",
      "Thriller        10\n",
      "Fantasy          4\n",
      "Sci-Fi           3\n",
      "Romance          2\n"
     ]
    }
   ],
   "source": [
    "grouping_columns = ['first_genre']\n",
    "sort_by_aggregate = ['count']\n",
    "\n",
    "# # We will want to group by first genre\n",
    "df_first_genre_grouped=df.groupby(grouping_columns )['first_actor'].agg(['count']) \n",
    "df_first_genre_grouped=df_first_genre_grouped.sort_values(by=sort_by_aggregate, ascending=False)\n",
    "print(df_first_genre_grouped)"
   ]
  },
  {
   "cell_type": "markdown",
   "metadata": {},
   "source": [
    "## Let's do the Univariate analysis"
   ]
  },
  {
   "cell_type": "markdown",
   "metadata": {},
   "source": [
    "1. How many variables do I have?  \n",
    "\n",
    "|Variable|Type|:Clean Data|To Use?|\n",
    "|:----------|:-------|:-------|:-----|\n",
    "|Rank|Continuous Ratio|Yes|No| \n",
    "|Title|Other|Yes|No|\n",
    "|Genre|Categorical|Yes|Yes(first_genre)|\n",
    "|Description|Other|Yes|No|\n",
    "|Director|Categorical|Yes|Yes|\n",
    "|Actors|Categorical|Yes|Yes(first_actor)|\n",
    "|Year|Continuous: Ratio|Yes|No|\n",
    "|Runtime(minutes)|Continuous: Ratio|Yes|No|\n",
    "|Rating|Categorical|Yes|Yes|\n",
    "|Votes|Continuous: Interval|Yes|Yes|\n",
    "|Revenue|Continuous: Ratio|Yes|Yes|\n",
    "|Metascore|Continuous: Ratio|Yes|Yes|\n",
    "\n",
    "\n",
    "1. How many data points?\n",
    "    1.  We have 1,000 movies in this dataset\n",
    "1. Which variables are categorical, and which are continuous?\n",
    "    1. See table 1 above.\n",
    "1. Do any of my variables have a known probability distribution?\n",
    "1. Do I have missing data?\n",
    "    1. If so, how much?\n",
    "1. How much variance is there in each of my variables?\n",
    "\n",
    "Do some visualizations of the variables we are going to use."
   ]
  },
  {
   "cell_type": "code",
   "execution_count": null,
   "metadata": {},
   "outputs": [],
   "source": [
    "cont_variable_list = ['Rating', 'Votes', 'Revenue', 'Metascore']"
   ]
  },
  {
   "cell_type": "code",
   "execution_count": 44,
   "metadata": {},
   "outputs": [
    {
     "data": {
      "text/markdown": [
       "**bold**"
      ],
      "text/plain": [
       "<IPython.core.display.Markdown object>"
      ]
     },
     "metadata": {},
     "output_type": "display_data"
    }
   ],
   "source": [
    "from IPython.display import Markdown, display\n",
    "def printmd(string):\n",
    "    display(Markdown(string))\n",
    "# printmd('**bold**')"
   ]
  },
  {
   "cell_type": "code",
   "execution_count": 45,
   "metadata": {},
   "outputs": [
    {
     "name": "stdout",
     "output_type": "stream",
     "text": [
      "\n",
      "\n",
      "\n"
     ]
    },
    {
     "data": {
      "text/markdown": [
       "variable=**Rating**, mean=6.72, std_dev=0.95"
      ],
      "text/plain": [
       "<IPython.core.display.Markdown object>"
      ]
     },
     "metadata": {},
     "output_type": "display_data"
    },
    {
     "data": {
      "image/png": "[encoded data removed]",
      "text/plain": [
       "<Figure size 432x288 with 1 Axes>"
      ]
     },
     "metadata": {
      "needs_background": "light"
     },
     "output_type": "display_data"
    },
    {
     "name": "stdout",
     "output_type": "stream",
     "text": [
      "\n",
      "\n",
      "\n"
     ]
    },
    {
     "data": {
      "text/markdown": [
       "variable=**Votes**, mean=169808.26, std_dev=188762.65"
      ],
      "text/plain": [
       "<IPython.core.display.Markdown object>"
      ]
     },
     "metadata": {},
     "output_type": "display_data"
    },
    {
     "data": {
      "image/png": "[encoded data removed]",
      "text/plain": [
       "<Figure size 432x288 with 1 Axes>"
      ]
     },
     "metadata": {
      "needs_background": "light"
     },
     "output_type": "display_data"
    },
    {
     "name": "stdout",
     "output_type": "stream",
     "text": [
      "\n",
      "\n",
      "\n"
     ]
    },
    {
     "data": {
      "text/markdown": [
       "variable=**Revenue**, mean=82.96, std_dev=103.25"
      ],
      "text/plain": [
       "<IPython.core.display.Markdown object>"
      ]
     },
     "metadata": {},
     "output_type": "display_data"
    },
    {
     "data": {
      "image/png": "[encoded data removed]",
      "text/plain": [
       "<Figure size 432x288 with 1 Axes>"
      ]
     },
     "metadata": {
      "needs_background": "light"
     },
     "output_type": "display_data"
    },
    {
     "name": "stdout",
     "output_type": "stream",
     "text": [
      "\n",
      "\n",
      "\n"
     ]
    },
    {
     "data": {
      "text/markdown": [
       "variable=**Metascore**, mean=58.99, std_dev=17.19"
      ],
      "text/plain": [
       "<IPython.core.display.Markdown object>"
      ]
     },
     "metadata": {},
     "output_type": "display_data"
    },
    {
     "data": {
      "image/png": "[encoded data removed]",
      "text/plain": [
       "<Figure size 432x288 with 1 Axes>"
      ]
     },
     "metadata": {
      "needs_background": "light"
     },
     "output_type": "display_data"
    },
    {
     "name": "stdout",
     "output_type": "stream",
     "text": [
      "\n",
      "\n",
      "\n"
     ]
    }
   ],
   "source": [
    "print(\"\\n\\n\")\n",
    "\n",
    "for var in cont_variable_list:\n",
    "    printmd(\"variable=**{}**, mean={:0.2f}, std_dev={:0.2f}\".format(var,df[var].mean(),df[var].std()))\n",
    "    \n",
    "    mean = df[var].mean()\n",
    "    std = df[var].std()\n",
    "\n",
    "    plt.title(var+' distribution', fontdict=None, loc='center', pad=None)\n",
    "    #Plot a histogram for rand1.\n",
    "    plt.hist(df[var], bins=20, color='c')\n",
    "\n",
    "    # Add a vertical line at the mean.\n",
    "    plt.axvline(mean, color='b', linestyle='solid', linewidth=2)\n",
    "\n",
    "    # Add a vertical line at one standard deviation above the mean.\n",
    "    plt.axvline(mean + std, color='b', linestyle='dashed', linewidth=2)\n",
    "\n",
    "    # Add a vertical line at one standard deviation below the mean.\n",
    "    plt.axvline(mean-std, color='b', linestyle='dashed', linewidth=2) \n",
    "\n",
    "    # Print the histogram.\n",
    "    plt.show()\n",
    "    print(\"\\n\\n\")"
   ]
  },
  {
   "cell_type": "markdown",
   "metadata": {},
   "source": [
    "## To do's  \n",
    "1.  Plot each variable\n",
    "1.  Describe each variable we are going to use\n",
    "1. "
   ]
  },
  {
   "cell_type": "markdown",
   "metadata": {},
   "source": [
    "## Let's do the Bivariate analysis"
   ]
  },
  {
   "cell_type": "code",
   "execution_count": 46,
   "metadata": {},
   "outputs": [
    {
     "name": "stdout",
     "output_type": "stream",
     "text": [
      "Let's do the Bivariate analysis!\n"
     ]
    }
   ],
   "source": [
    "print(\"Let's do the Bivariate analysis!\")"
   ]
  },
  {
   "cell_type": "code",
   "execution_count": null,
   "metadata": {},
   "outputs": [],
   "source": []
  }
 ],
 "metadata": {
  "kernelspec": {
   "display_name": "Python 3",
   "language": "python",
   "name": "python3"
  },
  "language_info": {
   "codemirror_mode": {
    "name": "ipython",
    "version": 3
   },
   "file_extension": ".py",
   "mimetype": "text/x-python",
   "name": "python",
   "nbconvert_exporter": "python",
   "pygments_lexer": "ipython3",
   "version": "3.7.2"
  }
 },
 "nbformat": 4,
 "nbformat_minor": 2
}
