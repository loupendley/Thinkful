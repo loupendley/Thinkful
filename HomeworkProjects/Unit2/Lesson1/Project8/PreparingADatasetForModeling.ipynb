{
 "cells": [
  {
   "cell_type": "markdown",
   "metadata": {},
   "source": [
    "## Preparing A Dataset for Modeling  \n",
    "### 04-Apr-2019 Lou Pendley  \n",
    "### Version 1.0"
   ]
  },
  {
   "cell_type": "code",
   "execution_count": 103,
   "metadata": {},
   "outputs": [],
   "source": [
    "import pandas as pd\n",
    "import numpy as np\n",
    "import matplotlib.pyplot as plt\n",
    "import seaborn as sns\n",
    "import scipy.stats as stats\n",
    "from sklearn import preprocessing"
   ]
  },
  {
   "cell_type": "code",
   "execution_count": 104,
   "metadata": {},
   "outputs": [],
   "source": [
    "# Let's read in the data set\n",
    "DataFilePath = '../../../../Datafiles'\n",
    "df = pd.read_csv(DataFilePath + '/imdb-data-from-2006-to-2016.zip', \n",
    "                 compression='zip', header=0, sep=',', quotechar='\"')\n",
    "df['first_genre'] = df['Genre'].apply(lambda x: x.split(',')[0])\n",
    "df['first_actor'] = df['Actors'].apply(lambda x: x.split(',')[0])\n",
    "df.rename(index=str, columns={\"Revenue (Millions)\": \"Revenue\"}, inplace=True)"
   ]
  },
  {
   "cell_type": "code",
   "execution_count": 105,
   "metadata": {},
   "outputs": [
    {
     "data": {
      "text/plain": [
       "Index(['Rank', 'Title', 'Genre', 'Description', 'Director', 'Actors', 'Year',\n",
       "       'Runtime (Minutes)', 'Rating', 'Votes', 'Revenue', 'Metascore',\n",
       "       'first_genre', 'first_actor'],\n",
       "      dtype='object')"
      ]
     },
     "execution_count": 105,
     "metadata": {},
     "output_type": "execute_result"
    }
   ],
   "source": [
    "sort_by = ['first_actor']\n",
    "\n",
    "# We will want to group by Station ID: start, and end\n",
    "df_sorted_actor=pd.DataFrame()\n",
    "df_sorted_actor=df.sort_values(by=sort_by, ascending=False)\n",
    "# print(df_sorted_actor)\n",
    "df_sorted_actor.columns"
   ]
  },
  {
   "cell_type": "code",
   "execution_count": 106,
   "metadata": {},
   "outputs": [],
   "source": [
    "df_sorted_genre = df.sort_values(by=['first_genre'])\n",
    "# print(\"there are {} distinct genres.\".format(len(df_sorted_genre['first_genre'].unique())))\n",
    "# for name in df_sorted_genre['first_genre'].unique():\n",
    "#     print(\"first genre is {}\".format(name))"
   ]
  },
  {
   "cell_type": "code",
   "execution_count": 107,
   "metadata": {},
   "outputs": [
    {
     "name": "stdout",
     "output_type": "stream",
     "text": [
      "there are 525 distinct first actors.\n"
     ]
    }
   ],
   "source": [
    "i = 1\n",
    "top = 20\n",
    "df_sorted_first_actor = df.sort_values(by=['first_actor'])\n",
    "print(\"there are {} distinct first actors.\".format(len(df_sorted_first_actor['first_actor'].unique())))\n",
    "# print(\"Here are the top {} in alphabetical first name order.\".format(top))\n",
    "# for name in df_sorted_first_actor['first_actor'].unique()[0:top]:\n",
    "#     print(\"first actor number {} is {}\".format(i, name))\n",
    "#     i += 1"
   ]
  },
  {
   "cell_type": "code",
   "execution_count": 108,
   "metadata": {},
   "outputs": [],
   "source": [
    "grouping_columns = ['first_actor']\n",
    "sort_by_aggregate = ['count']\n",
    "\n",
    "# # We will want to group by first actor\n",
    "df_first_actor_grouped=df.groupby(grouping_columns )['first_actor'].agg(['count']) \n",
    "df_first_actor_grouped=df_first_actor_grouped.sort_values(by=sort_by_aggregate, ascending=False)\n",
    "# print(df_first_actor_grouped)"
   ]
  },
  {
   "cell_type": "code",
   "execution_count": 109,
   "metadata": {},
   "outputs": [
    {
     "name": "stdout",
     "output_type": "stream",
     "text": [
      "             count\n",
      "first_genre       \n",
      "Action         293\n",
      "Drama          195\n",
      "Comedy         175\n",
      "Adventure       75\n",
      "Crime           71\n",
      "Biography       64\n",
      "Animation       49\n",
      "Horror          46\n",
      "Mystery         13\n",
      "Thriller        10\n",
      "Fantasy          4\n",
      "Sci-Fi           3\n",
      "Romance          2\n"
     ]
    }
   ],
   "source": [
    "grouping_columns = ['first_genre']\n",
    "sort_by_aggregate = ['count']\n",
    "\n",
    "# # We will want to group by first genre\n",
    "df_first_genre_grouped=df.groupby(grouping_columns )['first_actor'].agg(['count']) \n",
    "df_first_genre_grouped=df_first_genre_grouped.sort_values(by=sort_by_aggregate, ascending=False)\n",
    "print(df_first_genre_grouped)"
   ]
  },
  {
   "cell_type": "markdown",
   "metadata": {},
   "source": [
    "## Let's do the Univariate analysis"
   ]
  },
  {
   "cell_type": "markdown",
   "metadata": {},
   "source": [
    "1. How many variables do I have?  \n",
    "\n",
    "|Variable|Type|Clean Data|To Use?|\n",
    "|:----------|:-------|:-------|:-----|\n",
    "|Rank|Continuous Ratio|Yes|No| \n",
    "|Title|Other|Yes|No|\n",
    "|Genre|Categorical|Yes|Yes(first_genre)|\n",
    "|Description|Other|Yes|No|\n",
    "|Director|Categorical|Yes|Yes|\n",
    "|Actors|Categorical|Yes|Yes(first_actor)|\n",
    "|Year|Continuous: Ratio|Yes|No|\n",
    "|Runtime(minutes)|Continuous: Ratio|Yes|No|\n",
    "|Rating|Categorical|Yes|Yes|\n",
    "|Votes|Continuous: Interval|Yes|Yes|\n",
    "|Revenue|Continuous: Ratio|Yes|Yes|\n",
    "|Metascore|Continuous: Ratio|Yes|Yes|\n",
    "\n",
    "\n",
    "1. How many data points?\n",
    "    1.  We have 1,000 movies in this dataset\n",
    "1. Which variables are categorical, and which are continuous?\n",
    "    1. See table 1 above.\n",
    "1. Do any of my variables have a known probability distribution?\n",
    "1. Do I have missing data?\n",
    "    1. If so, how much?\n",
    "1. How much variance is there in each of my variables?\n",
    "\n",
    "Do some visualizations of the variables we are going to use."
   ]
  },
  {
   "cell_type": "code",
   "execution_count": 110,
   "metadata": {},
   "outputs": [],
   "source": [
    "cont_variable_list = ['Rating', 'Votes', 'Revenue', 'Metascore']\n",
    "vars_to_use = ['Directory', 'first_actor', 'first_genre', 'Rating', 'Votes', 'Revenue', 'Metascore']"
   ]
  },
  {
   "cell_type": "code",
   "execution_count": 111,
   "metadata": {},
   "outputs": [],
   "source": [
    "from IPython.display import Markdown, display\n",
    "def printmd(string):\n",
    "    display(Markdown(string))\n",
    "# printmd('**bold**')"
   ]
  },
  {
   "cell_type": "code",
   "execution_count": 112,
   "metadata": {},
   "outputs": [
    {
     "name": "stdout",
     "output_type": "stream",
     "text": [
      "\n",
      "\n",
      "\n"
     ]
    },
    {
     "data": {
      "text/markdown": [
       "variable=**Rating**, mean=6.72, std_dev=0.95"
      ],
      "text/plain": [
       "<IPython.core.display.Markdown object>"
      ]
     },
     "metadata": {},
     "output_type": "display_data"
    },
    {
     "data": {
      "image/png": "[encoded data removed]",
      "text/plain": [
       "<Figure size 432x288 with 1 Axes>"
      ]
     },
     "metadata": {
      "needs_background": "light"
     },
     "output_type": "display_data"
    },
    {
     "name": "stdout",
     "output_type": "stream",
     "text": [
      "\n",
      "\n",
      "\n"
     ]
    },
    {
     "data": {
      "text/markdown": [
       "variable=**Votes**, mean=169808.26, std_dev=188762.65"
      ],
      "text/plain": [
       "<IPython.core.display.Markdown object>"
      ]
     },
     "metadata": {},
     "output_type": "display_data"
    },
    {
     "data": {
      "image/png": "[encoded data removed]",
      "text/plain": [
       "<Figure size 432x288 with 1 Axes>"
      ]
     },
     "metadata": {
      "needs_background": "light"
     },
     "output_type": "display_data"
    },
    {
     "name": "stdout",
     "output_type": "stream",
     "text": [
      "\n",
      "\n",
      "\n"
     ]
    },
    {
     "data": {
      "text/markdown": [
       "variable=**Revenue**, mean=82.96, std_dev=103.25"
      ],
      "text/plain": [
       "<IPython.core.display.Markdown object>"
      ]
     },
     "metadata": {},
     "output_type": "display_data"
    },
    {
     "name": "stderr",
     "output_type": "stream",
     "text": [
      "/Users/lou/anaconda3/lib/python3.7/site-packages/numpy/lib/histograms.py:824: RuntimeWarning: invalid value encountered in greater_equal\n",
      "  keep = (tmp_a >= first_edge)\n",
      "/Users/lou/anaconda3/lib/python3.7/site-packages/numpy/lib/histograms.py:825: RuntimeWarning: invalid value encountered in less_equal\n",
      "  keep &= (tmp_a <= last_edge)\n"
     ]
    },
    {
     "data": {
      "image/png": "[encoded data removed]",
      "text/plain": [
       "<Figure size 432x288 with 1 Axes>"
      ]
     },
     "metadata": {
      "needs_background": "light"
     },
     "output_type": "display_data"
    },
    {
     "name": "stdout",
     "output_type": "stream",
     "text": [
      "\n",
      "\n",
      "\n"
     ]
    },
    {
     "data": {
      "text/markdown": [
       "variable=**Metascore**, mean=58.99, std_dev=17.19"
      ],
      "text/plain": [
       "<IPython.core.display.Markdown object>"
      ]
     },
     "metadata": {},
     "output_type": "display_data"
    },
    {
     "data": {
      "image/png": "[encoded data removed]",
      "text/plain": [
       "<Figure size 432x288 with 1 Axes>"
      ]
     },
     "metadata": {
      "needs_background": "light"
     },
     "output_type": "display_data"
    },
    {
     "name": "stdout",
     "output_type": "stream",
     "text": [
      "\n",
      "\n",
      "\n"
     ]
    }
   ],
   "source": [
    "print(\"\\n\\n\")\n",
    "\n",
    "for var in cont_variable_list:\n",
    "    printmd(\"variable=**{}**, mean={:0.2f}, std_dev={:0.2f}\".format(var,df[var].mean(),df[var].std()))\n",
    "    \n",
    "    mean = df[var].mean()\n",
    "    std = df[var].std()\n",
    "\n",
    "    plt.title(var+' distribution', fontdict=None, loc='center', pad=None)\n",
    "    #Plot a histogram for rand1.\n",
    "    plt.hist(df[var], bins=10, color='c')\n",
    "\n",
    "    # Add a vertical line at the mean.\n",
    "    plt.axvline(mean, color='b', linestyle='solid', linewidth=2)\n",
    "\n",
    "    # Add a vertical line at one standard deviation above the mean.\n",
    "    plt.axvline(mean + std, color='b', linestyle='dashed', linewidth=2)\n",
    "\n",
    "    # Add a vertical line at one standard deviation below the mean.\n",
    "    plt.axvline(mean-std, color='b', linestyle='dashed', linewidth=2) \n",
    "\n",
    "    # Print the histogram.\n",
    "    plt.show()\n",
    "    print(\"\\n\\n\")"
   ]
  },
  {
   "cell_type": "markdown",
   "metadata": {},
   "source": [
    "## Let's do the Bivariate analysis"
   ]
  },
  {
   "cell_type": "code",
   "execution_count": 113,
   "metadata": {},
   "outputs": [
    {
     "name": "stdout",
     "output_type": "stream",
     "text": [
      "Let's do the Bivariate analysis!\n"
     ]
    }
   ],
   "source": [
    "print(\"Let's do the Bivariate analysis!\")\n",
    "df.set_index(cont_variable_list);"
   ]
  },
  {
   "cell_type": "code",
   "execution_count": 114,
   "metadata": {},
   "outputs": [],
   "source": [
    "## Let's create a df for the bivariate analysis\n",
    "df_bv_analysis = df.loc[(df['Director'] != 'xx') | \n",
    "                        (df['first_actor'] != 'xx') | \n",
    "                        (df['first_genre'] != 'xx') | \n",
    "                        (df['Rating'] != -1) | \n",
    "                        (df['Rating'] != -1) | \n",
    "                        (df['Votes'] != -1) | (df['Revenue'] != -1) | (df['Metascore'] != -1),\n",
    "                        ['Director', 'first_actor', 'first_genre', 'Rating', 'Votes', 'Revenue', 'Metascore']]\n"
   ]
  },
  {
   "cell_type": "code",
   "execution_count": 115,
   "metadata": {},
   "outputs": [
    {
     "data": {
      "text/plain": [
       "array(['Action', 'Adventure', 'Horror', 'Animation', 'Comedy',\n",
       "       'Biography', 'Drama', 'Crime', 'Romance', 'Mystery', 'Thriller',\n",
       "       'Sci-Fi', 'Fantasy'], dtype=object)"
      ]
     },
     "execution_count": 115,
     "metadata": {},
     "output_type": "execute_result"
    }
   ],
   "source": [
    "df_bv_analysis.first_genre.unique()"
   ]
  },
  {
   "cell_type": "markdown",
   "metadata": {},
   "source": [
    "#### We need to scale the numeric values based on their mean and standard deviation, which normalizes them for comparison in the upcoming heat maps."
   ]
  },
  {
   "cell_type": "code",
   "execution_count": 116,
   "metadata": {},
   "outputs": [
    {
     "name": "stderr",
     "output_type": "stream",
     "text": [
      "/Users/lou/anaconda3/lib/python3.7/site-packages/ipykernel_launcher.py:8: DataConversionWarning: Data with input dtype int64, float64 were all converted to float64 by the scale function.\n",
      "  \n"
     ]
    }
   ],
   "source": [
    "## Let's setup the analysis data frame\n",
    "df_bv_analysis = df[['Director', 'first_actor', 'first_genre', 'Rating', 'Votes', 'Revenue', 'Metascore']]\n",
    "\n",
    "# Let's scale the numeric variables to all the same sizing for comparison\n",
    "# df_num = df_bv_analysis[['Director','first_actor', 'first_genre','Rating','Votes','Revenue','Metascore']].select_dtypes(include=[np.number]).dropna()\n",
    "df_num = df_bv_analysis[['Director','first_actor', 'first_genre','Rating','Votes','Revenue','Metascore']].select_dtypes(include=[np.number]).dropna()\n",
    "names = df_num.columns\n",
    "df_scaled = pd.DataFrame(preprocessing.scale(df_num), columns=names);"
   ]
  },
  {
   "cell_type": "code",
   "execution_count": 117,
   "metadata": {},
   "outputs": [],
   "source": [
    "df_jittered = df_scaled.loc[:,cont_variable_list].dropna()\n",
    "jitter = pd.DataFrame(\n",
    "    np.random.uniform(-.3, .3, size=(df_jittered.shape)), \n",
    "    columns=df_jittered.columns)"
   ]
  },
  {
   "cell_type": "code",
   "execution_count": 118,
   "metadata": {},
   "outputs": [],
   "source": [
    "df_jittered = df_jittered.add(jitter)"
   ]
  },
  {
   "cell_type": "code",
   "execution_count": 119,
   "metadata": {},
   "outputs": [
    {
     "data": {
      "image/png": "[encoded data removed]",
      "text/plain": [
       "<Figure size 720x720 with 20 Axes>"
      ]
     },
     "metadata": {
      "needs_background": "light"
     },
     "output_type": "display_data"
    }
   ],
   "source": [
    "g = sns.PairGrid(df_jittered.dropna(), diag_sharey=False)\n",
    "g.map_upper(plt.scatter, alpha=.5)\n",
    "g.map_lower(sns.regplot, scatter_kws=dict(alpha=0))\n",
    "g.map_diag(sns.kdeplot,lw=3)\n",
    "plt.show()"
   ]
  },
  {
   "cell_type": "code",
   "execution_count": 120,
   "metadata": {},
   "outputs": [
    {
     "name": "stdout",
     "output_type": "stream",
     "text": [
      "             Rating     Votes   Revenue  Metascore\n",
      "Rating     1.000000  0.517452  0.217106   0.672731\n",
      "Votes      0.517452  1.000000  0.636833   0.332674\n",
      "Revenue    0.217106  0.636833  1.000000   0.142397\n",
      "Metascore  0.672731  0.332674  0.142397   1.000000\n"
     ]
    }
   ],
   "source": [
    "# Make the correlation matrix\n",
    "corrmat = df_scaled.corr()\n",
    "print(corrmat)"
   ]
  },
  {
   "cell_type": "code",
   "execution_count": 121,
   "metadata": {},
   "outputs": [
    {
     "data": {
      "image/png": "[encoded data removed]",
      "text/plain": [
       "<Figure size 432x288 with 2 Axes>"
      ]
     },
     "metadata": {
      "needs_background": "light"
     },
     "output_type": "display_data"
    }
   ],
   "source": [
    "# Draw the heatmap using seaborn\n",
    "sns.heatmap(corrmat, vmax=.8, square=True)\n",
    "plt.show()"
   ]
  },
  {
   "cell_type": "code",
   "execution_count": 122,
   "metadata": {},
   "outputs": [],
   "source": [
    "# Perform ttests on df_scaled between"
   ]
  },
  {
   "cell_type": "code",
   "execution_count": 123,
   "metadata": {},
   "outputs": [],
   "source": [
    "df_long = df_bv_analysis.dropna()\n",
    "df_long = pd.melt(df_long, id_vars=['first_genre'])"
   ]
  },
  {
   "cell_type": "code",
   "execution_count": 124,
   "metadata": {},
   "outputs": [],
   "source": [
    "# df[('first_genre']"
   ]
  },
  {
   "cell_type": "code",
   "execution_count": 125,
   "metadata": {},
   "outputs": [],
   "source": [
    "# this errored out.  Was trying to run cell #4 in 2.1.4 Exploring the Data\n",
    "# g = sns.FacetGrid(df_long, col=\"variable\", size=4, aspect=.5);\n",
    "# g = g.map(sns.boxplot, \"first_genre\", \"value\")\n",
    "# plt.show()"
   ]
  },
  {
   "cell_type": "code",
   "execution_count": 126,
   "metadata": {},
   "outputs": [
    {
     "name": "stdout",
     "output_type": "stream",
     "text": [
      "Rating\n",
      "Ttest_indResult(statistic=4.9798618724902255, pvalue=1.0180241314983175e-06)\n",
      "Votes\n",
      "Ttest_indResult(statistic=4.742369819171481, pvalue=3.1232388111917567e-06)\n",
      "Revenue\n",
      "Ttest_indResult(statistic=3.6586882394174607, pvalue=0.0002979790871158919)\n",
      "Metascore\n",
      "Ttest_indResult(statistic=-0.6498518453563706, pvalue=0.5162526940652793)\n"
     ]
    }
   ],
   "source": [
    "# We will conduct a t-test between Action and Horror movies for the numeric data types\n",
    "for col in df_bv_analysis.loc[:, 'Rating' : 'Metascore'].columns:\n",
    "    print(col)\n",
    "    print(stats.ttest_ind(\n",
    "        df_bv_analysis[df_bv_analysis['first_genre'] == 'Action'][col].dropna(),\n",
    "        df_bv_analysis[df_bv_analysis['first_genre'] == 'Horror'][col].dropna()\n",
    "    ))"
   ]
  },
  {
   "cell_type": "markdown",
   "metadata": {},
   "source": [
    "### Let's create 10 new features with this movie set data. \n",
    "\n",
    "1. Action movies grossing over \\\\$10 million \\- label Action_10mill   \n",
    "We want to find out why these success stories grossed starting at \\$10 million\n",
    "1. Ratings lower than 2, grossing over \\\\$5 million LowRatings_5mill  \n",
    "How can movies with low ratings still gross \\\\$5 million or more?\n",
    "1. High voted movies grossing less than \\\\$1 million HiVotesLowGross \n",
    "Are there movies that grossed little, yet had high numbers of votes?\n",
    "1. Revenue over \\\\$300 million RevenuOver300mill  \n",
    "Report the big grossing movies\n",
    "1. Dollars per vote DollrsPerVote  \n",
    "How much gross dollars represents one vote?\n",
    "1. Metascores per dollar MetascoresPerDollar  \n",
    "How much does 1 Metascore represent?\n",
    "1. Ratings times Votes RatingsXVotes  \n",
    "An interesting calculation that may yield suprising results\n",
    "1. Revenue divided by ratings RevDivRatings  \n",
    "Let's normalize Revenue by ratings - perhaps a new benchmark\n",
    "1. Metascore times Rating  MetaTimesRating  \n",
    "Yet another rating parameter - Metascore times Rating\n",
    "1. Square root of votes VotesSQRoot  \n",
    "A new twist - does the square root of the votes prove to be a viable parameter"
   ]
  },
  {
   "cell_type": "code",
   "execution_count": 127,
   "metadata": {},
   "outputs": [
    {
     "name": "stderr",
     "output_type": "stream",
     "text": [
      "/Users/lou/anaconda3/lib/python3.7/site-packages/ipykernel_launcher.py:2: SettingWithCopyWarning: \n",
      "A value is trying to be set on a copy of a slice from a DataFrame.\n",
      "Try using .loc[row_indexer,col_indexer] = value instead\n",
      "\n",
      "See the caveats in the documentation: http://pandas.pydata.org/pandas-docs/stable/indexing.html#indexing-view-versus-copy\n",
      "  \n",
      "/Users/lou/anaconda3/lib/python3.7/site-packages/ipykernel_launcher.py:3: SettingWithCopyWarning: \n",
      "A value is trying to be set on a copy of a slice from a DataFrame.\n",
      "Try using .loc[row_indexer,col_indexer] = value instead\n",
      "\n",
      "See the caveats in the documentation: http://pandas.pydata.org/pandas-docs/stable/indexing.html#indexing-view-versus-copy\n",
      "  This is separate from the ipykernel package so we can avoid doing imports until\n",
      "/Users/lou/anaconda3/lib/python3.7/site-packages/ipykernel_launcher.py:4: SettingWithCopyWarning: \n",
      "A value is trying to be set on a copy of a slice from a DataFrame.\n",
      "Try using .loc[row_indexer,col_indexer] = value instead\n",
      "\n",
      "See the caveats in the documentation: http://pandas.pydata.org/pandas-docs/stable/indexing.html#indexing-view-versus-copy\n",
      "  after removing the cwd from sys.path.\n",
      "/Users/lou/anaconda3/lib/python3.7/site-packages/ipykernel_launcher.py:5: SettingWithCopyWarning: \n",
      "A value is trying to be set on a copy of a slice from a DataFrame.\n",
      "Try using .loc[row_indexer,col_indexer] = value instead\n",
      "\n",
      "See the caveats in the documentation: http://pandas.pydata.org/pandas-docs/stable/indexing.html#indexing-view-versus-copy\n",
      "  \"\"\"\n",
      "/Users/lou/anaconda3/lib/python3.7/site-packages/ipykernel_launcher.py:6: SettingWithCopyWarning: \n",
      "A value is trying to be set on a copy of a slice from a DataFrame.\n",
      "Try using .loc[row_indexer,col_indexer] = value instead\n",
      "\n",
      "See the caveats in the documentation: http://pandas.pydata.org/pandas-docs/stable/indexing.html#indexing-view-versus-copy\n",
      "  \n",
      "/Users/lou/anaconda3/lib/python3.7/site-packages/ipykernel_launcher.py:7: SettingWithCopyWarning: \n",
      "A value is trying to be set on a copy of a slice from a DataFrame.\n",
      "Try using .loc[row_indexer,col_indexer] = value instead\n",
      "\n",
      "See the caveats in the documentation: http://pandas.pydata.org/pandas-docs/stable/indexing.html#indexing-view-versus-copy\n",
      "  import sys\n"
     ]
    }
   ],
   "source": [
    "# New Features\n",
    "df_bv_analysis['Action_10mill'] = np.where((df_bv_analysis['first_genre'] == 'Action') & (df_bv_analysis['Revenue'] > 10.0), 1, 0)\n",
    "df_bv_analysis['LowRatings_5mill'] = np.where((df_bv_analysis['Rating'] < 2.0) & (df_bv_analysis['Revenue'] > 5.0), 1, 0)\n",
    "df_bv_analysis['HiVotesLowGross'] = np.where((df_bv_analysis['Votes'] > 400000) & (df_bv_analysis['Revenue'] < 1.0), 1, 0)\n",
    "df_bv_analysis['RevenuOver300mill'] = np.where((df_bv_analysis['Revenue'] > 300.0), 1, 0)\n",
    "df_bv_analysis['DollrsPerVote'] = df_bv_analysis['Revenue'] / df_bv_analysis['Votes']\n",
    "df_bv_analysis['MetascoresPerDollar'] = df_bv_analysis['Metascore'] / df_bv_analysis['Revenue']\n",
    "df_bv_analysis['RatingsXVotes'] = df_bv_analysis['Rating'] * df_bv_analysis['Votes']\n",
    "df_bv_analysis['RevDivRatings'] = df_bv_analysis['Revenue'] / df_bv_analysis['Rating']\n",
    "df_bv_analysis['MetaTimesRating'] = df_bv_analysis['Metascore'] * df_bv_analysis['Rating']\n",
    "df_bv_analysis['VotesSQRoot'] = np.sqrt(df_bv_analysis.Votes)"
   ]
  },
  {
   "cell_type": "code",
   "execution_count": 128,
   "metadata": {},
   "outputs": [
    {
     "data": {
      "text/html": [
       "<div>\n",
       "<style scoped>\n",
       "    .dataframe tbody tr th:only-of-type {\n",
       "        vertical-align: middle;\n",
       "    }\n",
       "\n",
       "    .dataframe tbody tr th {\n",
       "        vertical-align: top;\n",
       "    }\n",
       "\n",
       "    .dataframe thead th {\n",
       "        text-align: right;\n",
       "    }\n",
       "</style>\n",
       "<table border=\"1\" class=\"dataframe\">\n",
       "  <thead>\n",
       "    <tr style=\"text-align: right;\">\n",
       "      <th></th>\n",
       "      <th>Director</th>\n",
       "      <th>first_actor</th>\n",
       "      <th>first_genre</th>\n",
       "      <th>Rating</th>\n",
       "      <th>Votes</th>\n",
       "      <th>Revenue</th>\n",
       "      <th>Metascore</th>\n",
       "      <th>Action_10mill</th>\n",
       "      <th>LowRatings_5mill</th>\n",
       "      <th>HiVotesLowGross</th>\n",
       "      <th>RevenuOver300mill</th>\n",
       "      <th>DollrsPerVote</th>\n",
       "      <th>MetascoresPerDollar</th>\n",
       "      <th>RatingsXVotes</th>\n",
       "      <th>RevDivRatings</th>\n",
       "      <th>MetaTimesRating</th>\n",
       "      <th>VotesSQRoot</th>\n",
       "    </tr>\n",
       "  </thead>\n",
       "  <tbody>\n",
       "    <tr>\n",
       "      <th>87</th>\n",
       "      <td>James Cameron</td>\n",
       "      <td>Sam Worthington</td>\n",
       "      <td>Action</td>\n",
       "      <td>7.8</td>\n",
       "      <td>935408</td>\n",
       "      <td>760.51</td>\n",
       "      <td>83.0</td>\n",
       "      <td>1</td>\n",
       "      <td>0</td>\n",
       "      <td>0</td>\n",
       "      <td>1</td>\n",
       "      <td>0.000813</td>\n",
       "      <td>0.109137</td>\n",
       "      <td>7296182.4</td>\n",
       "      <td>97.501282</td>\n",
       "      <td>647.4</td>\n",
       "      <td>967.164929</td>\n",
       "    </tr>\n",
       "    <tr>\n",
       "      <th>133</th>\n",
       "      <td>Damien Chazelle</td>\n",
       "      <td>Miles Teller</td>\n",
       "      <td>Drama</td>\n",
       "      <td>8.5</td>\n",
       "      <td>477276</td>\n",
       "      <td>13.09</td>\n",
       "      <td>88.0</td>\n",
       "      <td>0</td>\n",
       "      <td>0</td>\n",
       "      <td>0</td>\n",
       "      <td>0</td>\n",
       "      <td>0.000027</td>\n",
       "      <td>6.722689</td>\n",
       "      <td>4056846.0</td>\n",
       "      <td>1.540000</td>\n",
       "      <td>748.0</td>\n",
       "      <td>690.851648</td>\n",
       "    </tr>\n",
       "    <tr>\n",
       "      <th>889</th>\n",
       "      <td>Jonathan Levine</td>\n",
       "      <td>Joseph Gordon-Levitt</td>\n",
       "      <td>Comedy</td>\n",
       "      <td>7.7</td>\n",
       "      <td>281625</td>\n",
       "      <td>34.96</td>\n",
       "      <td>72.0</td>\n",
       "      <td>0</td>\n",
       "      <td>0</td>\n",
       "      <td>0</td>\n",
       "      <td>0</td>\n",
       "      <td>0.000124</td>\n",
       "      <td>2.059497</td>\n",
       "      <td>2168512.5</td>\n",
       "      <td>4.540260</td>\n",
       "      <td>554.4</td>\n",
       "      <td>530.683522</td>\n",
       "    </tr>\n",
       "    <tr>\n",
       "      <th>105</th>\n",
       "      <td>David Mackenzie</td>\n",
       "      <td>Chris Pine</td>\n",
       "      <td>Crime</td>\n",
       "      <td>7.7</td>\n",
       "      <td>115546</td>\n",
       "      <td>26.86</td>\n",
       "      <td>88.0</td>\n",
       "      <td>0</td>\n",
       "      <td>0</td>\n",
       "      <td>0</td>\n",
       "      <td>0</td>\n",
       "      <td>0.000232</td>\n",
       "      <td>3.276247</td>\n",
       "      <td>889704.2</td>\n",
       "      <td>3.488312</td>\n",
       "      <td>677.6</td>\n",
       "      <td>339.920579</td>\n",
       "    </tr>\n",
       "    <tr>\n",
       "      <th>398</th>\n",
       "      <td>Terry Jones</td>\n",
       "      <td>Simon Pegg</td>\n",
       "      <td>Comedy</td>\n",
       "      <td>6.0</td>\n",
       "      <td>26587</td>\n",
       "      <td>NaN</td>\n",
       "      <td>31.0</td>\n",
       "      <td>0</td>\n",
       "      <td>0</td>\n",
       "      <td>0</td>\n",
       "      <td>0</td>\n",
       "      <td>NaN</td>\n",
       "      <td>NaN</td>\n",
       "      <td>159522.0</td>\n",
       "      <td>NaN</td>\n",
       "      <td>186.0</td>\n",
       "      <td>163.055205</td>\n",
       "    </tr>\n",
       "    <tr>\n",
       "      <th>558</th>\n",
       "      <td>Ron Howard</td>\n",
       "      <td>Chris Hemsworth</td>\n",
       "      <td>Action</td>\n",
       "      <td>6.9</td>\n",
       "      <td>90372</td>\n",
       "      <td>24.99</td>\n",
       "      <td>47.0</td>\n",
       "      <td>1</td>\n",
       "      <td>0</td>\n",
       "      <td>0</td>\n",
       "      <td>0</td>\n",
       "      <td>0.000277</td>\n",
       "      <td>1.880752</td>\n",
       "      <td>623566.8</td>\n",
       "      <td>3.621739</td>\n",
       "      <td>324.3</td>\n",
       "      <td>300.619361</td>\n",
       "    </tr>\n",
       "    <tr>\n",
       "      <th>270</th>\n",
       "      <td>Sam Mendes</td>\n",
       "      <td>Daniel Craig</td>\n",
       "      <td>Action</td>\n",
       "      <td>7.8</td>\n",
       "      <td>547386</td>\n",
       "      <td>304.36</td>\n",
       "      <td>81.0</td>\n",
       "      <td>1</td>\n",
       "      <td>0</td>\n",
       "      <td>0</td>\n",
       "      <td>1</td>\n",
       "      <td>0.000556</td>\n",
       "      <td>0.266132</td>\n",
       "      <td>4269610.8</td>\n",
       "      <td>39.020513</td>\n",
       "      <td>631.8</td>\n",
       "      <td>739.855391</td>\n",
       "    </tr>\n",
       "    <tr>\n",
       "      <th>93</th>\n",
       "      <td>Todd Phillips</td>\n",
       "      <td>Jonah Hill</td>\n",
       "      <td>Comedy</td>\n",
       "      <td>7.1</td>\n",
       "      <td>106463</td>\n",
       "      <td>43.02</td>\n",
       "      <td>57.0</td>\n",
       "      <td>0</td>\n",
       "      <td>0</td>\n",
       "      <td>0</td>\n",
       "      <td>0</td>\n",
       "      <td>0.000404</td>\n",
       "      <td>1.324965</td>\n",
       "      <td>755887.3</td>\n",
       "      <td>6.059155</td>\n",
       "      <td>404.7</td>\n",
       "      <td>326.286684</td>\n",
       "    </tr>\n",
       "    <tr>\n",
       "      <th>343</th>\n",
       "      <td>David Lowery</td>\n",
       "      <td>Bryce Dallas Howard</td>\n",
       "      <td>Adventure</td>\n",
       "      <td>6.8</td>\n",
       "      <td>36322</td>\n",
       "      <td>76.20</td>\n",
       "      <td>71.0</td>\n",
       "      <td>0</td>\n",
       "      <td>0</td>\n",
       "      <td>0</td>\n",
       "      <td>0</td>\n",
       "      <td>0.002098</td>\n",
       "      <td>0.931759</td>\n",
       "      <td>246989.6</td>\n",
       "      <td>11.205882</td>\n",
       "      <td>482.8</td>\n",
       "      <td>190.583315</td>\n",
       "    </tr>\n",
       "    <tr>\n",
       "      <th>421</th>\n",
       "      <td>David Ross</td>\n",
       "      <td>Lauren Birkell</td>\n",
       "      <td>Drama</td>\n",
       "      <td>5.7</td>\n",
       "      <td>8914</td>\n",
       "      <td>0.04</td>\n",
       "      <td>35.0</td>\n",
       "      <td>0</td>\n",
       "      <td>0</td>\n",
       "      <td>0</td>\n",
       "      <td>0</td>\n",
       "      <td>0.000004</td>\n",
       "      <td>875.000000</td>\n",
       "      <td>50809.8</td>\n",
       "      <td>0.007018</td>\n",
       "      <td>199.5</td>\n",
       "      <td>94.413982</td>\n",
       "    </tr>\n",
       "    <tr>\n",
       "      <th>784</th>\n",
       "      <td>Chris Evans</td>\n",
       "      <td>Chris Evans</td>\n",
       "      <td>Comedy</td>\n",
       "      <td>6.9</td>\n",
       "      <td>31370</td>\n",
       "      <td>0.04</td>\n",
       "      <td>31.0</td>\n",
       "      <td>0</td>\n",
       "      <td>0</td>\n",
       "      <td>0</td>\n",
       "      <td>0</td>\n",
       "      <td>0.000001</td>\n",
       "      <td>775.000000</td>\n",
       "      <td>216453.0</td>\n",
       "      <td>0.005797</td>\n",
       "      <td>213.9</td>\n",
       "      <td>177.115781</td>\n",
       "    </tr>\n",
       "    <tr>\n",
       "      <th>143</th>\n",
       "      <td>Lenny Abrahamson</td>\n",
       "      <td>Brie Larson</td>\n",
       "      <td>Drama</td>\n",
       "      <td>8.2</td>\n",
       "      <td>224132</td>\n",
       "      <td>14.68</td>\n",
       "      <td>86.0</td>\n",
       "      <td>0</td>\n",
       "      <td>0</td>\n",
       "      <td>0</td>\n",
       "      <td>0</td>\n",
       "      <td>0.000065</td>\n",
       "      <td>5.858311</td>\n",
       "      <td>1837882.4</td>\n",
       "      <td>1.790244</td>\n",
       "      <td>705.2</td>\n",
       "      <td>473.425813</td>\n",
       "    </tr>\n",
       "    <tr>\n",
       "      <th>432</th>\n",
       "      <td>Marc Forster</td>\n",
       "      <td>Brad Pitt</td>\n",
       "      <td>Action</td>\n",
       "      <td>7.0</td>\n",
       "      <td>494819</td>\n",
       "      <td>202.35</td>\n",
       "      <td>63.0</td>\n",
       "      <td>1</td>\n",
       "      <td>0</td>\n",
       "      <td>0</td>\n",
       "      <td>0</td>\n",
       "      <td>0.000409</td>\n",
       "      <td>0.311342</td>\n",
       "      <td>3463733.0</td>\n",
       "      <td>28.907143</td>\n",
       "      <td>441.0</td>\n",
       "      <td>703.433721</td>\n",
       "    </tr>\n",
       "    <tr>\n",
       "      <th>813</th>\n",
       "      <td>Woody Allen</td>\n",
       "      <td>Woody Allen</td>\n",
       "      <td>Comedy</td>\n",
       "      <td>6.3</td>\n",
       "      <td>72050</td>\n",
       "      <td>16.68</td>\n",
       "      <td>54.0</td>\n",
       "      <td>0</td>\n",
       "      <td>0</td>\n",
       "      <td>0</td>\n",
       "      <td>0</td>\n",
       "      <td>0.000232</td>\n",
       "      <td>3.237410</td>\n",
       "      <td>453915.0</td>\n",
       "      <td>2.647619</td>\n",
       "      <td>340.2</td>\n",
       "      <td>268.421311</td>\n",
       "    </tr>\n",
       "    <tr>\n",
       "      <th>594</th>\n",
       "      <td>Sean Anders</td>\n",
       "      <td>Will Ferrell</td>\n",
       "      <td>Comedy</td>\n",
       "      <td>6.1</td>\n",
       "      <td>68306</td>\n",
       "      <td>150.32</td>\n",
       "      <td>42.0</td>\n",
       "      <td>0</td>\n",
       "      <td>0</td>\n",
       "      <td>0</td>\n",
       "      <td>0</td>\n",
       "      <td>0.002201</td>\n",
       "      <td>0.279404</td>\n",
       "      <td>416666.6</td>\n",
       "      <td>24.642623</td>\n",
       "      <td>256.2</td>\n",
       "      <td>261.354166</td>\n",
       "    </tr>\n",
       "    <tr>\n",
       "      <th>942</th>\n",
       "      <td>Greg Kwedar</td>\n",
       "      <td>Johnny Simmons</td>\n",
       "      <td>Thriller</td>\n",
       "      <td>5.8</td>\n",
       "      <td>1292</td>\n",
       "      <td>NaN</td>\n",
       "      <td>73.0</td>\n",
       "      <td>0</td>\n",
       "      <td>0</td>\n",
       "      <td>0</td>\n",
       "      <td>0</td>\n",
       "      <td>NaN</td>\n",
       "      <td>NaN</td>\n",
       "      <td>7493.6</td>\n",
       "      <td>NaN</td>\n",
       "      <td>423.4</td>\n",
       "      <td>35.944402</td>\n",
       "    </tr>\n",
       "    <tr>\n",
       "      <th>20</th>\n",
       "      <td>Stephen Gaghan</td>\n",
       "      <td>Matthew McConaughey</td>\n",
       "      <td>Adventure</td>\n",
       "      <td>6.7</td>\n",
       "      <td>19053</td>\n",
       "      <td>7.22</td>\n",
       "      <td>49.0</td>\n",
       "      <td>0</td>\n",
       "      <td>0</td>\n",
       "      <td>0</td>\n",
       "      <td>0</td>\n",
       "      <td>0.000379</td>\n",
       "      <td>6.786704</td>\n",
       "      <td>127655.1</td>\n",
       "      <td>1.077612</td>\n",
       "      <td>328.3</td>\n",
       "      <td>138.032605</td>\n",
       "    </tr>\n",
       "    <tr>\n",
       "      <th>798</th>\n",
       "      <td>Scott Frank</td>\n",
       "      <td>Liam Neeson</td>\n",
       "      <td>Crime</td>\n",
       "      <td>6.5</td>\n",
       "      <td>93883</td>\n",
       "      <td>25.98</td>\n",
       "      <td>57.0</td>\n",
       "      <td>0</td>\n",
       "      <td>0</td>\n",
       "      <td>0</td>\n",
       "      <td>0</td>\n",
       "      <td>0.000277</td>\n",
       "      <td>2.193995</td>\n",
       "      <td>610239.5</td>\n",
       "      <td>3.996923</td>\n",
       "      <td>370.5</td>\n",
       "      <td>306.403329</td>\n",
       "    </tr>\n",
       "    <tr>\n",
       "      <th>440</th>\n",
       "      <td>Sam Raimi</td>\n",
       "      <td>James Franco</td>\n",
       "      <td>Adventure</td>\n",
       "      <td>6.3</td>\n",
       "      <td>181521</td>\n",
       "      <td>234.90</td>\n",
       "      <td>44.0</td>\n",
       "      <td>0</td>\n",
       "      <td>0</td>\n",
       "      <td>0</td>\n",
       "      <td>0</td>\n",
       "      <td>0.001294</td>\n",
       "      <td>0.187314</td>\n",
       "      <td>1143582.3</td>\n",
       "      <td>37.285714</td>\n",
       "      <td>277.2</td>\n",
       "      <td>426.052814</td>\n",
       "    </tr>\n",
       "    <tr>\n",
       "      <th>553</th>\n",
       "      <td>Stephen Fingleton</td>\n",
       "      <td>Mia Goth</td>\n",
       "      <td>Drama</td>\n",
       "      <td>6.3</td>\n",
       "      <td>9187</td>\n",
       "      <td>NaN</td>\n",
       "      <td>80.0</td>\n",
       "      <td>0</td>\n",
       "      <td>0</td>\n",
       "      <td>0</td>\n",
       "      <td>0</td>\n",
       "      <td>NaN</td>\n",
       "      <td>NaN</td>\n",
       "      <td>57878.1</td>\n",
       "      <td>NaN</td>\n",
       "      <td>504.0</td>\n",
       "      <td>95.848839</td>\n",
       "    </tr>\n",
       "  </tbody>\n",
       "</table>\n",
       "</div>"
      ],
      "text/plain": [
       "              Director           first_actor first_genre  Rating   Votes  \\\n",
       "87       James Cameron       Sam Worthington      Action     7.8  935408   \n",
       "133    Damien Chazelle          Miles Teller       Drama     8.5  477276   \n",
       "889    Jonathan Levine  Joseph Gordon-Levitt      Comedy     7.7  281625   \n",
       "105    David Mackenzie            Chris Pine       Crime     7.7  115546   \n",
       "398        Terry Jones            Simon Pegg      Comedy     6.0   26587   \n",
       "558         Ron Howard       Chris Hemsworth      Action     6.9   90372   \n",
       "270         Sam Mendes          Daniel Craig      Action     7.8  547386   \n",
       "93       Todd Phillips            Jonah Hill      Comedy     7.1  106463   \n",
       "343       David Lowery   Bryce Dallas Howard   Adventure     6.8   36322   \n",
       "421         David Ross        Lauren Birkell       Drama     5.7    8914   \n",
       "784        Chris Evans           Chris Evans      Comedy     6.9   31370   \n",
       "143   Lenny Abrahamson           Brie Larson       Drama     8.2  224132   \n",
       "432       Marc Forster             Brad Pitt      Action     7.0  494819   \n",
       "813        Woody Allen           Woody Allen      Comedy     6.3   72050   \n",
       "594        Sean Anders          Will Ferrell      Comedy     6.1   68306   \n",
       "942        Greg Kwedar        Johnny Simmons    Thriller     5.8    1292   \n",
       "20      Stephen Gaghan   Matthew McConaughey   Adventure     6.7   19053   \n",
       "798        Scott Frank           Liam Neeson       Crime     6.5   93883   \n",
       "440          Sam Raimi          James Franco   Adventure     6.3  181521   \n",
       "553  Stephen Fingleton              Mia Goth       Drama     6.3    9187   \n",
       "\n",
       "     Revenue  Metascore  Action_10mill  LowRatings_5mill  HiVotesLowGross  \\\n",
       "87    760.51       83.0              1                 0                0   \n",
       "133    13.09       88.0              0                 0                0   \n",
       "889    34.96       72.0              0                 0                0   \n",
       "105    26.86       88.0              0                 0                0   \n",
       "398      NaN       31.0              0                 0                0   \n",
       "558    24.99       47.0              1                 0                0   \n",
       "270   304.36       81.0              1                 0                0   \n",
       "93     43.02       57.0              0                 0                0   \n",
       "343    76.20       71.0              0                 0                0   \n",
       "421     0.04       35.0              0                 0                0   \n",
       "784     0.04       31.0              0                 0                0   \n",
       "143    14.68       86.0              0                 0                0   \n",
       "432   202.35       63.0              1                 0                0   \n",
       "813    16.68       54.0              0                 0                0   \n",
       "594   150.32       42.0              0                 0                0   \n",
       "942      NaN       73.0              0                 0                0   \n",
       "20      7.22       49.0              0                 0                0   \n",
       "798    25.98       57.0              0                 0                0   \n",
       "440   234.90       44.0              0                 0                0   \n",
       "553      NaN       80.0              0                 0                0   \n",
       "\n",
       "     RevenuOver300mill  DollrsPerVote  MetascoresPerDollar  RatingsXVotes  \\\n",
       "87                   1       0.000813             0.109137      7296182.4   \n",
       "133                  0       0.000027             6.722689      4056846.0   \n",
       "889                  0       0.000124             2.059497      2168512.5   \n",
       "105                  0       0.000232             3.276247       889704.2   \n",
       "398                  0            NaN                  NaN       159522.0   \n",
       "558                  0       0.000277             1.880752       623566.8   \n",
       "270                  1       0.000556             0.266132      4269610.8   \n",
       "93                   0       0.000404             1.324965       755887.3   \n",
       "343                  0       0.002098             0.931759       246989.6   \n",
       "421                  0       0.000004           875.000000        50809.8   \n",
       "784                  0       0.000001           775.000000       216453.0   \n",
       "143                  0       0.000065             5.858311      1837882.4   \n",
       "432                  0       0.000409             0.311342      3463733.0   \n",
       "813                  0       0.000232             3.237410       453915.0   \n",
       "594                  0       0.002201             0.279404       416666.6   \n",
       "942                  0            NaN                  NaN         7493.6   \n",
       "20                   0       0.000379             6.786704       127655.1   \n",
       "798                  0       0.000277             2.193995       610239.5   \n",
       "440                  0       0.001294             0.187314      1143582.3   \n",
       "553                  0            NaN                  NaN        57878.1   \n",
       "\n",
       "     RevDivRatings  MetaTimesRating  VotesSQRoot  \n",
       "87       97.501282            647.4   967.164929  \n",
       "133       1.540000            748.0   690.851648  \n",
       "889       4.540260            554.4   530.683522  \n",
       "105       3.488312            677.6   339.920579  \n",
       "398            NaN            186.0   163.055205  \n",
       "558       3.621739            324.3   300.619361  \n",
       "270      39.020513            631.8   739.855391  \n",
       "93        6.059155            404.7   326.286684  \n",
       "343      11.205882            482.8   190.583315  \n",
       "421       0.007018            199.5    94.413982  \n",
       "784       0.005797            213.9   177.115781  \n",
       "143       1.790244            705.2   473.425813  \n",
       "432      28.907143            441.0   703.433721  \n",
       "813       2.647619            340.2   268.421311  \n",
       "594      24.642623            256.2   261.354166  \n",
       "942            NaN            423.4    35.944402  \n",
       "20        1.077612            328.3   138.032605  \n",
       "798       3.996923            370.5   306.403329  \n",
       "440      37.285714            277.2   426.052814  \n",
       "553            NaN            504.0    95.848839  "
      ]
     },
     "execution_count": 128,
     "metadata": {},
     "output_type": "execute_result"
    }
   ],
   "source": [
    "df_bv_analysis.sample(20)"
   ]
  },
  {
   "cell_type": "code",
   "execution_count": null,
   "metadata": {},
   "outputs": [],
   "source": []
  }
 ],
 "metadata": {
  "kernelspec": {
   "display_name": "Python 3",
   "language": "python",
   "name": "python3"
  },
  "language_info": {
   "codemirror_mode": {
    "name": "ipython",
    "version": 3
   },
   "file_extension": ".py",
   "mimetype": "text/x-python",
   "name": "python",
   "nbconvert_exporter": "python",
   "pygments_lexer": "ipython3",
   "version": "3.7.2"
  }
 },
 "nbformat": 4,
 "nbformat_minor": 2
}
