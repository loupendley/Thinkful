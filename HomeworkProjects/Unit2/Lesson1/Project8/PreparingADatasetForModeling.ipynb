{
 "cells": [
  {
   "cell_type": "markdown",
   "metadata": {},
   "source": [
    "## Preparing A Dataset for Modeling  \n",
    "### 04-Apr-2019 Lou Pendley  \n",
    "### Version 1.0"
   ]
  },
  {
   "cell_type": "code",
   "execution_count": 1,
   "metadata": {},
   "outputs": [],
   "source": [
    "import pandas as pd\n",
    "import numpy as np\n",
    "import matplotlib.pyplot as plt\n",
    "import seaborn as sns\n",
    "import scipy.stats as stats"
   ]
  },
  {
   "cell_type": "code",
   "execution_count": 2,
   "metadata": {},
   "outputs": [],
   "source": [
    "# Let's read in the data set\n",
    "DataFilePath = '../../../../Datafiles'\n",
    "df = pd.read_csv(DataFilePath + '/imdb-data-from-2006-to-2016.zip', \n",
    "                 compression='zip', header=0, sep=',', quotechar='\"')\n",
    "df['first_genre'] = df['Genre'].apply(lambda x: x.split(',')[0])\n",
    "df['first_actor'] = df['Actors'].apply(lambda x: x.split(',')[0])"
   ]
  },
  {
   "cell_type": "code",
   "execution_count": 5,
   "metadata": {},
   "outputs": [
    {
     "data": {
      "text/plain": [
       "Index(['Rank', 'Title', 'Genre', 'Description', 'Director', 'Actors', 'Year',\n",
       "       'Runtime (Minutes)', 'Rating', 'Votes', 'Revenue (Millions)',\n",
       "       'Metascore', 'first_genre', 'first_actor'],\n",
       "      dtype='object')"
      ]
     },
     "execution_count": 5,
     "metadata": {},
     "output_type": "execute_result"
    }
   ],
   "source": [
    "# print(df['first_actor'].unique())\n",
    "sort_by = ['first_actor']\n",
    "\n",
    "# We will want to group by Station ID: start, and end\n",
    "df_sorted_actor=pd.DataFrame()\n",
    "df_sorted_actor=df.sort_values(by=sort_by, ascending=False)\n",
    "# print(df_sorted_actor)\n",
    "df_sorted_actor.columns"
   ]
  },
  {
   "cell_type": "code",
   "execution_count": 6,
   "metadata": {},
   "outputs": [
    {
     "name": "stdout",
     "output_type": "stream",
     "text": [
      "there are 13 distinct genres.\n",
      "first genre is Action\n",
      "first genre is Adventure\n",
      "first genre is Animation\n",
      "first genre is Biography\n",
      "first genre is Comedy\n",
      "first genre is Crime\n",
      "first genre is Drama\n",
      "first genre is Fantasy\n",
      "first genre is Horror\n",
      "first genre is Mystery\n",
      "first genre is Romance\n",
      "first genre is Sci-Fi\n",
      "first genre is Thriller\n"
     ]
    }
   ],
   "source": [
    "df_sorted_genre = df.sort_values(by=['first_genre'])\n",
    "print(\"there are {} distinct genres.\".format(len(df_sorted_genre['first_genre'].unique())))\n",
    "for name in df_sorted_genre['first_genre'].unique():\n",
    "    print(\"first genre is {}\".format(name))"
   ]
  },
  {
   "cell_type": "code",
   "execution_count": 14,
   "metadata": {},
   "outputs": [
    {
     "name": "stdout",
     "output_type": "stream",
     "text": [
      "there are 525 distinct first actors.\n",
      "Here are the top 20 in alphabetical first name order.\n",
      "first actor number 1 is Aamir Khan\n",
      "first actor number 2 is Aaron Paul\n",
      "first actor number 3 is Aaron Poole\n",
      "first actor number 4 is Aaron Taylor-Johnson\n",
      "first actor number 5 is Abbie Cornish\n",
      "first actor number 6 is Abigail Breslin\n",
      "first actor number 7 is Adam Driver\n",
      "first actor number 8 is Adam Pally\n",
      "first actor number 9 is Adam Sandler\n",
      "first actor number 10 is Adrian Grenier\n",
      "first actor number 11 is Adrian Titieni\n",
      "first actor number 12 is Adrien Brody\n",
      "first actor number 13 is Alex Karpovsky\n",
      "first actor number 14 is Alex Pettyfer\n",
      "first actor number 15 is Alexander Skarsgård\n",
      "first actor number 16 is Alexandra Daddario\n",
      "first actor number 17 is Alexi Pappas\n",
      "first actor number 18 is Alia Bhatt\n",
      "first actor number 19 is Alia Shawkat\n",
      "first actor number 20 is Alice Englert\n"
     ]
    }
   ],
   "source": [
    "i = 1\n",
    "top = 20\n",
    "df_sorted_first_actor = df.sort_values(by=['first_actor'])\n",
    "print(\"there are {} distinct first actors.\".format(len(df_sorted_first_actor['first_actor'].unique())))\n",
    "print(\"Here are the top {} in alphabetical first name order.\".format(top))\n",
    "for name in df_sorted_first_actor['first_actor'].unique()[0:top]:\n",
    "    print(\"first actor number {} is {}\".format(i, name))\n",
    "    i += 1"
   ]
  },
  {
   "cell_type": "code",
   "execution_count": null,
   "metadata": {},
   "outputs": [],
   "source": [
    "grouping_columns = ['first_actor']\n",
    "sort_by_aggregate = ['count']\n",
    "\n",
    "# # We will want to group by first actor\n",
    "df_first_actor_grouped=df.groupby(grouping_columns )['first_actor'].agg(['count']) \n",
    "df_first_actor_grouped=df_first_actor_grouped.sort_values(by=sort_by_aggregate, ascending=False)\n",
    "print(df_first_actor_grouped)"
   ]
  },
  {
   "cell_type": "code",
   "execution_count": null,
   "metadata": {},
   "outputs": [],
   "source": [
    "grouping_columns = ['first_genre']\n",
    "sort_by_aggregate = ['count']\n",
    "\n",
    "# # We will want to group by first genre\n",
    "df_first_genre_grouped=df.groupby(grouping_columns )['first_actor'].agg(['count']) \n",
    "df_first_genre_grouped=df_first_genre_grouped.sort_values(by=sort_by_aggregate, ascending=False)\n",
    "print(df_first_genre_grouped)"
   ]
  },
  {
   "cell_type": "markdown",
   "metadata": {},
   "source": [
    "## Let's do the Univariate analysis"
   ]
  },
  {
   "cell_type": "markdown",
   "metadata": {},
   "source": [
    "1. How many variables do I have?  \n",
    "\n",
    "|:Variable|:Type|:Clean Data|To Use?|\n",
    "|----------|-------|-------|-----|\n",
    "|Rank|Continuous Ratio|Yes|No| \n",
    "|Title|Other|Yes|No|\n",
    "|Genre|Categorical|Yes|Yes(first_genre)|\n",
    "|Description|Other|Yes|No|\n",
    "|Director|Categorical|Yes|Yes|\n",
    "|Actors|Categorical|Yes|Yes(first_actor)|\n",
    "|Year|Continuous: Ratio|Yes|No|\n",
    "|Runtime(minutes)|Continuous: Ratio|Yes|No|\n",
    "|Rating|Categorical|Yes|Yes|\n",
    "|Votes|Continuous: Interval|Yes|Yes|\n",
    "|Revenue|Continuous: Ratio|Yes|Yes|\n",
    "|Metascore|Continuous: Ratio|Yes|Yes|\n",
    "\n",
    "\n",
    "1. How many data points?\n",
    "    1.  We have 1,000 movies in this dataset\n",
    "1. Which variables are categorical, and which are continuous?\n",
    "    1. See table 1 above.\n",
    "1. Do any of my variables have a known probability distribution?\n",
    "1. Do I have missing data?\n",
    "    1. If so, how much?\n",
    "1. How much variance is there in each of my variables?\n",
    "\n",
    "Do some visualizations of the variables we are going to use."
   ]
  },
  {
   "cell_type": "code",
   "execution_count": 1,
   "metadata": {},
   "outputs": [
    {
     "ename": "SyntaxError",
     "evalue": "invalid syntax (<ipython-input-1-26c58007f160>, line 1)",
     "output_type": "error",
     "traceback": [
      "\u001b[0;36m  File \u001b[0;32m\"<ipython-input-1-26c58007f160>\"\u001b[0;36m, line \u001b[0;32m1\u001b[0m\n\u001b[0;31m    df.plot(y=, kind='bar', label='Count of rides in 2018', figsize=(16,14));\u001b[0m\n\u001b[0m              ^\u001b[0m\n\u001b[0;31mSyntaxError\u001b[0m\u001b[0;31m:\u001b[0m invalid syntax\n"
     ]
    }
   ],
   "source": [
    "# df.plot(y=, kind='bar', label='Count of rides in 2018', figsize=(16,14));"
   ]
  },
  {
   "cell_type": "markdown",
   "metadata": {},
   "source": [
    "## To do's  \n",
    "1.  Plot each variable\n",
    "1.  Describe each variable we are going to use\n",
    "1. "
   ]
  },
  {
   "cell_type": "markdown",
   "metadata": {},
   "source": [
    "## Let's do the Bivariate analysis"
   ]
  },
  {
   "cell_type": "code",
   "execution_count": null,
   "metadata": {},
   "outputs": [],
   "source": []
  }
 ],
 "metadata": {
  "kernelspec": {
   "display_name": "Python 3",
   "language": "python",
   "name": "python3"
  },
  "language_info": {
   "codemirror_mode": {
    "name": "ipython",
    "version": 3
   },
   "file_extension": ".py",
   "mimetype": "text/x-python",
   "name": "python",
   "nbconvert_exporter": "python",
   "pygments_lexer": "ipython3",
   "version": "3.7.2"
  }
 },
 "nbformat": 4,
 "nbformat_minor": 2
}
