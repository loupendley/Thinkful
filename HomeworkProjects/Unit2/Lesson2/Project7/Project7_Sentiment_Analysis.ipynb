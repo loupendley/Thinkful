{
 "cells": [
  {
   "cell_type": "markdown",
   "metadata": {},
   "source": [
    "## Project 7 - Sentiment Analysis"
   ]
  },
  {
   "cell_type": "markdown",
   "metadata": {},
   "source": [
    "### **Assignment**  \n",
    "Pick one of the company data files and build your own classifier. \n",
    "\n",
    "When you're satisfied with its performance (at this point just using the accuracy measure shown in the example):  \n",
    "test it on one of the other datasets to see how well these kinds of classifiers translate from one context to another.\n",
    "\n",
    "Include your model and a brief writeup of your feature engineering and selection process to submit and review with your mentor."
   ]
  },
  {
   "cell_type": "code",
   "execution_count": 123,
   "metadata": {},
   "outputs": [],
   "source": [
    "%matplotlib inline\n",
    "import numpy as np\n",
    "import pandas as pd\n",
    "import scipy\n",
    "import sklearn\n",
    "import matplotlib.pyplot as plt\n",
    "import seaborn as sns"
   ]
  },
  {
   "cell_type": "code",
   "execution_count": 124,
   "metadata": {},
   "outputs": [],
   "source": [
    "pd.options.display.max_colwidth = 100"
   ]
  },
  {
   "cell_type": "code",
   "execution_count": 125,
   "metadata": {},
   "outputs": [],
   "source": [
    "def get_file_encoding(fn):\n",
    "    import chardet\n",
    "        \n",
    "    with open(fn, 'rb') as f:\n",
    "        content = f.read()\n",
    "\n",
    "    charset = chardet.detect(content)\n",
    "    # {'encoding': 'EUC-JP', 'confidence': 0.99}\n",
    "    #print(\"character set = {}\".format(charset['encoding']))\n",
    "    \n",
    "    return charset['encoding']"
   ]
  },
  {
   "cell_type": "code",
   "execution_count": 126,
   "metadata": {},
   "outputs": [],
   "source": [
    "# Let's process the data)\n",
    "def open_and_load_file (filename, columnnames):\n",
    "    file_encoding = get_file_encoding(filename)\n",
    "    df = pd.read_csv(filename, delimiter= '\\t', header=None, encoding=file_encoding) \n",
    "    df.columns = columnnames\n",
    "    return df, file_encoding"
   ]
  },
  {
   "cell_type": "code",
   "execution_count": 127,
   "metadata": {},
   "outputs": [],
   "source": [
    "def run_Bernoulli_supervised_learning(d1, t1):\n",
    "# Our data is binary / boolean, so we're importing the Bernoulli classifier.\n",
    "    from sklearn.naive_bayes import BernoulliNB\n",
    "\n",
    "    # Instantiate our model and store it in a new variable.\n",
    "    bnb = BernoulliNB()\n",
    "\n",
    "    # Fit our model to the data.\n",
    "    bnb.fit(d1, target)\n",
    "\n",
    "    # Classify, storing the result in a new variable.\n",
    "    y_pred = bnb.predict(d1)\n",
    "\n",
    "    # Display our results.\n",
    "    return_message = \"Number of mislabeled points out of a total {} points : {}\".format(\n",
    "        d1.shape[0],\n",
    "        (t1 != y_pred).sum()\n",
    "    )\n",
    "\n",
    "    return (return_message, d1.shape[0], (t1 != y_pred).sum())"
   ]
  },
  {
   "cell_type": "code",
   "execution_count": 128,
   "metadata": {},
   "outputs": [],
   "source": [
    "keywords = ['blah', 'disgusted','fucking','dirt','avoid', 'mediocre,','elsewhere','wonderful','awesome','sucked',\n",
    "            'shocked','disgraceful','awkward','not return','horrible','below average','bland','disgust','generous',\n",
    "            'ample','huge','winner','definitely','reasonable', 'not good', 'awful','tender','quickly','awesome',\n",
    "            'delicious','amazing','worth','phenomenal','helpful','good','fantastic','fresh','recommended', \n",
    "            'beautiful', 'outstanding', 'great','teamwork','enjoyed','inexpensive','fav','loved','approval',\n",
    "            'delightful','flavorful','good','tasty','delight','beautiful','performed','amazing','cute','friendly',\n",
    "            'BARGAIN', 'unreal','great','prompt','highly recommended','jewel', 'love', 'is worth', 'sticks around',\n",
    "            'loved', 'hit']"
   ]
  },
  {
   "cell_type": "code",
   "execution_count": 129,
   "metadata": {},
   "outputs": [],
   "source": [
    "def do_the_keywords():\n",
    "    for key in keywords:\n",
    "        # Add spaces around the key so that we are getting theword,\n",
    "        # not just pattern matching\n",
    "        sentiment_raw[str(key)] = sentiment_raw.message.str.contains(' ' + str(key) + ' ', case=False)"
   ]
  },
  {
   "cell_type": "code",
   "execution_count": 130,
   "metadata": {},
   "outputs": [],
   "source": [
    "def do_the_heatmap(subplotno):\n",
    "#     f.set_figheight(15)\n",
    "#     f.set_figwidth(15)\n",
    "#     f, axs = plt.subplots(2,2,figsize=(15,15))\n",
    "    \n",
    "#     plt.subplot(3,1,subplotno)\n",
    "    sns.heatmap(sentiment_raw.corr(), cmap=\"Blues\")\n",
    "    plt.subplot(3,1,subplotno)\n",
    "   "
   ]
  },
  {
   "cell_type": "code",
   "execution_count": 131,
   "metadata": {},
   "outputs": [],
   "source": [
    "def set_data_and_target():\n",
    "    global data \n",
    "    data = sentiment_raw[keywords]\n",
    "    # data.sample(5)\n",
    "    \n",
    "    global target \n",
    "    target = sentiment_raw['sentiment']\n",
    "    # target.head(10)"
   ]
  },
  {
   "cell_type": "code",
   "execution_count": 132,
   "metadata": {},
   "outputs": [],
   "source": [
    "file_list = ['amazon_cells_labelled.txt', 'imdb_labelled.txt', 'yelp_labelled.txt']\n",
    "file_path = \"../../../../Datafiles/sentiment_labelled_sentences/\""
   ]
  },
  {
   "cell_type": "markdown",
   "metadata": {},
   "source": [
    "#### main"
   ]
  },
  {
   "cell_type": "code",
   "execution_count": 133,
   "metadata": {},
   "outputs": [
    {
     "name": "stdout",
     "output_type": "stream",
     "text": [
      "Now processing file amazon_cells_labelled.txt\n",
      "y=1000, z=414\n",
      "Now processing file imdb_labelled.txt\n",
      "y=748, z=305\n",
      "Now processing file yelp_labelled.txt\n",
      "y=1000, z=353\n",
      "That's all folks!!!\n"
     ]
    },
    {
     "data": {
      "image/png": "[encoded data removed]",
      "text/plain": [
       "<Figure size 432x288 with 5 Axes>"
      ]
     },
     "metadata": {
      "needs_background": "light"
     },
     "output_type": "display_data"
    }
   ],
   "source": [
    "subplotnum = 1\n",
    "for filenom in file_list:\n",
    "    print(\"Now processing file {}\".format(filenom))\n",
    "    sentiment_raw, encod = open_and_load_file(file_path + filenom , ['message', 'sentiment'])\n",
    "    do_the_keywords()\n",
    "    do_the_heatmap(subplotnum)\n",
    "    set_data_and_target()\n",
    "    xmsg, y, z = run_Bernoulli_supervised_learning(data, target)\n",
    "    print(\"y={}, z={}\".format(y, z))\n",
    "    sentiment_raw = pd.DataFrame()\n",
    "    subplotnum += 1\n",
    "print(\"That's all folks!!!\")"
   ]
  },
  {
   "cell_type": "code",
   "execution_count": null,
   "metadata": {},
   "outputs": [],
   "source": []
  }
 ],
 "metadata": {
  "kernelspec": {
   "display_name": "Python 3",
   "language": "python",
   "name": "python3"
  },
  "language_info": {
   "codemirror_mode": {
    "name": "ipython",
    "version": 3
   },
   "file_extension": ".py",
   "mimetype": "text/x-python",
   "name": "python",
   "nbconvert_exporter": "python",
   "pygments_lexer": "ipython3",
   "version": "3.7.2"
  }
 },
 "nbformat": 4,
 "nbformat_minor": 2
}
