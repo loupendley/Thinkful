{
 "cells": [
  {
   "cell_type": "code",
   "execution_count": 1,
   "metadata": {},
   "outputs": [],
   "source": [
    "import numpy as np\n",
    "import pandas as pd\n",
    "import matplotlib.pyplot as plt\n",
    "import seaborn as sns\n",
    "%matplotlib inline"
   ]
  },
  {
   "cell_type": "code",
   "execution_count": 2,
   "metadata": {},
   "outputs": [],
   "source": [
    "words = pd.Series([\n",
    "    'MollyMalone$molmal@gmail.com',\n",
    "    'JeffreyJones$jefjo@hotmail.com',\n",
    "    'DeadParrot$fjords@gmail.com'\n",
    "])"
   ]
  },
  {
   "cell_type": "code",
   "execution_count": 3,
   "metadata": {},
   "outputs": [
    {
     "data": {
      "text/plain": [
       "0      MollyMalone$molmal@gmail.com\n",
       "1    JeffreyJones$jefjo@hotmail.com\n",
       "2       DeadParrot$fjords@gmail.com\n",
       "dtype: object"
      ]
     },
     "execution_count": 3,
     "metadata": {},
     "output_type": "execute_result"
    }
   ],
   "source": [
    "words"
   ]
  },
  {
   "cell_type": "code",
   "execution_count": 4,
   "metadata": {},
   "outputs": [
    {
     "data": {
      "text/plain": [
       "0      MollyMalone$molmal@yahoo.com\n",
       "1    JeffreyJones$jefjo@hotmail.com\n",
       "2       DeadParrot$fjords@yahoo.com\n",
       "dtype: object"
      ]
     },
     "execution_count": 4,
     "metadata": {},
     "output_type": "execute_result"
    }
   ],
   "source": [
    "words.str.replace('gmail', 'yahoo')"
   ]
  },
  {
   "cell_type": "code",
   "execution_count": 57,
   "metadata": {},
   "outputs": [],
   "source": [
    "stuff = pd.Series (['abc', 'def', 'ghi', 'jkl'])"
   ]
  },
  {
   "cell_type": "code",
   "execution_count": 58,
   "metadata": {},
   "outputs": [
    {
     "data": {
      "text/plain": [
       "0    abc\n",
       "1    def\n",
       "2    ghi\n",
       "3    jkl\n",
       "dtype: object"
      ]
     },
     "execution_count": 58,
     "metadata": {},
     "output_type": "execute_result"
    }
   ],
   "source": [
    "stuff"
   ]
  },
  {
   "cell_type": "code",
   "execution_count": 59,
   "metadata": {},
   "outputs": [],
   "source": [
    "stuff.replace({'a*c': 'ABC', 'def': 'KZO'}, regex=True, inplace=True)"
   ]
  },
  {
   "cell_type": "code",
   "execution_count": 60,
   "metadata": {},
   "outputs": [
    {
     "data": {
      "text/plain": [
       "0    abABC\n",
       "1      KZO\n",
       "2      ghi\n",
       "3      jkl\n",
       "dtype: object"
      ]
     },
     "execution_count": 60,
     "metadata": {},
     "output_type": "execute_result"
    }
   ],
   "source": [
    "stuff"
   ]
  },
  {
   "cell_type": "code",
   "execution_count": 9,
   "metadata": {},
   "outputs": [],
   "source": [
    "mydictionary = {'abc': 'ABC', \"def\": \"KZO\", 'ghi': 'GEE'}"
   ]
  },
  {
   "cell_type": "code",
   "execution_count": 11,
   "metadata": {},
   "outputs": [
    {
     "data": {
      "text/plain": [
       "0    ABC\n",
       "1    KZO\n",
       "2    GEE\n",
       "3    jkl\n",
       "dtype: object"
      ]
     },
     "execution_count": 11,
     "metadata": {},
     "output_type": "execute_result"
    }
   ],
   "source": [
    "stuff.replace(mydictionary)"
   ]
  },
  {
   "cell_type": "code",
   "execution_count": 110,
   "metadata": {},
   "outputs": [],
   "source": [
    "JournalTitles = pd.Series (['Acta Crystallographica Section D, Biological Crystallography', \n",
    "                            'Acta Crystallographica Section D: Biological Crystallography', \n",
    "                            'Acta Crystallographica Section D ',\n",
    "                            'Antimicobial Agents & Chemotherapy',\n",
    "                            'Birth Defects Research Part A: Clinical and Molecular Teratology†',\n",
    "                            'BMC Infectious diseases',\n",
    "                            'British Journal of Opthalmology.     '])"
   ]
  },
  {
   "cell_type": "code",
   "execution_count": 111,
   "metadata": {},
   "outputs": [
    {
     "name": "stdout",
     "output_type": "stream",
     "text": [
      "JournalTitle = 'Acta Crystallographica Section D, Biological Crystallography'\n",
      "JournalTitle = 'Acta Crystallographica Section D: Biological Crystallography'\n",
      "JournalTitle = 'Acta Crystallographica Section D '\n",
      "JournalTitle = 'Antimicobial Agents & Chemotherapy'\n",
      "JournalTitle = 'Birth Defects Research Part A: Clinical and Molecular Teratology†'\n",
      "JournalTitle = 'BMC Infectious diseases'\n",
      "JournalTitle = 'British Journal of Opthalmology.     '\n"
     ]
    }
   ],
   "source": [
    "for jt in JournalTitles:\n",
    "    print(\"JournalTitle = '{}'\".format(jt))"
   ]
  },
  {
   "cell_type": "code",
   "execution_count": 112,
   "metadata": {},
   "outputs": [],
   "source": [
    "JournalTitles.str.rstrip('.!? \\n\\t') \n",
    "JournalTitles.replace('British Journal of Op.*', 'British Journal of Ophthalmology', regex=True, inplace=True)"
   ]
  },
  {
   "cell_type": "code",
   "execution_count": 113,
   "metadata": {},
   "outputs": [
    {
     "name": "stdout",
     "output_type": "stream",
     "text": [
      "JournalTitle = 'Acta Crystallographica Section D, Biological Crystallography'\n",
      "JournalTitle = 'Acta Crystallographica Section D: Biological Crystallography'\n",
      "JournalTitle = 'Acta Crystallographica Section D '\n",
      "JournalTitle = 'Antimicobial Agents & Chemotherapy'\n",
      "JournalTitle = 'Birth Defects Research Part A: Clinical and Molecular Teratology†'\n",
      "JournalTitle = 'BMC Infectious diseases'\n",
      "JournalTitle = 'British Journal of Ophthalmology'\n"
     ]
    }
   ],
   "source": [
    "for jt in JournalTitles:\n",
    "    print(\"JournalTitle = '{}'\".format(jt))"
   ]
  },
  {
   "cell_type": "code",
   "execution_count": 117,
   "metadata": {},
   "outputs": [],
   "source": [
    "JournalTitleReplacements = {\n",
    "    'Acta Crystallographica Section D.*' : 'Acta Crystallographica Section D: Biological Crystallography',\n",
    "    'Acta D.*' : 'Acta Crystallographica Section D: Biological Crystallography',\n",
    "    'Acta Neuropathol' : 'Acta Neuropathologica',\n",
    "    'American Journal of Medical Genetics' : 'American Journal of Medical Genetics',\n",
    "    'American Journal of Preventive Medicine' : 'American Journal of Preventive Medicine',\n",
    "    'Angew' : 'Angewandte Chemie International Edition',\n",
    "    'Annals of Neurology' : 'Annals of Neurology',\n",
    "    'Antimi.*Chemotherapy' : 'Antimicobial Agents and Chemotherapy',\n",
    "    ' \\& ' : ' and ',\n",
    "    'Behaviour' : 'Behavior',\n",
    "    'Biinformatics' : 'Bioinformatics',\n",
    "    'Biochem ' : 'Biochemical',\n",
    "    'Journals' : 'Journal',\n",
    "    'Bioohysica' : 'Biophysica',\n",
    "    'Birth Defects Research.*Teratology.' : 'Birth Defects Research Part A: Clinical and Molecular Teratology',\n",
    "    'BMC Genomics.' : 'BMC Genomics',\n",
    "    'BMC Infectious [Dd]iseases' : 'BMC Infectious Diseases',\n",
    "    'British Journal of Op.*' : 'British Journal of Opthalmology',\n",
    "    'CHILD' : 'Child',\n",
    "    'Epigentics' : 'Epigenetics',\n",
    "    'Fungal Ecology' : 'Fungal Biology',\n",
    "    'Epidemology' : 'Epidemiology',\n",
    "    'Heptology' : 'Hepatology',\n",
    "    'Hum Resour Health' : 'Human Resources for Health',\n",
    "    'Joural' : 'Journal',\n",
    "    'J Biol Chem.' : 'J Biol Cheminstry',\n",
    "    'Journal of Acquired Immune Deficiency Syndroms (JAIDS)' : 'Journal of Acquired Immune Deficiency Syndroms',\n",
    "    'therapy' : 'Therapy',\n",
    "    'experiments' : 'Experiments',\n",
    "    '†' : '',\n",
    "    'Nephrology Dialysis Transplantation' : 'Nephrology Dialysis and Transplantation',\n",
    "    'Nucleic Acid Research' : 'Nucleic Acids Research',\n",
    "    'Pflugers Archiv' : 'Pflugers Archive',\n",
    "    'PL.*ONE' : 'Public Library of Science ONE',\n",
    "    'Proceedings of the National Academy of Sciences.*' : 'Proceedings of the National Academy of Sciences (PNAS)',\n",
    "    'Public Library of Science' : 'Public Library of Science ONE',\n",
    "    'Social Psychiatry and Psychiatric Epidemiol' : 'Social Psychiatry and Psychiatric Epidemiology',\n",
    "    'Studies in History and Philosophy of Science Part.*' : 'Studies in History and Philosophy of Science Part C: Studies in History and Philosophy of Biological and Biomedical Sciences',\n",
    "    'Trends in Neurosciences' : 'Trends in Neuroscience'\n",
    "}"
   ]
  },
  {
   "cell_type": "code",
   "execution_count": 118,
   "metadata": {},
   "outputs": [
    {
     "data": {
      "text/plain": [
       "{'Acta Crystallographica Section D.*': 'Acta Crystallographica Section D: Biological Crystallography',\n",
       " 'Acta D.*': 'Acta Crystallographica Section D: Biological Crystallography',\n",
       " 'Acta Neuropathol': 'Acta Neuropathologica',\n",
       " 'American Journal of Medical Genetics': 'American Journal of Medical Genetics',\n",
       " 'American Journal of Preventive Medicine': 'American Journal of Preventive Medicine',\n",
       " 'Angew': 'Angewandte Chemie International Edition',\n",
       " 'Annals of Neurology': 'Annals of Neurology',\n",
       " 'Antimi.*Chemotherapy': 'Antimicobial Agents and Chemotherapy',\n",
       " ' \\\\& ': ' and ',\n",
       " 'Behaviour': 'Behavior',\n",
       " 'Biinformatics': 'Bioinformatics',\n",
       " 'Biochem ': 'Biochemical',\n",
       " 'Journals': 'Journal',\n",
       " 'Bioohysica': 'Biophysica',\n",
       " 'Birth Defects Research.*Teratology.': 'Birth Defects Research Part A: Clinical and Molecular Teratology',\n",
       " 'BMC Genomics.': 'BMC Genomics',\n",
       " 'BMC Infectious [Dd]iseases': 'BMC Infectious Diseases',\n",
       " 'British Journal of Op.*': 'British Journal of Opthalmology',\n",
       " 'CHILD': 'Child',\n",
       " 'Epigentics': 'Epigenetics',\n",
       " 'Fungal Ecology': 'Fungal Biology',\n",
       " 'Epidemology': 'Epidemiology',\n",
       " 'Heptology': 'Hepatology',\n",
       " 'Hum Resour Health': 'Human Resources for Health',\n",
       " 'Joural': 'Journal',\n",
       " 'J Biol Chem.': 'J Biol Cheminstry',\n",
       " 'Journal of Acquired Immune Deficiency Syndroms (JAIDS)': 'Journal of Acquired Immune Deficiency Syndroms',\n",
       " 'therapy': 'Therapy',\n",
       " 'experiments': 'Experiments',\n",
       " '†': '',\n",
       " 'Nephrology Dialysis Transplantation': 'Nephrology Dialysis and Transplantation',\n",
       " 'Nucleic Acid Research': 'Nucleic Acids Research',\n",
       " 'Pflugers Archiv': 'Pflugers Archive',\n",
       " 'PL.*ONE': 'Public Library of Science ONE',\n",
       " 'Proceedings of the National Academy of Sciences.*': 'Proceedings of the National Academy of Sciences (PNAS)',\n",
       " 'Public Library of Science': 'Public Library of Science ONE',\n",
       " 'Social Psychiatry and Psychiatric Epidemiol': 'Social Psychiatry and Psychiatric Epidemiology',\n",
       " 'Studies in History and Philosophy of Science Part.*': 'Studies in History and Philosophy of Science Part C: Studies in History and Philosophy of Biological and Biomedical Sciences',\n",
       " 'Trends in Neurosciences': 'Trends in Neuroscience'}"
      ]
     },
     "execution_count": 118,
     "metadata": {},
     "output_type": "execute_result"
    }
   ],
   "source": [
    "JournalTitleReplacements"
   ]
  },
  {
   "cell_type": "code",
   "execution_count": 39,
   "metadata": {},
   "outputs": [],
   "source": [
    "JournalTitles.replace(JournalTitleReplacements, regex=True, inplace=True)"
   ]
  },
  {
   "cell_type": "code",
   "execution_count": null,
   "metadata": {},
   "outputs": [],
   "source": []
  }
 ],
 "metadata": {
  "kernelspec": {
   "display_name": "Python 3",
   "language": "python",
   "name": "python3"
  },
  "language_info": {
   "codemirror_mode": {
    "name": "ipython",
    "version": 3
   },
   "file_extension": ".py",
   "mimetype": "text/x-python",
   "name": "python",
   "nbconvert_exporter": "python",
   "pygments_lexer": "ipython3",
   "version": "3.7.1"
  }
 },
 "nbformat": 4,
 "nbformat_minor": 2
}
