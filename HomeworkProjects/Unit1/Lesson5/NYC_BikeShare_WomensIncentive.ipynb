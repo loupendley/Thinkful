{
 "cells": [
  {
   "cell_type": "markdown",
   "metadata": {},
   "source": [
    "###  Revision History\n",
    "31-Mar-2019    1.0    Lou Pendley    Data Science Bootcamp Unit 1 Capstone"
   ]
  },
  {
   "cell_type": "code",
   "execution_count": 131,
   "metadata": {},
   "outputs": [],
   "source": [
    "%matplotlib inline\n",
    "import pandas as pd\n",
    "import numpy as np\n",
    "import matplotlib.pyplot as plt\n",
    "from geopy.distance import geodesic\n",
    "import seaborn as sns"
   ]
  },
  {
   "cell_type": "code",
   "execution_count": 132,
   "metadata": {},
   "outputs": [],
   "source": [
    "# Let's read in the data set\n",
    "DataFilePath = '../../../Datafiles'\n",
    "df = pd.read_csv(DataFilePath + '/CityBikesProject3.csv.gz', compression='gzip', header=0, sep=',', quotechar='\"')\n",
    "df['age'] = 2018 - df['birth year'] # We are calculation the age of the rider\n",
    "df['distance'] = df['distance'].astype(int) # Want to do a count on the integer miles ridden\n",
    "df['speed'] = df['distance']/(df['tripduration']/3600)\n",
    "df['starttime'] = pd.to_datetime(df['starttime'])\n",
    "df['stoptime'] =  pd.to_datetime(df['stoptime'])\n",
    "df['speed'] = df['distance']/(df['tripduration']/3600)"
   ]
  },
  {
   "cell_type": "code",
   "execution_count": 133,
   "metadata": {},
   "outputs": [],
   "source": [
    "df['test'] = 0           # create the column to store the status of the treatment candidates\n",
    "df['campaign_date'] = \"\" # Column to store the date the e-mails were sent out \n",
    "df['is_signed_up'] = 0   # Date the candidate signed up\n",
    "df['signup_date'] = 0    # Set to 0 if part of control group, and 1 if part of the test group"
   ]
  },
  {
   "cell_type": "markdown",
   "metadata": {},
   "source": [
    "![title](CityBikesNYCRidingPicture.png)"
   ]
  },
  {
   "cell_type": "markdown",
   "metadata": {},
   "source": [
    "#  <font color='blue'>NYC Bike Share Women's Incentive</font>"
   ]
  },
  {
   "cell_type": "markdown",
   "metadata": {},
   "source": [
    "We will be working with the Citi Bike data from the largest bike share program in the United States.  This dataset includes the rental information for all bike share information for New York City, including Manhattan, Brooklyn, Queens, and Jersey City.  This program encompasses 13,046 bikes, and 763 stations.  \n",
    "\n",
    "The data presented here is from the calendar year 2018, all 12 months.  The dataset includes 1 table which came from 12 months of csv files that were appended together. There are 1,016,505 rows in the current dataset.\n",
    "\n",
    "This "
   ]
  },
  {
   "cell_type": "markdown",
   "metadata": {},
   "source": [
    "## Setting the Stage"
   ]
  },
  {
   "cell_type": "markdown",
   "metadata": {},
   "source": [
    "The NYC Bike share program is popular, and what we have noticed in the ridership is that there are 3 male riders for every 1 rider.  \n",
    "\n",
    "We are planning to launch this with an e-mail campaign, targeting female riders, between the ages of 25 and 40.  We will offer this program to them, with the incentive for them being lower cycling fees in the bike share program.\n",
    "\n",
    "We will be conducting this survey from within the NYC Bike Share company, knowing that it will not require large resources to conduct the campaign.\n",
    "\n",
    "\n",
    "We are planning to make the ride share program more attractive for female riders, by introducing an email campaign, to give them incentives to ride more frequently.  We plan to offer this program to women, between the ages of 25 and 40, with the intent to increase the ridership.  We hope for it to grow the demand for the program.    "
   ]
  },
  {
   "cell_type": "markdown",
   "metadata": {},
   "source": [
    "## Research Proposal"
   ]
  },
  {
   "cell_type": "markdown",
   "metadata": {},
   "source": [
    "**The Problem**\n",
    "The big question:  How can we increase the ridership for women in NYC, through the NYC BikeShare program?\n",
    "\n",
    "Currently the women that ride in the program account for 23% of the ridership, with male riders dominant.  We are assuming that the pricing is keeping them off the bikes, and given that assumption, perhaps we can create some incentive.  We also would assume that the target market would have monthly bike share accounts, to get the full benefit of this program.\n",
    "\n",
    "**The Potential Solution**\n",
    "The solution we are suggesting is to provide bike rental incentives for women, between the ages of 25, and 40, who ride more than 100 miles a month.  This would encourage them to ride at lower rates, and to stay healthy, and get outside, and get on the bike.  Women that ride 100 miles per month could be given discounts on the montly membership.\n",
    "\n",
    "**The Method of testing the solution**\n",
    "The steps to determine if this program would entail the following steps:\n",
    "1.  For women that:\n",
    "     1. Have monthly bike share memberships\n",
    "     1. Are between the ages of 25 and 40  \n",
    "1.  Send them an e-mail offer that would:\n",
    "    1. Allow them to get up to 25% off of all bike share rentals\n",
    "        1. 10% off all bike rides in the month if they ride 100 miles during the month\n",
    "        1. 15% off all bike rides in the month if they ride 200 miles during the month\n",
    "        1. 25% off all bike rides in the month if they ride 300 miles during the month\n",
    "    1. Provided they ride at least 100 miles per month\n",
    "    1. Provided they maintain good standing with the NYC Bike Share program\n",
    "1.  Phased Implementation - **Phase I**\n",
    "    1.  First month, send out e-mails to 10% of the target market\n",
    "    1.  Measure the signup rate\n",
    "        1. Signup rates of 10% or greater, continue the program with the next level\n",
    "        1. Lower signup rates, by the end of the first month, end the program\n",
    "1.  Phased Implementation - **Phase II**\n",
    "    1.  Second month, send out e-mails to 15% more of the target market\n",
    "    1.  Measure the signup rate\n",
    "        1. Signup rates criteria the same as for section #3\n",
    "1.  Phased Implementation - **Phase III**\n",
    "    1.  Third month, send out e-mails to 25% more of the target market\n",
    "    1.  Measure the signup rate\n",
    "        1.  Signup rates criteria the same as for section #3\n",
    "1.  Phased Implementation - **Phase IV**\n",
    "    1.  Fourth month, send out e-mails to the remaining 50% of the target market\n",
    "    1.  Measure the effectiveness of the overall campaign.\n",
    "    \n",
    "## Suggestions for the campaign\n",
    "1.  Conduct campaign during a conflicting campaign, or during a major national event, that could diminish the effectiveness of the measurement.\n",
    "1.  Avoid starting the campaign during the Winter, or Fall.  Best time would be Spring.\n"
   ]
  },
  {
   "cell_type": "code",
   "execution_count": 145,
   "metadata": {},
   "outputs": [
    {
     "name": "stdout",
     "output_type": "stream",
     "text": [
      "Riders between 25 and 40: men = 388,508, women = 116,157, and women percentage=23%.\n"
     ]
    }
   ],
   "source": [
    "# Gender groupings\n",
    "ages25to40 = df[(df['age'] >= 25) & (df['age'] <=40)]\n",
    "men  = df[(df['age'] >= 25) & (df['age'] <=40) & (df['gender']==1)]['gender'].count()\n",
    "women= df[(df['age'] >= 25) & (df['age'] <=40) & (df['gender']==2)]['gender'].count()\n",
    "\n",
    "print(\"Riders between 25 and 40: men = {:,}, women = {:,}, and women percentage={:0.0%}.\".format(men, women, women/(men+women))) "
   ]
  },
  {
   "cell_type": "code",
   "execution_count": 135,
   "metadata": {},
   "outputs": [
    {
     "data": {
      "text/plain": [
       "<matplotlib.axes._subplots.AxesSubplot at 0x11a6c2748>"
      ]
     },
     "execution_count": 135,
     "metadata": {},
     "output_type": "execute_result"
    },
    {
     "data": {
      "image/png": "[encoded data removed]",
      "text/plain": [
       "<Figure size 432x288 with 1 Axes>"
      ]
     },
     "metadata": {
      "needs_background": "light"
     },
     "output_type": "display_data"
    }
   ],
   "source": [
    "# Plot of women between the ages of 25 and 40, active in the NYC Bike Share program\n",
    "sns.distplot(df[(df['age'] >= 25) & (df['age'] <=40) & (df['gender']==2)]['age'])"
   ]
  },
  {
   "cell_type": "code",
   "execution_count": 136,
   "metadata": {},
   "outputs": [
    {
     "data": {
      "image/png": "[encoded data removed]",
      "text/plain": [
       "<Figure size 432x288 with 1 Axes>"
      ]
     },
     "metadata": {
      "needs_background": "light"
     },
     "output_type": "display_data"
    }
   ],
   "source": [
    "# sns.pairplot(ages25to40['gender', 'age'].sample(1000))\n",
    "plt.hist(df[(df['age'] >= 25) & (df['age'] <=40) & (df['gender']==2)]['age'], density=True, alpha=0.5);"
   ]
  },
  {
   "cell_type": "markdown",
   "metadata": {},
   "source": [
    "## What success will look like\n",
    "Success will be when 10% or more of all of the candidates have signed up for the program, and have rode at least 100 miles during their first month of the program."
   ]
  },
  {
   "cell_type": "code",
   "execution_count": 142,
   "metadata": {},
   "outputs": [
    {
     "name": "stdout",
     "output_type": "stream",
     "text": [
      "The initial campaign of 10%, would result in 11,615 emails sent to women, between the ages of 25 and 40.\n"
     ]
    }
   ],
   "source": [
    "print(\"The initial campaign of 10%, would result in {:,} emails sent to women, between the ages of 25 and 40.\"\n",
    "      .format(int(women*.10)))"
   ]
  },
  {
   "cell_type": "markdown",
   "metadata": {},
   "source": [
    "## Rollout Plan\n",
    "\n",
    "The rollout will consist of the following:\n",
    "\n",
    "1.  Pick 10% of the target market, women, between 25 and 40, who are in good standing with the bike share program<br></br>\n",
    "2.  Flag their user account, as being a member of the test program, by setting the value to 1.<br></br>\n",
    "3.  Send them an e-mail proposal for the program, how it works:\n",
    "    1. If they ride:\n",
    "        1. 100 miles during the month, they receive a 10% discount in the following month,\n",
    "        2. 200 miles during the month, they receive a 15% discount in the following month,\n",
    "        3. 300 miles during the month, they receive a 25% discount in the following month.    \n",
    "    1. They must remain in good standing with the bike share program, no damaged equipment, or billing issues.<br></br>\n",
    "4.  If they accept the proposal, we update their account with the signup date, and is_signup flag.<br></br>\n",
    "5.  Gather the results after 1 month, to determine if:\n",
    "    1.  10% of the campaign were accepted\n",
    "        1.  If they have, then we continue to Phase II of the program; else we terminate here.<br></br>\n",
    "6.  Pick another 15% of the target market, new candidates, similarly to step #1<br></br>\n",
    "7.  Flag their user account, as being a member of the test program, by setting the value to 1.\n",
    "8.  Send them an e-mail proposal for the program, similarly to step #3 above.\n",
    "9.  If they accept the proposal, we update their account with the signup date, and is_signup flag.<br></br>\n",
    "10. Gather the results after month 2, to determine if:\n",
    "    1. 10% of all of the overall candidates have signed up.\n",
    "        1.  If they have, then we continue to Phase III of the program; else we terminate here.<br></br>\n",
    "11.  Pick another 25% of the target market, new candidates, similarly to step #1<br></br>\n",
    "12.  2.  Flag their user account, as being a member of the test program, by setting the value to 1.<br></br>\n",
    "13.  Send them an e-mail proposal for the program, similarly to step #3 above.\n",
    "14.  If they accept the proposal, we update their account with the signup date, and is_signup flag.<br></br>\n",
    "15.  Gather the results after 1 month, to determine if:\n",
    "     1.  10% of the campaign were accepted\n",
    "         1.  If they have, then we continue to the general acceptance of the program, and perform a similar process as above, except it is for the remaining 50% candiates; else we terminate here.<br></br>"
   ]
  },
  {
   "cell_type": "code",
   "execution_count": null,
   "metadata": {},
   "outputs": [],
   "source": []
  }
 ],
 "metadata": {
  "kernelspec": {
   "display_name": "Python 3",
   "language": "python",
   "name": "python3"
  },
  "language_info": {
   "codemirror_mode": {
    "name": "ipython",
    "version": 3
   },
   "file_extension": ".py",
   "mimetype": "text/x-python",
   "name": "python",
   "nbconvert_exporter": "python",
   "pygments_lexer": "ipython3",
   "version": "3.7.2"
  }
 },
 "nbformat": 4,
 "nbformat_minor": 2
}
