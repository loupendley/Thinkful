{
 "cells": [
  {
   "cell_type": "code",
   "execution_count": 6,
   "metadata": {},
   "outputs": [],
   "source": [
    "import numpy as np\n",
    "import pandas as pd\n",
    "import matplotlib.pyplot as plt\n",
    "import seaborn as sns\n",
    "import scipy.stats as stats\n",
    "\n",
    "#Keeping the random data the same over multiple runs of the code.\n",
    "np.random.seed(42)\n",
    "\n",
    "#Storing our randomly generated data and labels.\n",
    "data = []\n",
    "groups = []\n",
    "labels_var = []\n",
    "labels_size = []\n",
    "\n",
    "#The values we use for the standard deviations and the sample sizes.\n",
    "variability = [5, 20, 50]\n",
    "sizes = [10, 100, 10000]\n",
    "\n",
    "#Generating data for each group for each combination of variability and sample size.\n",
    "for var in variability:\n",
    "    for size in sizes:\n",
    "        data.extend(np.random.normal(20,var,size))\n",
    "        data.extend(np.random.normal(35,var,size))\n",
    "        labels_var.extend([var]*size*2)\n",
    "        labels_size.extend([size]*size*2)\n",
    "        groups.extend(['group1']*size)\n",
    "        groups.extend(['group2']*size)\n"
   ]
  },
  {
   "cell_type": "code",
   "execution_count": 7,
   "metadata": {},
   "outputs": [
    {
     "data": {
      "text/plain": [
       "60660"
      ]
     },
     "execution_count": 7,
     "metadata": {},
     "output_type": "execute_result"
    }
   ],
   "source": [
    "len(data)"
   ]
  },
  {
   "cell_type": "code",
   "execution_count": null,
   "metadata": {},
   "outputs": [],
   "source": []
  }
 ],
 "metadata": {
  "kernelspec": {
   "display_name": "Python 3",
   "language": "python",
   "name": "python3"
  },
  "language_info": {
   "codemirror_mode": {
    "name": "ipython",
    "version": 3
   },
   "file_extension": ".py",
   "mimetype": "text/x-python",
   "name": "python",
   "nbconvert_exporter": "python",
   "pygments_lexer": "ipython3",
   "version": "3.7.2"
  }
 },
 "nbformat": 4,
 "nbformat_minor": 2
}
