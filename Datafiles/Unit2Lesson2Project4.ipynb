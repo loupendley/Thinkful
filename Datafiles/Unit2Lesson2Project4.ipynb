{
 "cells": [
  {
   "cell_type": "code",
   "execution_count": null,
   "metadata": {},
   "outputs": [],
   "source": [
    "# import pandas as pd\n",
    "# import matplotlib.pyplot as plt\n",
    "# filename = '/Users/lou/GITHubProjects/Thinkful/Datafiles/planecrashinfo_20181121001952.csv'\n",
    "# df = pd.read_csv(filename)"
   ]
  },
  {
   "cell_type": "code",
   "execution_count": null,
   "metadata": {},
   "outputs": [],
   "source": [
    "# print(df)"
   ]
  },
  {
   "cell_type": "code",
   "execution_count": null,
   "metadata": {},
   "outputs": [],
   "source": [
    "# df.groupby('operator').size()"
   ]
  },
  {
   "cell_type": "code",
   "execution_count": null,
   "metadata": {},
   "outputs": [],
   "source": [
    "# operators = ['Aeroflot', 'China Air Lines']\n",
    "# df.groupby('operator')['operator'].size().isin(operators)"
   ]
  },
  {
   "cell_type": "code",
   "execution_count": null,
   "metadata": {},
   "outputs": [],
   "source": [
    "# this works\n",
    "import pandas as pd\n",
    "import matplotlib.pyplot as plt\n",
    "#filename = '/Users/lou/GITHubProjects/Thinkful/Datafiles/planecrashinfo_20181121001952.csv'\n",
    "filename = '/Users/lou/GITHubProjects/Thinkful/Datafiles/purchases.csv'\n",
    "df = pd.read_csv(filename)"
   ]
  },
  {
   "cell_type": "code",
   "execution_count": null,
   "metadata": {},
   "outputs": [],
   "source": [
    "# this works too!!!\n",
    "df2 = df['ad_views']\n",
    "# plt.ylim([40, 80])\n",
    "plt.ylabel('Stuff')\n",
    "# plt.plot(df2, color='green')\n",
    "# plt.scatter(x = df['ad_views'], y = df['items_purchased'])\n",
    "plt.hist(df2)\n",
    "plt.show()\n"
   ]
  },
  {
   "cell_type": "code",
   "execution_count": null,
   "metadata": {},
   "outputs": [],
   "source": [
    "print(df2)"
   ]
  },
  {
   "cell_type": "code",
   "execution_count": null,
   "metadata": {},
   "outputs": [],
   "source": [
    "# Build our histogram. Let's go ahead and set the color too.\n",
    "plt.hist(df['ad_views'], bins=40, color='blue')\n",
    "plt.title('Great Demo Demo')\n",
    "plt.xlabel('Random Values')\n",
    "plt.show()"
   ]
  },
  {
   "cell_type": "code",
   "execution_count": null,
   "metadata": {},
   "outputs": [],
   "source": [
    "import pandas as pd\n",
    "import matplotlib.pyplot as plt\n",
    "filename = '/Users/lou/GITHubProjects/Thinkful/Datafiles/drugsComTest_raw.tsv'\n",
    "\n",
    "# filename = './drugsComTest_raw.tsv'\n",
    "# df = pd.read_csv(filename, sep='\\t', lineterminator='\\r')\n",
    "df = pd.read_csv(filename, sep='\\t')\n",
    "# print(df['usefulCount'])\n",
    "# stuff = pd.DataFrame([usefulCount])\n",
    "# print(stuff)\n",
    "# Build our histogram. Let's go ahead and set the color too.\n",
    "plt.plot(df['usefulCount'], color='blue')\n",
    "plt.title('Drug Test Comments')\n",
    "plt.xlabel('Comment Useful Counts')\n",
    "plt.show()\n"
   ]
  },
  {
   "cell_type": "code",
   "execution_count": null,
   "metadata": {},
   "outputs": [],
   "source": [
    "import pandas as pd\n",
    "import matplotlib.pyplot as plt\n",
    "filename = '/Users/lou/GITHubProjects/Thinkful/Datafiles/planecrashinfo_20181121001952_clean.csv'\n",
    "# df = pd.read_csv(filename, encoding='UTF-16', quotechar='\"')\n",
    "df = pd.read_csv(filename, quotechar='\"')\n",
    "# print(df)"
   ]
  },
  {
   "cell_type": "code",
   "execution_count": null,
   "metadata": {},
   "outputs": [],
   "source": [
    "# df['country_code'].head(20)"
   ]
  },
  {
   "cell_type": "code",
   "execution_count": null,
   "metadata": {},
   "outputs": [],
   "source": [
    "import pandas as pd\n",
    "import matplotlib.pyplot as plt\n",
    "filename = '/Users/lou/GITHubProjects/Thinkful/Datafiles/planecrashinfo_20181121001952_clean.csv'\n",
    "crashes = pd.read_csv(filename, quotechar='\"')\n",
    "# print(df)"
   ]
  },
  {
   "cell_type": "code",
   "execution_count": 53,
   "metadata": {},
   "outputs": [
    {
     "data": {
      "image/png": "[encoded data removed]",
      "text/plain": [
       "<Figure size 432x288 with 1 Axes>"
      ]
     },
     "metadata": {
      "needs_background": "light"
     },
     "output_type": "display_data"
    }
   ],
   "source": [
    "fig = plt.figure()\n",
    "x = crashes_df['operator_code']\n",
    "y = crashes_df['fatal_count']\n",
    "n, bins, patches = plt.hist([x,y])\n",
    "# plotly_fig = tls.mpl_to_plotly(fig)\n",
    "# py.iplot(plotly_fig)"
   ]
  },
  {
   "cell_type": "code",
   "execution_count": null,
   "metadata": {},
   "outputs": [],
   "source": [
    "crashes.head(3)"
   ]
  },
  {
   "cell_type": "code",
   "execution_count": null,
   "metadata": {},
   "outputs": [],
   "source": [
    "crashes[['operator', 'Country', 'country_code', 'fatal_count']].head(10)"
   ]
  },
  {
   "cell_type": "code",
   "execution_count": null,
   "metadata": {},
   "outputs": [],
   "source": [
    "import pandas as pd\n",
    "import numpy as np\n",
    "import matplotlib.pyplot as plt\n",
    "filename = '/Users/lou/GITHubProjects/Thinkful/Datafiles/planecrashinfo_20181121001952_clean.csv'\n",
    "crashes = pd.read_csv(filename, quotechar='\"')\n",
    "operators = ['Aeroflot', 'China Air Lines', 'China Airlines', 'China Eastern Airlines']\n",
    "aeroflot = ['Aeroflot']\n",
    "country_codes = [1900, 4310]\n",
    "countries = ['China', 'Russia', 'USSR']\n",
    "crash_commies = crashes.loc[crashes['country_code'].isin(country_codes)]\n",
    "crash_aeroflot = crashes.loc[crashes['operator'].isin(aeroflot)].head(10)\n",
    "crash_aeroflot2 = crash_aeroflot[['country_code', 'fatal_count']]\n",
    "# result = df.sort(['A', 'B'], ascending=[1, 0])\n",
    "crash_aerflot2  = crash_aeroflot2.sort(['country_code', 'fatal_count'], ascending=[1, 1])\n",
    "# df = pd.DataFrame(my_array) # this is key\n",
    "df = pd.DataFrame(crash_aeroflot2)\n",
    "# print(df)\n",
    "df = df.sort(['aboard_count', 'fatal_count'], ascending=[1,1])\n",
    "# print(df[['aboard_count', 'fatal_count']])\n",
    "# print(crash_aeroflot[['fatal_count', 'aboard_count']].head(10))\n",
    "pd.set_option('display.max_rows', 50)\n",
    "# plt.hist(df['ad_views'], bins=40, color='blue')\n",
    "# crash_commies[[ 'fatal_count']].head(5)\n",
    "# df2 = df['ad_views']\n",
    "# plt.xlim([0, 2000])\n",
    "# plt.ylim(30,200)\n",
    "plt.ylabel('Fatalies')\n",
    "plt.xlabel('Locations')\n",
    "# plt.plot(df, color='green')\n",
    "plt.scatter(x = df['country_code'], y = df['fatal_count'])\n",
    "# plt.hist(df['fatal_count'])\n",
    "# plt.show()\n",
    "# # print(df['fatal_count'])\n",
    "# print(crash_aeroflot[['date', 'time','fatal_count']])"
   ]
  },
  {
   "cell_type": "code",
   "execution_count": null,
   "metadata": {},
   "outputs": [],
   "source": [
    "import pandas as pd\n",
    "import numpy as np\n",
    "# df.columns = ['CrashYear', 'FatalCount']\n",
    "# df.index = ['Alabama', 'California', 'Oklahoma']\n",
    "# df\n",
    "# date1 = '20-Feb-44'\n",
    "# # pd.to_datetime(df.faultDate).dt.year\n",
    "# pd.to_datetime(date1).dt.year\n",
    "\n",
    "my_array = np.array([['Montgomery','Yellohammer state',52423],\n",
    "                     ['Sacramento','Golden state',163707],\n",
    "                     ['Oklahoma City','Sooner state',69960 ]])\n",
    "\n",
    "my_array2 = np.array([['Montgomery','Yellohammer state',52423, '23-Feb-44'],\n",
    "                     ['Sacramento','Golden state',163707, '19-Jul-18'],\n",
    "                     ['Oklahoma City','Sooner state',69960, '20-Jan-20' ]])\n",
    "df = pd.DataFrame(my_array)\n",
    "df2= pd.DataFrame(my_array2)\n",
    "\n",
    "\n",
    "df.columns = ['Capital', 'Nickname','Area']\n",
    "df.index = ['Alabama', 'California', 'Oklahoma']\n",
    "print(df)\n",
    "print(df2)"
   ]
  },
  {
   "cell_type": "code",
   "execution_count": null,
   "metadata": {},
   "outputs": [],
   "source": [
    "# From https://stackoverflow.com/questions/32791098/how-to-scatter-plot-series-using-pandas\n",
    "import numpy as np\n",
    "import matplotlib.pyplot as plt\n",
    "np.random.seed(1)\n",
    "\n",
    "year = [1992, 1993, 1994, 1995, 1996, 1997, 1998, 1999, 2000, 2001, 2002, 2003, 2004, 2005, 2006, 2007, 2008, 2009, 2010, 2011, 2012, 2013, 2014]\n",
    "value = np.random.rand(23)\n",
    "\n",
    "ser =  pd.Series(index = year,data=value)\n",
    "df =ser.to_frame()\n",
    "\n",
    "df.reset_index(inplace=True)\n",
    "df.columns = ['year','value']\n",
    "df.plot(kind='scatter',x='year',y='value')\n",
    "plt.show()"
   ]
  },
  {
   "cell_type": "code",
   "execution_count": null,
   "metadata": {},
   "outputs": [],
   "source": [
    "import pandas as pd\n",
    "import numpy as np\n",
    "import matplotlib.pyplot as plt\n",
    "pd.set_option('display.max_rows', 500)\n",
    "filename = '/Users/lou/GITHubProjects/Thinkful/Datafiles/planecrashinfo_20181121001952_clean.csv'\n",
    "crashes_data = pd.read_csv(filename)\n",
    "# print(crashes_data.columns)\n",
    "crashes_data['ac_type'].unique()\n",
    "crashes_data = crashes_data.dropna(subset=['ac_type'])\n",
    "crashes_data['ac_type'].unique()\n"
   ]
  },
  {
   "cell_type": "code",
   "execution_count": null,
   "metadata": {},
   "outputs": [],
   "source": [
    "my_array = np.array([['Montgomery','Yellohammer state', 52423],\n",
    "                    ['Sacramento', 'Golden State', 16307],\n",
    "                    ['Oklahoma City', 'Sooner state', 69960]])\n",
    "df = pd.DataFrame(my_array)\n",
    "df.columns = ['Capital', 'Nickname', 'Area']\n",
    "df.index   = ['Alabama', 'California', 'Oklahoma']\n",
    "# df\n",
    "df2 = pd.DataFrame(\n",
    "        my_array,\n",
    "        columns=['Capital', 'Nickname', 'Area'],\n",
    "        index=['Alabama', 'California', 'Oklahoma'])\n",
    "df2.Capital"
   ]
  },
  {
   "cell_type": "raw",
   "metadata": {},
   "source": []
  },
  {
   "cell_type": "code",
   "execution_count": 23,
   "metadata": {},
   "outputs": [
    {
     "name": "stdout",
     "output_type": "stream",
     "text": [
      "there are now 5719 clean rows of data in crashes_df.\n",
      "Index(['country_code', 'operator_code', 'ac_type', 'aboard_count',\n",
      "       'fatal_count', 'ground'],\n",
      "      dtype='object')\n",
      "We are working with 74 airline crashes, rows of more than 150 fatalities.\n",
      "For df crashes_df_country, the columns are Index(['country_code', 'aboard_count', 'fatal_count', 'ground'], dtype='object')\n",
      "For df crashes_df_country, the columns are Index(['operator_code', 'aboard_count', 'fatal_count', 'ground'], dtype='object')\n",
      "For df crashes_df_country, the columns are Index(['ac_type', 'aboard_count', 'fatal_count', 'ground'], dtype='object')\n"
     ]
    }
   ],
   "source": [
    "import pandas as pd\n",
    "import numpy as np\n",
    "import matplotlib.pyplot as plt\n",
    "filename = '/Users/lou/GITHubProjects/Thinkful/Datafiles/planecrashinfo_20181121001952_clean.csv'\n",
    "# crashes = pd.read_csv(filename, quotechar='\"')\n",
    "crashes = pd.read_csv(filename)\n",
    "crashes_df = crashes[['country_code', 'operator_code', 'ac_type', 'aboard_count', 'fatal_count', 'ground']]\n",
    "\n",
    "# let's remove all the NaN's for the numeric data types\n",
    "crashes_df = crashes_df.dropna(subset=['aboard_count'])\n",
    "crashes_df = crashes_df.dropna(subset=['fatal_count'])  \n",
    "crashes_df = crashes_df.dropna(subset=['ground'])\n",
    "\n",
    "# let's strip off all leading and trailing spaces from the numeric data types\n",
    "crashes_df = crashes_df[(crashes_df['aboard_count'].str.strip() != '?')] # remove unknown aboard_cont\n",
    "crashes_df = crashes_df[(crashes_df['ground'].str.strip()       != '?')]       # remove unknown ground count\n",
    "crashes_df = crashes_df[(crashes_df['fatal_count'].str.strip()  != '?')]  # remove unknown fatal_count\n",
    "\n",
    "# let's convert all of these numeric data types to numerics\n",
    "crashes_df['ground']       = pd.to_numeric(crashes_df['ground'])\n",
    "crashes_df['aboard_count'] = pd.to_numeric(crashes_df['aboard_count'])\n",
    "crashes_df['fatal_count']  = pd.to_numeric(crashes_df['fatal_count'])\n",
    "print(\"there are now {} clean rows of data in crashes_df.\".format(len(crashes_df)))\n",
    "print(crashes_df.columns)\n",
    "\n",
    "FATALITIES = 150\n",
    "# we only want big crashes, more than n fatalties\n",
    "crashes_big = crashes_df[(crashes_df['fatal_count']  > FATALITIES)]\n",
    "crashes_df = crashes_big\n",
    "print(\"We are working with {} airline crashes, rows of more than {} fatalities.\".format(len(crashes_df), FATALITIES))\n",
    "\n",
    "crashes_df_country = crashes_df[['country_code', 'aboard_count', 'fatal_count', 'ground']]\n",
    "crashes_df_operator = crashes_df[['operator_code', 'aboard_count', 'fatal_count', 'ground']]\n",
    "crashes_df_ac_type = crashes_df[['ac_type', 'aboard_count', 'fatal_count', 'ground']]\n",
    "print(\"For df crashes_df_country, the columns are {}\".format(crashes_df_country.columns))\n",
    "print(\"For df crashes_df_country, the columns are {}\".format(crashes_df_operator.columns))\n",
    "print(\"For df crashes_df_country, the columns are {}\".format(crashes_df_ac_type.columns))"
   ]
  },
  {
   "cell_type": "code",
   "execution_count": 57,
   "metadata": {},
   "outputs": [
    {
     "data": {
      "text/html": [
       "<div>\n",
       "<style scoped>\n",
       "    .dataframe tbody tr th:only-of-type {\n",
       "        vertical-align: middle;\n",
       "    }\n",
       "\n",
       "    .dataframe tbody tr th {\n",
       "        vertical-align: top;\n",
       "    }\n",
       "\n",
       "    .dataframe thead th {\n",
       "        text-align: right;\n",
       "    }\n",
       "</style>\n",
       "<table border=\"1\" class=\"dataframe\">\n",
       "  <thead>\n",
       "    <tr style=\"text-align: right;\">\n",
       "      <th></th>\n",
       "      <th>country_code</th>\n",
       "      <th>fatal_count</th>\n",
       "    </tr>\n",
       "  </thead>\n",
       "  <tbody>\n",
       "    <tr>\n",
       "      <th>7</th>\n",
       "      <td>1010</td>\n",
       "      <td>329</td>\n",
       "    </tr>\n",
       "    <tr>\n",
       "      <th>10</th>\n",
       "      <td>1040</td>\n",
       "      <td>228</td>\n",
       "    </tr>\n",
       "    <tr>\n",
       "      <th>61</th>\n",
       "      <td>1130</td>\n",
       "      <td>264</td>\n",
       "    </tr>\n",
       "    <tr>\n",
       "      <th>93</th>\n",
       "      <td>1160</td>\n",
       "      <td>257</td>\n",
       "    </tr>\n",
       "    <tr>\n",
       "      <th>596</th>\n",
       "      <td>1630</td>\n",
       "      <td>154</td>\n",
       "    </tr>\n",
       "    <tr>\n",
       "      <th>598</th>\n",
       "      <td>1630</td>\n",
       "      <td>187</td>\n",
       "    </tr>\n",
       "    <tr>\n",
       "      <th>782</th>\n",
       "      <td>1780</td>\n",
       "      <td>155</td>\n",
       "    </tr>\n",
       "    <tr>\n",
       "      <th>787</th>\n",
       "      <td>1780</td>\n",
       "      <td>583</td>\n",
       "    </tr>\n",
       "    <tr>\n",
       "      <th>906</th>\n",
       "      <td>1900</td>\n",
       "      <td>160</td>\n",
       "    </tr>\n",
       "    <tr>\n",
       "      <th>1090</th>\n",
       "      <td>1930</td>\n",
       "      <td>152</td>\n",
       "    </tr>\n",
       "    <tr>\n",
       "      <th>1216</th>\n",
       "      <td>2140</td>\n",
       "      <td>189</td>\n",
       "    </tr>\n",
       "    <tr>\n",
       "      <th>1229</th>\n",
       "      <td>2210</td>\n",
       "      <td>156</td>\n",
       "    </tr>\n",
       "    <tr>\n",
       "      <th>1311</th>\n",
       "      <td>2270</td>\n",
       "      <td>224</td>\n",
       "    </tr>\n",
       "    <tr>\n",
       "      <th>1450</th>\n",
       "      <td>2420</td>\n",
       "      <td>180</td>\n",
       "    </tr>\n",
       "    <tr>\n",
       "      <th>1544</th>\n",
       "      <td>2420</td>\n",
       "      <td>346</td>\n",
       "    </tr>\n",
       "    <tr>\n",
       "      <th>1769</th>\n",
       "      <td>2640</td>\n",
       "      <td>228</td>\n",
       "    </tr>\n",
       "    <tr>\n",
       "      <th>1855</th>\n",
       "      <td>2820</td>\n",
       "      <td>176</td>\n",
       "    </tr>\n",
       "    <tr>\n",
       "      <th>1968</th>\n",
       "      <td>2870</td>\n",
       "      <td>159</td>\n",
       "    </tr>\n",
       "    <tr>\n",
       "      <th>1960</th>\n",
       "      <td>2870</td>\n",
       "      <td>349</td>\n",
       "    </tr>\n",
       "    <tr>\n",
       "      <th>1976</th>\n",
       "      <td>2880</td>\n",
       "      <td>159</td>\n",
       "    </tr>\n",
       "    <tr>\n",
       "      <th>2041</th>\n",
       "      <td>2890</td>\n",
       "      <td>234</td>\n",
       "    </tr>\n",
       "    <tr>\n",
       "      <th>2078</th>\n",
       "      <td>2890</td>\n",
       "      <td>189</td>\n",
       "    </tr>\n",
       "    <tr>\n",
       "      <th>2110</th>\n",
       "      <td>2910</td>\n",
       "      <td>275</td>\n",
       "    </tr>\n",
       "    <tr>\n",
       "      <th>2118</th>\n",
       "      <td>2910</td>\n",
       "      <td>168</td>\n",
       "    </tr>\n",
       "    <tr>\n",
       "      <th>2241</th>\n",
       "      <td>2990</td>\n",
       "      <td>169</td>\n",
       "    </tr>\n",
       "    <tr>\n",
       "      <th>2277</th>\n",
       "      <td>3020</td>\n",
       "      <td>163</td>\n",
       "    </tr>\n",
       "    <tr>\n",
       "      <th>2663</th>\n",
       "      <td>3020</td>\n",
       "      <td>520</td>\n",
       "    </tr>\n",
       "    <tr>\n",
       "      <th>2290</th>\n",
       "      <td>3030</td>\n",
       "      <td>162</td>\n",
       "    </tr>\n",
       "    <tr>\n",
       "      <th>2292</th>\n",
       "      <td>3050</td>\n",
       "      <td>156</td>\n",
       "    </tr>\n",
       "    <tr>\n",
       "      <th>2308</th>\n",
       "      <td>3090</td>\n",
       "      <td>166</td>\n",
       "    </tr>\n",
       "    <tr>\n",
       "      <th>...</th>\n",
       "      <td>...</td>\n",
       "      <td>...</td>\n",
       "    </tr>\n",
       "    <tr>\n",
       "      <th>3280</th>\n",
       "      <td>4300</td>\n",
       "      <td>257</td>\n",
       "    </tr>\n",
       "    <tr>\n",
       "      <th>5563</th>\n",
       "      <td>4310</td>\n",
       "      <td>174</td>\n",
       "    </tr>\n",
       "    <tr>\n",
       "      <th>3435</th>\n",
       "      <td>4310</td>\n",
       "      <td>174</td>\n",
       "    </tr>\n",
       "    <tr>\n",
       "      <th>3431</th>\n",
       "      <td>4310</td>\n",
       "      <td>269</td>\n",
       "    </tr>\n",
       "    <tr>\n",
       "      <th>3414</th>\n",
       "      <td>4310</td>\n",
       "      <td>178</td>\n",
       "    </tr>\n",
       "    <tr>\n",
       "      <th>3564</th>\n",
       "      <td>4430</td>\n",
       "      <td>301</td>\n",
       "    </tr>\n",
       "    <tr>\n",
       "      <th>3569</th>\n",
       "      <td>4430</td>\n",
       "      <td>261</td>\n",
       "    </tr>\n",
       "    <tr>\n",
       "      <th>3588</th>\n",
       "      <td>4440</td>\n",
       "      <td>259</td>\n",
       "    </tr>\n",
       "    <tr>\n",
       "      <th>3655</th>\n",
       "      <td>4590</td>\n",
       "      <td>239</td>\n",
       "    </tr>\n",
       "    <tr>\n",
       "      <th>3769</th>\n",
       "      <td>4690</td>\n",
       "      <td>181</td>\n",
       "    </tr>\n",
       "    <tr>\n",
       "      <th>3782</th>\n",
       "      <td>4690</td>\n",
       "      <td>154</td>\n",
       "    </tr>\n",
       "    <tr>\n",
       "      <th>3785</th>\n",
       "      <td>4700</td>\n",
       "      <td>183</td>\n",
       "    </tr>\n",
       "    <tr>\n",
       "      <th>3784</th>\n",
       "      <td>4700</td>\n",
       "      <td>191</td>\n",
       "    </tr>\n",
       "    <tr>\n",
       "      <th>3833</th>\n",
       "      <td>4760</td>\n",
       "      <td>176</td>\n",
       "    </tr>\n",
       "    <tr>\n",
       "      <th>3917</th>\n",
       "      <td>4840</td>\n",
       "      <td>196</td>\n",
       "    </tr>\n",
       "    <tr>\n",
       "      <th>3921</th>\n",
       "      <td>4840</td>\n",
       "      <td>225</td>\n",
       "    </tr>\n",
       "    <tr>\n",
       "      <th>3960</th>\n",
       "      <td>4920</td>\n",
       "      <td>223</td>\n",
       "    </tr>\n",
       "    <tr>\n",
       "      <th>3999</th>\n",
       "      <td>4990</td>\n",
       "      <td>154</td>\n",
       "    </tr>\n",
       "    <tr>\n",
       "      <th>4051</th>\n",
       "      <td>5060</td>\n",
       "      <td>170</td>\n",
       "    </tr>\n",
       "    <tr>\n",
       "      <th>4055</th>\n",
       "      <td>5060</td>\n",
       "      <td>298</td>\n",
       "    </tr>\n",
       "    <tr>\n",
       "      <th>5287</th>\n",
       "      <td>5120</td>\n",
       "      <td>260</td>\n",
       "    </tr>\n",
       "    <tr>\n",
       "      <th>5127</th>\n",
       "      <td>5120</td>\n",
       "      <td>230</td>\n",
       "    </tr>\n",
       "    <tr>\n",
       "      <th>4834</th>\n",
       "      <td>5120</td>\n",
       "      <td>217</td>\n",
       "    </tr>\n",
       "    <tr>\n",
       "      <th>4688</th>\n",
       "      <td>5120</td>\n",
       "      <td>271</td>\n",
       "    </tr>\n",
       "    <tr>\n",
       "      <th>4860</th>\n",
       "      <td>5120</td>\n",
       "      <td>154</td>\n",
       "    </tr>\n",
       "    <tr>\n",
       "      <th>5597</th>\n",
       "      <td>5130</td>\n",
       "      <td>200</td>\n",
       "    </tr>\n",
       "    <tr>\n",
       "      <th>5604</th>\n",
       "      <td>5160</td>\n",
       "      <td>160</td>\n",
       "    </tr>\n",
       "    <tr>\n",
       "      <th>5657</th>\n",
       "      <td>5180</td>\n",
       "      <td>160</td>\n",
       "    </tr>\n",
       "    <tr>\n",
       "      <th>3719</th>\n",
       "      <td>5190</td>\n",
       "      <td>155</td>\n",
       "    </tr>\n",
       "    <tr>\n",
       "      <th>5690</th>\n",
       "      <td>5190</td>\n",
       "      <td>155</td>\n",
       "    </tr>\n",
       "  </tbody>\n",
       "</table>\n",
       "<p>74 rows × 2 columns</p>\n",
       "</div>"
      ],
      "text/plain": [
       "      country_code  fatal_count\n",
       "7             1010          329\n",
       "10            1040          228\n",
       "61            1130          264\n",
       "93            1160          257\n",
       "596           1630          154\n",
       "598           1630          187\n",
       "782           1780          155\n",
       "787           1780          583\n",
       "906           1900          160\n",
       "1090          1930          152\n",
       "1216          2140          189\n",
       "1229          2210          156\n",
       "1311          2270          224\n",
       "1450          2420          180\n",
       "1544          2420          346\n",
       "1769          2640          228\n",
       "1855          2820          176\n",
       "1968          2870          159\n",
       "1960          2870          349\n",
       "1976          2880          159\n",
       "2041          2890          234\n",
       "2078          2890          189\n",
       "2110          2910          275\n",
       "2118          2910          168\n",
       "2241          2990          169\n",
       "2277          3020          163\n",
       "2663          3020          520\n",
       "2290          3030          162\n",
       "2292          3050          156\n",
       "2308          3090          166\n",
       "...            ...          ...\n",
       "3280          4300          257\n",
       "5563          4310          174\n",
       "3435          4310          174\n",
       "3431          4310          269\n",
       "3414          4310          178\n",
       "3564          4430          301\n",
       "3569          4430          261\n",
       "3588          4440          259\n",
       "3655          4590          239\n",
       "3769          4690          181\n",
       "3782          4690          154\n",
       "3785          4700          183\n",
       "3784          4700          191\n",
       "3833          4760          176\n",
       "3917          4840          196\n",
       "3921          4840          225\n",
       "3960          4920          223\n",
       "3999          4990          154\n",
       "4051          5060          170\n",
       "4055          5060          298\n",
       "5287          5120          260\n",
       "5127          5120          230\n",
       "4834          5120          217\n",
       "4688          5120          271\n",
       "4860          5120          154\n",
       "5597          5130          200\n",
       "5604          5160          160\n",
       "5657          5180          160\n",
       "3719          5190          155\n",
       "5690          5190          155\n",
       "\n",
       "[74 rows x 2 columns]"
      ]
     },
     "execution_count": 57,
     "metadata": {},
     "output_type": "execute_result"
    }
   ],
   "source": [
    "# crashes_df.fatal_count.sort_values(['fatal_count']. inplace=True)\n",
    "crashes2 = crashes_df.sort_values('country_code',ascending=True)\n",
    "crashes2[['country_code', 'fatal_count']]"
   ]
  },
  {
   "cell_type": "code",
   "execution_count": 56,
   "metadata": {},
   "outputs": [
    {
     "ename": "AttributeError",
     "evalue": "module 'matplotlib.pyplot' has no attribute 'cfg'",
     "output_type": "error",
     "traceback": [
      "\u001b[0;31m---------------------------------------------------------------------------\u001b[0m",
      "\u001b[0;31mAttributeError\u001b[0m                            Traceback (most recent call last)",
      "\u001b[0;32m<ipython-input-56-f315cf0f424a>\u001b[0m in \u001b[0;36m<module>\u001b[0;34m\u001b[0m\n\u001b[1;32m      3\u001b[0m \u001b[0mplt\u001b[0m\u001b[0;34m.\u001b[0m\u001b[0mxlabel\u001b[0m\u001b[0;34m(\u001b[0m\u001b[0;34m\"stuff\"\u001b[0m\u001b[0;34m)\u001b[0m\u001b[0;34m\u001b[0m\u001b[0;34m\u001b[0m\u001b[0m\n\u001b[1;32m      4\u001b[0m \u001b[0mplt\u001b[0m\u001b[0;34m.\u001b[0m\u001b[0mxlabel\u001b[0m\u001b[0;34m(\u001b[0m\u001b[0;34m\"country_code\"\u001b[0m\u001b[0;34m)\u001b[0m\u001b[0;34m\u001b[0m\u001b[0;34m\u001b[0m\u001b[0m\n\u001b[0;32m----> 5\u001b[0;31m \u001b[0mfig\u001b[0m \u001b[0;34m=\u001b[0m \u001b[0mplt\u001b[0m\u001b[0;34m.\u001b[0m\u001b[0mcfg\u001b[0m\u001b[0;34m(\u001b[0m\u001b[0;34m)\u001b[0m\u001b[0;34m\u001b[0m\u001b[0;34m\u001b[0m\u001b[0m\n\u001b[0m",
      "\u001b[0;31mAttributeError\u001b[0m: module 'matplotlib.pyplot' has no attribute 'cfg'"
     ]
    },
    {
     "data": {
      "image/png": "[encoded data removed]",
      "text/plain": [
       "<Figure size 432x288 with 1 Axes>"
      ]
     },
     "metadata": {
      "needs_background": "light"
     },
     "output_type": "display_data"
    }
   ],
   "source": [
    "plt.hist(crashes2['fatal_count'])\n",
    "plt.title(\"fatlities\")\n",
    "plt.xlabel(\"stuff\")\n",
    "plt.xlabel(\"country_code\")\n",
    "fig = plt.cfg()\n"
   ]
  },
  {
   "cell_type": "code",
   "execution_count": 150,
   "metadata": {},
   "outputs": [
    {
     "ename": "AttributeError",
     "evalue": "Cannot access attribute 'columns' of 'DataFrameGroupBy' objects, try using the 'apply' method",
     "output_type": "error",
     "traceback": [
      "\u001b[0;31m---------------------------------------------------------------------------\u001b[0m",
      "\u001b[0;31mAttributeError\u001b[0m                            Traceback (most recent call last)",
      "\u001b[0;32m<ipython-input-150-6e855904f34a>\u001b[0m in \u001b[0;36m<module>\u001b[0;34m\u001b[0m\n\u001b[1;32m      5\u001b[0m \u001b[0;31m# print(sample)\u001b[0m\u001b[0;34m\u001b[0m\u001b[0;34m\u001b[0m\u001b[0;34m\u001b[0m\u001b[0m\n\u001b[1;32m      6\u001b[0m \u001b[0;31m# group_by_ac_type       = crashes_df.groupby(by=['ac_type'])\u001b[0m\u001b[0;34m\u001b[0m\u001b[0;34m\u001b[0m\u001b[0;34m\u001b[0m\u001b[0m\n\u001b[0;32m----> 7\u001b[0;31m \u001b[0mgroup_by_country_code\u001b[0m\u001b[0;34m.\u001b[0m\u001b[0mcolumns\u001b[0m\u001b[0;34m\u001b[0m\u001b[0;34m\u001b[0m\u001b[0m\n\u001b[0m\u001b[1;32m      8\u001b[0m \u001b[0;31m# crashes_data_avg_country  = group_by_country_code.mean() # checking this one\u001b[0m\u001b[0;34m\u001b[0m\u001b[0;34m\u001b[0m\u001b[0;34m\u001b[0m\u001b[0m\n\u001b[1;32m      9\u001b[0m \u001b[0;31m# crashes_data_avg_operator  = group_by_operator_code.mean()\u001b[0m\u001b[0;34m\u001b[0m\u001b[0;34m\u001b[0m\u001b[0;34m\u001b[0m\u001b[0m\n",
      "\u001b[0;32m~/anaconda3/lib/python3.7/site-packages/pandas/core/groupby/groupby.py\u001b[0m in \u001b[0;36m__getattr__\u001b[0;34m(self, attr)\u001b[0m\n\u001b[1;32m    760\u001b[0m             \u001b[0;32mreturn\u001b[0m \u001b[0mself\u001b[0m\u001b[0;34m[\u001b[0m\u001b[0mattr\u001b[0m\u001b[0;34m]\u001b[0m\u001b[0;34m\u001b[0m\u001b[0;34m\u001b[0m\u001b[0m\n\u001b[1;32m    761\u001b[0m         \u001b[0;32mif\u001b[0m \u001b[0mhasattr\u001b[0m\u001b[0;34m(\u001b[0m\u001b[0mself\u001b[0m\u001b[0;34m.\u001b[0m\u001b[0mobj\u001b[0m\u001b[0;34m,\u001b[0m \u001b[0mattr\u001b[0m\u001b[0;34m)\u001b[0m\u001b[0;34m:\u001b[0m\u001b[0;34m\u001b[0m\u001b[0;34m\u001b[0m\u001b[0m\n\u001b[0;32m--> 762\u001b[0;31m             \u001b[0;32mreturn\u001b[0m \u001b[0mself\u001b[0m\u001b[0;34m.\u001b[0m\u001b[0m_make_wrapper\u001b[0m\u001b[0;34m(\u001b[0m\u001b[0mattr\u001b[0m\u001b[0;34m)\u001b[0m\u001b[0;34m\u001b[0m\u001b[0;34m\u001b[0m\u001b[0m\n\u001b[0m\u001b[1;32m    763\u001b[0m \u001b[0;34m\u001b[0m\u001b[0m\n\u001b[1;32m    764\u001b[0m         raise AttributeError(\"%r object has no attribute %r\" %\n",
      "\u001b[0;32m~/anaconda3/lib/python3.7/site-packages/pandas/core/groupby/groupby.py\u001b[0m in \u001b[0;36m_make_wrapper\u001b[0;34m(self, name)\u001b[0m\n\u001b[1;32m    797\u001b[0m                    \"using the 'apply' method\".format(kind, name,\n\u001b[1;32m    798\u001b[0m                                                      type(self).__name__))\n\u001b[0;32m--> 799\u001b[0;31m             \u001b[0;32mraise\u001b[0m \u001b[0mAttributeError\u001b[0m\u001b[0;34m(\u001b[0m\u001b[0mmsg\u001b[0m\u001b[0;34m)\u001b[0m\u001b[0;34m\u001b[0m\u001b[0;34m\u001b[0m\u001b[0m\n\u001b[0m\u001b[1;32m    800\u001b[0m \u001b[0;34m\u001b[0m\u001b[0m\n\u001b[1;32m    801\u001b[0m         \u001b[0mself\u001b[0m\u001b[0;34m.\u001b[0m\u001b[0m_set_group_selection\u001b[0m\u001b[0;34m(\u001b[0m\u001b[0;34m)\u001b[0m\u001b[0;34m\u001b[0m\u001b[0;34m\u001b[0m\u001b[0m\n",
      "\u001b[0;31mAttributeError\u001b[0m: Cannot access attribute 'columns' of 'DataFrameGroupBy' objects, try using the 'apply' method"
     ]
    }
   ],
   "source": [
    "# group_by_country_code = crashes_df[['country_code','aboard_count','fatal_count','ground']].groupby(['country_code'])\n",
    "group_by_country_code  = crashes_df.groupby(['country_code'])\n",
    "group_by_operator_code = crashes_df.groupby(['operator_code'])\n",
    "# sample = group_by_country_code[['country_code','ground', 'aboard_count', 'fatal_count']].tail(2)\n",
    "# print(sample)\n",
    "# group_by_ac_type       = crashes_df.groupby(by=['ac_type'])\n",
    "# group_by_country_code.columns\n",
    "# crashes_data_avg_country  = group_by_country_code.mean() # checking this one\n",
    "# crashes_data_avg_operator  = group_by_operator_code.mean()\n",
    "# crashes_data_avg_ac_type  = group_by_ac_type.mean()\n",
    "# crashes_data_count_country  = group_by_country_code.count()\n",
    "# crashes_data_count_operator  = group_by_operator_code.count()\n",
    "# crashes_data_count_ac_type  = group_by_ac_type.count()"
   ]
  },
  {
   "cell_type": "code",
   "execution_count": 79,
   "metadata": {},
   "outputs": [
    {
     "name": "stdout",
     "output_type": "stream",
     "text": [
      "group_by_country_code count = 444\n",
      "group_by_operator_code count = 2791\n",
      "group_by_ac_type count = 2720\n",
      "crashes_data_count_ac_type count = 2720\n"
     ]
    },
    {
     "ename": "AttributeError",
     "evalue": "Cannot access attribute 'columns' of 'DataFrameGroupBy' objects, try using the 'apply' method",
     "output_type": "error",
     "traceback": [
      "\u001b[0;31m---------------------------------------------------------------------------\u001b[0m",
      "\u001b[0;31mAttributeError\u001b[0m                            Traceback (most recent call last)",
      "\u001b[0;32m<ipython-input-79-87d7558d492f>\u001b[0m in \u001b[0;36m<module>\u001b[0;34m\u001b[0m\n\u001b[1;32m      3\u001b[0m \u001b[0mprint\u001b[0m\u001b[0;34m(\u001b[0m\u001b[0;34m\"group_by_ac_type count = {}\"\u001b[0m\u001b[0;34m.\u001b[0m\u001b[0mformat\u001b[0m\u001b[0;34m(\u001b[0m\u001b[0mlen\u001b[0m\u001b[0;34m(\u001b[0m\u001b[0mgroup_by_ac_type\u001b[0m\u001b[0;34m)\u001b[0m\u001b[0;34m)\u001b[0m\u001b[0;34m)\u001b[0m\u001b[0;34m\u001b[0m\u001b[0;34m\u001b[0m\u001b[0m\n\u001b[1;32m      4\u001b[0m \u001b[0mprint\u001b[0m\u001b[0;34m(\u001b[0m\u001b[0;34m\"crashes_data_count_ac_type count = {}\"\u001b[0m\u001b[0;34m.\u001b[0m\u001b[0mformat\u001b[0m\u001b[0;34m(\u001b[0m\u001b[0mlen\u001b[0m\u001b[0;34m(\u001b[0m\u001b[0mcrashes_data_count_ac_type\u001b[0m\u001b[0;34m)\u001b[0m\u001b[0;34m)\u001b[0m\u001b[0;34m)\u001b[0m\u001b[0;34m\u001b[0m\u001b[0;34m\u001b[0m\u001b[0m\n\u001b[0;32m----> 5\u001b[0;31m \u001b[0mgroup_by_country_code\u001b[0m\u001b[0;34m.\u001b[0m\u001b[0mcolumns\u001b[0m\u001b[0;34m\u001b[0m\u001b[0;34m\u001b[0m\u001b[0m\n\u001b[0m",
      "\u001b[0;32m~/anaconda3/lib/python3.7/site-packages/pandas/core/groupby/groupby.py\u001b[0m in \u001b[0;36m__getattr__\u001b[0;34m(self, attr)\u001b[0m\n\u001b[1;32m    760\u001b[0m             \u001b[0;32mreturn\u001b[0m \u001b[0mself\u001b[0m\u001b[0;34m[\u001b[0m\u001b[0mattr\u001b[0m\u001b[0;34m]\u001b[0m\u001b[0;34m\u001b[0m\u001b[0;34m\u001b[0m\u001b[0m\n\u001b[1;32m    761\u001b[0m         \u001b[0;32mif\u001b[0m \u001b[0mhasattr\u001b[0m\u001b[0;34m(\u001b[0m\u001b[0mself\u001b[0m\u001b[0;34m.\u001b[0m\u001b[0mobj\u001b[0m\u001b[0;34m,\u001b[0m \u001b[0mattr\u001b[0m\u001b[0;34m)\u001b[0m\u001b[0;34m:\u001b[0m\u001b[0;34m\u001b[0m\u001b[0;34m\u001b[0m\u001b[0m\n\u001b[0;32m--> 762\u001b[0;31m             \u001b[0;32mreturn\u001b[0m \u001b[0mself\u001b[0m\u001b[0;34m.\u001b[0m\u001b[0m_make_wrapper\u001b[0m\u001b[0;34m(\u001b[0m\u001b[0mattr\u001b[0m\u001b[0;34m)\u001b[0m\u001b[0;34m\u001b[0m\u001b[0;34m\u001b[0m\u001b[0m\n\u001b[0m\u001b[1;32m    763\u001b[0m \u001b[0;34m\u001b[0m\u001b[0m\n\u001b[1;32m    764\u001b[0m         raise AttributeError(\"%r object has no attribute %r\" %\n",
      "\u001b[0;32m~/anaconda3/lib/python3.7/site-packages/pandas/core/groupby/groupby.py\u001b[0m in \u001b[0;36m_make_wrapper\u001b[0;34m(self, name)\u001b[0m\n\u001b[1;32m    797\u001b[0m                    \"using the 'apply' method\".format(kind, name,\n\u001b[1;32m    798\u001b[0m                                                      type(self).__name__))\n\u001b[0;32m--> 799\u001b[0;31m             \u001b[0;32mraise\u001b[0m \u001b[0mAttributeError\u001b[0m\u001b[0;34m(\u001b[0m\u001b[0mmsg\u001b[0m\u001b[0;34m)\u001b[0m\u001b[0;34m\u001b[0m\u001b[0;34m\u001b[0m\u001b[0m\n\u001b[0m\u001b[1;32m    800\u001b[0m \u001b[0;34m\u001b[0m\u001b[0m\n\u001b[1;32m    801\u001b[0m         \u001b[0mself\u001b[0m\u001b[0;34m.\u001b[0m\u001b[0m_set_group_selection\u001b[0m\u001b[0;34m(\u001b[0m\u001b[0;34m)\u001b[0m\u001b[0;34m\u001b[0m\u001b[0;34m\u001b[0m\u001b[0m\n",
      "\u001b[0;31mAttributeError\u001b[0m: Cannot access attribute 'columns' of 'DataFrameGroupBy' objects, try using the 'apply' method"
     ]
    }
   ],
   "source": [
    "print(\"group_by_country_code count = {}\".format(len(group_by_country_code)))\n",
    "print(\"group_by_operator_code count = {}\".format(len(group_by_operator_code)))\n",
    "print(\"group_by_ac_type count = {}\".format(len(group_by_ac_type)))\n",
    "print(\"crashes_data_count_ac_type count = {}\".format(len(crashes_data_count_ac_type)))\n",
    "group_by_country_code.columns"
   ]
  },
  {
   "cell_type": "code",
   "execution_count": 80,
   "metadata": {},
   "outputs": [],
   "source": [
    "# # crashes_data_avg_country.head(20)\n",
    "# print(crashes_data_avg_country)\n",
    "# crashes_data_avg_country.columns"
   ]
  },
  {
   "cell_type": "code",
   "execution_count": 82,
   "metadata": {},
   "outputs": [
    {
     "name": "stdout",
     "output_type": "stream",
     "text": [
      "good\n"
     ]
    }
   ],
   "source": [
    "x = 'this is good'\n",
    "if x.isalpha:\n",
    "    print('good')"
   ]
  },
  {
   "cell_type": "markdown",
   "metadata": {},
   "source": [
    "df.columns\n"
   ]
  },
  {
   "cell_type": "code",
   "execution_count": 83,
   "metadata": {},
   "outputs": [
    {
     "ename": "NameError",
     "evalue": "name 'df' is not defined",
     "output_type": "error",
     "traceback": [
      "\u001b[0;31m---------------------------------------------------------------------------\u001b[0m",
      "\u001b[0;31mNameError\u001b[0m                                 Traceback (most recent call last)",
      "\u001b[0;32m<ipython-input-83-b666bf274d0a>\u001b[0m in \u001b[0;36m<module>\u001b[0;34m\u001b[0m\n\u001b[0;32m----> 1\u001b[0;31m \u001b[0mdf\u001b[0m\u001b[0;34m.\u001b[0m\u001b[0mcolumns\u001b[0m\u001b[0;34m\u001b[0m\u001b[0;34m\u001b[0m\u001b[0m\n\u001b[0m",
      "\u001b[0;31mNameError\u001b[0m: name 'df' is not defined"
     ]
    }
   ],
   "source": [
    "df.columns"
   ]
  },
  {
   "cell_type": "code",
   "execution_count": 124,
   "metadata": {},
   "outputs": [
    {
     "data": {
      "text/plain": [
       "0       1 \n",
       "2       4 \n",
       "3       3 \n",
       "4       2 \n",
       "5       3 \n",
       "6      99 \n",
       "7     329 \n",
       "8      52 \n",
       "9      58 \n",
       "10    228 \n",
       "Name: aboard_count, dtype: object"
      ]
     },
     "execution_count": 124,
     "metadata": {},
     "output_type": "execute_result"
    }
   ],
   "source": [
    "# pd.to_numeric(crashes_df['aboard_count']).head(20)\n",
    "crashes_df['aboard_count'].head(10)\n",
    "# crashes.columns"
   ]
  },
  {
   "cell_type": "code",
   "execution_count": 125,
   "metadata": {},
   "outputs": [
    {
     "data": {
      "text/plain": [
       "Index(['country_code', 'operator_code', 'ac_type', 'aboard_count',\n",
       "       'fatal_count', 'ground', 'ground2'],\n",
       "      dtype='object')"
      ]
     },
     "execution_count": 125,
     "metadata": {},
     "output_type": "execute_result"
    }
   ],
   "source": [
    "crashes_df.columns"
   ]
  },
  {
   "cell_type": "code",
   "execution_count": 127,
   "metadata": {},
   "outputs": [],
   "source": [
    "crashes_df['aboard_count'] = pd.to_numeric(crashes_df['aboard_count'])"
   ]
  },
  {
   "cell_type": "code",
   "execution_count": 58,
   "metadata": {},
   "outputs": [
    {
     "data": {
      "image/png": "[encoded data removed]",
      "text/plain": [
       "<Figure size 432x288 with 1 Axes>"
      ]
     },
     "metadata": {
      "needs_background": "light"
     },
     "output_type": "display_data"
    }
   ],
   "source": [
    "plt.hist(crashes_df['aboard_count'])\n",
    "plt.title(\"Crashes Histogram\")\n",
    "plt.xlabel(\"Value\")\n",
    "plt.ylabel(\"Frequency\")\n",
    "fig = plt.gcf()"
   ]
  },
  {
   "cell_type": "code",
   "execution_count": null,
   "metadata": {},
   "outputs": [],
   "source": []
  }
 ],
 "metadata": {
  "kernelspec": {
   "display_name": "Python 3",
   "language": "python",
   "name": "python3"
  },
  "language_info": {
   "codemirror_mode": {
    "name": "ipython",
    "version": 3
   },
   "file_extension": ".py",
   "mimetype": "text/x-python",
   "name": "python",
   "nbconvert_exporter": "python",
   "pygments_lexer": "ipython3",
   "version": "3.7.1"
  }
 },
 "nbformat": 4,
 "nbformat_minor": 1
}
