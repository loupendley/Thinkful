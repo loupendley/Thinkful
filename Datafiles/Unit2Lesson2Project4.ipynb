{
 "cells": [
  {
   "cell_type": "code",
   "execution_count": null,
   "metadata": {},
   "outputs": [],
   "source": [
    "# import pandas as pd\n",
    "# import matplotlib.pyplot as plt\n",
    "# filename = '/Users/lou/GITHubProjects/Thinkful/Datafiles/planecrashinfo_20181121001952.csv'\n",
    "# df = pd.read_csv(filename)"
   ]
  },
  {
   "cell_type": "code",
   "execution_count": null,
   "metadata": {},
   "outputs": [],
   "source": [
    "# print(df)"
   ]
  },
  {
   "cell_type": "code",
   "execution_count": null,
   "metadata": {},
   "outputs": [],
   "source": [
    "# df.groupby('operator').size()"
   ]
  },
  {
   "cell_type": "code",
   "execution_count": null,
   "metadata": {},
   "outputs": [],
   "source": [
    "# operators = ['Aeroflot', 'China Air Lines']\n",
    "# df.groupby('operator')['operator'].size().isin(operators)"
   ]
  },
  {
   "cell_type": "code",
   "execution_count": null,
   "metadata": {},
   "outputs": [],
   "source": [
    "# this works\n",
    "import pandas as pd\n",
    "import matplotlib.pyplot as plt\n",
    "#filename = '/Users/lou/GITHubProjects/Thinkful/Datafiles/planecrashinfo_20181121001952.csv'\n",
    "filename = '/Users/lou/GITHubProjects/Thinkful/Datafiles/purchases.csv'\n",
    "df = pd.read_csv(filename)"
   ]
  },
  {
   "cell_type": "code",
   "execution_count": null,
   "metadata": {},
   "outputs": [],
   "source": [
    "# this works too!!!\n",
    "df2 = df['ad_views']\n",
    "# plt.ylim([40, 80])\n",
    "plt.ylabel('Stuff')\n",
    "# plt.plot(df2, color='green')\n",
    "# plt.scatter(x = df['ad_views'], y = df['items_purchased'])\n",
    "plt.hist(df2)\n",
    "plt.show()\n"
   ]
  },
  {
   "cell_type": "code",
   "execution_count": null,
   "metadata": {},
   "outputs": [],
   "source": [
    "print(df2)"
   ]
  },
  {
   "cell_type": "code",
   "execution_count": null,
   "metadata": {},
   "outputs": [],
   "source": [
    "# Build our histogram. Let's go ahead and set the color too.\n",
    "plt.hist(df['ad_views'], bins=40, color='blue')\n",
    "plt.title('Great Demo Demo')\n",
    "plt.xlabel('Random Values')\n",
    "plt.show()"
   ]
  },
  {
   "cell_type": "code",
   "execution_count": null,
   "metadata": {},
   "outputs": [],
   "source": [
    "import pandas as pd\n",
    "import matplotlib.pyplot as plt\n",
    "filename = '/Users/lou/GITHubProjects/Thinkful/Datafiles/drugsComTest_raw.tsv'\n",
    "\n",
    "# filename = './drugsComTest_raw.tsv'\n",
    "# df = pd.read_csv(filename, sep='\\t', lineterminator='\\r')\n",
    "df = pd.read_csv(filename, sep='\\t')\n",
    "# print(df['usefulCount'])\n",
    "# stuff = pd.DataFrame([usefulCount])\n",
    "# print(stuff)\n",
    "# Build our histogram. Let's go ahead and set the color too.\n",
    "plt.plot(df['usefulCount'], color='blue')\n",
    "plt.title('Drug Test Comments')\n",
    "plt.xlabel('Comment Useful Counts')\n",
    "plt.show()\n"
   ]
  },
  {
   "cell_type": "code",
   "execution_count": null,
   "metadata": {},
   "outputs": [],
   "source": [
    "import pandas as pd\n",
    "import matplotlib.pyplot as plt\n",
    "filename = '/Users/lou/GITHubProjects/Thinkful/Datafiles/planecrashinfo_20181121001952_clean.csv'\n",
    "# df = pd.read_csv(filename, encoding='UTF-16', quotechar='\"')\n",
    "df = pd.read_csv(filename, quotechar='\"')\n",
    "# print(df)"
   ]
  },
  {
   "cell_type": "code",
   "execution_count": null,
   "metadata": {},
   "outputs": [],
   "source": [
    "# df['country_code'].head(20)"
   ]
  },
  {
   "cell_type": "code",
   "execution_count": null,
   "metadata": {},
   "outputs": [],
   "source": [
    "import pandas as pd\n",
    "import matplotlib.pyplot as plt\n",
    "filename = '/Users/lou/GITHubProjects/Thinkful/Datafiles/planecrashinfo_20181121001952_clean.csv'\n",
    "crashes = pd.read_csv(filename, quotechar='\"')\n",
    "# print(df)"
   ]
  },
  {
   "cell_type": "code",
   "execution_count": null,
   "metadata": {},
   "outputs": [],
   "source": [
    "crashes[\"operator\"].head(2)"
   ]
  },
  {
   "cell_type": "code",
   "execution_count": null,
   "metadata": {},
   "outputs": [],
   "source": [
    "crashes.head(3)"
   ]
  },
  {
   "cell_type": "code",
   "execution_count": null,
   "metadata": {},
   "outputs": [],
   "source": [
    "crashes[['operator', 'Country', 'country_code', 'fatal_count']].head(10)"
   ]
  },
  {
   "cell_type": "code",
   "execution_count": null,
   "metadata": {},
   "outputs": [],
   "source": [
    "import pandas as pd\n",
    "import numpy as np\n",
    "import matplotlib.pyplot as plt\n",
    "filename = '/Users/lou/GITHubProjects/Thinkful/Datafiles/planecrashinfo_20181121001952_clean.csv'\n",
    "crashes = pd.read_csv(filename, quotechar='\"')\n",
    "operators = ['Aeroflot', 'China Air Lines', 'China Airlines', 'China Eastern Airlines']\n",
    "aeroflot = ['Aeroflot']\n",
    "country_codes = [1900, 4310]\n",
    "countries = ['China', 'Russia', 'USSR']\n",
    "crash_commies = crashes.loc[crashes['country_code'].isin(country_codes)]\n",
    "crash_aeroflot = crashes.loc[crashes['operator'].isin(aeroflot)].head(10)\n",
    "crash_aeroflot2 = crash_aeroflot[['country_code', 'fatal_count']]\n",
    "# result = df.sort(['A', 'B'], ascending=[1, 0])\n",
    "crash_aerflot2  = crash_aeroflot2.sort(['country_code', 'fatal_count'], ascending=[1, 1])\n",
    "# df = pd.DataFrame(my_array) # this is key\n",
    "df = pd.DataFrame(crash_aeroflot2)\n",
    "# print(df)\n",
    "df = df.sort(['aboard_count', 'fatal_count'], ascending=[1,1])\n",
    "# print(df[['aboard_count', 'fatal_count']])\n",
    "# print(crash_aeroflot[['fatal_count', 'aboard_count']].head(10))\n",
    "pd.set_option('display.max_rows', 50)\n",
    "# plt.hist(df['ad_views'], bins=40, color='blue')\n",
    "# crash_commies[[ 'fatal_count']].head(5)\n",
    "# df2 = df['ad_views']\n",
    "# plt.xlim([0, 2000])\n",
    "# plt.ylim(30,200)\n",
    "plt.ylabel('Fatalies')\n",
    "plt.xlabel('Locations')\n",
    "# plt.plot(df, color='green')\n",
    "plt.scatter(x = df['country_code'], y = df['fatal_count'])\n",
    "# plt.hist(df['fatal_count'])\n",
    "# plt.show()\n",
    "# # print(df['fatal_count'])\n",
    "# print(crash_aeroflot[['date', 'time','fatal_count']])"
   ]
  },
  {
   "cell_type": "code",
   "execution_count": null,
   "metadata": {},
   "outputs": [],
   "source": [
    "import pandas as pd\n",
    "import numpy as np\n",
    "# df.columns = ['CrashYear', 'FatalCount']\n",
    "# df.index = ['Alabama', 'California', 'Oklahoma']\n",
    "# df\n",
    "# date1 = '20-Feb-44'\n",
    "# # pd.to_datetime(df.faultDate).dt.year\n",
    "# pd.to_datetime(date1).dt.year\n",
    "\n",
    "my_array = np.array([['Montgomery','Yellohammer state',52423],\n",
    "                     ['Sacramento','Golden state',163707],\n",
    "                     ['Oklahoma City','Sooner state',69960 ]])\n",
    "\n",
    "my_array2 = np.array([['Montgomery','Yellohammer state',52423, '23-Feb-44'],\n",
    "                     ['Sacramento','Golden state',163707, '19-Jul-18'],\n",
    "                     ['Oklahoma City','Sooner state',69960, '20-Jan-20' ]])\n",
    "df = pd.DataFrame(my_array)\n",
    "df2= pd.DataFrame(my_array2)\n",
    "\n",
    "\n",
    "df.columns = ['Capital', 'Nickname','Area']\n",
    "df.index = ['Alabama', 'California', 'Oklahoma']\n",
    "print(df)\n",
    "print(df2)"
   ]
  },
  {
   "cell_type": "code",
   "execution_count": null,
   "metadata": {},
   "outputs": [],
   "source": [
    "# From https://stackoverflow.com/questions/32791098/how-to-scatter-plot-series-using-pandas\n",
    "import numpy as np\n",
    "import matplotlib.pyplot as plt\n",
    "np.random.seed(1)\n",
    "\n",
    "year = [1992, 1993, 1994, 1995, 1996, 1997, 1998, 1999, 2000, 2001, 2002, 2003, 2004, 2005, 2006, 2007, 2008, 2009, 2010, 2011, 2012, 2013, 2014]\n",
    "value = np.random.rand(23)\n",
    "\n",
    "ser =  pd.Series(index = year,data=value)\n",
    "df =ser.to_frame()\n",
    "\n",
    "df.reset_index(inplace=True)\n",
    "df.columns = ['year','value']\n",
    "df.plot(kind='scatter',x='year',y='value')\n",
    "plt.show()"
   ]
  },
  {
   "cell_type": "code",
   "execution_count": null,
   "metadata": {},
   "outputs": [],
   "source": [
    "import pandas as pd\n",
    "import numpy as np\n",
    "import matplotlib.pyplot as plt\n",
    "pd.set_option('display.max_rows', 500)\n",
    "filename = '/Users/lou/GITHubProjects/Thinkful/Datafiles/planecrashinfo_20181121001952_clean.csv'\n",
    "crashes_data = pd.read_csv(filename)\n",
    "# print(crashes_data.columns)\n",
    "crashes_data['ac_type'].unique()\n",
    "crashes_data = crashes_data.dropna(subset=['ac_type'])\n",
    "crashes_data['ac_type'].unique()\n"
   ]
  },
  {
   "cell_type": "code",
   "execution_count": null,
   "metadata": {},
   "outputs": [],
   "source": [
    "my_array = np.array([['Montgomery','Yellohammer state', 52423],\n",
    "                    ['Sacramento', 'Golden State', 16307],\n",
    "                    ['Oklahoma City', 'Sooner state', 69960]])\n",
    "df = pd.DataFrame(my_array)\n",
    "df.columns = ['Capital', 'Nickname', 'Area']\n",
    "df.index   = ['Alabama', 'California', 'Oklahoma']\n",
    "# df\n",
    "df2 = pd.DataFrame(\n",
    "        my_array,\n",
    "        columns=['Capital', 'Nickname', 'Area'],\n",
    "        index=['Alabama', 'California', 'Oklahoma'])\n",
    "df2.Capital"
   ]
  },
  {
   "cell_type": "raw",
   "metadata": {},
   "source": []
  },
  {
   "cell_type": "code",
   "execution_count": 130,
   "metadata": {},
   "outputs": [
    {
     "name": "stdout",
     "output_type": "stream",
     "text": [
      "there are now 5719 clean rows of data in crashes_df.\n",
      "Index(['country_code', 'operator_code', 'ac_type', 'aboard_count',\n",
      "       'fatal_count', 'ground'],\n",
      "      dtype='object')\n"
     ]
    }
   ],
   "source": [
    "import pandas as pd\n",
    "import numpy as np\n",
    "import matplotlib.pyplot as plt\n",
    "filename = '/Users/lou/GITHubProjects/Thinkful/Datafiles/planecrashinfo_20181121001952_clean.csv'\n",
    "# crashes = pd.read_csv(filename, quotechar='\"')\n",
    "crashes = pd.read_csv(filename)\n",
    "crashes_df = crashes[['country_code', 'operator_code', 'ac_type', 'aboard_count', 'fatal_count', 'ground']]\n",
    "\n",
    "# let's remove all the NaN's for the numeric data types\n",
    "crashes_df = crashes_df.dropna(subset=['aboard_count'])\n",
    "crashes_df = crashes_df.dropna(subset=['fatal_count'])  \n",
    "crashes_df = crashes_df.dropna(subset=['ground'])\n",
    "\n",
    "# let's strip off all leading and trailing spaces from the numeric data types\n",
    "crashes_df = crashes_df[(crashes_df['aboard_count'].str.strip() != '?')] # remove unknown aboard_cont\n",
    "crashes_df = crashes_df[(crashes_df['ground'].str.strip()       != '?')]       # remove unknown ground count\n",
    "crashes_df = crashes_df[(crashes_df['fatal_count'].str.strip()  != '?')]  # remove unknown fatal_count\n",
    "\n",
    "# let's convert all of these numeric data types to numerics\n",
    "crashes_df['ground']       = pd.to_numeric(crashes_df['ground'])\n",
    "crashes_df['aboard_count'] = pd.to_numeric(crashes_df['aboard_count'])\n",
    "crashes_df['fatal_count']  = pd.to_numeric(crashes_df['fatal_count'])\n",
    "print(\"there are now {} clean rows of data in crashes_df.\".format(len(crashes_df)))\n",
    "print(crashes_df.columns)"
   ]
  },
  {
   "cell_type": "code",
   "execution_count": 133,
   "metadata": {},
   "outputs": [
    {
     "data": {
      "text/html": [
       "<div>\n",
       "<style scoped>\n",
       "    .dataframe tbody tr th:only-of-type {\n",
       "        vertical-align: middle;\n",
       "    }\n",
       "\n",
       "    .dataframe tbody tr th {\n",
       "        vertical-align: top;\n",
       "    }\n",
       "\n",
       "    .dataframe thead th {\n",
       "        text-align: right;\n",
       "    }\n",
       "</style>\n",
       "<table border=\"1\" class=\"dataframe\">\n",
       "  <thead>\n",
       "    <tr style=\"text-align: right;\">\n",
       "      <th></th>\n",
       "      <th>country_code</th>\n",
       "      <th>operator_code</th>\n",
       "      <th>ac_type</th>\n",
       "      <th>aboard_count</th>\n",
       "      <th>fatal_count</th>\n",
       "      <th>ground</th>\n",
       "    </tr>\n",
       "  </thead>\n",
       "  <tbody>\n",
       "    <tr>\n",
       "      <th>6</th>\n",
       "      <td>1000</td>\n",
       "      <td>14910.0</td>\n",
       "      <td>Lockheed 1049H Super Constellation</td>\n",
       "      <td>99</td>\n",
       "      <td>99</td>\n",
       "      <td>0</td>\n",
       "    </tr>\n",
       "    <tr>\n",
       "      <th>7</th>\n",
       "      <td>1010</td>\n",
       "      <td>3180.0</td>\n",
       "      <td>Boeing B-747-237B</td>\n",
       "      <td>329</td>\n",
       "      <td>329</td>\n",
       "      <td>0</td>\n",
       "    </tr>\n",
       "    <tr>\n",
       "      <th>8</th>\n",
       "      <td>1020</td>\n",
       "      <td>3070.0</td>\n",
       "      <td>Latecoere 631 (flying boat)</td>\n",
       "      <td>52</td>\n",
       "      <td>52</td>\n",
       "      <td>0</td>\n",
       "    </tr>\n",
       "    <tr>\n",
       "      <th>9</th>\n",
       "      <td>1030</td>\n",
       "      <td>26930.0</td>\n",
       "      <td>Douglas DC-6A</td>\n",
       "      <td>58</td>\n",
       "      <td>58</td>\n",
       "      <td>0</td>\n",
       "    </tr>\n",
       "    <tr>\n",
       "      <th>10</th>\n",
       "      <td>1040</td>\n",
       "      <td>3070.0</td>\n",
       "      <td>Airbus A330-203</td>\n",
       "      <td>228</td>\n",
       "      <td>228</td>\n",
       "      <td>0</td>\n",
       "    </tr>\n",
       "    <tr>\n",
       "      <th>11</th>\n",
       "      <td>1050</td>\n",
       "      <td>5950.0</td>\n",
       "      <td>Boeing 314A</td>\n",
       "      <td>69</td>\n",
       "      <td>0</td>\n",
       "      <td>0</td>\n",
       "    </tr>\n",
       "    <tr>\n",
       "      <th>12</th>\n",
       "      <td>1060</td>\n",
       "      <td>11750.0</td>\n",
       "      <td>Douglas DC-3</td>\n",
       "      <td>24</td>\n",
       "      <td>22</td>\n",
       "      <td>0</td>\n",
       "    </tr>\n",
       "    <tr>\n",
       "      <th>13</th>\n",
       "      <td>1070</td>\n",
       "      <td>25490.0</td>\n",
       "      <td>Sud-Aviation Caravelle III</td>\n",
       "      <td>80</td>\n",
       "      <td>80</td>\n",
       "      <td>0</td>\n",
       "    </tr>\n",
       "    <tr>\n",
       "      <th>16</th>\n",
       "      <td>1100</td>\n",
       "      <td>6350.0</td>\n",
       "      <td>Douglas DC-3</td>\n",
       "      <td>21</td>\n",
       "      <td>21</td>\n",
       "      <td>0</td>\n",
       "    </tr>\n",
       "    <tr>\n",
       "      <th>19</th>\n",
       "      <td>1100</td>\n",
       "      <td>18530.0</td>\n",
       "      <td>Antonov AN-12V</td>\n",
       "      <td>45</td>\n",
       "      <td>45</td>\n",
       "      <td>0</td>\n",
       "    </tr>\n",
       "  </tbody>\n",
       "</table>\n",
       "</div>"
      ],
      "text/plain": [
       "    country_code  operator_code                             ac_type  \\\n",
       "6           1000        14910.0  Lockheed 1049H Super Constellation   \n",
       "7           1010         3180.0                   Boeing B-747-237B   \n",
       "8           1020         3070.0         Latecoere 631 (flying boat)   \n",
       "9           1030        26930.0                       Douglas DC-6A   \n",
       "10          1040         3070.0                     Airbus A330-203   \n",
       "11          1050         5950.0                         Boeing 314A   \n",
       "12          1060        11750.0                        Douglas DC-3   \n",
       "13          1070        25490.0          Sud-Aviation Caravelle III   \n",
       "16          1100         6350.0                        Douglas DC-3   \n",
       "19          1100        18530.0                      Antonov AN-12V   \n",
       "\n",
       "    aboard_count  fatal_count  ground  \n",
       "6             99           99       0  \n",
       "7            329          329       0  \n",
       "8             52           52       0  \n",
       "9             58           58       0  \n",
       "10           228          228       0  \n",
       "11            69            0       0  \n",
       "12            24           22       0  \n",
       "13            80           80       0  \n",
       "16            21           21       0  \n",
       "19            45           45       0  "
      ]
     },
     "execution_count": 133,
     "metadata": {},
     "output_type": "execute_result"
    }
   ],
   "source": [
    "crashes_df2 = crashes_df[(crashes_df['aboard_count'].  > 20)\n",
    "\n",
    "# len(crashes_df)\n",
    "\n",
    "\n",
    "crashes_df2.head(10)\n"
   ]
  },
  {
   "cell_type": "code",
   "execution_count": 78,
   "metadata": {},
   "outputs": [
    {
     "name": "stdout",
     "output_type": "stream",
     "text": [
      "zero_list_column=aboard_count\n",
      "crashes_df_count before 5731\n"
     ]
    },
    {
     "data": {
      "text/plain": [
       "Index(['country_code', 'operator_code', 'ac_type', 'aboard_count',\n",
       "       'fatal_count', 'ground'],\n",
       "      dtype='object')"
      ]
     },
     "execution_count": 78,
     "metadata": {},
     "output_type": "execute_result"
    }
   ],
   "source": [
    "# this did not fly -- i got error messages like:\n",
    "#TypeError: '<' not supported between instances of 'str' and 'int'\n",
    "# column_scrub_list = ['aboard_count', 'fatal_count']\n",
    "print(\"zero_list_column={}\".format(zero_list_column))\n",
    "print(\"crashes_df_count before {}\".format(len(crashes_df)))\n",
    "# car_data = car_data[(car_data['modelLine'] != 'undefined')] # string comparisons worked fine\n",
    "\n",
    "# crashes_df = crashes_df[(crashes_df['aboard_count']  < 20)]\n",
    "# print(\"crashes_df_count after {}\".format(len(crashes_df)))\n",
    "crashes_df.columns"
   ]
  },
  {
   "cell_type": "code",
   "execution_count": 140,
   "metadata": {},
   "outputs": [],
   "source": [
    "# group_by_country_code = crashes_df[['country_code','aboard_count','fatal_count','ground']].groupby(['country_code'])\n",
    "group_by_country_code  = crashes_df.groupby(by=['country_code'])\n",
    "group_by_operator_code = crashes_df.groupby(by=['operator_code'])\n",
    "group_by_country_code[['country_code','ground', 'aboard_count', 'fatal_count']].head(10)\n",
    "# group_by_ac_type       = crashes_df.groupby(by=['ac_type'])\n",
    "crashes_data_avg_country  = group_by_country_code.mean()\n",
    "# crashes_data_avg_operator  = group_by_operator_code.mean()\n",
    "# crashes_data_avg_ac_type  = group_by_ac_type.mean()\n",
    "# crashes_data_count_country  = group_by_country_code.count()\n",
    "# crashes_data_count_operator  = group_by_operator_code.count()\n",
    "# crashes_data_count_ac_type  = group_by_ac_type.count()"
   ]
  },
  {
   "cell_type": "code",
   "execution_count": 79,
   "metadata": {},
   "outputs": [
    {
     "name": "stdout",
     "output_type": "stream",
     "text": [
      "group_by_country_code count = 444\n",
      "group_by_operator_code count = 2791\n",
      "group_by_ac_type count = 2720\n",
      "crashes_data_count_ac_type count = 2720\n"
     ]
    },
    {
     "ename": "AttributeError",
     "evalue": "Cannot access attribute 'columns' of 'DataFrameGroupBy' objects, try using the 'apply' method",
     "output_type": "error",
     "traceback": [
      "\u001b[0;31m---------------------------------------------------------------------------\u001b[0m",
      "\u001b[0;31mAttributeError\u001b[0m                            Traceback (most recent call last)",
      "\u001b[0;32m<ipython-input-79-87d7558d492f>\u001b[0m in \u001b[0;36m<module>\u001b[0;34m\u001b[0m\n\u001b[1;32m      3\u001b[0m \u001b[0mprint\u001b[0m\u001b[0;34m(\u001b[0m\u001b[0;34m\"group_by_ac_type count = {}\"\u001b[0m\u001b[0;34m.\u001b[0m\u001b[0mformat\u001b[0m\u001b[0;34m(\u001b[0m\u001b[0mlen\u001b[0m\u001b[0;34m(\u001b[0m\u001b[0mgroup_by_ac_type\u001b[0m\u001b[0;34m)\u001b[0m\u001b[0;34m)\u001b[0m\u001b[0;34m)\u001b[0m\u001b[0;34m\u001b[0m\u001b[0;34m\u001b[0m\u001b[0m\n\u001b[1;32m      4\u001b[0m \u001b[0mprint\u001b[0m\u001b[0;34m(\u001b[0m\u001b[0;34m\"crashes_data_count_ac_type count = {}\"\u001b[0m\u001b[0;34m.\u001b[0m\u001b[0mformat\u001b[0m\u001b[0;34m(\u001b[0m\u001b[0mlen\u001b[0m\u001b[0;34m(\u001b[0m\u001b[0mcrashes_data_count_ac_type\u001b[0m\u001b[0;34m)\u001b[0m\u001b[0;34m)\u001b[0m\u001b[0;34m)\u001b[0m\u001b[0;34m\u001b[0m\u001b[0;34m\u001b[0m\u001b[0m\n\u001b[0;32m----> 5\u001b[0;31m \u001b[0mgroup_by_country_code\u001b[0m\u001b[0;34m.\u001b[0m\u001b[0mcolumns\u001b[0m\u001b[0;34m\u001b[0m\u001b[0;34m\u001b[0m\u001b[0m\n\u001b[0m",
      "\u001b[0;32m~/anaconda3/lib/python3.7/site-packages/pandas/core/groupby/groupby.py\u001b[0m in \u001b[0;36m__getattr__\u001b[0;34m(self, attr)\u001b[0m\n\u001b[1;32m    760\u001b[0m             \u001b[0;32mreturn\u001b[0m \u001b[0mself\u001b[0m\u001b[0;34m[\u001b[0m\u001b[0mattr\u001b[0m\u001b[0;34m]\u001b[0m\u001b[0;34m\u001b[0m\u001b[0;34m\u001b[0m\u001b[0m\n\u001b[1;32m    761\u001b[0m         \u001b[0;32mif\u001b[0m \u001b[0mhasattr\u001b[0m\u001b[0;34m(\u001b[0m\u001b[0mself\u001b[0m\u001b[0;34m.\u001b[0m\u001b[0mobj\u001b[0m\u001b[0;34m,\u001b[0m \u001b[0mattr\u001b[0m\u001b[0;34m)\u001b[0m\u001b[0;34m:\u001b[0m\u001b[0;34m\u001b[0m\u001b[0;34m\u001b[0m\u001b[0m\n\u001b[0;32m--> 762\u001b[0;31m             \u001b[0;32mreturn\u001b[0m \u001b[0mself\u001b[0m\u001b[0;34m.\u001b[0m\u001b[0m_make_wrapper\u001b[0m\u001b[0;34m(\u001b[0m\u001b[0mattr\u001b[0m\u001b[0;34m)\u001b[0m\u001b[0;34m\u001b[0m\u001b[0;34m\u001b[0m\u001b[0m\n\u001b[0m\u001b[1;32m    763\u001b[0m \u001b[0;34m\u001b[0m\u001b[0m\n\u001b[1;32m    764\u001b[0m         raise AttributeError(\"%r object has no attribute %r\" %\n",
      "\u001b[0;32m~/anaconda3/lib/python3.7/site-packages/pandas/core/groupby/groupby.py\u001b[0m in \u001b[0;36m_make_wrapper\u001b[0;34m(self, name)\u001b[0m\n\u001b[1;32m    797\u001b[0m                    \"using the 'apply' method\".format(kind, name,\n\u001b[1;32m    798\u001b[0m                                                      type(self).__name__))\n\u001b[0;32m--> 799\u001b[0;31m             \u001b[0;32mraise\u001b[0m \u001b[0mAttributeError\u001b[0m\u001b[0;34m(\u001b[0m\u001b[0mmsg\u001b[0m\u001b[0;34m)\u001b[0m\u001b[0;34m\u001b[0m\u001b[0;34m\u001b[0m\u001b[0m\n\u001b[0m\u001b[1;32m    800\u001b[0m \u001b[0;34m\u001b[0m\u001b[0m\n\u001b[1;32m    801\u001b[0m         \u001b[0mself\u001b[0m\u001b[0;34m.\u001b[0m\u001b[0m_set_group_selection\u001b[0m\u001b[0;34m(\u001b[0m\u001b[0;34m)\u001b[0m\u001b[0;34m\u001b[0m\u001b[0;34m\u001b[0m\u001b[0m\n",
      "\u001b[0;31mAttributeError\u001b[0m: Cannot access attribute 'columns' of 'DataFrameGroupBy' objects, try using the 'apply' method"
     ]
    }
   ],
   "source": [
    "print(\"group_by_country_code count = {}\".format(len(group_by_country_code)))\n",
    "print(\"group_by_operator_code count = {}\".format(len(group_by_operator_code)))\n",
    "print(\"group_by_ac_type count = {}\".format(len(group_by_ac_type)))\n",
    "print(\"crashes_data_count_ac_type count = {}\".format(len(crashes_data_count_ac_type)))\n",
    "group_by_country_code.columns"
   ]
  },
  {
   "cell_type": "code",
   "execution_count": 80,
   "metadata": {},
   "outputs": [],
   "source": [
    "# # crashes_data_avg_country.head(20)\n",
    "# print(crashes_data_avg_country)\n",
    "# crashes_data_avg_country.columns"
   ]
  },
  {
   "cell_type": "code",
   "execution_count": 82,
   "metadata": {},
   "outputs": [
    {
     "name": "stdout",
     "output_type": "stream",
     "text": [
      "good\n"
     ]
    }
   ],
   "source": [
    "x = 'this is good'\n",
    "if x.isalpha:\n",
    "    print('good')"
   ]
  },
  {
   "cell_type": "markdown",
   "metadata": {},
   "source": [
    "df.columns\n"
   ]
  },
  {
   "cell_type": "code",
   "execution_count": 83,
   "metadata": {},
   "outputs": [
    {
     "ename": "NameError",
     "evalue": "name 'df' is not defined",
     "output_type": "error",
     "traceback": [
      "\u001b[0;31m---------------------------------------------------------------------------\u001b[0m",
      "\u001b[0;31mNameError\u001b[0m                                 Traceback (most recent call last)",
      "\u001b[0;32m<ipython-input-83-b666bf274d0a>\u001b[0m in \u001b[0;36m<module>\u001b[0;34m\u001b[0m\n\u001b[0;32m----> 1\u001b[0;31m \u001b[0mdf\u001b[0m\u001b[0;34m.\u001b[0m\u001b[0mcolumns\u001b[0m\u001b[0;34m\u001b[0m\u001b[0;34m\u001b[0m\u001b[0m\n\u001b[0m",
      "\u001b[0;31mNameError\u001b[0m: name 'df' is not defined"
     ]
    }
   ],
   "source": [
    "df.columns"
   ]
  },
  {
   "cell_type": "code",
   "execution_count": 124,
   "metadata": {},
   "outputs": [
    {
     "data": {
      "text/plain": [
       "0       1 \n",
       "2       4 \n",
       "3       3 \n",
       "4       2 \n",
       "5       3 \n",
       "6      99 \n",
       "7     329 \n",
       "8      52 \n",
       "9      58 \n",
       "10    228 \n",
       "Name: aboard_count, dtype: object"
      ]
     },
     "execution_count": 124,
     "metadata": {},
     "output_type": "execute_result"
    }
   ],
   "source": [
    "# pd.to_numeric(crashes_df['aboard_count']).head(20)\n",
    "crashes_df['aboard_count'].head(10)\n",
    "# crashes.columns"
   ]
  },
  {
   "cell_type": "code",
   "execution_count": 125,
   "metadata": {},
   "outputs": [
    {
     "data": {
      "text/plain": [
       "Index(['country_code', 'operator_code', 'ac_type', 'aboard_count',\n",
       "       'fatal_count', 'ground', 'ground2'],\n",
       "      dtype='object')"
      ]
     },
     "execution_count": 125,
     "metadata": {},
     "output_type": "execute_result"
    }
   ],
   "source": [
    "crashes_df.columns"
   ]
  },
  {
   "cell_type": "code",
   "execution_count": 127,
   "metadata": {},
   "outputs": [],
   "source": [
    "crashes_df['aboard_count'] = pd.to_numeric(crashes_df['aboard_count'])"
   ]
  },
  {
   "cell_type": "code",
   "execution_count": 128,
   "metadata": {},
   "outputs": [
    {
     "data": {
      "text/plain": [
       "0       1\n",
       "2       4\n",
       "3       3\n",
       "4       2\n",
       "5       3\n",
       "6      99\n",
       "7     329\n",
       "8      52\n",
       "9      58\n",
       "10    228\n",
       "Name: aboard_count, dtype: int64"
      ]
     },
     "execution_count": 128,
     "metadata": {},
     "output_type": "execute_result"
    }
   ],
   "source": [
    "crashes_df['aboard_count'].head(10)"
   ]
  },
  {
   "cell_type": "code",
   "execution_count": null,
   "metadata": {},
   "outputs": [],
   "source": []
  }
 ],
 "metadata": {
  "kernelspec": {
   "display_name": "Python 3",
   "language": "python",
   "name": "python3"
  },
  "language_info": {
   "codemirror_mode": {
    "name": "ipython",
    "version": 3
   },
   "file_extension": ".py",
   "mimetype": "text/x-python",
   "name": "python",
   "nbconvert_exporter": "python",
   "pygments_lexer": "ipython3",
   "version": "3.7.1"
  }
 },
 "nbformat": 4,
 "nbformat_minor": 1
}
